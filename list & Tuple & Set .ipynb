{
 "cells": [
  {
   "cell_type": "markdown",
   "id": "043f1105-21f6-4547-9a80-09182e66b18a",
   "metadata": {},
   "source": [
    "# List\n",
    " 1) List is an ordered sequence of items.\n",
    " 2) We can have different data types under a list. E.g we can have integer, float and string items in a same list."
   ]
  },
  {
   "cell_type": "code",
   "execution_count": 2,
   "id": "2120d456-8aa5-4aa1-ae2a-3dcf8661361b",
   "metadata": {},
   "outputs": [],
   "source": [
    "list1 = [] # Empty List"
   ]
  },
  {
   "cell_type": "code",
   "execution_count": 3,
   "id": "a5995f9c-fa4f-4b8a-ae1b-658f2c082f28",
   "metadata": {},
   "outputs": [
    {
     "name": "stdout",
     "output_type": "stream",
     "text": [
      "<class 'list'>\n"
     ]
    }
   ],
   "source": [
    "print(type(list1))"
   ]
  },
  {
   "cell_type": "code",
   "execution_count": 10,
   "id": "7b3a49a5-30cc-49fb-9d45-22a98b0b2c5a",
   "metadata": {},
   "outputs": [],
   "source": [
    "list2 = [10,30, 60]   # List of integers numbeers"
   ]
  },
  {
   "cell_type": "code",
   "execution_count": 11,
   "id": "07a1c5ab-032d-450a-a0d1-8e106c893282",
   "metadata": {},
   "outputs": [],
   "source": [
    "list3 = [10.0, 30.50, 60.1] # List if float numbers"
   ]
  },
  {
   "cell_type": "code",
   "execution_count": 12,
   "id": "d25d344d-8727-4b92-8e13-5d1ab12f67fc",
   "metadata": {},
   "outputs": [],
   "source": [
    "list4 = ['one','two' , \"three\"] # List of strings "
   ]
  },
  {
   "cell_type": "code",
   "execution_count": 13,
   "id": "4af01d07-8ad2-4206-9099-39d9b55f2871",
   "metadata": {},
   "outputs": [],
   "source": [
    "list5 = ['Asif', 25 ,[50, 100],[150, 90]] # Nested Lists "
   ]
  },
  {
   "cell_type": "code",
   "execution_count": null,
   "id": "67a60e3f-04a9-4104-88cb-afd2ef7fff46",
   "metadata": {},
   "outputs": [],
   "source": []
  },
  {
   "cell_type": "code",
   "execution_count": 14,
   "id": "7c5b1c14-1d37-4ae3-91bc-a9135d182db3",
   "metadata": {},
   "outputs": [],
   "source": [
    "list6 = [100, 'Asif', 17.765] # List of mixed data types "
   ]
  },
  {
   "cell_type": "code",
   "execution_count": 15,
   "id": "dd30c023-27b7-45f2-b06e-5409e4179385",
   "metadata": {},
   "outputs": [],
   "source": [
    "list7 = ['Asif', 25 ,[50, 100],[150, 90] , {'John' , 'David'}]"
   ]
  },
  {
   "cell_type": "code",
   "execution_count": 16,
   "id": "b3105e40-7c5f-4c42-b7bc-8ec4878c3509",
   "metadata": {},
   "outputs": [
    {
     "data": {
      "text/plain": [
       "3"
      ]
     },
     "execution_count": 16,
     "metadata": {},
     "output_type": "execute_result"
    }
   ],
   "source": [
    "len(list6) #Length of list "
   ]
  },
  {
   "cell_type": "code",
   "execution_count": 17,
   "id": "128b7ded-131b-4999-8cbd-6b961cfe5cb6",
   "metadata": {},
   "outputs": [
    {
     "data": {
      "text/plain": [
       "10"
      ]
     },
     "execution_count": 17,
     "metadata": {},
     "output_type": "execute_result"
    }
   ],
   "source": [
    "list2[0] # Retreive first element of the list"
   ]
  },
  {
   "cell_type": "code",
   "execution_count": 18,
   "id": "d704d612-3038-4d48-8cc5-26d7894b0a9a",
   "metadata": {},
   "outputs": [
    {
     "data": {
      "text/plain": [
       "'one'"
      ]
     },
     "execution_count": 18,
     "metadata": {},
     "output_type": "execute_result"
    }
   ],
   "source": [
    "list4[0] # Retreive first element of the list "
   ]
  },
  {
   "cell_type": "code",
   "execution_count": 19,
   "id": "5fc66e6c-dd1d-4bfb-8b46-0db36778108c",
   "metadata": {},
   "outputs": [
    {
     "data": {
      "text/plain": [
       "'o'"
      ]
     },
     "execution_count": 19,
     "metadata": {},
     "output_type": "execute_result"
    }
   ],
   "source": [
    "list4[0][0] # Nested indexing - Access the first character of the first list element"
   ]
  },
  {
   "cell_type": "code",
   "execution_count": 20,
   "id": "5bde0c61-1a81-4be1-bf73-5cb45d97a398",
   "metadata": {},
   "outputs": [
    {
     "data": {
      "text/plain": [
       "'three'"
      ]
     },
     "execution_count": 20,
     "metadata": {},
     "output_type": "execute_result"
    }
   ],
   "source": [
    "list4[-1] # Last item of the list "
   ]
  },
  {
   "cell_type": "code",
   "execution_count": 21,
   "id": "753cc407-2b14-4e53-993a-30af1f412c18",
   "metadata": {},
   "outputs": [
    {
     "data": {
      "text/plain": [
       "'three'"
      ]
     },
     "execution_count": 21,
     "metadata": {},
     "output_type": "execute_result"
    }
   ],
   "source": [
    "list4[-1] # Last item of the list "
   ]
  },
  {
   "cell_type": "code",
   "execution_count": 22,
   "id": "ca43a6b3-0e09-4e78-9543-601fd47105e8",
   "metadata": {},
   "outputs": [
    {
     "data": {
      "text/plain": [
       "[150, 90]"
      ]
     },
     "execution_count": 22,
     "metadata": {},
     "output_type": "execute_result"
    }
   ],
   "source": [
    "list5[-1] # Last item of the list "
   ]
  },
  {
   "cell_type": "markdown",
   "id": "687769ca-111d-4afc-bada-65e516e2e9f5",
   "metadata": {},
   "source": [
    "## List Slicing"
   ]
  },
  {
   "cell_type": "code",
   "execution_count": 23,
   "id": "d6af1872-ab35-4edd-ad34-9063c705e6c1",
   "metadata": {},
   "outputs": [],
   "source": [
    "mylist = ['one' , 'two' , 'three' , 'four' ,'five' ,'six', 'seven' , 'eight' ]"
   ]
  },
  {
   "cell_type": "code",
   "execution_count": 24,
   "id": "271f26b9-4693-4c0d-86c0-14af0034875e",
   "metadata": {},
   "outputs": [
    {
     "data": {
      "text/plain": [
       "['one', 'two', 'three']"
      ]
     },
     "execution_count": 24,
     "metadata": {},
     "output_type": "execute_result"
    }
   ],
   "source": [
    "mylist[0:3] # Retuen all ityems from 0th to 3rd index location excluding the item"
   ]
  },
  {
   "cell_type": "code",
   "execution_count": 25,
   "id": "c5682df1-9489-4ac5-b255-6d24cd7f6990",
   "metadata": {},
   "outputs": [
    {
     "data": {
      "text/plain": [
       "['three', 'four', 'five']"
      ]
     },
     "execution_count": 25,
     "metadata": {},
     "output_type": "execute_result"
    }
   ],
   "source": [
    "mylist[2:5] # List all items from 2nd to 5th index location excluding the item a"
   ]
  },
  {
   "cell_type": "code",
   "execution_count": 26,
   "id": "4b38a521-7374-4f5e-97fb-68cbfd88dde1",
   "metadata": {},
   "outputs": [
    {
     "data": {
      "text/plain": [
       "['one', 'two', 'three']"
      ]
     },
     "execution_count": 26,
     "metadata": {},
     "output_type": "execute_result"
    }
   ],
   "source": [
    "mylist[:3] # Return first three items "
   ]
  },
  {
   "cell_type": "code",
   "execution_count": 27,
   "id": "480eee2a-522c-4b0f-b229-08b86a19474c",
   "metadata": {},
   "outputs": [
    {
     "data": {
      "text/plain": [
       "['one', 'two']"
      ]
     },
     "execution_count": 27,
     "metadata": {},
     "output_type": "execute_result"
    }
   ],
   "source": [
    "mylist[:2] # Return first two items "
   ]
  },
  {
   "cell_type": "code",
   "execution_count": 28,
   "id": "a6cbe5f7-69e3-4598-b3e1-5403295b315d",
   "metadata": {},
   "outputs": [
    {
     "data": {
      "text/plain": [
       "['six', 'seven', 'eight']"
      ]
     },
     "execution_count": 28,
     "metadata": {},
     "output_type": "execute_result"
    }
   ],
   "source": [
    "mylist[-3:] # Return last three items"
   ]
  },
  {
   "cell_type": "code",
   "execution_count": 29,
   "id": "848fa26c-efc1-4858-acca-d1611892bd67",
   "metadata": {},
   "outputs": [
    {
     "data": {
      "text/plain": [
       "['seven', 'eight']"
      ]
     },
     "execution_count": 29,
     "metadata": {},
     "output_type": "execute_result"
    }
   ],
   "source": [
    "mylist[-2:] # Return last two items "
   ]
  },
  {
   "cell_type": "code",
   "execution_count": 30,
   "id": "57b0f45d-774b-434b-a730-1f012e48632c",
   "metadata": {},
   "outputs": [
    {
     "data": {
      "text/plain": [
       "'eight'"
      ]
     },
     "execution_count": 30,
     "metadata": {},
     "output_type": "execute_result"
    }
   ],
   "source": [
    "mylist[-1] # Return last item of the list "
   ]
  },
  {
   "cell_type": "code",
   "execution_count": 31,
   "id": "fe0f80b2-9f7e-4927-8f55-adbd01233961",
   "metadata": {},
   "outputs": [
    {
     "data": {
      "text/plain": [
       "['one', 'two', 'three', 'four', 'five', 'six', 'seven', 'eight']"
      ]
     },
     "execution_count": 31,
     "metadata": {},
     "output_type": "execute_result"
    }
   ],
   "source": [
    "mylist[:] # Return whole list "
   ]
  },
  {
   "cell_type": "markdown",
   "id": "93a17d44-1bd2-43d3-bd23-507b412e4484",
   "metadata": {},
   "source": [
    "### Add , Remove & Change Items"
   ]
  },
  {
   "cell_type": "code",
   "execution_count": 42,
   "id": "0bfdc399-314e-4579-bf1c-26a9ff83b2e5",
   "metadata": {},
   "outputs": [
    {
     "data": {
      "text/plain": [
       "['two', 'three', 'four', 'five', 'six', 'seven', 'eight', 'nine', 'ten']"
      ]
     },
     "execution_count": 42,
     "metadata": {},
     "output_type": "execute_result"
    }
   ],
   "source": [
    "mylist"
   ]
  },
  {
   "cell_type": "code",
   "execution_count": 36,
   "id": "fd77f8ab-0bea-4048-8bc6-c1bfbc78eb0e",
   "metadata": {},
   "outputs": [
    {
     "data": {
      "text/plain": [
       "['one', 'two', 'three', 'four', 'five', 'six', 'seven', 'eight', 'nine']"
      ]
     },
     "execution_count": 36,
     "metadata": {},
     "output_type": "execute_result"
    }
   ],
   "source": [
    "mylist.append('nine') # Add an item to the end of the list \n",
    "mylist"
   ]
  },
  {
   "cell_type": "code",
   "execution_count": 37,
   "id": "b20b6fbf-a069-401b-9342-29146957143f",
   "metadata": {},
   "outputs": [
    {
     "data": {
      "text/plain": [
       "['one', 'two', 'three', 'four', 'five', 'six', 'seven', 'eight', 'nine', 'ten']"
      ]
     },
     "execution_count": 37,
     "metadata": {},
     "output_type": "execute_result"
    }
   ],
   "source": [
    "mylist.insert(9,'ten') # Add item at index location 9\n",
    "mylist"
   ]
  },
  {
   "cell_type": "code",
   "execution_count": 38,
   "id": "916b16f9-278b-4c58-8ffc-d7d7b5267a76",
   "metadata": {},
   "outputs": [
    {
     "data": {
      "text/plain": [
       "['one',\n",
       " 'ONE',\n",
       " 'two',\n",
       " 'three',\n",
       " 'four',\n",
       " 'five',\n",
       " 'six',\n",
       " 'seven',\n",
       " 'eight',\n",
       " 'nine',\n",
       " 'ten']"
      ]
     },
     "execution_count": 38,
     "metadata": {},
     "output_type": "execute_result"
    }
   ],
   "source": [
    "mylist.insert(1,'ONE') # Add item at index location 1 \n",
    "mylist"
   ]
  },
  {
   "cell_type": "code",
   "execution_count": 39,
   "id": "6e427aad-3588-4523-adeb-57a68a3262e9",
   "metadata": {},
   "outputs": [
    {
     "data": {
      "text/plain": [
       "['one', 'two', 'three', 'four', 'five', 'six', 'seven', 'eight', 'nine', 'ten']"
      ]
     },
     "execution_count": 39,
     "metadata": {},
     "output_type": "execute_result"
    }
   ],
   "source": [
    "mylist.remove('ONE') # Remove item \"ONE\" not remove because the latter is write is captail\n",
    "mylist "
   ]
  },
  {
   "cell_type": "code",
   "execution_count": 40,
   "id": "0af630e4-3163-4e58-a830-328bb0faf80c",
   "metadata": {},
   "outputs": [
    {
     "data": {
      "text/plain": [
       "['two', 'three', 'four', 'five', 'six', 'seven', 'eight', 'nine', 'ten']"
      ]
     },
     "execution_count": 40,
     "metadata": {},
     "output_type": "execute_result"
    }
   ],
   "source": [
    "mylist.remove('one') # Remove item \"ONE\" \n",
    "mylist "
   ]
  },
  {
   "cell_type": "code",
   "execution_count": 43,
   "id": "6244059b-2da5-4c42-b629-37d48e5f7c22",
   "metadata": {},
   "outputs": [
    {
     "data": {
      "text/plain": [
       "['two', 'three', 'four', 'five', 'six', 'seven', 'eight', 'nine', 'ten']"
      ]
     },
     "execution_count": 43,
     "metadata": {},
     "output_type": "execute_result"
    }
   ],
   "source": [
    "mylist"
   ]
  },
  {
   "cell_type": "code",
   "execution_count": 44,
   "id": "15b005ad-fa2e-4bc8-b25f-5fa0cc266a24",
   "metadata": {},
   "outputs": [
    {
     "data": {
      "text/plain": [
       "['two', 'three', 'four', 'five', 'six', 'seven', 'eight', 'nine']"
      ]
     },
     "execution_count": 44,
     "metadata": {},
     "output_type": "execute_result"
    }
   ],
   "source": [
    "mylist.pop() # Remove last item of the list \n",
    "mylist"
   ]
  },
  {
   "cell_type": "code",
   "execution_count": 47,
   "id": "a58cdda7-b44a-4739-9ce8-0d8faa7cf5b4",
   "metadata": {},
   "outputs": [
    {
     "data": {
      "text/plain": [
       "['two', 'three', 'four', 'five', 'six', 'seven', 'eight']"
      ]
     },
     "execution_count": 47,
     "metadata": {},
     "output_type": "execute_result"
    }
   ],
   "source": [
    "mylist.pop(7) # Remove item at index location 8 \n",
    "mylist"
   ]
  },
  {
   "cell_type": "code",
   "execution_count": 49,
   "id": "6438e14d-fe3f-43c1-8290-c39e3e07edcf",
   "metadata": {},
   "outputs": [
    {
     "data": {
      "text/plain": [
       "['two', 'three', 'four', 'five', 'six', 'seven']"
      ]
     },
     "execution_count": 49,
     "metadata": {},
     "output_type": "execute_result"
    }
   ],
   "source": [
    "del mylist[6] # Remove item at index location 7 \n",
    "mylist "
   ]
  },
  {
   "cell_type": "code",
   "execution_count": 50,
   "id": "efa38af8-85a5-4158-a05b-626ce3aa237a",
   "metadata": {},
   "outputs": [
    {
     "data": {
      "text/plain": [
       "[1, 2, 3, 'five', 'six', 'seven']"
      ]
     },
     "execution_count": 50,
     "metadata": {},
     "output_type": "execute_result"
    }
   ],
   "source": [
    "# Change value of the string\n",
    "mylist[0] = 1 \n",
    "mylist[1] = 2 \n",
    "mylist[2] = 3 \n",
    "mylist "
   ]
  },
  {
   "cell_type": "code",
   "execution_count": 51,
   "id": "d376d020-1a62-4a58-a430-9e52a9e9a00d",
   "metadata": {},
   "outputs": [
    {
     "data": {
      "text/plain": [
       "[]"
      ]
     },
     "execution_count": 51,
     "metadata": {},
     "output_type": "execute_result"
    }
   ],
   "source": [
    "mylist.clear() # Empty List / Delete all items in the list \n",
    "mylist"
   ]
  },
  {
   "cell_type": "code",
   "execution_count": 52,
   "id": "1df0aa13-01ca-419e-bd22-559cb5696ed7",
   "metadata": {},
   "outputs": [
    {
     "ename": "NameError",
     "evalue": "name 'mylist' is not defined",
     "output_type": "error",
     "traceback": [
      "\u001b[1;31m---------------------------------------------------------------------------\u001b[0m",
      "\u001b[1;31mNameError\u001b[0m                                 Traceback (most recent call last)",
      "Cell \u001b[1;32mIn[52], line 2\u001b[0m\n\u001b[0;32m      1\u001b[0m \u001b[38;5;28;01mdel\u001b[39;00m mylist \u001b[38;5;66;03m# Delete the whole list \u001b[39;00m\n\u001b[1;32m----> 2\u001b[0m mylist\n",
      "\u001b[1;31mNameError\u001b[0m: name 'mylist' is not defined"
     ]
    }
   ],
   "source": [
    "del mylist # Delete the whole list \n",
    "mylist"
   ]
  },
  {
   "cell_type": "markdown",
   "id": "0fd1f114-03da-41b0-9f1b-fa500cd465f6",
   "metadata": {},
   "source": [
    "### Copy List"
   ]
  },
  {
   "cell_type": "code",
   "execution_count": 53,
   "id": "e8034db1-0fd2-4329-af19-37e535217c33",
   "metadata": {},
   "outputs": [],
   "source": [
    "mylist = ['one', 'two', 'three', 'four', 'five', 'six', 'seven', 'eight' , 'nine' ,'ten']"
   ]
  },
  {
   "cell_type": "code",
   "execution_count": 55,
   "id": "395b94d5-55d7-4878-ad9c-57deb3ae4783",
   "metadata": {},
   "outputs": [],
   "source": [
    "mylist1 = mylist # Create a new reference \"mylist1\" "
   ]
  },
  {
   "cell_type": "code",
   "execution_count": 56,
   "id": "1c049299-66db-4218-84fa-0c66aafa05ce",
   "metadata": {},
   "outputs": [
    {
     "data": {
      "text/plain": [
       "(2598556906496, 2598556906496)"
      ]
     },
     "execution_count": 56,
     "metadata": {},
     "output_type": "execute_result"
    }
   ],
   "source": [
    "id(mylist) , id(mylist1) # The address of both mylist will be the same"
   ]
  },
  {
   "cell_type": "code",
   "execution_count": 57,
   "id": "21770419-2cd4-4795-80e4-9c87d9d42227",
   "metadata": {},
   "outputs": [],
   "source": [
    "mylist2 = mylist.copy() # Create a copy of the list"
   ]
  },
  {
   "cell_type": "code",
   "execution_count": 58,
   "id": "8b6b6eb2-c039-4f95-a6a6-f622be5a2d13",
   "metadata": {},
   "outputs": [
    {
     "data": {
      "text/plain": [
       "2598556940032"
      ]
     },
     "execution_count": 58,
     "metadata": {},
     "output_type": "execute_result"
    }
   ],
   "source": [
    "id(mylist2) # The address of mylist2 will be different from mylist because mylist"
   ]
  },
  {
   "cell_type": "code",
   "execution_count": 59,
   "id": "adbac973-fe27-4083-bba0-b99060a5708c",
   "metadata": {},
   "outputs": [],
   "source": [
    "mylist[0] = 1 "
   ]
  },
  {
   "cell_type": "code",
   "execution_count": 60,
   "id": "7e23eaef-3136-4c41-ac2c-5cd9473ee1c7",
   "metadata": {},
   "outputs": [
    {
     "data": {
      "text/plain": [
       "[1, 'two', 'three', 'four', 'five', 'six', 'seven', 'eight', 'nine', 'ten']"
      ]
     },
     "execution_count": 60,
     "metadata": {},
     "output_type": "execute_result"
    }
   ],
   "source": [
    "mylist "
   ]
  },
  {
   "cell_type": "code",
   "execution_count": 61,
   "id": "6cd81a7b-9f7a-43c6-a84c-2cdc8331bd77",
   "metadata": {},
   "outputs": [
    {
     "data": {
      "text/plain": [
       "[1, 'two', 'three', 'four', 'five', 'six', 'seven', 'eight', 'nine', 'ten']"
      ]
     },
     "execution_count": 61,
     "metadata": {},
     "output_type": "execute_result"
    }
   ],
   "source": [
    "mylist1 # mylist will be also impacted as it is pointing to the same list"
   ]
  },
  {
   "cell_type": "code",
   "execution_count": 62,
   "id": "68d31be4-1427-4efe-87a6-69f35b8ee7d6",
   "metadata": {},
   "outputs": [
    {
     "data": {
      "text/plain": [
       "['one', 'two', 'three', 'four', 'five', 'six', 'seven', 'eight', 'nine', 'ten']"
      ]
     },
     "execution_count": 62,
     "metadata": {},
     "output_type": "execute_result"
    }
   ],
   "source": [
    "mylist2 # Copy of list won't be impacted due to changes made on the original list"
   ]
  },
  {
   "cell_type": "markdown",
   "id": "8a1efc9d-1cfc-4db2-b28e-1bacc809cff3",
   "metadata": {},
   "source": [
    "### join lists"
   ]
  },
  {
   "cell_type": "code",
   "execution_count": 63,
   "id": "217668c2-4002-46fa-aeb2-7468a42ddcfc",
   "metadata": {},
   "outputs": [],
   "source": [
    "list1 = ['one', 'two', 'three', 'four'] \n",
    "list2 = ['five', 'six', 'seven', 'eight']"
   ]
  },
  {
   "cell_type": "code",
   "execution_count": 64,
   "id": "a0ecc685-908c-4661-9be5-1880f5816132",
   "metadata": {},
   "outputs": [
    {
     "data": {
      "text/plain": [
       "['one', 'two', 'three', 'four', 'five', 'six', 'seven', 'eight']"
      ]
     },
     "execution_count": 64,
     "metadata": {},
     "output_type": "execute_result"
    }
   ],
   "source": [
    "list3 = list1 + list2 # Join two lists by '+' operator \n",
    "list3 \n"
   ]
  },
  {
   "cell_type": "code",
   "execution_count": 65,
   "id": "d834270b-d567-4c7e-a2fa-4cb9f4355369",
   "metadata": {},
   "outputs": [
    {
     "data": {
      "text/plain": [
       "['one', 'two', 'three', 'four', 'five', 'six', 'seven', 'eight']"
      ]
     },
     "execution_count": 65,
     "metadata": {},
     "output_type": "execute_result"
    }
   ],
   "source": [
    "list1.extend(list2) #Append list2 with list1 \n",
    "list1"
   ]
  },
  {
   "cell_type": "markdown",
   "id": "f9718a8e-3278-4a76-89a0-548bb36f647f",
   "metadata": {},
   "source": [
    "### List Membership"
   ]
  },
  {
   "cell_type": "code",
   "execution_count": 66,
   "id": "9401ca84-dc29-4b6e-80a0-f3f1cd100984",
   "metadata": {},
   "outputs": [
    {
     "data": {
      "text/plain": [
       "['one', 'two', 'three', 'four', 'five', 'six', 'seven', 'eight']"
      ]
     },
     "execution_count": 66,
     "metadata": {},
     "output_type": "execute_result"
    }
   ],
   "source": [
    "list1"
   ]
  },
  {
   "cell_type": "code",
   "execution_count": 67,
   "id": "cd307a15-e534-4af8-90c5-c3e25fcbc378",
   "metadata": {},
   "outputs": [
    {
     "data": {
      "text/plain": [
       "True"
      ]
     },
     "execution_count": 67,
     "metadata": {},
     "output_type": "execute_result"
    }
   ],
   "source": [
    "'one' in list1 # Check if 'one' exist in the list "
   ]
  },
  {
   "cell_type": "code",
   "execution_count": 68,
   "id": "5d100ff8-9575-4e3e-b61d-5d74b862b77a",
   "metadata": {},
   "outputs": [
    {
     "data": {
      "text/plain": [
       "False"
      ]
     },
     "execution_count": 68,
     "metadata": {},
     "output_type": "execute_result"
    }
   ],
   "source": [
    "'ten' in list1 # Check if 'one' exist in the list "
   ]
  },
  {
   "cell_type": "code",
   "execution_count": 70,
   "id": "9501bab5-c3ec-4abd-904b-7a9e9b1e28bf",
   "metadata": {},
   "outputs": [
    {
     "name": "stdout",
     "output_type": "stream",
     "text": [
      "Three is present in the list\n"
     ]
    }
   ],
   "source": [
    "if 'three' in list1: # Check if 'three' exist in the list \n",
    "   print('Three is present in the list') \n",
    "else: \n",
    "   print('Three is not present in the list')"
   ]
  },
  {
   "cell_type": "code",
   "execution_count": 71,
   "id": "a316f604-ed29-49a6-bafd-c9b28e02fa28",
   "metadata": {},
   "outputs": [
    {
     "name": "stdout",
     "output_type": "stream",
     "text": [
      "eleven is not present in the list\n"
     ]
    }
   ],
   "source": [
    "if 'eleven' in list1: # Check if 'eleven' exist in the list \n",
    "    print('eleven is present in the list') \n",
    "else: \n",
    "    print('eleven is not present in the list') "
   ]
  },
  {
   "cell_type": "markdown",
   "id": "19b6ff61-6189-4a2d-a31c-ba67b7cbd653",
   "metadata": {},
   "source": [
    "### Reverse & Sort list"
   ]
  },
  {
   "cell_type": "code",
   "execution_count": 72,
   "id": "bcbafde8-620e-4ab2-b3ed-d1bc0492ddd1",
   "metadata": {},
   "outputs": [
    {
     "data": {
      "text/plain": [
       "['one', 'two', 'three', 'four', 'five', 'six', 'seven', 'eight']"
      ]
     },
     "execution_count": 72,
     "metadata": {},
     "output_type": "execute_result"
    }
   ],
   "source": [
    "list1"
   ]
  },
  {
   "cell_type": "code",
   "execution_count": 73,
   "id": "1605bfbd-c41e-45ce-b3a7-6afbd9d788e8",
   "metadata": {},
   "outputs": [
    {
     "data": {
      "text/plain": [
       "['eight', 'seven', 'six', 'five', 'four', 'three', 'two', 'one']"
      ]
     },
     "execution_count": 73,
     "metadata": {},
     "output_type": "execute_result"
    }
   ],
   "source": [
    "list1.reverse() # Reverse the list \n",
    "list1"
   ]
  },
  {
   "cell_type": "code",
   "execution_count": 74,
   "id": "58dedeee-45fa-408a-9960-29b3a3893fd1",
   "metadata": {},
   "outputs": [
    {
     "data": {
      "text/plain": [
       "['one', 'two', 'three', 'four', 'five', 'six', 'seven', 'eight']"
      ]
     },
     "execution_count": 74,
     "metadata": {},
     "output_type": "execute_result"
    }
   ],
   "source": [
    "list1 = list1[::-1] # Reverse the list \n",
    "list1 \n"
   ]
  },
  {
   "cell_type": "code",
   "execution_count": 75,
   "id": "c0e30646-9536-4008-8c7f-679656a6ac76",
   "metadata": {},
   "outputs": [
    {
     "data": {
      "text/plain": [
       "[2, 5, 9, 12, 34, 88, 99]"
      ]
     },
     "execution_count": 75,
     "metadata": {},
     "output_type": "execute_result"
    }
   ],
   "source": [
    "mylist3 = [9,5,2,99,12,88,34] \n",
    "mylist3.sort() # Sort list in ascending order \n",
    "mylist3"
   ]
  },
  {
   "cell_type": "code",
   "execution_count": 76,
   "id": "48ac99d1-8c4b-4d31-9f76-2de8e5c903cd",
   "metadata": {},
   "outputs": [
    {
     "data": {
      "text/plain": [
       "[99, 88, 34, 12, 9, 5, 2]"
      ]
     },
     "execution_count": 76,
     "metadata": {},
     "output_type": "execute_result"
    }
   ],
   "source": [
    "mylist3 = [9,5,2,99,12,88,34] \n",
    "mylist3.sort(reverse=True) # Sort list in descending order \n",
    "mylist3 "
   ]
  },
  {
   "cell_type": "code",
   "execution_count": 77,
   "id": "7f8e9f3a-d252-44fa-9526-e4b200977da1",
   "metadata": {},
   "outputs": [
    {
     "data": {
      "text/plain": [
       "[11, 21, 33, 65, 88, 98]"
      ]
     },
     "execution_count": 77,
     "metadata": {},
     "output_type": "execute_result"
    }
   ],
   "source": [
    "mylist4 = [88,65,33,21,11,98] \n",
    "sorted(mylist4)    # Returns a new sorted list and doesn't change original list"
   ]
  },
  {
   "cell_type": "code",
   "execution_count": 78,
   "id": "7711c427-7d8c-4853-bc6e-a3b46575cc83",
   "metadata": {},
   "outputs": [
    {
     "data": {
      "text/plain": [
       "[88, 65, 33, 21, 11, 98]"
      ]
     },
     "execution_count": 78,
     "metadata": {},
     "output_type": "execute_result"
    }
   ],
   "source": [
    "mylist4"
   ]
  },
  {
   "cell_type": "markdown",
   "id": "9a75d590-e3e8-4ca7-ab1c-dbf96a3b7077",
   "metadata": {},
   "source": [
    "### Loop through a list"
   ]
  },
  {
   "cell_type": "code",
   "execution_count": 79,
   "id": "ac36808c-6afa-4184-a017-e6b8736b7086",
   "metadata": {},
   "outputs": [
    {
     "data": {
      "text/plain": [
       "['one', 'two', 'three', 'four', 'five', 'six', 'seven', 'eight']"
      ]
     },
     "execution_count": 79,
     "metadata": {},
     "output_type": "execute_result"
    }
   ],
   "source": [
    "list1"
   ]
  },
  {
   "cell_type": "code",
   "execution_count": 81,
   "id": "69e8a7cd-637d-4d51-b3f7-796f85a50d4f",
   "metadata": {},
   "outputs": [
    {
     "name": "stdout",
     "output_type": "stream",
     "text": [
      "one\n",
      "two\n",
      "three\n",
      "four\n",
      "five\n",
      "six\n",
      "seven\n",
      "eight\n"
     ]
    }
   ],
   "source": [
    "for i in list1: \n",
    "   print(i)"
   ]
  },
  {
   "cell_type": "code",
   "execution_count": 82,
   "id": "21eb9f00-3625-4c6f-8d3e-bffac4055fd4",
   "metadata": {},
   "outputs": [
    {
     "name": "stdout",
     "output_type": "stream",
     "text": [
      "(0, 'one')\n",
      "(1, 'two')\n",
      "(2, 'three')\n",
      "(3, 'four')\n",
      "(4, 'five')\n",
      "(5, 'six')\n",
      "(6, 'seven')\n",
      "(7, 'eight')\n"
     ]
    }
   ],
   "source": [
    "for i in enumerate(list1): \n",
    "    print(i) \n"
   ]
  },
  {
   "cell_type": "markdown",
   "id": "1c5d913d-b4b3-49a9-9f68-febe6d56850b",
   "metadata": {},
   "source": [
    "### count"
   ]
  },
  {
   "cell_type": "code",
   "execution_count": 84,
   "id": "343ff97b-3346-4142-9c34-a8a77f226868",
   "metadata": {},
   "outputs": [],
   "source": [
    "list10 =['one', 'two', 'three', 'four', 'one', 'one', 'two', 'three']"
   ]
  },
  {
   "cell_type": "code",
   "execution_count": 85,
   "id": "ee052809-de91-45fa-8123-f684dc44973c",
   "metadata": {},
   "outputs": [
    {
     "data": {
      "text/plain": [
       "3"
      ]
     },
     "execution_count": 85,
     "metadata": {},
     "output_type": "execute_result"
    }
   ],
   "source": [
    "list10.count('one') # Number of times item \"one\" occurred in the list."
   ]
  },
  {
   "cell_type": "code",
   "execution_count": 86,
   "id": "fcd56df3-1540-443a-b7eb-92f600677401",
   "metadata": {},
   "outputs": [
    {
     "data": {
      "text/plain": [
       "2"
      ]
     },
     "execution_count": 86,
     "metadata": {},
     "output_type": "execute_result"
    }
   ],
   "source": [
    "list10.count('two') # Occurence of item 'two' in the list "
   ]
  },
  {
   "cell_type": "code",
   "execution_count": 87,
   "id": "f71c8851-4aa4-4061-925e-f66b1de0166b",
   "metadata": {},
   "outputs": [
    {
     "data": {
      "text/plain": [
       "1"
      ]
     },
     "execution_count": 87,
     "metadata": {},
     "output_type": "execute_result"
    }
   ],
   "source": [
    "list10.count('four') #Occurence of item 'four' in the list "
   ]
  },
  {
   "cell_type": "markdown",
   "id": "e3f08ec1-c2f2-4996-bf09-7dd73de0a1ff",
   "metadata": {},
   "source": [
    "### All/Any\n",
    "\n",
    "the all() method returns:\n",
    "  1.) True - if all element in a list are true\n",
    "  2.) False - if any element in a list is false.\n",
    "The any() functin returns True if any element in the list is True. if not, any() returns False ."
   ]
  },
  {
   "cell_type": "code",
   "execution_count": 90,
   "id": "f673bd7e-25d3-4314-809a-31824124c130",
   "metadata": {},
   "outputs": [],
   "source": [
    "L1 = [1,2,3,4,0]"
   ]
  },
  {
   "cell_type": "code",
   "execution_count": 92,
   "id": "86fb91d0-1aae-4a2d-b215-69b7e2ea1d78",
   "metadata": {},
   "outputs": [
    {
     "data": {
      "text/plain": [
       "False"
      ]
     },
     "execution_count": 92,
     "metadata": {},
     "output_type": "execute_result"
    }
   ],
   "source": [
    "all(L1)  # Will Return false as one value is false (Value 0) "
   ]
  },
  {
   "cell_type": "code",
   "execution_count": 93,
   "id": "eb5608d5-4f82-4731-ac8b-42aeb839d64a",
   "metadata": {},
   "outputs": [
    {
     "data": {
      "text/plain": [
       "True"
      ]
     },
     "execution_count": 93,
     "metadata": {},
     "output_type": "execute_result"
    }
   ],
   "source": [
    "any(L1) # Will Return True as we have items in the list with True value"
   ]
  },
  {
   "cell_type": "code",
   "execution_count": 94,
   "id": "c836b504-f78e-433d-9442-13987f396f37",
   "metadata": {},
   "outputs": [],
   "source": [
    "L2 = [1,2,3,4,True,False] "
   ]
  },
  {
   "cell_type": "code",
   "execution_count": 95,
   "id": "6b42b1b6-209c-4f9e-84b3-1e60b1a347ba",
   "metadata": {},
   "outputs": [
    {
     "data": {
      "text/plain": [
       "False"
      ]
     },
     "execution_count": 95,
     "metadata": {},
     "output_type": "execute_result"
    }
   ],
   "source": [
    "all(L2) # Returns false as one value is false"
   ]
  },
  {
   "cell_type": "code",
   "execution_count": 96,
   "id": "0f2a265d-c138-4a13-9f66-fb75b459fac8",
   "metadata": {},
   "outputs": [
    {
     "data": {
      "text/plain": [
       "True"
      ]
     },
     "execution_count": 96,
     "metadata": {},
     "output_type": "execute_result"
    }
   ],
   "source": [
    "any(L2) # Will Return True as we have items in the list with True value"
   ]
  },
  {
   "cell_type": "code",
   "execution_count": 97,
   "id": "6ec68fdb-3c27-4c21-8662-d3bcee1e6538",
   "metadata": {},
   "outputs": [],
   "source": [
    "L3 = [1,2,3,True]"
   ]
  },
  {
   "cell_type": "code",
   "execution_count": 98,
   "id": "a0c3e8f0-52b8-4a00-9f92-69844049fd98",
   "metadata": {},
   "outputs": [
    {
     "data": {
      "text/plain": [
       "True"
      ]
     },
     "execution_count": 98,
     "metadata": {},
     "output_type": "execute_result"
    }
   ],
   "source": [
    "all(L3)"
   ]
  },
  {
   "cell_type": "markdown",
   "id": "c09229d4-11a3-4639-b051-0027c82afbcf",
   "metadata": {},
   "source": [
    "# TUPLE\n",
    "### Tuple Creation"
   ]
  },
  {
   "cell_type": "code",
   "execution_count": 101,
   "id": "548982e5-1308-4b94-a205-5766a4a255e0",
   "metadata": {},
   "outputs": [],
   "source": [
    "tup1 = () # Empty Tuple"
   ]
  },
  {
   "cell_type": "code",
   "execution_count": 102,
   "id": "98b49b8b-2a4d-45c4-b668-e842701756ec",
   "metadata": {},
   "outputs": [],
   "source": [
    "tup2 = (10,30,60)  # tuple of integers numbers"
   ]
  },
  {
   "cell_type": "code",
   "execution_count": 104,
   "id": "46d09aac-b82e-4429-9741-8e2c47b7a914",
   "metadata": {},
   "outputs": [],
   "source": [
    "tem3 = (10.33,30.34,60.55)  # tuple of float number"
   ]
  },
  {
   "cell_type": "code",
   "execution_count": 105,
   "id": "03f0fce5-bc37-47c7-84bf-25a36d98caf3",
   "metadata": {},
   "outputs": [],
   "source": [
    "tup4 = ('one','two','three')   #tuple of strings"
   ]
  },
  {
   "cell_type": "code",
   "execution_count": 2,
   "id": "fe732c06-3a4d-482c-b1db-21dec5cbd160",
   "metadata": {},
   "outputs": [],
   "source": [
    "tup5 = ('Asif', 25,(50,100),(150,90 ))  # Nested tuples"
   ]
  },
  {
   "cell_type": "code",
   "execution_count": 107,
   "id": "59fc8b47-a02c-4c8a-bc82-874e2d714f0f",
   "metadata": {},
   "outputs": [],
   "source": [
    "tup6 = (100, 'asif', 17.764)  # Tuple of mixed data types"
   ]
  },
  {
   "cell_type": "code",
   "execution_count": 113,
   "id": "423ad3ef-97b6-4fa6-aa2f-51fe972d2a60",
   "metadata": {},
   "outputs": [],
   "source": [
    "tup7 = ('asif',25,[50,100],[150,90],{'john','devid'} ,(99,22,33))"
   ]
  },
  {
   "cell_type": "code",
   "execution_count": 114,
   "id": "126c927e-19a7-41e7-aab0-a868e019c279",
   "metadata": {},
   "outputs": [
    {
     "data": {
      "text/plain": [
       "6"
      ]
     },
     "execution_count": 114,
     "metadata": {},
     "output_type": "execute_result"
    }
   ],
   "source": [
    "len(tup7)  #Length of List"
   ]
  },
  {
   "cell_type": "markdown",
   "id": "7d3d29f6-24d6-4176-b7a0-2fb7f8d099dd",
   "metadata": {},
   "source": [
    "##  Tuple Indexing"
   ]
  },
  {
   "cell_type": "code",
   "execution_count": 116,
   "id": "43faa919-7f7a-491c-8939-21a48b5704de",
   "metadata": {},
   "outputs": [
    {
     "data": {
      "text/plain": [
       "10"
      ]
     },
     "execution_count": 116,
     "metadata": {},
     "output_type": "execute_result"
    }
   ],
   "source": [
    "tup2[0] #Retreive first element of the tuple"
   ]
  },
  {
   "cell_type": "code",
   "execution_count": 117,
   "id": "ad94b78a-0fad-4d23-adc9-89bd5c7e0bf4",
   "metadata": {},
   "outputs": [
    {
     "data": {
      "text/plain": [
       "'one'"
      ]
     },
     "execution_count": 117,
     "metadata": {},
     "output_type": "execute_result"
    }
   ],
   "source": [
    "tup4[0]   # Retreive first element of the tuple"
   ]
  },
  {
   "cell_type": "code",
   "execution_count": 118,
   "id": "7d8760c2-f79d-4e50-ae7e-0c36fa545553",
   "metadata": {},
   "outputs": [
    {
     "data": {
      "text/plain": [
       "'o'"
      ]
     },
     "execution_count": 118,
     "metadata": {},
     "output_type": "execute_result"
    }
   ],
   "source": [
    "tup4[0][0] # Nested indexing - Access the first character of the first tuple element"
   ]
  },
  {
   "cell_type": "code",
   "execution_count": 119,
   "id": "d21ba850-7ba1-4a23-8c6f-e8013b3f8421",
   "metadata": {},
   "outputs": [
    {
     "data": {
      "text/plain": [
       "'three'"
      ]
     },
     "execution_count": 119,
     "metadata": {},
     "output_type": "execute_result"
    }
   ],
   "source": [
    "tup4[-1] # last item of the tuple"
   ]
  },
  {
   "cell_type": "code",
   "execution_count": 3,
   "id": "f3739b46-f2a3-4b95-9a69-5006d1935095",
   "metadata": {},
   "outputs": [
    {
     "data": {
      "text/plain": [
       "(150, 90)"
      ]
     },
     "execution_count": 3,
     "metadata": {},
     "output_type": "execute_result"
    }
   ],
   "source": [
    "tup5[-1]  # Last item of the tuple"
   ]
  },
  {
   "cell_type": "markdown",
   "id": "a97159cb-65e0-4a73-bac9-ff4d5bce3f2d",
   "metadata": {},
   "source": [
    "### Tuple Slicing"
   ]
  },
  {
   "cell_type": "code",
   "execution_count": 4,
   "id": "44fea553-3c52-4f82-9eb7-33feb2855757",
   "metadata": {},
   "outputs": [],
   "source": [
    "mytuple = ('one' , 'two', 'three', 'four', 'five', 'six', 'seven', 'eight')"
   ]
  },
  {
   "cell_type": "code",
   "execution_count": 5,
   "id": "80f7df85-c333-43b5-ba49-d24b5dfdd878",
   "metadata": {},
   "outputs": [
    {
     "data": {
      "text/plain": [
       "('one', 'two', 'three')"
      ]
     },
     "execution_count": 5,
     "metadata": {},
     "output_type": "execute_result"
    }
   ],
   "source": [
    "mytuple[0:3] # Return all item form 0th to 3rd index location excluding the items"
   ]
  },
  {
   "cell_type": "code",
   "execution_count": 6,
   "id": "417e6003-2f4f-46c4-b29f-594de10b7ab3",
   "metadata": {},
   "outputs": [
    {
     "data": {
      "text/plain": [
       "('three', 'four', 'five')"
      ]
     },
     "execution_count": 6,
     "metadata": {},
     "output_type": "execute_result"
    }
   ],
   "source": [
    "mytuple[2:5] # Return all item form 2nd to 5th index location excluding the items"
   ]
  },
  {
   "cell_type": "code",
   "execution_count": 7,
   "id": "c2d65885-d999-4a10-b1ef-e070b092433b",
   "metadata": {},
   "outputs": [
    {
     "data": {
      "text/plain": [
       "('one', 'two', 'three')"
      ]
     },
     "execution_count": 7,
     "metadata": {},
     "output_type": "execute_result"
    }
   ],
   "source": [
    "mytuple[ :3] # Return first three items"
   ]
  },
  {
   "cell_type": "code",
   "execution_count": 8,
   "id": "c59caa75-4c0c-47fd-be59-3797a14a4384",
   "metadata": {},
   "outputs": [
    {
     "data": {
      "text/plain": [
       "('one', 'two')"
      ]
     },
     "execution_count": 8,
     "metadata": {},
     "output_type": "execute_result"
    }
   ],
   "source": [
    "mytuple[ :2] # Return first three items"
   ]
  },
  {
   "cell_type": "code",
   "execution_count": 9,
   "id": "f8384abf-07dd-45d1-b9ce-b877c25542ae",
   "metadata": {},
   "outputs": [
    {
     "data": {
      "text/plain": [
       "('six', 'seven', 'eight')"
      ]
     },
     "execution_count": 9,
     "metadata": {},
     "output_type": "execute_result"
    }
   ],
   "source": [
    "mytuple[-3 :] # Return Last three items"
   ]
  },
  {
   "cell_type": "code",
   "execution_count": 10,
   "id": "07ea6540-7467-40b2-b7db-062e202dae00",
   "metadata": {},
   "outputs": [
    {
     "data": {
      "text/plain": [
       "('seven', 'eight')"
      ]
     },
     "execution_count": 10,
     "metadata": {},
     "output_type": "execute_result"
    }
   ],
   "source": [
    "mytuple[-2 :] # Return Last three items"
   ]
  },
  {
   "cell_type": "code",
   "execution_count": 11,
   "id": "87c74be4-6d64-4a1f-ac6a-07083515b8ef",
   "metadata": {},
   "outputs": [
    {
     "data": {
      "text/plain": [
       "('six', 'seven', 'eight')"
      ]
     },
     "execution_count": 11,
     "metadata": {},
     "output_type": "execute_result"
    }
   ],
   "source": [
    "mytuple[-3 :] # Return Last three items"
   ]
  },
  {
   "cell_type": "code",
   "execution_count": 12,
   "id": "ac849e49-2d24-4130-993b-1bfe2c58e390",
   "metadata": {},
   "outputs": [
    {
     "data": {
      "text/plain": [
       "('eight',)"
      ]
     },
     "execution_count": 12,
     "metadata": {},
     "output_type": "execute_result"
    }
   ],
   "source": [
    "mytuple[-1 :] # Return Last three items"
   ]
  },
  {
   "cell_type": "code",
   "execution_count": 13,
   "id": "11439138-b7dc-4604-9fdf-491198533575",
   "metadata": {},
   "outputs": [
    {
     "data": {
      "text/plain": [
       "('one', 'two', 'three', 'four', 'five', 'six', 'seven', 'eight')"
      ]
     },
     "execution_count": 13,
     "metadata": {},
     "output_type": "execute_result"
    }
   ],
   "source": [
    "mytuple[ :] # Return whole tuple"
   ]
  },
  {
   "cell_type": "markdown",
   "id": "1b50570f-7c75-4fe6-a7ae-183bea683128",
   "metadata": {},
   "source": [
    "### Remove & Change Items"
   ]
  },
  {
   "cell_type": "code",
   "execution_count": 14,
   "id": "dce9f1fa-9447-41ee-954c-ba83096cae5e",
   "metadata": {},
   "outputs": [
    {
     "data": {
      "text/plain": [
       "('one', 'two', 'three', 'four', 'five', 'six', 'seven', 'eight')"
      ]
     },
     "execution_count": 14,
     "metadata": {},
     "output_type": "execute_result"
    }
   ],
   "source": [
    "mytuple"
   ]
  },
  {
   "cell_type": "code",
   "execution_count": 15,
   "id": "ebbd5c5f-75b2-4448-a083-413a9463e064",
   "metadata": {},
   "outputs": [
    {
     "ename": "TypeError",
     "evalue": "'tuple' object doesn't support item deletion",
     "output_type": "error",
     "traceback": [
      "\u001b[1;31m---------------------------------------------------------------------------\u001b[0m",
      "\u001b[1;31mTypeError\u001b[0m                                 Traceback (most recent call last)",
      "Cell \u001b[1;32mIn[15], line 1\u001b[0m\n\u001b[1;32m----> 1\u001b[0m \u001b[38;5;28;01mdel\u001b[39;00m mytuple[\u001b[38;5;241m0\u001b[39m]\n",
      "\u001b[1;31mTypeError\u001b[0m: 'tuple' object doesn't support item deletion"
     ]
    }
   ],
   "source": [
    "del mytuple[0] # tuple are immutable which means we can't DELETE tuple items"
   ]
  },
  {
   "cell_type": "code",
   "execution_count": 16,
   "id": "4780c295-8d12-41ff-a922-32f8e2808a4e",
   "metadata": {},
   "outputs": [
    {
     "ename": "TypeError",
     "evalue": "'tuple' object does not support item assignment",
     "output_type": "error",
     "traceback": [
      "\u001b[1;31m---------------------------------------------------------------------------\u001b[0m",
      "\u001b[1;31mTypeError\u001b[0m                                 Traceback (most recent call last)",
      "Cell \u001b[1;32mIn[16], line 1\u001b[0m\n\u001b[1;32m----> 1\u001b[0m mytuple[\u001b[38;5;241m0\u001b[39m] \u001b[38;5;241m=\u001b[39m \u001b[38;5;241m1\u001b[39m\n",
      "\u001b[1;31mTypeError\u001b[0m: 'tuple' object does not support item assignment"
     ]
    }
   ],
   "source": [
    "mytuple[0] = 1 # Tuple are immutable which means we can't CHANGE tuple item"
   ]
  },
  {
   "cell_type": "code",
   "execution_count": null,
   "id": "23ce653f-4cc3-43cd-a393-9f06561d5afc",
   "metadata": {},
   "outputs": [],
   "source": [
    "del mytuple # Deleting entire tuple object is possible"
   ]
  },
  {
   "cell_type": "markdown",
   "id": "a16415f9-665e-487b-ba8d-25ebcae60470",
   "metadata": {},
   "source": [
    "### Long through a tuple"
   ]
  },
  {
   "cell_type": "code",
   "execution_count": 17,
   "id": "f3db45a7-ecab-4568-bf37-c7f9af1eb721",
   "metadata": {},
   "outputs": [
    {
     "data": {
      "text/plain": [
       "('one', 'two', 'three', 'four', 'five', 'six', 'seven', 'eight')"
      ]
     },
     "execution_count": 17,
     "metadata": {},
     "output_type": "execute_result"
    }
   ],
   "source": [
    "mytuple"
   ]
  },
  {
   "cell_type": "code",
   "execution_count": 18,
   "id": "0b11fdcf-abb4-49dc-92c0-3d74ad0c4c68",
   "metadata": {},
   "outputs": [
    {
     "name": "stdout",
     "output_type": "stream",
     "text": [
      "one\n",
      "two\n",
      "three\n",
      "four\n",
      "five\n",
      "six\n",
      "seven\n",
      "eight\n"
     ]
    }
   ],
   "source": [
    "for i in mytuple:\n",
    "    print(i)"
   ]
  },
  {
   "cell_type": "code",
   "execution_count": 19,
   "id": "2111a51f-185a-40e4-ac1f-a4819deee403",
   "metadata": {},
   "outputs": [
    {
     "name": "stdout",
     "output_type": "stream",
     "text": [
      "(0, 'one')\n",
      "(1, 'two')\n",
      "(2, 'three')\n",
      "(3, 'four')\n",
      "(4, 'five')\n",
      "(5, 'six')\n",
      "(6, 'seven')\n",
      "(7, 'eight')\n"
     ]
    }
   ],
   "source": [
    "for i in enumerate(mytuple):\n",
    "    print(i)"
   ]
  },
  {
   "cell_type": "markdown",
   "id": "9bea37a7-c2ad-44ad-b363-e6c33df2cad3",
   "metadata": {},
   "source": [
    "### Tuple Membership"
   ]
  },
  {
   "cell_type": "code",
   "execution_count": 20,
   "id": "2f1cc97d-0536-477e-a144-c399ee36847d",
   "metadata": {},
   "outputs": [
    {
     "data": {
      "text/plain": [
       "('one', 'two', 'three', 'four', 'five', 'six', 'seven', 'eight')"
      ]
     },
     "execution_count": 20,
     "metadata": {},
     "output_type": "execute_result"
    }
   ],
   "source": [
    "mytuple"
   ]
  },
  {
   "cell_type": "code",
   "execution_count": 21,
   "id": "2c29b59b-2b9c-44c7-a36d-09c428ec9eeb",
   "metadata": {},
   "outputs": [
    {
     "data": {
      "text/plain": [
       "True"
      ]
     },
     "execution_count": 21,
     "metadata": {},
     "output_type": "execute_result"
    }
   ],
   "source": [
    "'one' in mytuple # Check if 'one' exist in the list"
   ]
  },
  {
   "cell_type": "code",
   "execution_count": 22,
   "id": "fc715139-dcf3-4991-a4c1-bf9145df1bb7",
   "metadata": {},
   "outputs": [
    {
     "data": {
      "text/plain": [
       "False"
      ]
     },
     "execution_count": 22,
     "metadata": {},
     "output_type": "execute_result"
    }
   ],
   "source": [
    "'ten' in mytuple # Check if 'ten' exist in the list"
   ]
  },
  {
   "cell_type": "code",
   "execution_count": 23,
   "id": "9816069a-f9b0-40b6-952e-9cf4bab900a7",
   "metadata": {},
   "outputs": [
    {
     "name": "stdout",
     "output_type": "stream",
     "text": [
      "three is present in the tuple\n"
     ]
    }
   ],
   "source": [
    "if 'three' in mytuple: # Check if 'three' exist in the list\n",
    "    print('three is present in the tuple')\n",
    "else:\n",
    "    print('three is not present in the tuple')"
   ]
  },
  {
   "cell_type": "code",
   "execution_count": 24,
   "id": "c3c97d06-5ad6-4ba8-8835-0e66ad51966c",
   "metadata": {},
   "outputs": [
    {
     "name": "stdout",
     "output_type": "stream",
     "text": [
      "Eleven is not present in the tuple\n"
     ]
    }
   ],
   "source": [
    "if 'Eleven' in mytuple: # Check if 'Eleven' exist in the list\n",
    "    print('Eleven is present in the tuple')\n",
    "else:\n",
    "    print('Eleven is not present in the tuple')"
   ]
  },
  {
   "cell_type": "markdown",
   "id": "af6d03e2-1e50-41c9-9e2b-6873d2a21777",
   "metadata": {},
   "source": [
    "### index Position"
   ]
  },
  {
   "cell_type": "code",
   "execution_count": 25,
   "id": "8e95d7a4-cc00-4936-ac4d-675d24d4c144",
   "metadata": {},
   "outputs": [
    {
     "data": {
      "text/plain": [
       "('one', 'two', 'three', 'four', 'five', 'six', 'seven', 'eight')"
      ]
     },
     "execution_count": 25,
     "metadata": {},
     "output_type": "execute_result"
    }
   ],
   "source": [
    "mytuple"
   ]
  },
  {
   "cell_type": "code",
   "execution_count": 26,
   "id": "2d153a38-d9c1-4114-aae3-11d65bccc2db",
   "metadata": {},
   "outputs": [
    {
     "data": {
      "text/plain": [
       "0"
      ]
     },
     "execution_count": 26,
     "metadata": {},
     "output_type": "execute_result"
    }
   ],
   "source": [
    "mytuple.index('one') # Index of first element equal to 'one'"
   ]
  },
  {
   "cell_type": "code",
   "execution_count": 27,
   "id": "c6ab3fb1-4848-4e45-a8e0-08c39f88f2b0",
   "metadata": {},
   "outputs": [
    {
     "data": {
      "text/plain": [
       "4"
      ]
     },
     "execution_count": 27,
     "metadata": {},
     "output_type": "execute_result"
    }
   ],
   "source": [
    "mytuple.index('five') # Index of first element equal to 'five'"
   ]
  },
  {
   "cell_type": "code",
   "execution_count": 29,
   "id": "07a21797-2086-4406-aeae-564a4e71f4fa",
   "metadata": {},
   "outputs": [],
   "source": [
    "mytuple1 = ('one', 'two', 'three', 'four', 'one' 'two', 'three')"
   ]
  },
  {
   "cell_type": "code",
   "execution_count": 30,
   "id": "3507faf5-647c-4559-a620-0c1b91eec21f",
   "metadata": {},
   "outputs": [
    {
     "data": {
      "text/plain": [
       "('one', 'two', 'three', 'four', 'onetwo', 'three')"
      ]
     },
     "execution_count": 30,
     "metadata": {},
     "output_type": "execute_result"
    }
   ],
   "source": [
    "mytuple1"
   ]
  },
  {
   "cell_type": "code",
   "execution_count": 31,
   "id": "25923606-3f61-4994-91e0-eb83935812a0",
   "metadata": {},
   "outputs": [
    {
     "data": {
      "text/plain": [
       "0"
      ]
     },
     "execution_count": 31,
     "metadata": {},
     "output_type": "execute_result"
    }
   ],
   "source": [
    "mytuple.index('one')  #Index of first element equal to 'one'"
   ]
  },
  {
   "cell_type": "markdown",
   "id": "c70e2088-a2ff-497c-889c-a9d19cfb35a8",
   "metadata": {},
   "source": [
    "### Sorting"
   ]
  },
  {
   "cell_type": "code",
   "execution_count": 34,
   "id": "6b7c0237-ed37-4ee4-ac17-873bdd1fdc2d",
   "metadata": {},
   "outputs": [],
   "source": [
    "mytuple2 = (43,67,99,12,6,90,67)"
   ]
  },
  {
   "cell_type": "code",
   "execution_count": 35,
   "id": "0801d710-106c-484c-98b9-299b88a4746e",
   "metadata": {},
   "outputs": [
    {
     "data": {
      "text/plain": [
       "[6, 12, 43, 67, 67, 90, 99]"
      ]
     },
     "execution_count": 35,
     "metadata": {},
     "output_type": "execute_result"
    }
   ],
   "source": [
    "sorted(mytuple2)  # Returns a new sorted list and doesn't charge original tuple"
   ]
  },
  {
   "cell_type": "code",
   "execution_count": 36,
   "id": "11d45fac-b18f-4516-90df-60f4db3f25af",
   "metadata": {},
   "outputs": [
    {
     "data": {
      "text/plain": [
       "[99, 90, 67, 67, 43, 12, 6]"
      ]
     },
     "execution_count": 36,
     "metadata": {},
     "output_type": "execute_result"
    }
   ],
   "source": [
    "sorted(mytuple2, reverse=True) # Sort in descending order"
   ]
  },
  {
   "cell_type": "markdown",
   "id": "370357a6-2fad-4180-8a9f-5c6e3770ea37",
   "metadata": {},
   "source": [
    "# SET"
   ]
  },
  {
   "cell_type": "code",
   "execution_count": 2,
   "id": "6c8dd61a-4aa6-4cd8-9e05-6b7ab4a8ad9b",
   "metadata": {},
   "outputs": [
    {
     "data": {
      "text/plain": [
       "dict"
      ]
     },
     "execution_count": 2,
     "metadata": {},
     "output_type": "execute_result"
    }
   ],
   "source": [
    "s = {}\n",
    "type(s)"
   ]
  },
  {
   "cell_type": "code",
   "execution_count": 3,
   "id": "c5b4381d-b31d-4564-9f64-34c0bccbded2",
   "metadata": {},
   "outputs": [
    {
     "data": {
      "text/plain": [
       "set()"
      ]
     },
     "execution_count": 3,
     "metadata": {},
     "output_type": "execute_result"
    }
   ],
   "source": [
    "s = set()\n",
    "s"
   ]
  },
  {
   "cell_type": "code",
   "execution_count": 4,
   "id": "4d9c8f92-50d9-47de-bb5b-cab9d5256e0c",
   "metadata": {},
   "outputs": [
    {
     "data": {
      "text/plain": [
       "set"
      ]
     },
     "execution_count": 4,
     "metadata": {},
     "output_type": "execute_result"
    }
   ],
   "source": [
    "type(s)"
   ]
  },
  {
   "cell_type": "code",
   "execution_count": 7,
   "id": "050b0f4f-279e-4983-aca9-aed315c78788",
   "metadata": {},
   "outputs": [
    {
     "data": {
      "text/plain": [
       "{1, 3, 13, 47, 80, 90, 100}"
      ]
     },
     "execution_count": 7,
     "metadata": {},
     "output_type": "execute_result"
    }
   ],
   "source": [
    "s1 = {90,80,3,13,47,100,1}\n",
    "s1\n"
   ]
  },
  {
   "cell_type": "code",
   "execution_count": 13,
   "id": "3263e686-4339-4443-9585-1ec275639d94",
   "metadata": {},
   "outputs": [
    {
     "data": {
      "text/plain": [
       "{'1+2j', 2.3, 4, True, 'nit'}"
      ]
     },
     "execution_count": 13,
     "metadata": {},
     "output_type": "execute_result"
    }
   ],
   "source": [
    "s2 = {4,'nit',2.3, True,'1+2j'}\n",
    "s2"
   ]
  },
  {
   "cell_type": "code",
   "execution_count": 14,
   "id": "08cd1885-da21-4ef3-93ce-73e1fa73de22",
   "metadata": {},
   "outputs": [
    {
     "data": {
      "text/plain": [
       "{1, 3, 13, 47, 80, 90, 100}"
      ]
     },
     "execution_count": 14,
     "metadata": {},
     "output_type": "execute_result"
    }
   ],
   "source": [
    "s1"
   ]
  },
  {
   "cell_type": "code",
   "execution_count": 15,
   "id": "411d2977-4e72-49ed-b035-ba5ee39875d9",
   "metadata": {},
   "outputs": [
    {
     "data": {
      "text/plain": [
       "{1, 3, 13, 47, 80, 90, 100, 200}"
      ]
     },
     "execution_count": 15,
     "metadata": {},
     "output_type": "execute_result"
    }
   ],
   "source": [
    "s1.add(200)  # Extra add the set number\n",
    "s1"
   ]
  },
  {
   "cell_type": "code",
   "execution_count": 19,
   "id": "80fcefa5-6a7a-43cb-b9ad-db6c541274d4",
   "metadata": {},
   "outputs": [
    {
     "data": {
      "text/plain": [
       "{1, 3, 10, 13, 47, 80, 90, 100, 200}"
      ]
     },
     "execution_count": 19,
     "metadata": {},
     "output_type": "execute_result"
    }
   ],
   "source": [
    "s1.add(10)\n",
    "s1"
   ]
  },
  {
   "cell_type": "code",
   "execution_count": 20,
   "id": "b3919877-8899-4d8a-a2b8-876fd3f5369e",
   "metadata": {},
   "outputs": [
    {
     "data": {
      "text/plain": [
       "{1, 3, 10, 13, 47, 80, 90, 100, 200}"
      ]
     },
     "execution_count": 20,
     "metadata": {},
     "output_type": "execute_result"
    }
   ],
   "source": [
    "s1"
   ]
  },
  {
   "cell_type": "code",
   "execution_count": 21,
   "id": "3dbf8c27-27ae-4723-970d-9f6989597aa1",
   "metadata": {},
   "outputs": [
    {
     "data": {
      "text/plain": [
       "{1, 3, 10, 13, 47, 80, 90, 100, 200}"
      ]
     },
     "execution_count": 21,
     "metadata": {},
     "output_type": "execute_result"
    }
   ],
   "source": [
    "s3 = s1.copy() # copyset\n",
    "s3"
   ]
  },
  {
   "cell_type": "code",
   "execution_count": 22,
   "id": "c323f0cc-c60b-4dce-a6b6-bcbf18d8e5a0",
   "metadata": {},
   "outputs": [
    {
     "data": {
      "text/plain": [
       "True"
      ]
     },
     "execution_count": 22,
     "metadata": {},
     "output_type": "execute_result"
    }
   ],
   "source": [
    "s1 == s3"
   ]
  },
  {
   "cell_type": "code",
   "execution_count": 23,
   "id": "e1c2946f-4ef6-4418-bde0-8313669a5b4e",
   "metadata": {},
   "outputs": [
    {
     "data": {
      "text/plain": [
       "9"
      ]
     },
     "execution_count": 23,
     "metadata": {},
     "output_type": "execute_result"
    }
   ],
   "source": [
    "len(s3) # Length of the set"
   ]
  },
  {
   "cell_type": "code",
   "execution_count": 24,
   "id": "cf716540-9c33-4bdf-81c7-a7b3e5533c0a",
   "metadata": {},
   "outputs": [
    {
     "data": {
      "text/plain": [
       "{1, 3, 10, 13, 47, 80, 90, 100, 200}"
      ]
     },
     "execution_count": 24,
     "metadata": {},
     "output_type": "execute_result"
    }
   ],
   "source": [
    "s3"
   ]
  },
  {
   "cell_type": "code",
   "execution_count": 25,
   "id": "1266a8d2-e468-42dd-8a7c-8ebd23710389",
   "metadata": {},
   "outputs": [
    {
     "data": {
      "text/plain": [
       "set()"
      ]
     },
     "execution_count": 25,
     "metadata": {},
     "output_type": "execute_result"
    }
   ],
   "source": [
    "s3.clear()\n",
    "s3"
   ]
  },
  {
   "cell_type": "code",
   "execution_count": 26,
   "id": "e2cee44e-4dd0-4a66-961d-bdfd29941582",
   "metadata": {},
   "outputs": [
    {
     "data": {
      "text/plain": [
       "0"
      ]
     },
     "execution_count": 26,
     "metadata": {},
     "output_type": "execute_result"
    }
   ],
   "source": [
    "len(s3)"
   ]
  },
  {
   "cell_type": "code",
   "execution_count": 27,
   "id": "cd7e6d01-28ee-4f82-accf-2cb0ea9733fd",
   "metadata": {},
   "outputs": [
    {
     "data": {
      "text/plain": [
       "{1, 3, 10, 13, 47, 80, 90, 100, 200}"
      ]
     },
     "execution_count": 27,
     "metadata": {},
     "output_type": "execute_result"
    }
   ],
   "source": [
    "s1"
   ]
  },
  {
   "cell_type": "code",
   "execution_count": 28,
   "id": "75cb52d1-6007-4417-b7a9-d48d4212c352",
   "metadata": {},
   "outputs": [
    {
     "ename": "TypeError",
     "evalue": "'set' object is not subscriptable",
     "output_type": "error",
     "traceback": [
      "\u001b[1;31m---------------------------------------------------------------------------\u001b[0m",
      "\u001b[1;31mTypeError\u001b[0m                                 Traceback (most recent call last)",
      "Cell \u001b[1;32mIn[28], line 1\u001b[0m\n\u001b[1;32m----> 1\u001b[0m s1[:]\n",
      "\u001b[1;31mTypeError\u001b[0m: 'set' object is not subscriptable"
     ]
    }
   ],
   "source": [
    "s1[:]"
   ]
  },
  {
   "cell_type": "code",
   "execution_count": 29,
   "id": "1b492530-3df9-46f8-869c-3f6289cf481a",
   "metadata": {},
   "outputs": [
    {
     "data": {
      "text/plain": [
       "{1, 3, 10, 13, 47, 80, 90, 100, 200}"
      ]
     },
     "execution_count": 29,
     "metadata": {},
     "output_type": "execute_result"
    }
   ],
   "source": [
    "s1"
   ]
  },
  {
   "cell_type": "code",
   "execution_count": 30,
   "id": "8ca1bf77-c2ef-4d7e-ad0a-36997301a469",
   "metadata": {},
   "outputs": [
    {
     "data": {
      "text/plain": [
       "<function set.pop>"
      ]
     },
     "execution_count": 30,
     "metadata": {},
     "output_type": "execute_result"
    }
   ],
   "source": [
    "s1.pop"
   ]
  },
  {
   "cell_type": "code",
   "execution_count": 31,
   "id": "b2e78840-af2c-4e04-afa4-7e2e5ebfec62",
   "metadata": {},
   "outputs": [
    {
     "data": {
      "text/plain": [
       "1"
      ]
     },
     "execution_count": 31,
     "metadata": {},
     "output_type": "execute_result"
    }
   ],
   "source": [
    "s1.pop()"
   ]
  },
  {
   "cell_type": "code",
   "execution_count": 32,
   "id": "ff1e624f-c8b5-4fa6-9992-f84c2b9ae5db",
   "metadata": {},
   "outputs": [
    {
     "data": {
      "text/plain": [
       "{3, 10, 13, 47, 80, 90, 100, 200}"
      ]
     },
     "execution_count": 32,
     "metadata": {},
     "output_type": "execute_result"
    }
   ],
   "source": [
    "s1"
   ]
  },
  {
   "cell_type": "code",
   "execution_count": 33,
   "id": "6f5a512e-5975-4d32-aff7-85fd83d61360",
   "metadata": {},
   "outputs": [
    {
     "data": {
      "text/plain": [
       "{10, 13, 47, 80, 90, 100, 200}"
      ]
     },
     "execution_count": 33,
     "metadata": {},
     "output_type": "execute_result"
    }
   ],
   "source": [
    "s1.pop()\n",
    "s1"
   ]
  },
  {
   "cell_type": "code",
   "execution_count": 34,
   "id": "9ef570d3-4ff1-43e0-9eda-24f29f6b9b7e",
   "metadata": {},
   "outputs": [
    {
     "data": {
      "text/plain": [
       "{10, 13, 47, 80, 90, 100, 200}"
      ]
     },
     "execution_count": 34,
     "metadata": {},
     "output_type": "execute_result"
    }
   ],
   "source": [
    "s1"
   ]
  },
  {
   "cell_type": "code",
   "execution_count": 35,
   "id": "3e584da8-b830-4271-850a-2955905693ca",
   "metadata": {},
   "outputs": [
    {
     "ename": "TypeError",
     "evalue": "set.pop() takes no arguments (1 given)",
     "output_type": "error",
     "traceback": [
      "\u001b[1;31m---------------------------------------------------------------------------\u001b[0m",
      "\u001b[1;31mTypeError\u001b[0m                                 Traceback (most recent call last)",
      "Cell \u001b[1;32mIn[35], line 1\u001b[0m\n\u001b[1;32m----> 1\u001b[0m s1\u001b[38;5;241m.\u001b[39mpop(\u001b[38;5;241m10\u001b[39m)\n",
      "\u001b[1;31mTypeError\u001b[0m: set.pop() takes no arguments (1 given)"
     ]
    }
   ],
   "source": [
    "s1.pop(10)"
   ]
  },
  {
   "cell_type": "code",
   "execution_count": 36,
   "id": "a109cb6c-eb86-4c69-a366-1b9c14fae6cc",
   "metadata": {},
   "outputs": [
    {
     "data": {
      "text/plain": [
       "{10, 13, 47, 80, 90, 100, 200}"
      ]
     },
     "execution_count": 36,
     "metadata": {},
     "output_type": "execute_result"
    }
   ],
   "source": [
    "s1"
   ]
  },
  {
   "cell_type": "code",
   "execution_count": 37,
   "id": "da2b9c1a-058a-494a-a4c5-697ae2ad323c",
   "metadata": {},
   "outputs": [
    {
     "ename": "KeyError",
     "evalue": "1000",
     "output_type": "error",
     "traceback": [
      "\u001b[1;31m---------------------------------------------------------------------------\u001b[0m",
      "\u001b[1;31mKeyError\u001b[0m                                  Traceback (most recent call last)",
      "Cell \u001b[1;32mIn[37], line 1\u001b[0m\n\u001b[1;32m----> 1\u001b[0m s1\u001b[38;5;241m.\u001b[39mremove(\u001b[38;5;241m1000\u001b[39m)\n",
      "\u001b[1;31mKeyError\u001b[0m: 1000"
     ]
    }
   ],
   "source": [
    "s1.remove(1000)# Remove items"
   ]
  },
  {
   "cell_type": "code",
   "execution_count": 38,
   "id": "b9d827c6-0dd0-4ae8-bcd8-cbdf42153011",
   "metadata": {},
   "outputs": [],
   "source": [
    "s1.discard(1000)"
   ]
  },
  {
   "cell_type": "code",
   "execution_count": 39,
   "id": "aee76b86-7b3f-4224-af03-940f90eedd73",
   "metadata": {},
   "outputs": [
    {
     "data": {
      "text/plain": [
       "{10, 13, 47, 80, 90, 100, 200}"
      ]
     },
     "execution_count": 39,
     "metadata": {},
     "output_type": "execute_result"
    }
   ],
   "source": [
    "s1"
   ]
  },
  {
   "cell_type": "code",
   "execution_count": 40,
   "id": "4aff29b0-239d-4470-8f12-f90b819170e6",
   "metadata": {},
   "outputs": [
    {
     "data": {
      "text/plain": [
       "{10, 13, 80, 90, 100, 200}"
      ]
     },
     "execution_count": 40,
     "metadata": {},
     "output_type": "execute_result"
    }
   ],
   "source": [
    "s1.remove(47)\n",
    "s1"
   ]
  },
  {
   "cell_type": "code",
   "execution_count": 41,
   "id": "a957ee85-5cea-4076-8dce-52363afcfd0c",
   "metadata": {},
   "outputs": [
    {
     "data": {
      "text/plain": [
       "{10, 13, 80, 90, 100}"
      ]
     },
     "execution_count": 41,
     "metadata": {},
     "output_type": "execute_result"
    }
   ],
   "source": [
    "s1.discard(200)\n",
    "s1"
   ]
  },
  {
   "cell_type": "code",
   "execution_count": null,
   "id": "55a30ad1-f558-444e-a3dc-92a151720938",
   "metadata": {},
   "outputs": [],
   "source": [
    "### basic set function we are completed"
   ]
  },
  {
   "cell_type": "code",
   "execution_count": 42,
   "id": "fc219df7-8be8-4c63-a537-028c4546544b",
   "metadata": {},
   "outputs": [
    {
     "name": "stdout",
     "output_type": "stream",
     "text": [
      "10\n",
      "13\n",
      "80\n",
      "90\n",
      "100\n"
     ]
    }
   ],
   "source": [
    "for i in s1:\n",
    "    print(i)"
   ]
  },
  {
   "cell_type": "code",
   "execution_count": 43,
   "id": "d71b755e-d315-448c-8e42-b9faa7fa8df1",
   "metadata": {},
   "outputs": [
    {
     "name": "stdout",
     "output_type": "stream",
     "text": [
      "(0, 10)\n",
      "(1, 13)\n",
      "(2, 80)\n",
      "(3, 90)\n",
      "(4, 100)\n"
     ]
    }
   ],
   "source": [
    "for i in enumerate(s1):\n",
    "    print(i)"
   ]
  },
  {
   "cell_type": "code",
   "execution_count": 44,
   "id": "177e0c52-39f4-45bb-a5e2-a9f54ad9ba7c",
   "metadata": {},
   "outputs": [
    {
     "data": {
      "text/plain": [
       "{10, 13, 80, 90, 100}"
      ]
     },
     "execution_count": 44,
     "metadata": {},
     "output_type": "execute_result"
    }
   ],
   "source": [
    "s1"
   ]
  },
  {
   "cell_type": "code",
   "execution_count": 45,
   "id": "4555c8d3-438b-4b75-8d83-6aea2c2b83ca",
   "metadata": {},
   "outputs": [
    {
     "data": {
      "text/plain": [
       "{1, 2, 10, 13, 80, 90, 100}"
      ]
     },
     "execution_count": 45,
     "metadata": {},
     "output_type": "execute_result"
    }
   ],
   "source": [
    "s1.update([1,2])\n",
    "s1"
   ]
  },
  {
   "cell_type": "markdown",
   "id": "62c19107-755e-4830-a3c3-33f6b05c2ced",
   "metadata": {},
   "source": [
    "### set Operation\n",
    "\n",
    "### Union"
   ]
  },
  {
   "cell_type": "code",
   "execution_count": 1,
   "id": "4b468045-54ae-41da-840a-3fb6cc85e47b",
   "metadata": {},
   "outputs": [],
   "source": [
    "A= {1,2,3,4,5} \n",
    "B = {4,5,6,7,8} \n",
    "C = {8,9,10} "
   ]
  },
  {
   "cell_type": "code",
   "execution_count": 2,
   "id": "22fdcb7b-3f57-4116-8665-bad687f087a1",
   "metadata": {},
   "outputs": [
    {
     "data": {
      "text/plain": [
       "{1, 2, 3, 4, 5, 6, 7, 8}"
      ]
     },
     "execution_count": 2,
     "metadata": {},
     "output_type": "execute_result"
    }
   ],
   "source": [
    " A| B # Union of A and B (All elements from both sets. NO DUPLICATES) "
   ]
  },
  {
   "cell_type": "code",
   "execution_count": 3,
   "id": "7b717d87-554a-48a3-99d7-b5df2abe3e94",
   "metadata": {},
   "outputs": [
    {
     "data": {
      "text/plain": [
       "{1, 2, 3, 4, 5, 6, 7, 8}"
      ]
     },
     "execution_count": 3,
     "metadata": {},
     "output_type": "execute_result"
    }
   ],
   "source": [
    "A.union(B) # Union of A and B "
   ]
  },
  {
   "cell_type": "code",
   "execution_count": 4,
   "id": "23d1092a-2a48-4d55-b807-3bf9e9763ecb",
   "metadata": {},
   "outputs": [
    {
     "data": {
      "text/plain": [
       "{1, 2, 3, 4, 5, 6, 7, 8, 9, 10}"
      ]
     },
     "execution_count": 4,
     "metadata": {},
     "output_type": "execute_result"
    }
   ],
   "source": [
    "\n",
    "A.union(B, C) # Union of A, B and C."
   ]
  },
  {
   "cell_type": "code",
   "execution_count": 5,
   "id": "882f74d0-55af-4bf0-a2f7-e49d637e860f",
   "metadata": {},
   "outputs": [
    {
     "data": {
      "text/plain": [
       "{1, 2, 3, 4, 5, 6, 7, 8, 9, 10}"
      ]
     },
     "execution_count": 5,
     "metadata": {},
     "output_type": "execute_result"
    }
   ],
   "source": [
    "\n",
    "\"\"\" \n",
    "Updates the set calling the update() method with union of A , B & C. \n",
    "For below example Set A will be updated with union of A,B & C. \n",
    "\"\"\" \n",
    "A.update(B,C) \n",
    "A"
   ]
  },
  {
   "cell_type": "markdown",
   "id": "7c902711-ef28-48c2-8b14-0c775922a3ad",
   "metadata": {},
   "source": [
    "#### intersection"
   ]
  },
  {
   "cell_type": "code",
   "execution_count": 6,
   "id": "8fb6234f-a7be-47a1-b296-f7e123afaaff",
   "metadata": {},
   "outputs": [],
   "source": [
    " \n",
    "A = {1,2,3,4,5} \n",
    "B = {4,5,6,7,8} "
   ]
  },
  {
   "cell_type": "code",
   "execution_count": 7,
   "id": "a6f25865-997e-42f9-b925-018103a758bb",
   "metadata": {},
   "outputs": [
    {
     "data": {
      "text/plain": [
       "{4, 5}"
      ]
     },
     "execution_count": 7,
     "metadata": {},
     "output_type": "execute_result"
    }
   ],
   "source": [
    "A & B # Intersection of A and B (Common items in both sets) "
   ]
  },
  {
   "cell_type": "code",
   "execution_count": 8,
   "id": "29709eed-94f8-4c6b-b5d7-33bfe358b242",
   "metadata": {},
   "outputs": [
    {
     "ename": "SyntaxError",
     "evalue": "invalid syntax (1816432559.py, line 1)",
     "output_type": "error",
     "traceback": [
      "\u001b[1;36m  Cell \u001b[1;32mIn[8], line 1\u001b[1;36m\u001b[0m\n\u001b[1;33m    A.intersection(B) Intersection of A and B\u001b[0m\n\u001b[1;37m                      ^\u001b[0m\n\u001b[1;31mSyntaxError\u001b[0m\u001b[1;31m:\u001b[0m invalid syntax\n"
     ]
    }
   ],
   "source": [
    "A.intersection(B) Intersection of A and B \n",
    "File \"<ipython-input-764-f01b60f4d31d>\", line 1 \n",
    "A.intersection(B) Intersection of A and B "
   ]
  },
  {
   "cell_type": "code",
   "execution_count": 9,
   "id": "d5e7a214-fe72-444f-b4d3-d9488a4dfaca",
   "metadata": {},
   "outputs": [
    {
     "data": {
      "text/plain": [
       "{4, 5}"
      ]
     },
     "execution_count": 9,
     "metadata": {},
     "output_type": "execute_result"
    }
   ],
   "source": [
    " \n",
    "\"\"\" \n",
    "Updates the set calling the intersection_update() method with the intersection o \n",
    "For below example Set A will be updated with the intersection of A & B. \n",
    "\"\"\" \n",
    "A.intersection_update(B) \n",
    "A"
   ]
  },
  {
   "cell_type": "markdown",
   "id": "c66e2938-6f9d-405c-a600-1b93b88ce38b",
   "metadata": {},
   "source": [
    "### Difference"
   ]
  },
  {
   "cell_type": "code",
   "execution_count": 10,
   "id": "2c3f9262-cced-45c9-ae7d-1ae8f84da56e",
   "metadata": {},
   "outputs": [],
   "source": [
    " \n",
    "A = {1,2,3,4,5} \n",
    "B = {4,5,6,7,8} "
   ]
  },
  {
   "cell_type": "code",
   "execution_count": 11,
   "id": "f992ac64-4034-4f79-9693-ef34a9a835e8",
   "metadata": {},
   "outputs": [
    {
     "data": {
      "text/plain": [
       "{1, 2, 3}"
      ]
     },
     "execution_count": 11,
     "metadata": {},
     "output_type": "execute_result"
    }
   ],
   "source": [
    " \n",
    "A - B # set of elements that are only in A but not in B "
   ]
  },
  {
   "cell_type": "code",
   "execution_count": 12,
   "id": "736f5c16-3f76-42e6-bcf4-849b9b385649",
   "metadata": {},
   "outputs": [
    {
     "data": {
      "text/plain": [
       "{1, 2, 3}"
      ]
     },
     "execution_count": 12,
     "metadata": {},
     "output_type": "execute_result"
    }
   ],
   "source": [
    " \n",
    "A.difference(B) # Difference of sets "
   ]
  },
  {
   "cell_type": "code",
   "execution_count": 13,
   "id": "e923dbf2-3e4f-42dc-9287-1feb9848983c",
   "metadata": {},
   "outputs": [
    {
     "data": {
      "text/plain": [
       "{6, 7, 8}"
      ]
     },
     "execution_count": 13,
     "metadata": {},
     "output_type": "execute_result"
    }
   ],
   "source": [
    " \n",
    "B- A # set of elements that are only in B but not in A "
   ]
  },
  {
   "cell_type": "code",
   "execution_count": 14,
   "id": "36cb4cfc-fb83-4a06-beae-cfc38b4384b2",
   "metadata": {},
   "outputs": [
    {
     "data": {
      "text/plain": [
       "{6, 7, 8}"
      ]
     },
     "execution_count": 14,
     "metadata": {},
     "output_type": "execute_result"
    }
   ],
   "source": [
    " \n",
    "B.difference(A)"
   ]
  },
  {
   "cell_type": "code",
   "execution_count": 15,
   "id": "2e6d9492-343c-45d9-a686-8f0197f37bce",
   "metadata": {},
   "outputs": [
    {
     "data": {
      "text/plain": [
       "{6, 7, 8}"
      ]
     },
     "execution_count": 15,
     "metadata": {},
     "output_type": "execute_result"
    }
   ],
   "source": [
    "\"\"\" \n",
    "Updates the set calling the difference_update() method with the difference of se \n",
    "For below example Set B will be updated with the difference of B & A. \n",
    "\"\"\" \n",
    "B.difference_update(A)\n",
    "B"
   ]
  },
  {
   "cell_type": "markdown",
   "id": "da06ea6f-3fb2-46ac-b444-156575ac2a07",
   "metadata": {},
   "source": [
    "### Symmetric Difference"
   ]
  },
  {
   "cell_type": "code",
   "execution_count": 16,
   "id": "641f7a47-a0d7-4f8b-8b49-d47cce76c60c",
   "metadata": {},
   "outputs": [],
   "source": [
    "A = {1,2,3,4,5} \n",
    "B = {4,5,6,7,8} "
   ]
  },
  {
   "cell_type": "code",
   "execution_count": 17,
   "id": "63378383-963b-478e-b558-823207be5f72",
   "metadata": {},
   "outputs": [
    {
     "data": {
      "text/plain": [
       "{1, 2, 3, 6, 7, 8}"
      ]
     },
     "execution_count": 17,
     "metadata": {},
     "output_type": "execute_result"
    }
   ],
   "source": [
    " \n",
    "A = {1,2,3,4,5} \n",
    "B = {4,5,6,7,8} \n",
    "A ^ B # Symmetric difference (Set of elements in A and B but not in both. \"EXCLU"
   ]
  },
  {
   "cell_type": "code",
   "execution_count": 18,
   "id": "66d98c3b-e411-4f28-919f-dbc095b82a6c",
   "metadata": {},
   "outputs": [
    {
     "data": {
      "text/plain": [
       "{1, 2, 3, 6, 7, 8}"
      ]
     },
     "execution_count": 18,
     "metadata": {},
     "output_type": "execute_result"
    }
   ],
   "source": [
    " \n",
    "A.symmetric_difference(B) # Symmetric difference of sets"
   ]
  },
  {
   "cell_type": "code",
   "execution_count": 19,
   "id": "f969a162-04c5-4b42-a65e-49490dc86c65",
   "metadata": {},
   "outputs": [
    {
     "data": {
      "text/plain": [
       "{1, 2, 3, 6, 7, 8}"
      ]
     },
     "execution_count": 19,
     "metadata": {},
     "output_type": "execute_result"
    }
   ],
   "source": [
    "\n",
    "\"\"\" \n",
    "Updates the set calling the symmetric_difference_update() method with the symmet \n",
    "For below example Set A will be updated with the symmetric difference of A & B. \n",
    "\"\"\" \n",
    "A.symmetric_difference_update(B) \n",
    "A"
   ]
  },
  {
   "cell_type": "markdown",
   "id": "3142dbf1-f013-4a03-abf2-7e3d4d04908d",
   "metadata": {},
   "source": [
    "### Subset, Superset & Disjoint"
   ]
  },
  {
   "cell_type": "code",
   "execution_count": 20,
   "id": "6aa97439-e569-41d6-b5fe-9947e261feb4",
   "metadata": {},
   "outputs": [],
   "source": [
    "A = {1,2,3,4,5,6,7,8,9} \n",
    "B = {3,4,5,6,7,8} \n",
    "C = {10,20,30,40} "
   ]
  },
  {
   "cell_type": "code",
   "execution_count": 21,
   "id": "d0dcc345-2cf8-4c2f-a033-0edcdedecbb3",
   "metadata": {},
   "outputs": [
    {
     "data": {
      "text/plain": [
       "True"
      ]
     },
     "execution_count": 21,
     "metadata": {},
     "output_type": "execute_result"
    }
   ],
   "source": [
    "B.issubset(A) # Set B is said to be the subset of set A if all elements of B are"
   ]
  },
  {
   "cell_type": "code",
   "execution_count": 22,
   "id": "e47f8e03-403d-4a01-90ad-701a0b2ca16a",
   "metadata": {},
   "outputs": [
    {
     "data": {
      "text/plain": [
       "True"
      ]
     },
     "execution_count": 22,
     "metadata": {},
     "output_type": "execute_result"
    }
   ],
   "source": [
    "A.issuperset(B) # Set A is said to be the superset of set B if all elements of B "
   ]
  },
  {
   "cell_type": "code",
   "execution_count": 23,
   "id": "792dd3c0-b58e-45be-92a8-5e3e785205ba",
   "metadata": {},
   "outputs": [
    {
     "data": {
      "text/plain": [
       "True"
      ]
     },
     "execution_count": 23,
     "metadata": {},
     "output_type": "execute_result"
    }
   ],
   "source": [
    " \n",
    "C.isdisjoint(A) # Two sets are said to be disjoint sets if they have no common element"
   ]
  },
  {
   "cell_type": "code",
   "execution_count": 24,
   "id": "a2bf7268-4be9-4e7f-92b1-48e65cdd6aa0",
   "metadata": {},
   "outputs": [
    {
     "data": {
      "text/plain": [
       "False"
      ]
     },
     "execution_count": 24,
     "metadata": {},
     "output_type": "execute_result"
    }
   ],
   "source": [
    "B.isdisjoint(A) # Two sets are said to be disjoint sets if they have no common element"
   ]
  },
  {
   "cell_type": "markdown",
   "id": "7017d70b-7f0e-4a1c-a2ae-1ca91a75a39a",
   "metadata": {},
   "source": [
    "### Other Builtin functions"
   ]
  },
  {
   "cell_type": "code",
   "execution_count": 25,
   "id": "d61d980f-b3aa-465d-a8e5-b3847ccd75e3",
   "metadata": {},
   "outputs": [
    {
     "data": {
      "text/plain": [
       "{1, 2, 3, 4, 5, 6, 7, 8, 9}"
      ]
     },
     "execution_count": 25,
     "metadata": {},
     "output_type": "execute_result"
    }
   ],
   "source": [
    "A"
   ]
  },
  {
   "cell_type": "code",
   "execution_count": 26,
   "id": "32eb9d61-0aa6-4a3a-a503-72e787bf750d",
   "metadata": {},
   "outputs": [
    {
     "data": {
      "text/plain": [
       "45"
      ]
     },
     "execution_count": 26,
     "metadata": {},
     "output_type": "execute_result"
    }
   ],
   "source": [
    "sum(A)"
   ]
  },
  {
   "cell_type": "code",
   "execution_count": 27,
   "id": "070959a3-314c-4b77-876a-4944f71467c7",
   "metadata": {},
   "outputs": [
    {
     "data": {
      "text/plain": [
       "9"
      ]
     },
     "execution_count": 27,
     "metadata": {},
     "output_type": "execute_result"
    }
   ],
   "source": [
    "max(A)"
   ]
  },
  {
   "cell_type": "code",
   "execution_count": 28,
   "id": "02c8fde0-7850-4c79-9de5-068d8a3f3e0f",
   "metadata": {},
   "outputs": [
    {
     "data": {
      "text/plain": [
       "1"
      ]
     },
     "execution_count": 28,
     "metadata": {},
     "output_type": "execute_result"
    }
   ],
   "source": [
    "min(A)"
   ]
  },
  {
   "cell_type": "code",
   "execution_count": 29,
   "id": "0e22945c-a8f4-4a74-b81c-8f3b470e09bd",
   "metadata": {},
   "outputs": [
    {
     "data": {
      "text/plain": [
       "9"
      ]
     },
     "execution_count": 29,
     "metadata": {},
     "output_type": "execute_result"
    }
   ],
   "source": [
    "len(A)"
   ]
  },
  {
   "cell_type": "code",
   "execution_count": 30,
   "id": "cf045d1d-11e0-4f77-b3c5-ce0cd4aa00e6",
   "metadata": {},
   "outputs": [
    {
     "data": {
      "text/plain": [
       "[(0, 1), (1, 2), (2, 3), (3, 4), (4, 5), (5, 6), (6, 7), (7, 8), (8, 9)]"
      ]
     },
     "execution_count": 30,
     "metadata": {},
     "output_type": "execute_result"
    }
   ],
   "source": [
    "list(enumerate(A))"
   ]
  },
  {
   "cell_type": "code",
   "execution_count": 31,
   "id": "19ac0913-4f89-4b13-81c2-eb00fa1754da",
   "metadata": {},
   "outputs": [
    {
     "data": {
      "text/plain": [
       "[9, 8, 7, 6, 5, 4, 3, 2, 1]"
      ]
     },
     "execution_count": 31,
     "metadata": {},
     "output_type": "execute_result"
    }
   ],
   "source": [
    "D= sorted(A,reverse=True) \n",
    "D"
   ]
  },
  {
   "cell_type": "code",
   "execution_count": 32,
   "id": "02685569-b447-4ba3-bef6-1cbd75e954cd",
   "metadata": {},
   "outputs": [
    {
     "data": {
      "text/plain": [
       "[1, 2, 3, 4, 5, 6, 7, 8, 9]"
      ]
     },
     "execution_count": 32,
     "metadata": {},
     "output_type": "execute_result"
    }
   ],
   "source": [
    " \n",
    "sorted(D)"
   ]
  },
  {
   "cell_type": "code",
   "execution_count": null,
   "id": "d7652b1c-b02b-4039-b06e-5b0bfc328277",
   "metadata": {},
   "outputs": [],
   "source": []
  },
  {
   "cell_type": "code",
   "execution_count": null,
   "id": "2ab8c375-3142-4a4b-bbb0-a152f68e5000",
   "metadata": {},
   "outputs": [],
   "source": []
  },
  {
   "cell_type": "code",
   "execution_count": null,
   "id": "4e0c8590-6605-4dcc-9b70-7244d788bb6a",
   "metadata": {},
   "outputs": [],
   "source": []
  },
  {
   "cell_type": "code",
   "execution_count": null,
   "id": "7dd87768-bcbb-41a6-88c9-beec67116a5f",
   "metadata": {},
   "outputs": [],
   "source": []
  },
  {
   "cell_type": "code",
   "execution_count": null,
   "id": "fb59d2e2-615e-4883-ad7e-dce83c2f0009",
   "metadata": {},
   "outputs": [],
   "source": []
  },
  {
   "cell_type": "code",
   "execution_count": null,
   "id": "1ee0f42a-554e-4308-8aab-d2cb6498aaa9",
   "metadata": {},
   "outputs": [],
   "source": []
  },
  {
   "cell_type": "code",
   "execution_count": null,
   "id": "6c87c9a2-34a2-4afd-bd10-155c5a8b68f1",
   "metadata": {},
   "outputs": [],
   "source": []
  },
  {
   "cell_type": "code",
   "execution_count": null,
   "id": "dd2e275d-6dd5-4137-a73a-1b2e5b117a6c",
   "metadata": {},
   "outputs": [],
   "source": []
  },
  {
   "cell_type": "code",
   "execution_count": null,
   "id": "3dc7366e-0e2e-4097-b9fd-755cb4191bf3",
   "metadata": {},
   "outputs": [],
   "source": []
  },
  {
   "cell_type": "code",
   "execution_count": null,
   "id": "67eac134-925f-4c25-9660-16ce1dfec1ef",
   "metadata": {},
   "outputs": [],
   "source": []
  },
  {
   "cell_type": "code",
   "execution_count": null,
   "id": "138cf125-d726-4787-b0e9-73e922be0d83",
   "metadata": {},
   "outputs": [],
   "source": []
  },
  {
   "cell_type": "code",
   "execution_count": null,
   "id": "b9173e34-fc4f-4ed6-9be8-843350fcedbe",
   "metadata": {},
   "outputs": [],
   "source": []
  },
  {
   "cell_type": "code",
   "execution_count": null,
   "id": "322c6044-dca8-43bc-ac97-ee80242075fc",
   "metadata": {},
   "outputs": [],
   "source": []
  },
  {
   "cell_type": "code",
   "execution_count": null,
   "id": "96e5a8ae-7961-4366-8325-14da2d429973",
   "metadata": {},
   "outputs": [],
   "source": []
  },
  {
   "cell_type": "code",
   "execution_count": null,
   "id": "287694da-20d0-423b-8f7c-d01f6f6ee3f2",
   "metadata": {},
   "outputs": [],
   "source": []
  },
  {
   "cell_type": "code",
   "execution_count": null,
   "id": "eb022e97-b0f1-497e-8af1-4be1153ad4bc",
   "metadata": {},
   "outputs": [],
   "source": []
  }
 ],
 "metadata": {
  "kernelspec": {
   "display_name": "Python [conda env:base] *",
   "language": "python",
   "name": "conda-base-py"
  },
  "language_info": {
   "codemirror_mode": {
    "name": "ipython",
    "version": 3
   },
   "file_extension": ".py",
   "mimetype": "text/x-python",
   "name": "python",
   "nbconvert_exporter": "python",
   "pygments_lexer": "ipython3",
   "version": "3.12.7"
  }
 },
 "nbformat": 4,
 "nbformat_minor": 5
}
