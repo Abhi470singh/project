{
 "cells": [
  {
   "cell_type": "code",
   "execution_count": null,
   "id": "8cf748cd-761e-4131-9e30-bd2af6cc37e9",
   "metadata": {},
   "outputs": [],
   "source": [
    "# print is use for answer "
   ]
  },
  {
   "cell_type": "code",
   "execution_count": 1,
   "id": "1f64f4ec-5054-4397-b8e3-dcde53adb511",
   "metadata": {},
   "outputs": [
    {
     "data": {
      "text/plain": [
       "20"
      ]
     },
     "execution_count": 1,
     "metadata": {},
     "output_type": "execute_result"
    }
   ],
   "source": [
    "a = 10\n",
    "b = 20\n",
    "a\n",
    "b"
   ]
  },
  {
   "cell_type": "code",
   "execution_count": 2,
   "id": "1aed9718-5daf-4fc6-99b4-f60f729508f9",
   "metadata": {},
   "outputs": [
    {
     "name": "stdout",
     "output_type": "stream",
     "text": [
      "10\n",
      "20\n"
     ]
    }
   ],
   "source": [
    "a = 10\n",
    "b = 20 \n",
    "print(a)\n",
    "print(b)"
   ]
  },
  {
   "cell_type": "code",
   "execution_count": 3,
   "id": "f9f1346d-f607-45ae-b181-90064d2fb7e7",
   "metadata": {},
   "outputs": [
    {
     "name": "stdout",
     "output_type": "stream",
     "text": [
      "10\n",
      "10 20\n",
      "python\n",
      "10 20 python\n"
     ]
    }
   ],
   "source": [
    "print(10)\n",
    "print(10,20)\n",
    "print('python')\n",
    "print(10,20,'python')"
   ]
  },
  {
   "cell_type": "code",
   "execution_count": 4,
   "id": "fd6eefc7-ba90-41a4-89aa-acc30992787e",
   "metadata": {},
   "outputs": [
    {
     "name": "stdout",
     "output_type": "stream",
     "text": [
      "50\n"
     ]
    }
   ],
   "source": [
    "num1=20\n",
    "num2=30\n",
    "add=num1+num2\n",
    "print(add)"
   ]
  },
  {
   "cell_type": "markdown",
   "id": "4a0c29e0-437c-4874-bfbf-b1bb544f4414",
   "metadata": {},
   "source": [
    "# print result with string "
   ]
  },
  {
   "cell_type": "code",
   "execution_count": 5,
   "id": "3b977116-27c8-4151-8e1e-3d7628a1df52",
   "metadata": {},
   "outputs": [
    {
     "name": "stdout",
     "output_type": "stream",
     "text": [
      "50\n"
     ]
    }
   ],
   "source": [
    "num1 = 20\n",
    "num = 30\n",
    "add = num1+num2\n",
    "print(add)"
   ]
  },
  {
   "cell_type": "code",
   "execution_count": 6,
   "id": "dc8f3be7-a419-4019-88ca-9b78bf4a13be",
   "metadata": {},
   "outputs": [
    {
     "name": "stdout",
     "output_type": "stream",
     "text": [
      "The addition of 20 and 30 is= 50\n"
     ]
    }
   ],
   "source": [
    "num1=20\n",
    "num2=30\n",
    "add=num1+num2\n",
    "print('The addition of',num1,'and',num2,'is=',add)"
   ]
  },
  {
   "cell_type": "code",
   "execution_count": 7,
   "id": "d03bae34-038c-4ef6-9d13-2fbf9992becb",
   "metadata": {},
   "outputs": [
    {
     "name": "stdout",
     "output_type": "stream",
     "text": [
      "My name is sweety and i am 20 years old from Banglore\n"
     ]
    }
   ],
   "source": [
    "name='sweety'\n",
    "age=20\n",
    "city='Banglore'\n",
    "print('My name is',name,'and i am',age,'years old from',city)"
   ]
  },
  {
   "cell_type": "markdown",
   "id": "45c0451f-1918-4087-9dee-b94968975286",
   "metadata": {},
   "source": [
    "# print Format method"
   ]
  },
  {
   "cell_type": "code",
   "execution_count": 8,
   "id": "af37ee56-7c31-4c25-bb44-81e93831dd1a",
   "metadata": {},
   "outputs": [
    {
     "name": "stdout",
     "output_type": "stream",
     "text": [
      "The addition of20 and 30 is=50\n"
     ]
    }
   ],
   "source": [
    "num1=20\n",
    "num2=30\n",
    "add=num1+num2\n",
    "print('The addition of{} and {} is={}'.format(num1,num2,add))"
   ]
  },
  {
   "cell_type": "code",
   "execution_count": 10,
   "id": "46987ed7-6409-4a47-9634-865232c8857f",
   "metadata": {},
   "outputs": [],
   "source": [
    "name='honey'\n",
    "age=20\n",
    "city='bglr'\n",
    "# hello my name is honey and i am 20 year old from bglr"
   ]
  },
  {
   "cell_type": "code",
   "execution_count": 11,
   "id": "eec08178-cce4-4fc3-ae1e-1b0d27232f9c",
   "metadata": {},
   "outputs": [
    {
     "name": "stdout",
     "output_type": "stream",
     "text": [
      "hello my name is honey,and i am 20 years old from bglr\n"
     ]
    }
   ],
   "source": [
    "print('hello my name is {},and i am {} years old from {}'.format(name,age,city))"
   ]
  },
  {
   "cell_type": "code",
   "execution_count": 12,
   "id": "fa6bcc32-6a0e-4675-8505-fef797a891cc",
   "metadata": {},
   "outputs": [
    {
     "name": "stdout",
     "output_type": "stream",
     "text": [
      "The average of 100, 200 and 400 is = 233.33333333333334 or 233.33\n"
     ]
    }
   ],
   "source": [
    "num1=100\n",
    "num2=200\n",
    "num3=400\n",
    "avg=(num1+num2+num3)/3 # or we can use avg=round(num1+num2+num3)/3,2))\n",
    "avg1=round((num1+num2+num3)/3,2)\n",
    "print('The average of {}, {} and {} is = {} or {}'.format(num1,num2,num3,avg,avg1)) # here we  can use round(avg,2) also"
   ]
  },
  {
   "cell_type": "code",
   "execution_count": 13,
   "id": "480dea25-cc4c-4e58-ae0c-3f976fe4f8db",
   "metadata": {},
   "outputs": [
    {
     "data": {
      "text/plain": [
       "233.33"
      ]
     },
     "execution_count": 13,
     "metadata": {},
     "output_type": "execute_result"
    }
   ],
   "source": [
    "round(avg,2)\n"
   ]
  },
  {
   "cell_type": "markdown",
   "id": "94b17e66-38c7-48c4-a888-3ec549361290",
   "metadata": {},
   "source": [
    "# More short forment method(string method)\n",
    " 1.> Variable should be in curly braces \n",
    " 2.> and write everythings inside quots\"\n",
    " 3.> at starting simply add "
   ]
  },
  {
   "cell_type": "code",
   "execution_count": 14,
   "id": "3556c69a-1133-4f8f-8143-8b086cecc06a",
   "metadata": {},
   "outputs": [
    {
     "name": "stdout",
     "output_type": "stream",
     "text": [
      "The addition of 20 and 40 is =60\n"
     ]
    }
   ],
   "source": [
    "num1=20\n",
    "num2=40\n",
    "add=num1+num2\n",
    "print(f'The addition of {num1} and {num2} is ={add}') # always prefer this"
   ]
  },
  {
   "cell_type": "code",
   "execution_count": 15,
   "id": "b1a8b79c-99f2-4958-9c01-fae1e2bfdd22",
   "metadata": {},
   "outputs": [
    {
     "name": "stdout",
     "output_type": "stream",
     "text": [
      "My name is sweety and i am 21 years old from hyd\n"
     ]
    }
   ],
   "source": [
    "name='sweety'\n",
    "age=21\n",
    "city='hyd'\n",
    "# \n",
    "print(f'My name is {name} and i am {age} years old from {city}')"
   ]
  },
  {
   "cell_type": "code",
   "execution_count": 16,
   "id": "ccdb8626-de15-40da-8011-300825ca69b5",
   "metadata": {},
   "outputs": [],
   "source": [
    "num1=20\n",
    "num2=40\n",
    "num3=50\n",
    "avg=round((num1+num2+num3)/3,2) # or we can use avg=round(num1+num2+num3)/3,2)\n",
    "# The average of num1 ,num2,num3 is =avg\n"
   ]
  },
  {
   "cell_type": "code",
   "execution_count": 18,
   "id": "06572cc4-853f-41c5-ba79-5fae2e75355b",
   "metadata": {},
   "outputs": [
    {
     "name": "stdout",
     "output_type": "stream",
     "text": [
      "The average of 20, 40 and 50 is = 36.67\n"
     ]
    }
   ],
   "source": [
    "print(f'The average of {num1}, {num2} and {num3} is = {avg}')\n"
   ]
  },
  {
   "cell_type": "markdown",
   "id": "77da4582-b752-4bdf-b1fe-0eab2f222b23",
   "metadata": {},
   "source": [
    "# Lete combine all\n",
    "num1=10\n",
    "num2=20\n",
    "add=num1+num2\n",
    "print('The additon of',num1, 'and',num2, 'is=',add)\n",
    "\n",
    "print('The addition of {} and {} is = {}'.format(num1,num2,add))\n",
    "\n",
    "print(f'The addition of {num1} and {num2} is = {add}')"
   ]
  },
  {
   "cell_type": "markdown",
   "id": "129bf7a0-ec2f-4090-aeb8-bf0045e1a445",
   "metadata": {},
   "source": [
    "# end statement"
   ]
  },
  {
   "cell_type": "code",
   "execution_count": 20,
   "id": "f3e9a95e-7c51-4f4d-a01c-1afb62e89383",
   "metadata": {},
   "outputs": [
    {
     "name": "stdout",
     "output_type": "stream",
     "text": [
      "hello\n",
      "good morning\n"
     ]
    }
   ],
   "source": [
    "print('hello') # 1st statement\n",
    "print('good morning') # 2nd statement\n",
    "# i want  to print like:- hello good morning"
   ]
  },
  {
   "cell_type": "code",
   "execution_count": null,
   "id": "17191987-8830-4af1-be20-5f5f9babf97f",
   "metadata": {},
   "outputs": [],
   "source": [
    "#nhere we will use 'end' statement that joint line from end of string to starting of other string"
   ]
  },
  {
   "cell_type": "markdown",
   "id": "ce4ae128-de76-456a-a59d-24a5e9d132c5",
   "metadata": {},
   "source": [
    "print('hello',end=' ') # 1st statement\n",
    "print('world good day') # 2nd statement"
   ]
  },
  {
   "cell_type": "markdown",
   "id": "3806717b-3663-44b0-9d2c-21a24827ba94",
   "metadata": {},
   "source": [
    "# separator"
   ]
  },
  {
   "cell_type": "code",
   "execution_count": null,
   "id": "130c09fc-8ee6-450a-a6f0-5bfeefe3d263",
   "metadata": {},
   "outputs": [],
   "source": [
    "1.> here one print statement only we use \n",
    "2.> inside one print statement we have multiple values\n",
    "3.> we want ton seperate these multiple values with anythings"
   ]
  },
  {
   "cell_type": "code",
   "execution_count": 23,
   "id": "409fd6a1-32f7-462d-8eaa-73b9d9b51ef2",
   "metadata": {},
   "outputs": [
    {
     "name": "stdout",
     "output_type": "stream",
     "text": [
      "hai--->hello--->how are you\n"
     ]
    }
   ],
   "source": [
    "print('hai','hello','how are you',sep='--->')"
   ]
  },
  {
   "cell_type": "code",
   "execution_count": 24,
   "id": "31c834ca-b9db-4d03-b2e4-cc8baf6ffb58",
   "metadata": {},
   "outputs": [
    {
     "name": "stdout",
     "output_type": "stream",
     "text": [
      "hai&hello&how are you\n"
     ]
    }
   ],
   "source": [
    "print('hai','hello','how are you',sep='&')\n"
   ]
  },
  {
   "cell_type": "code",
   "execution_count": 25,
   "id": "bccf0757-85b4-471b-9235-e0d88db326cd",
   "metadata": {},
   "outputs": [
    {
     "name": "stdout",
     "output_type": "stream",
     "text": [
      "hai@hello@how are you\n"
     ]
    }
   ],
   "source": [
    "print('hai','hello','how are you',sep='@')\n"
   ]
  },
  {
   "cell_type": "code",
   "execution_count": 26,
   "id": "070626b8-5264-47bb-a777-88821f9979ac",
   "metadata": {},
   "outputs": [
    {
     "name": "stdout",
     "output_type": "stream",
     "text": [
      "hai hello how are you\n"
     ]
    }
   ],
   "source": [
    "\n",
    "print('hai','hello','how are you',sep=' ')"
   ]
  },
  {
   "cell_type": "code",
   "execution_count": 27,
   "id": "c446ce11-e32e-43a1-a2b9-2d012cec4e3d",
   "metadata": {},
   "outputs": [
    {
     "name": "stdout",
     "output_type": "stream",
     "text": [
      "3 .\n"
     ]
    }
   ],
   "source": [
    "print(3,'.') # . is far from 3 so here we will use will use sep method "
   ]
  },
  {
   "cell_type": "code",
   "execution_count": 28,
   "id": "ac046c20-74d3-4e57-8bbc-53ab70fbf345",
   "metadata": {},
   "outputs": [
    {
     "name": "stdout",
     "output_type": "stream",
     "text": [
      "3.\n"
     ]
    }
   ],
   "source": [
    "print(3,'.',sep='') #see now space settled (also use to remove space B/W word)"
   ]
  },
  {
   "cell_type": "code",
   "execution_count": 29,
   "id": "1b460f23-0f60-4f97-884f-d83b48e78780",
   "metadata": {},
   "outputs": [
    {
     "name": "stdout",
     "output_type": "stream",
     "text": [
      "1 2 3.\n"
     ]
    }
   ],
   "source": [
    "print(1,2,end=' ')\n",
    "print(3,'.',sep='')\n",
    "#will print 123"
   ]
  },
  {
   "cell_type": "code",
   "execution_count": null,
   "id": "27d313ac-ad46-4386-80ec-74ccf70a23d9",
   "metadata": {},
   "outputs": [],
   "source": []
  },
  {
   "cell_type": "code",
   "execution_count": null,
   "id": "d919c756-fe46-47fd-b4d2-63dd42ec57a4",
   "metadata": {},
   "outputs": [],
   "source": []
  },
  {
   "cell_type": "code",
   "execution_count": null,
   "id": "5b822d7e-28e6-4f56-855f-93e45cbc7eb7",
   "metadata": {},
   "outputs": [],
   "source": []
  },
  {
   "cell_type": "code",
   "execution_count": null,
   "id": "8c78fb29-b6d3-4fd6-8658-a85ac2704959",
   "metadata": {},
   "outputs": [],
   "source": []
  },
  {
   "cell_type": "code",
   "execution_count": null,
   "id": "cbf74162-0747-4a35-a656-c57b765d6999",
   "metadata": {},
   "outputs": [],
   "source": []
  },
  {
   "cell_type": "code",
   "execution_count": null,
   "id": "fe6834c9-f613-4530-bfda-6eb821d73f37",
   "metadata": {},
   "outputs": [],
   "source": []
  },
  {
   "cell_type": "code",
   "execution_count": null,
   "id": "dd512c26-4332-45b0-afdc-03248136dcec",
   "metadata": {},
   "outputs": [],
   "source": []
  },
  {
   "cell_type": "code",
   "execution_count": null,
   "id": "8949b9ff-fecc-4a2f-9689-47e3e3b6bf45",
   "metadata": {},
   "outputs": [],
   "source": []
  },
  {
   "cell_type": "code",
   "execution_count": null,
   "id": "8ed625b4-d9f5-482c-9d06-1d81010cc1c1",
   "metadata": {},
   "outputs": [],
   "source": []
  }
 ],
 "metadata": {
  "kernelspec": {
   "display_name": "Python [conda env:base] *",
   "language": "python",
   "name": "conda-base-py"
  },
  "language_info": {
   "codemirror_mode": {
    "name": "ipython",
    "version": 3
   },
   "file_extension": ".py",
   "mimetype": "text/x-python",
   "name": "python",
   "nbconvert_exporter": "python",
   "pygments_lexer": "ipython3",
   "version": "3.12.7"
  }
 },
 "nbformat": 4,
 "nbformat_minor": 5
}
