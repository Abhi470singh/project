{
 "cells": [
  {
   "cell_type": "markdown",
   "id": "f72ca49b-8940-4890-aafc-98add107dbda",
   "metadata": {},
   "source": [
    "# Operator"
   ]
  },
  {
   "cell_type": "markdown",
   "id": "bc1a1c88-2ac9-49fd-90c8-6e73cd88a2eb",
   "metadata": {},
   "source": [
    "### Airthmetic Operator"
   ]
  },
  {
   "cell_type": "code",
   "execution_count": 1,
   "id": "df514fb8-a579-48ca-8d67-b6d208893aa9",
   "metadata": {},
   "outputs": [],
   "source": [
    "a = 10 \n",
    "b = 30"
   ]
  },
  {
   "cell_type": "code",
   "execution_count": 2,
   "id": "a9a8eec0-e189-4ed5-8331-cf312ea4f005",
   "metadata": {},
   "outputs": [
    {
     "data": {
      "text/plain": [
       "40"
      ]
     },
     "execution_count": 2,
     "metadata": {},
     "output_type": "execute_result"
    }
   ],
   "source": [
    "a +b"
   ]
  },
  {
   "cell_type": "code",
   "execution_count": 3,
   "id": "14db8daa-0554-434f-9329-a1ea9119a4fe",
   "metadata": {},
   "outputs": [
    {
     "data": {
      "text/plain": [
       "-20"
      ]
     },
     "execution_count": 3,
     "metadata": {},
     "output_type": "execute_result"
    }
   ],
   "source": [
    "a-b"
   ]
  },
  {
   "cell_type": "code",
   "execution_count": 4,
   "id": "0bd6cecd-0be5-4e67-8bcc-5b4e90ac6d90",
   "metadata": {},
   "outputs": [
    {
     "data": {
      "text/plain": [
       "300"
      ]
     },
     "execution_count": 4,
     "metadata": {},
     "output_type": "execute_result"
    }
   ],
   "source": [
    "a*b"
   ]
  },
  {
   "cell_type": "code",
   "execution_count": 5,
   "id": "82038d53-c613-4341-a089-abad804041bb",
   "metadata": {},
   "outputs": [
    {
     "data": {
      "text/plain": [
       "0.3333333333333333"
      ]
     },
     "execution_count": 5,
     "metadata": {},
     "output_type": "execute_result"
    }
   ],
   "source": [
    "a/b"
   ]
  },
  {
   "cell_type": "code",
   "execution_count": 6,
   "id": "8390e7d8-6aae-4c74-bd31-45701285eb16",
   "metadata": {},
   "outputs": [
    {
     "data": {
      "text/plain": [
       "0"
      ]
     },
     "execution_count": 6,
     "metadata": {},
     "output_type": "execute_result"
    }
   ],
   "source": [
    "a//b"
   ]
  },
  {
   "cell_type": "markdown",
   "id": "fec1b7b8-c273-4418-8b03-3fa03fb7501b",
   "metadata": {},
   "source": [
    "###  Assignment operators"
   ]
  },
  {
   "cell_type": "code",
   "execution_count": 7,
   "id": "c4bc0a7c-ca9d-4472-9c15-e5863ac2891a",
   "metadata": {},
   "outputs": [],
   "source": [
    "a = 5\n",
    "b = 6"
   ]
  },
  {
   "cell_type": "code",
   "execution_count": 8,
   "id": "2a0213ee-3b3d-47c7-8577-305a624b77c4",
   "metadata": {},
   "outputs": [],
   "source": [
    "a += 6"
   ]
  },
  {
   "cell_type": "code",
   "execution_count": 9,
   "id": "7a096fc6-4aa8-4154-a84b-eae3bd987257",
   "metadata": {},
   "outputs": [
    {
     "data": {
      "text/plain": [
       "11"
      ]
     },
     "execution_count": 9,
     "metadata": {},
     "output_type": "execute_result"
    }
   ],
   "source": [
    "a"
   ]
  },
  {
   "cell_type": "code",
   "execution_count": 10,
   "id": "2e21cad0-33da-417c-b00a-230967d7db65",
   "metadata": {},
   "outputs": [
    {
     "data": {
      "text/plain": [
       "9"
      ]
     },
     "execution_count": 10,
     "metadata": {},
     "output_type": "execute_result"
    }
   ],
   "source": [
    "b + 3"
   ]
  },
  {
   "cell_type": "code",
   "execution_count": 11,
   "id": "f8e93815-2f8b-4429-beff-7a1c7aa998c3",
   "metadata": {},
   "outputs": [],
   "source": [
    "a-=3"
   ]
  },
  {
   "cell_type": "code",
   "execution_count": 12,
   "id": "09179ba2-de4c-43e4-991a-8331d6a542db",
   "metadata": {},
   "outputs": [
    {
     "data": {
      "text/plain": [
       "8"
      ]
     },
     "execution_count": 12,
     "metadata": {},
     "output_type": "execute_result"
    }
   ],
   "source": [
    "a"
   ]
  },
  {
   "cell_type": "code",
   "execution_count": 13,
   "id": "ac724700-4531-4902-a07f-ab60dfce4e95",
   "metadata": {},
   "outputs": [],
   "source": [
    "a *=3"
   ]
  },
  {
   "cell_type": "code",
   "execution_count": 14,
   "id": "664f1e58-50c3-4eed-b546-c73c25433132",
   "metadata": {},
   "outputs": [
    {
     "data": {
      "text/plain": [
       "24"
      ]
     },
     "execution_count": 14,
     "metadata": {},
     "output_type": "execute_result"
    }
   ],
   "source": [
    "a"
   ]
  },
  {
   "cell_type": "code",
   "execution_count": 15,
   "id": "5f3dece5-357f-41af-b33a-4cb9fbaf80ae",
   "metadata": {},
   "outputs": [],
   "source": [
    "a /=2"
   ]
  },
  {
   "cell_type": "code",
   "execution_count": 16,
   "id": "6790be28-fa4a-4424-b6c1-6e19f91616af",
   "metadata": {},
   "outputs": [
    {
     "data": {
      "text/plain": [
       "12.0"
      ]
     },
     "execution_count": 16,
     "metadata": {},
     "output_type": "execute_result"
    }
   ],
   "source": [
    "a"
   ]
  },
  {
   "cell_type": "code",
   "execution_count": 17,
   "id": "9abfdf22-3030-45b5-b23a-3f71266e3a4b",
   "metadata": {},
   "outputs": [],
   "source": [
    "a //=3"
   ]
  },
  {
   "cell_type": "code",
   "execution_count": 18,
   "id": "b89f796d-0fde-4914-8794-ad058e7378f3",
   "metadata": {},
   "outputs": [
    {
     "data": {
      "text/plain": [
       "4.0"
      ]
     },
     "execution_count": 18,
     "metadata": {},
     "output_type": "execute_result"
    }
   ],
   "source": [
    "a"
   ]
  },
  {
   "cell_type": "markdown",
   "id": "a63e6d00-dd68-4f0c-a297-b50b0e2d95f2",
   "metadata": {},
   "source": [
    "### unary operator (-) negetation"
   ]
  },
  {
   "cell_type": "code",
   "execution_count": 19,
   "id": "23d51b7a-30b6-488a-80da-19bb6b87424e",
   "metadata": {},
   "outputs": [],
   "source": [
    "a = 5"
   ]
  },
  {
   "cell_type": "code",
   "execution_count": 20,
   "id": "5d273b4e-5504-44dc-a5fc-278136527e6e",
   "metadata": {},
   "outputs": [],
   "source": [
    "b = -(a)"
   ]
  },
  {
   "cell_type": "code",
   "execution_count": 21,
   "id": "cd01fc98-ea06-46fa-a019-12cb8d31ff66",
   "metadata": {},
   "outputs": [
    {
     "data": {
      "text/plain": [
       "-5"
      ]
     },
     "execution_count": 21,
     "metadata": {},
     "output_type": "execute_result"
    }
   ],
   "source": [
    "b"
   ]
  },
  {
   "cell_type": "markdown",
   "id": "09340218-1d83-4f7a-a753-82b26f095709",
   "metadata": {},
   "source": [
    "### Logical Operators and,or, not"
   ]
  },
  {
   "cell_type": "code",
   "execution_count": 23,
   "id": "09b085b6-c993-46b7-a4cb-909a0b79b095",
   "metadata": {},
   "outputs": [],
   "source": [
    "a = 4\n",
    "b = 6\n"
   ]
  },
  {
   "cell_type": "code",
   "execution_count": 24,
   "id": "9a49c4e2-7adb-4fc6-807f-d27503667659",
   "metadata": {},
   "outputs": [
    {
     "data": {
      "text/plain": [
       "False"
      ]
     },
     "execution_count": 24,
     "metadata": {},
     "output_type": "execute_result"
    }
   ],
   "source": [
    "a < 3 and b < 7"
   ]
  },
  {
   "cell_type": "code",
   "execution_count": 25,
   "id": "819de8fd-f839-47e4-8bb7-39aaf4692c8d",
   "metadata": {},
   "outputs": [
    {
     "data": {
      "text/plain": [
       "True"
      ]
     },
     "execution_count": 25,
     "metadata": {},
     "output_type": "execute_result"
    }
   ],
   "source": [
    "a < 7 and b < 7"
   ]
  },
  {
   "cell_type": "code",
   "execution_count": 26,
   "id": "fb1bbae9-c3e8-45b4-bcd8-9d7286d6c9df",
   "metadata": {},
   "outputs": [
    {
     "data": {
      "text/plain": [
       "False"
      ]
     },
     "execution_count": 26,
     "metadata": {},
     "output_type": "execute_result"
    }
   ],
   "source": [
    "a>=7"
   ]
  },
  {
   "cell_type": "code",
   "execution_count": 27,
   "id": "e60e9326-125a-43ad-a16e-9cccce778adb",
   "metadata": {},
   "outputs": [
    {
     "data": {
      "text/plain": [
       "True"
      ]
     },
     "execution_count": 27,
     "metadata": {},
     "output_type": "execute_result"
    }
   ],
   "source": [
    "a <=7"
   ]
  },
  {
   "cell_type": "code",
   "execution_count": 28,
   "id": "fd0f22ea-f732-438d-91a2-7b328e5ffef8",
   "metadata": {},
   "outputs": [
    {
     "data": {
      "text/plain": [
       "False"
      ]
     },
     "execution_count": 28,
     "metadata": {},
     "output_type": "execute_result"
    }
   ],
   "source": [
    "a ==b "
   ]
  },
  {
   "cell_type": "code",
   "execution_count": 29,
   "id": "f66825b1-cbdb-4164-8e25-cafa3b3c1651",
   "metadata": {},
   "outputs": [
    {
     "data": {
      "text/plain": [
       "True"
      ]
     },
     "execution_count": 29,
     "metadata": {},
     "output_type": "execute_result"
    }
   ],
   "source": [
    "a< 3 or b < 7"
   ]
  },
  {
   "cell_type": "code",
   "execution_count": 30,
   "id": "44c9261c-791b-4c34-9dde-0204e1fafdf0",
   "metadata": {},
   "outputs": [
    {
     "data": {
      "text/plain": [
       "False"
      ]
     },
     "execution_count": 30,
     "metadata": {},
     "output_type": "execute_result"
    }
   ],
   "source": [
    "not True"
   ]
  },
  {
   "cell_type": "markdown",
   "id": "c008bb31-8d9c-4271-a410-ebc2460129dc",
   "metadata": {},
   "source": [
    "a == b"
   ]
  },
  {
   "cell_type": "markdown",
   "id": "48f256fb-1702-4957-bdd7-d85a370eeb13",
   "metadata": {},
   "source": [
    "### Number System (binary, octal, decimal, hexadecimal)\n"
   ]
  },
  {
   "cell_type": "code",
   "execution_count": 32,
   "id": "2f9e2cbe-533d-4a54-8e7d-791afad8fdc9",
   "metadata": {},
   "outputs": [],
   "source": [
    "n = 15"
   ]
  },
  {
   "cell_type": "code",
   "execution_count": 33,
   "id": "5a3178c2-7005-4989-be15-b9804cfe6beb",
   "metadata": {},
   "outputs": [
    {
     "data": {
      "text/plain": [
       "'0b1111'"
      ]
     },
     "execution_count": 33,
     "metadata": {},
     "output_type": "execute_result"
    }
   ],
   "source": [
    "bin(15) # binary "
   ]
  },
  {
   "cell_type": "code",
   "execution_count": 34,
   "id": "08dcfe31-d4ed-422d-9af6-563273b0ace8",
   "metadata": {},
   "outputs": [
    {
     "data": {
      "text/plain": [
       "'0o17'"
      ]
     },
     "execution_count": 34,
     "metadata": {},
     "output_type": "execute_result"
    }
   ],
   "source": [
    "oct(15) #Octal "
   ]
  },
  {
   "cell_type": "markdown",
   "id": "39e72de2-7fc6-4f9a-9ade-ee896b6dd5ae",
   "metadata": {},
   "source": [
    "hex(15) # hexa"
   ]
  },
  {
   "cell_type": "markdown",
   "id": "dc2d2257-c03c-4599-8af4-470e2a026e31",
   "metadata": {},
   "source": [
    " ### relation operator"
   ]
  },
  {
   "cell_type": "code",
   "execution_count": 36,
   "id": "7148df55-2c4b-4d2c-9dc1-410c25ddca93",
   "metadata": {},
   "outputs": [
    {
     "name": "stdout",
     "output_type": "stream",
     "text": [
      "a is not equals to b\n"
     ]
    }
   ],
   "source": [
    "a = 5\n",
    "b = 8\n",
    "if (a ==b):\n",
    "    print('a is euals to b')\n",
    "else:\n",
    "    print('a is not equals to b')"
   ]
  },
  {
   "cell_type": "markdown",
   "id": "1f2ca9b0-bed7-493b-bcb2-5ba3975e4cb8",
   "metadata": {},
   "source": [
    "### swap numbers"
   ]
  },
  {
   "cell_type": "code",
   "execution_count": 37,
   "id": "9a874af3-6711-4f5f-b65b-a3e070973ad4",
   "metadata": {},
   "outputs": [],
   "source": [
    "a = 4\n",
    "b = 7"
   ]
  },
  {
   "cell_type": "code",
   "execution_count": 38,
   "id": "75a8bdc4-8af9-4893-91ed-41dc67acfa12",
   "metadata": {},
   "outputs": [
    {
     "name": "stdout",
     "output_type": "stream",
     "text": [
      "7\n",
      "4\n"
     ]
    }
   ],
   "source": [
    "temp =a \n",
    "a = b \n",
    "print(a)\n",
    "a = temp\n",
    "print(a)"
   ]
  },
  {
   "cell_type": "code",
   "execution_count": 39,
   "id": "43f5f676-23b9-400a-a95b-dc7ec8f84b85",
   "metadata": {},
   "outputs": [],
   "source": [
    "a = 10\n",
    "b = 7"
   ]
  },
  {
   "cell_type": "code",
   "execution_count": 40,
   "id": "4f99d014-2340-417f-b8fa-51f8511bc349",
   "metadata": {},
   "outputs": [],
   "source": [
    "a, b = b, a"
   ]
  },
  {
   "cell_type": "code",
   "execution_count": 41,
   "id": "b1eaa4b5-8a53-4c0c-ae2c-ce48803b6c2d",
   "metadata": {},
   "outputs": [
    {
     "name": "stdout",
     "output_type": "stream",
     "text": [
      "7\n",
      "10\n"
     ]
    }
   ],
   "source": [
    "print(a)\n",
    "print(b)"
   ]
  },
  {
   "cell_type": "code",
   "execution_count": 42,
   "id": "a3eebf47-ee96-4a0e-912f-2b33f2c98091",
   "metadata": {},
   "outputs": [],
   "source": [
    "a3 = 12"
   ]
  },
  {
   "cell_type": "code",
   "execution_count": 43,
   "id": "a2c933c4-c71a-434a-9054-d0638d9d4009",
   "metadata": {},
   "outputs": [],
   "source": [
    "b3 = 10"
   ]
  },
  {
   "cell_type": "markdown",
   "id": "5cf48bc1-f413-46f3-9431-db69daece58d",
   "metadata": {},
   "source": [
    "## Python input()\n",
    "1. What is the input() function in Python used for?\n",
    "input() function in python is used to get the input entry from user\n",
    "\n",
    "2. How can you accept an integer as input from the user using input()?"
   ]
  },
  {
   "cell_type": "code",
   "execution_count": 52,
   "id": "a8de6d27-f82e-41fc-b309-48d8e6f1c9fd",
   "metadata": {},
   "outputs": [
    {
     "name": "stdin",
     "output_type": "stream",
     "text": [
      "Enter user input : 6\n"
     ]
    }
   ],
   "source": [
    "user_input_int = int(input(\"Enter user input :\"))"
   ]
  },
  {
   "cell_type": "code",
   "execution_count": 53,
   "id": "5bcea4ee-99ee-401f-a359-2417cb657eaf",
   "metadata": {},
   "outputs": [
    {
     "name": "stdout",
     "output_type": "stream",
     "text": [
      "6\n"
     ]
    }
   ],
   "source": [
    "print(user_input_int)"
   ]
  },
  {
   "cell_type": "code",
   "execution_count": 54,
   "id": "aa1c3f30-e9b3-4505-aee8-01568cd875a9",
   "metadata": {},
   "outputs": [
    {
     "name": "stdin",
     "output_type": "stream",
     "text": [
      "Enter user input in float format: 4.5\n"
     ]
    }
   ],
   "source": [
    "##3. How do you accept a float input from the user?\n",
    "user_input_float = float(input(\"Enter user input in float format:\"))  "
   ]
  },
  {
   "cell_type": "code",
   "execution_count": 55,
   "id": "39bd7a56-bb87-403a-8959-a6f9c17e252a",
   "metadata": {},
   "outputs": [
    {
     "data": {
      "text/plain": [
       "4.5"
      ]
     },
     "execution_count": 55,
     "metadata": {},
     "output_type": "execute_result"
    }
   ],
   "source": [
    "user_input_float"
   ]
  },
  {
   "cell_type": "code",
   "execution_count": 57,
   "id": "91534a9e-15fc-42c5-887f-51f2d1f85bbc",
   "metadata": {},
   "outputs": [
    {
     "name": "stdin",
     "output_type": "stream",
     "text": [
      "Pass as multi-line text ' This is explain of multiline text \\\\n \n"
     ]
    },
    {
     "data": {
      "text/plain": [
       "\u001b[1;31mSignature:\u001b[0m \u001b[0minput\u001b[0m\u001b[1;33m(\u001b[0m\u001b[0mprompt\u001b[0m\u001b[1;33m=\u001b[0m\u001b[1;34m''\u001b[0m\u001b[1;33m)\u001b[0m\u001b[1;33m\u001b[0m\u001b[1;33m\u001b[0m\u001b[0m\n",
       "\u001b[1;31mDocstring:\u001b[0m\n",
       "Forward raw_input to frontends\n",
       "\n",
       "Raises\n",
       "------\n",
       "StdinNotImplementedError if active frontend doesn't support stdin.\n",
       "\u001b[1;31mFile:\u001b[0m      c:\\users\\aka90\\anaconda3\\lib\\site-packages\\ipykernel\\kernelbase.py\n",
       "\u001b[1;31mType:\u001b[0m      method"
      ]
     },
     "metadata": {},
     "output_type": "display_data"
    }
   ],
   "source": [
    "4. How can you take multiple space-separated values as input?\n",
    "multi_space_seperated =  input(\"Pass as multi-line text\")"
   ]
  },
  {
   "cell_type": "code",
   "execution_count": 58,
   "id": "3219591e-bc36-4ca9-981e-b1dd02b702e2",
   "metadata": {},
   "outputs": [
    {
     "data": {
      "text/plain": [
       "\"' This is explain of multiline text \\\\\\\\n \""
      ]
     },
     "execution_count": 58,
     "metadata": {},
     "output_type": "execute_result"
    }
   ],
   "source": [
    "multi_space_seperated"
   ]
  },
  {
   "cell_type": "code",
   "execution_count": 59,
   "id": "0d583273-a5f5-4016-88e0-ccb04fed223c",
   "metadata": {},
   "outputs": [
    {
     "name": "stdout",
     "output_type": "stream",
     "text": [
      "Welcome to Python 3.12's help utility! If this is your first time using\n",
      "Python, you should definitely check out the tutorial at\n",
      "https://docs.python.org/3.12/tutorial/.\n",
      "\n",
      "Enter the name of any module, keyword, or topic to get help on writing\n",
      "Python programs and using Python modules.  To get a list of available\n",
      "modules, keywords, symbols, or topics, enter \"modules\", \"keywords\",\n",
      "\"symbols\", or \"topics\".\n",
      "\n",
      "Each module also comes with a one-line summary of what it does; to list\n",
      "the modules whose name or summary contain a given string such as \"spam\",\n",
      "enter \"modules spam\".\n",
      "\n",
      "To quit this help utility and return to the interpreter,\n",
      "enter \"q\" or \"quit\".\n",
      "\n",
      "\n",
      "You are now leaving help and returning to the Python interpreter.\n",
      "If you want to ask for help on a particular object directly from the\n",
      "interpreter, you can type \"help(object)\".  Executing \"help('string')\"\n",
      "has the same effect as typing a particular string at the help> prompt.\n"
     ]
    }
   ],
   "source": [
    "help()"
   ]
  },
  {
   "cell_type": "code",
   "execution_count": null,
   "id": "6d3b8d2a-8c84-4000-8064-9b0c31837c28",
   "metadata": {},
   "outputs": [],
   "source": [
    "5. How do you check if a number entered by the user is positive, negative, or zero?"
   ]
  },
  {
   "cell_type": "code",
   "execution_count": 2,
   "id": "baa29727-5cca-4a30-8190-ced39c87ebb5",
   "metadata": {},
   "outputs": [
    {
     "name": "stdin",
     "output_type": "stream",
     "text": [
      "Enter the user input to validate if positive or negative or Zero : 45\n"
     ]
    }
   ],
   "source": [
    "user_input_number = int(input(\"Enter the user input to validate if positive or negative or Zero :\"))\n",
    "print((\"Entered number is positive number : \" + str(user_input_number)) * int((user_input_number > 0)))\n",
    "print((\"Entered number is negative number : \" + str(user_input_number)) * int((user_input_number < 0)))\n",
    "print((\"Entered number is equals to Zero\") * int((user_input_number == 0)))"
   ]
  },
  {
   "cell_type": "code",
   "execution_count": 3,
   "id": "b8a653d5-6ba8-47c5-a6b6-8fd0785efae7",
   "metadata": {},
   "outputs": [
    {
     "name": "stdout",
     "output_type": "stream",
     "text": [
      "Entered number is positive number : 45\n",
      "\n",
      "\n"
     ]
    }
   ],
   "source": [
    "print((\"Entered number is positive number : \" + str(user_input_number)) * int((user_input_number > 0)))\n",
    "print((\"Entered number is negative number : \" + str(user_input_number)) * int((user_input_number < 0)))\n",
    "print((\"Entered number is equals to Zero\") * int((user_input_number == 0)))"
   ]
  },
  {
   "cell_type": "code",
   "execution_count": 4,
   "id": "f234d45a-cc7c-4ea7-a0bc-1f807d8a0029",
   "metadata": {},
   "outputs": [
    {
     "name": "stdin",
     "output_type": "stream",
     "text": [
      "Enter the user input to validate if positive or negative or Zero : 0\n"
     ]
    },
    {
     "name": "stdout",
     "output_type": "stream",
     "text": [
      "\n",
      "\n",
      "Entered number is equals to Zero\n"
     ]
    }
   ],
   "source": [
    "user_input_number = int(input(\"Enter the user input to validate if positive or negative or Zero :\"))\n",
    "print((\"Entered number is positive number : \" + str(user_input_number)) * int((user_input_number > 0)))\n",
    "print((\"Entered number is negative number : \" + str(user_input_number)) * int((user_input_number < 0)))\n",
    "print((\"Entered number is equals to Zero\") * int((user_input_number == 0)))"
   ]
  },
  {
   "cell_type": "code",
   "execution_count": 5,
   "id": "3955eb35-5e98-43ab-9959-da3480aec5a0",
   "metadata": {},
   "outputs": [
    {
     "name": "stdin",
     "output_type": "stream",
     "text": [
      "Enter the user input to validate if positive or negative or Zero : -5\n"
     ]
    },
    {
     "name": "stdout",
     "output_type": "stream",
     "text": [
      "\n",
      "Entered number is negative number : -5\n",
      "\n"
     ]
    }
   ],
   "source": [
    "user_input_number = int(input(\"Enter the user input to validate if positive or negative or Zero :\"))\n",
    "print((\"Entered number is positive number : \" + str(user_input_number)) * int((user_input_number > 0)))\n",
    "print((\"Entered number is negative number : \" + str(user_input_number)) * int((user_input_number < 0)))\n",
    "print((\"Entered number is equals to Zero\") * int((user_input_number == 0)))"
   ]
  },
  {
   "cell_type": "code",
   "execution_count": null,
   "id": "0cb48cbc-6bb5-4777-85c1-22c0f258d151",
   "metadata": {},
   "outputs": [],
   "source": [
    "Q.6   How do you convert user input to a list of integers?"
   ]
  },
  {
   "cell_type": "code",
   "execution_count": 7,
   "id": "42147a8c-72fd-4be9-be0e-fc878a7e6f0e",
   "metadata": {},
   "outputs": [
    {
     "name": "stdin",
     "output_type": "stream",
     "text": [
      "Enter numbers with comma seperated 1,2,4,8,7,9\n"
     ]
    },
    {
     "name": "stdout",
     "output_type": "stream",
     "text": [
      "['1', '2', '4', '8', '7', '9']\n"
     ]
    }
   ],
   "source": [
    "user_input_integers = input(\"Enter numbers with comma seperated\")\n",
    "list1 = list()\n",
    "for i in user_input_integers.split(','):\n",
    "    list1.append(i)\n",
    "\n",
    "print(list1)"
   ]
  },
  {
   "cell_type": "code",
   "execution_count": 8,
   "id": "c0a8989c-3b84-4835-99d1-f5ffd16ac259",
   "metadata": {},
   "outputs": [
    {
     "data": {
      "text/plain": [
       "['1', '2', '4', '8', '7', '9']"
      ]
     },
     "execution_count": 8,
     "metadata": {},
     "output_type": "execute_result"
    }
   ],
   "source": [
    "list1"
   ]
  },
  {
   "cell_type": "code",
   "execution_count": 9,
   "id": "5b845856-5f59-4e56-995c-89c3d88da009",
   "metadata": {},
   "outputs": [
    {
     "data": {
      "text/plain": [
       "list"
      ]
     },
     "execution_count": 9,
     "metadata": {},
     "output_type": "execute_result"
    }
   ],
   "source": [
    "type(list1)"
   ]
  },
  {
   "cell_type": "code",
   "execution_count": null,
   "id": "9d2208f2-33c3-4134-af28-2141f255384a",
   "metadata": {},
   "outputs": [],
   "source": [
    "Q.7  How do you accept a string input and print it in uppercase?"
   ]
  },
  {
   "cell_type": "code",
   "execution_count": 10,
   "id": "57de30d7-bc36-410b-b0fa-2f73dc68af9c",
   "metadata": {},
   "outputs": [
    {
     "name": "stdin",
     "output_type": "stream",
     "text": [
      "Enter string input I AM  A HARD WORKING HUMAN BEING\n"
     ]
    },
    {
     "name": "stdout",
     "output_type": "stream",
     "text": [
      "I AM  A HARD WORKING HUMAN BEING\n"
     ]
    }
   ],
   "source": [
    "input_string = input(\"Enter string input\")\n",
    "print(input_string.upper())"
   ]
  },
  {
   "cell_type": "code",
   "execution_count": null,
   "id": "53bc1eb2-d9e2-4883-882d-0960bd60a15f",
   "metadata": {},
   "outputs": [],
   "source": [
    "Q. 8 Write a Python program that accepts a string and prints the number of vowels in it.\n"
   ]
  },
  {
   "cell_type": "code",
   "execution_count": 12,
   "id": "adc35457-694a-4fa9-a4d0-4ad31938eb5e",
   "metadata": {},
   "outputs": [
    {
     "name": "stdin",
     "output_type": "stream",
     "text": [
      "Enter a text :  b\n"
     ]
    }
   ],
   "source": [
    "listofvowels = ['a', 'e', 'i', 'o', 'u']\n",
    "user_input_string = input('Enter a text : ')\n",
    "#user_input_string = \"the usa\""
   ]
  },
  {
   "cell_type": "code",
   "execution_count": 15,
   "id": "54cd0875-3b7b-4a8e-b6f7-86da301a2f9a",
   "metadata": {},
   "outputs": [],
   "source": [
    "# METHOD 1:\n",
    "count_ofvowels = int(user_input_string.count('a')) \n",
    "count_ofvowels += int(user_input_string.count('e'))  \n",
    "count_ofvowels += int(user_input_string.count('i')) \n",
    "count_ofvowels += int(user_input_string.count('o')) \n",
    "count_ofvowels += int(user_input_string.count('u')) \n"
   ]
  },
  {
   "cell_type": "code",
   "execution_count": 16,
   "id": "52cfb243-72d8-4e63-8a3f-585ab01ab990",
   "metadata": {},
   "outputs": [],
   "source": [
    "# Method 2:\n",
    "#count_ofvowels = 0\n",
    "#for i in listofvowels:\n",
    "#    count_ofvowels += int(user_input_string.count(i))"
   ]
  },
  {
   "cell_type": "code",
   "execution_count": 17,
   "id": "45cb2924-d817-451c-8798-35b08c59c928",
   "metadata": {},
   "outputs": [
    {
     "name": "stdout",
     "output_type": "stream",
     "text": [
      "Number of vowels :0\n"
     ]
    }
   ],
   "source": [
    "print('Number of vowels :' + str(count_ofvowels))"
   ]
  },
  {
   "cell_type": "code",
   "execution_count": null,
   "id": "cb8da578-4e68-4f78-89c9-177c62b4abd5",
   "metadata": {},
   "outputs": [],
   "source": [
    "Q 9. Write a program that takes a number as input and checks if it is even or odd."
   ]
  },
  {
   "cell_type": "code",
   "execution_count": 18,
   "id": "48504200-a965-4ffd-bde0-5ac53a6a51b9",
   "metadata": {},
   "outputs": [
    {
     "name": "stdin",
     "output_type": "stream",
     "text": [
      "Enter the value in number to validate even / odd :  8\n"
     ]
    },
    {
     "name": "stdout",
     "output_type": "stream",
     "text": [
      "It's a even number :8\n",
      "\n"
     ]
    }
   ],
   "source": [
    "validate_input_event_odd = int(input(\"Enter the value in number to validate even / odd : \"))\n",
    "isEvenOdd = ((validate_input_event_odd % 2) == 0)\n",
    "#print(isEvenOdd)\n",
    "print((\"It\\'s a even number :\" + str(validate_input_event_odd)) * int(isEvenOdd == True))\n",
    "print((\"It\\'s a odd number :\" + str(validate_input_event_odd)) * int(isEvenOdd == False))"
   ]
  },
  {
   "cell_type": "code",
   "execution_count": 19,
   "id": "bf12b394-20b6-440e-b7b6-d88d184b6bca",
   "metadata": {},
   "outputs": [
    {
     "name": "stdin",
     "output_type": "stream",
     "text": [
      "Enter the value in number to validate even / odd :  11\n"
     ]
    },
    {
     "name": "stdout",
     "output_type": "stream",
     "text": [
      "\n",
      "It's a odd number :11\n"
     ]
    }
   ],
   "source": [
    "validate_input_event_odd = int(input(\"Enter the value in number to validate even / odd : \"))\n",
    "isEvenOdd = ((validate_input_event_odd % 2) == 0)\n",
    "#print(isEvenOdd)\n",
    "print((\"It\\'s a even number :\" + str(validate_input_event_odd)) * int(isEvenOdd == True))\n",
    "print((\"It\\'s a odd number :\" + str(validate_input_event_odd)) * int(isEvenOdd == False))"
   ]
  },
  {
   "cell_type": "code",
   "execution_count": null,
   "id": "cf9e1031-059c-4618-aeca-d0bddcab893f",
   "metadata": {},
   "outputs": [],
   "source": [
    "10. How would you check if a string is a palindrome using input()?"
   ]
  },
  {
   "cell_type": "code",
   "execution_count": 20,
   "id": "4aa9cad9-a13b-4497-8d1a-56ca2c550dfd",
   "metadata": {},
   "outputs": [
    {
     "name": "stdin",
     "output_type": "stream",
     "text": [
      "Enter your text :  palandrome\n"
     ]
    },
    {
     "name": "stdout",
     "output_type": "stream",
     "text": [
      "\n",
      "Entered text is a not a palandrome\n"
     ]
    }
   ],
   "source": [
    "input_string = input('Enter your text : ')\n",
    "#input_string = \"MEEN\"\n",
    "input_string[::-1] == input_string \n",
    "print(\"Entered text is a palandrome\" * int((input_string[::-1] == input_string) == True))\n",
    "print(\"Entered text is a not a palandrome\" * int((input_string[::-1] == input_string) == False))\n",
    "        "
   ]
  },
  {
   "cell_type": "code",
   "execution_count": null,
   "id": "047500a9-7f3c-4640-9029-7f6fa800f3b4",
   "metadata": {},
   "outputs": [],
   "source": [
    "12. Write a program that asks for a number and prints whether it is divisible by 3."
   ]
  },
  {
   "cell_type": "code",
   "execution_count": 21,
   "id": "6cef5636-4006-4fc6-a83f-838b6a2daa45",
   "metadata": {},
   "outputs": [
    {
     "name": "stdin",
     "output_type": "stream",
     "text": [
      "Enter a number :  9\n"
     ]
    },
    {
     "name": "stdout",
     "output_type": "stream",
     "text": [
      "It is divisible by 3 \n",
      "\n"
     ]
    }
   ],
   "source": [
    "input_number = int(input(\"Enter a number : \"))\n",
    "print(\"It is divisible by 3 \" * int((input_number % 3 == 0) == True))\n",
    "print(\"It is not divisible by 3 \" * int((input_number % 3 == 0) == False))"
   ]
  },
  {
   "cell_type": "code",
   "execution_count": null,
   "id": "73a512a2-4a07-4734-a02c-cfcd372f5d50",
   "metadata": {},
   "outputs": [],
   "source": [
    "Q 13. How would you check if a number is divisible by both 3 and 7?\n"
   ]
  },
  {
   "cell_type": "code",
   "execution_count": 22,
   "id": "a94cbe0e-d869-4052-a053-0b4b30798afc",
   "metadata": {},
   "outputs": [
    {
     "name": "stdin",
     "output_type": "stream",
     "text": [
      "Enter a number :  21\n"
     ]
    },
    {
     "name": "stdout",
     "output_type": "stream",
     "text": [
      "It is divisible by 3 and 7 \n",
      "\n"
     ]
    }
   ],
   "source": [
    "# If the entered number reminder is 0 when divided by 3 and 7 then it is said to be divisible by both 3 and 7.\n",
    "input_number = int(input(\"Enter a number : \"))\n",
    "print(\"It is divisible by 3 and 7 \" * int(((input_number % 3 == 0) and (input_number % 7 == 0))== True))\n",
    "print(\"It is not divisible by 3 and 7 \" * int(((input_number % 3 == 0) and (input_number % 7 == 0)) == False))"
   ]
  },
  {
   "cell_type": "code",
   "execution_count": null,
   "id": "61cf41c0-ed49-441d-8362-2a7bb107d6ef",
   "metadata": {},
   "outputs": [],
   "source": [
    "Q 14.How do you accept a list of comma-separated values as input?"
   ]
  },
  {
   "cell_type": "code",
   "execution_count": 23,
   "id": "ab50bc27-5af2-4f44-9da0-6332bc303101",
   "metadata": {},
   "outputs": [
    {
     "name": "stdin",
     "output_type": "stream",
     "text": [
      "Enter list of values 1,2,3,4,5,6,\n"
     ]
    },
    {
     "name": "stdout",
     "output_type": "stream",
     "text": [
      "1,2,3,4,5,6,\n"
     ]
    }
   ],
   "source": [
    "# add input numbers with commas\n",
    "list1 = input(\"Enter list of values\")\n",
    "print(list1)"
   ]
  },
  {
   "cell_type": "code",
   "execution_count": null,
   "id": "998fc2df-72a5-4357-a4e9-06ad5c61cc73",
   "metadata": {},
   "outputs": [],
   "source": [
    "Q 15. Write a Python program that takes two numbers as input and prints their product."
   ]
  },
  {
   "cell_type": "code",
   "execution_count": 24,
   "id": "9447d608-08ce-4801-8acb-4c28d7d23c29",
   "metadata": {},
   "outputs": [
    {
     "name": "stdin",
     "output_type": "stream",
     "text": [
      "Enter input 1: 4\n",
      "Enter input 2: 5\n"
     ]
    },
    {
     "name": "stdout",
     "output_type": "stream",
     "text": [
      "Product is : 20\n"
     ]
    }
   ],
   "source": [
    "input1 , input2 = int(input(\"Enter input 1:\")), int(input(\"Enter input 2:\"))\n",
    "print(\"Product is : \" + str(input1 * input2))"
   ]
  },
  {
   "cell_type": "code",
   "execution_count": null,
   "id": "626cff9f-83a3-4a2b-8712-4ccb92c38563",
   "metadata": {},
   "outputs": [],
   "source": [
    "17. How can you accept a boolean value (True/False) from the user?"
   ]
  },
  {
   "cell_type": "code",
   "execution_count": 25,
   "id": "01a3c3dc-9558-4a83-b9d8-04682aa2a288",
   "metadata": {},
   "outputs": [
    {
     "name": "stdin",
     "output_type": "stream",
     "text": [
      "Enter true or false(true/ false): test\n"
     ]
    },
    {
     "name": "stdout",
     "output_type": "stream",
     "text": [
      "\n",
      "\n",
      "Allowed only true / false\n"
     ]
    }
   ],
   "source": [
    "input_True_False = input(\"Enter true or false(true/ false):\")\n",
    "print(\"True\" * int(input_True_False.upper() == \"TRUE\"))\n",
    "print(\"False\" * int(input_True_False.upper() == \"FALSE\"))\n",
    "print(\"Allowed only true / false\" * int((input_True_False.upper() != \"TRUE\") and (input_True_False.upper()!=\"FALSE\")))\n",
    "\n",
    "     "
   ]
  },
  {
   "cell_type": "code",
   "execution_count": null,
   "id": "64934c19-6e41-4f74-8f0c-42d4a352a516",
   "metadata": {},
   "outputs": [],
   "source": [
    "18. Write a program that accepts a string and prints the reverse of that string."
   ]
  },
  {
   "cell_type": "code",
   "execution_count": 26,
   "id": "3bcf8b49-dfc3-4549-a83c-de9e130a859e",
   "metadata": {},
   "outputs": [
    {
     "name": "stdin",
     "output_type": "stream",
     "text": [
      "Enter your text should be in alphabets : reverse\n"
     ]
    },
    {
     "name": "stdout",
     "output_type": "stream",
     "text": [
      "esrever\n"
     ]
    }
   ],
   "source": [
    "input_user_string = input('Enter your text should be in alphabets :')\n",
    "print(input_user_string[::-1])"
   ]
  },
  {
   "cell_type": "code",
   "execution_count": null,
   "id": "d6616b37-804b-4642-b1aa-10ac134a84b3",
   "metadata": {},
   "outputs": [],
   "source": [
    "19. Write a program that asks for a user's name and age and prints a message."
   ]
  },
  {
   "cell_type": "code",
   "execution_count": 27,
   "id": "31866850-2380-47ff-b033-7cc658a1237f",
   "metadata": {},
   "outputs": [
    {
     "name": "stdin",
     "output_type": "stream",
     "text": [
      "Enter your username : abhishek\n",
      "Enter your age : 23\n"
     ]
    },
    {
     "name": "stdout",
     "output_type": "stream",
     "text": [
      "Welcome, abhishek! You are just 23 years old.\n"
     ]
    }
   ],
   "source": [
    "input_username = input(\"Enter your username :\")\n",
    "input_age = input(\"Enter your age :\")\n",
    "print(f\"Welcome, {input_username}! You are just {input_age} years old.\")\n",
    "     "
   ]
  },
  {
   "cell_type": "code",
   "execution_count": null,
   "id": "21b0bd70-7239-4b51-ab10-9647056ebadd",
   "metadata": {},
   "outputs": [],
   "source": [
    "21. How do you prevent a user from entering an empty string?"
   ]
  },
  {
   "cell_type": "code",
   "execution_count": 28,
   "id": "045df1b8-1d46-4772-a396-ab7e700f689f",
   "metadata": {},
   "outputs": [
    {
     "name": "stdin",
     "output_type": "stream",
     "text": [
      "Enter your text!! test\n"
     ]
    },
    {
     "name": "stdout",
     "output_type": "stream",
     "text": [
      " you have entered the text as 'test'\n"
     ]
    },
    {
     "data": {
      "text/plain": [
       "'test'"
      ]
     },
     "execution_count": 28,
     "metadata": {},
     "output_type": "execute_result"
    }
   ],
   "source": [
    "value =''\n",
    "def askInput():\n",
    "  value = input('Enter your text!!')\n",
    "  print(f\" you have entered the text as '{value}'\" * int(value.isalpha() == True))\n",
    "  #value == '' and askInput()\n",
    "  value == '' and askInput()\n",
    "  return value\n",
    "\n",
    "askInput()"
   ]
  },
  {
   "cell_type": "code",
   "execution_count": null,
   "id": "c5668f34-074e-4817-a48d-f70e615bd0bd",
   "metadata": {},
   "outputs": [],
   "source": [
    "22. Write a program to check if the entered number is a perfect square."
   ]
  },
  {
   "cell_type": "code",
   "execution_count": 30,
   "id": "1fbddae1-790c-4a98-903b-a75105c64e36",
   "metadata": {},
   "outputs": [
    {
     "name": "stdin",
     "output_type": "stream",
     "text": [
      "Enter your number to check if it is a perfect square : 25\n"
     ]
    },
    {
     "name": "stdout",
     "output_type": "stream",
     "text": [
      "Its is a perfect square for 5\n",
      "\n"
     ]
    }
   ],
   "source": [
    "import math as m\n",
    "input_number = int(input(\"Enter your number to check if it is a perfect square :\"))\n",
    "#print((m.sqrt(input_number).is_integer()))\n",
    "print(f\"Its is a perfect square for {m.floor(m.sqrt(input_number))}\" * int((m.sqrt(input_number).is_integer()) == True))\n",
    "print(f\"Its is a perfect not a square\" * int((m.sqrt(input_number).is_integer()) == False))"
   ]
  },
  {
   "cell_type": "code",
   "execution_count": null,
   "id": "1bd4c4dc-73bf-4f70-b8c3-63a95193b5e0",
   "metadata": {},
   "outputs": [],
   "source": [
    "23. Write a program that asks for a year and determines if it's a leap year."
   ]
  },
  {
   "cell_type": "code",
   "execution_count": 31,
   "id": "d9a8d224-f4fd-45ca-9fa9-90d5d66cf50d",
   "metadata": {},
   "outputs": [
    {
     "name": "stdin",
     "output_type": "stream",
     "text": [
      "Enter your year to check if it is a leap year : 2002\n"
     ]
    },
    {
     "name": "stdout",
     "output_type": "stream",
     "text": [
      "\n",
      "Its is not a leap year\n"
     ]
    }
   ],
   "source": [
    "input_year = int(input(\"Enter your year to check if it is a leap year :\"))\n",
    "print(f\"Its is a leap year\" * int((input_year % 4 == 0) == True))\n",
    "print(f\"Its is not a leap year\"  * int((input_year % 4 == 0) == False))\n",
    "     "
   ]
  },
  {
   "cell_type": "code",
   "execution_count": null,
   "id": "a05de6fd-f7fb-4a0b-9bc8-5452b6ec848a",
   "metadata": {},
   "outputs": [],
   "source": [
    "24. How can you remove leading and trailing spaces from a string input?"
   ]
  },
  {
   "cell_type": "code",
   "execution_count": 34,
   "id": "aa7dc0f8-f289-48a7-bb11-07a4e53ff750",
   "metadata": {},
   "outputs": [
    {
     "name": "stdin",
     "output_type": "stream",
     "text": [
      "Enter your text with some spaces eiter at starting or ending of the text. : yyyy yyy \n"
     ]
    },
    {
     "name": "stdout",
     "output_type": "stream",
     "text": [
      "yyyy yyy\n"
     ]
    }
   ],
   "source": [
    "input_string = input(\"Enter your text with some spaces eiter at starting or ending of the text. :\")\n",
    "print(input_string.strip())"
   ]
  },
  {
   "cell_type": "code",
   "execution_count": null,
   "id": "85ef6e48-869c-4110-926f-accc66072d5b",
   "metadata": {},
   "outputs": [],
   "source": [
    "25. How do you handle incorrect inputs when you expect an integer using input()?"
   ]
  },
  {
   "cell_type": "code",
   "execution_count": 35,
   "id": "178bfcbb-cf90-4a2c-8ef6-22ca0c3671f7",
   "metadata": {},
   "outputs": [
    {
     "name": "stdin",
     "output_type": "stream",
     "text": [
      "Enter your input: 7\n"
     ]
    },
    {
     "name": "stdout",
     "output_type": "stream",
     "text": [
      "You have entered valid input 7\n",
      "\n"
     ]
    }
   ],
   "source": [
    "input_text = input('Enter your input:')\n",
    "print(f\"You have entered valid input {input_text}\" *  (input_text.isdigit() == True))\n",
    "print(\"Enter valid input\" *  (input_text.isdigit() == False))"
   ]
  },
  {
   "cell_type": "code",
   "execution_count": null,
   "id": "ff2e6321-02f2-4b9b-9684-1082963e3e58",
   "metadata": {},
   "outputs": [],
   "source": [
    "26. Write a program that accepts a string and counts the occurrence of a particular character."
   ]
  },
  {
   "cell_type": "code",
   "execution_count": 37,
   "id": "83e91df8-3867-4cce-adee-679c93f3b8f9",
   "metadata": {},
   "outputs": [
    {
     "name": "stdin",
     "output_type": "stream",
     "text": [
      "Enter a text: Learing is everyday practice\n"
     ]
    },
    {
     "name": "stdout",
     "output_type": "stream",
     "text": [
      "Learing is everyday practice\n"
     ]
    },
    {
     "data": {
      "text/plain": [
       "3"
      ]
     },
     "execution_count": 37,
     "metadata": {},
     "output_type": "execute_result"
    }
   ],
   "source": [
    "input_string = input('Enter a text:')\n",
    "print(input_string)\n",
    "input_string.count('a')"
   ]
  },
  {
   "cell_type": "code",
   "execution_count": null,
   "id": "39716eb4-4b99-481f-849a-cc3020116a36",
   "metadata": {},
   "outputs": [],
   "source": [
    "27. How would you convert user input to lowercase using input()"
   ]
  },
  {
   "cell_type": "code",
   "execution_count": 38,
   "id": "ac1f1529-b13a-434c-9895-adf0834d97ed",
   "metadata": {},
   "outputs": [
    {
     "name": "stdin",
     "output_type": "stream",
     "text": [
      "Enter user input: TEST123445\n"
     ]
    },
    {
     "name": "stdout",
     "output_type": "stream",
     "text": [
      "test123445\n"
     ]
    }
   ],
   "source": [
    "\n",
    "user_input = input('Enter user input:')\n",
    "print(user_input.lower())\n"
   ]
  },
  {
   "cell_type": "code",
   "execution_count": null,
   "id": "36670235-0c67-4d91-9b03-55ed5bb03d27",
   "metadata": {},
   "outputs": [],
   "source": [
    "28. Write a program that accepts a number and prints whether it is a multiple of 10."
   ]
  },
  {
   "cell_type": "code",
   "execution_count": 40,
   "id": "edc32677-3c9e-4b6d-a70d-989791b91a94",
   "metadata": {},
   "outputs": [
    {
     "name": "stdin",
     "output_type": "stream",
     "text": [
      "Enter a number 4\n"
     ]
    },
    {
     "name": "stdout",
     "output_type": "stream",
     "text": [
      "\n",
      "not a Multiple of 10\n"
     ]
    }
   ],
   "source": [
    "input_number = int(input('Enter a number'))\n",
    "print('Multiple of 10' * ((input_number % 10) == 0))\n",
    "print('not a Multiple of 10' * ((input_number % 10) != 0))"
   ]
  },
  {
   "cell_type": "code",
   "execution_count": 42,
   "id": "6214f7c4-33b0-465e-99b2-e913a4035bc7",
   "metadata": {},
   "outputs": [
    {
     "name": "stdin",
     "output_type": "stream",
     "text": [
      "Enter a number 20\n"
     ]
    },
    {
     "name": "stdout",
     "output_type": "stream",
     "text": [
      "Multiple of 10\n",
      "\n"
     ]
    }
   ],
   "source": [
    "input_number = int(input('Enter a number'))\n",
    "print('Multiple of 10' * ((input_number % 10) == 0))\n",
    "print('not a Multiple of 10' * ((input_number % 10) != 0))"
   ]
  },
  {
   "cell_type": "code",
   "execution_count": null,
   "id": "5a991f90-1a10-4950-b0c3-1b2bf6f972ff",
   "metadata": {},
   "outputs": [],
   "source": [
    "How would29.  you check if a string entered by the user contains only alphabets using input()?"
   ]
  },
  {
   "cell_type": "code",
   "execution_count": 43,
   "id": "56e900e4-9514-46d5-a7f8-59ec0797d5a8",
   "metadata": {},
   "outputs": [
    {
     "name": "stdin",
     "output_type": "stream",
     "text": [
      "Enter user input Test\n"
     ]
    },
    {
     "name": "stdout",
     "output_type": "stream",
     "text": [
      "Input has only alphabets\n",
      "\n"
     ]
    }
   ],
   "source": [
    "input_user = input('Enter user input')\n",
    "print('Input has only alphabets' * (input_user.isalpha()))\n",
    "print('Input is of alpha numeric' * (input_user.isalpha() == False))"
   ]
  },
  {
   "cell_type": "code",
   "execution_count": null,
   "id": "6160b09c-33b2-4184-ad18-224f1036c6a5",
   "metadata": {},
   "outputs": [],
   "source": [
    "30. Write a program to count the number of words in a sentence entered by the user."
   ]
  },
  {
   "cell_type": "code",
   "execution_count": 44,
   "id": "85c67930-62cd-4a8b-8860-a9506d0d519e",
   "metadata": {},
   "outputs": [
    {
     "name": "stdin",
     "output_type": "stream",
     "text": [
      "Enter the sentence : this is a book\n"
     ]
    },
    {
     "name": "stdout",
     "output_type": "stream",
     "text": [
      "Number of words in sentence : 4 \n"
     ]
    }
   ],
   "source": [
    "input_words = input('Enter the sentence :')\n",
    "words_list = input_words.split(' ')\n",
    "print(f'Number of words in sentence : {len(words_list)} ')"
   ]
  },
  {
   "cell_type": "code",
   "execution_count": null,
   "id": "091e85e5-795a-416a-9e25-dc5a8e7ef2a3",
   "metadata": {},
   "outputs": [],
   "source": [
    " 32.Write a program that checks if the entered number is divisible by both 3 and 5."
   ]
  },
  {
   "cell_type": "code",
   "execution_count": 45,
   "id": "b4df42c7-22b1-4b9f-9a25-8f1cac404493",
   "metadata": {},
   "outputs": [
    {
     "name": "stdin",
     "output_type": "stream",
     "text": [
      "Enter a input : 135\n"
     ]
    },
    {
     "name": "stdout",
     "output_type": "stream",
     "text": [
      "Given number is divisible by both 3 and 5\n",
      "\n"
     ]
    }
   ],
   "source": [
    "input_number = int(input('Enter a input :'))\n",
    "print(\"Given number is divisible by both 3 and 5\" * int((input_number % 3 == 0 and input_number % 5 == 0) == True))\n",
    "print(\"Given number is not divisible by both 3 and 5\" * int((input_number % 3 == 0 and input_number % 5 == 0) == False))"
   ]
  },
  {
   "cell_type": "code",
   "execution_count": null,
   "id": "0019bf2e-c765-46b2-993a-0f98f090587d",
   "metadata": {},
   "outputs": [],
   "source": [
    "33. Write a program to swap the values of two variables using input()."
   ]
  },
  {
   "cell_type": "code",
   "execution_count": 46,
   "id": "e3235e4d-9c14-4a69-9d12-6c02ca344980",
   "metadata": {},
   "outputs": [
    {
     "name": "stdin",
     "output_type": "stream",
     "text": [
      "Enter value of a : 5\n",
      "Enter value of b : 7\n"
     ]
    },
    {
     "name": "stdout",
     "output_type": "stream",
     "text": [
      "After swap value of a :7\n",
      "After swap value of b :5\n"
     ]
    }
   ],
   "source": [
    "\n",
    "a = input('Enter value of a :')\n",
    "b = input('Enter value of b :')\n",
    "\n",
    "a,b = b,a\n",
    "print('After swap value of a :' + a )\n",
    "print('After swap value of b :' + b )"
   ]
  },
  {
   "cell_type": "code",
   "execution_count": null,
   "id": "72101001-22a9-443e-bedb-13076759f135",
   "metadata": {},
   "outputs": [],
   "source": [
    "34. Write a program to take user input and print it without spaces between words."
   ]
  },
  {
   "cell_type": "code",
   "execution_count": 47,
   "id": "af135093-a860-479a-a052-c7949e6406a3",
   "metadata": {},
   "outputs": [
    {
     "name": "stdin",
     "output_type": "stream",
     "text": [
      "Enter the input as text hello world hi i m abhishek\n"
     ]
    },
    {
     "name": "stdout",
     "output_type": "stream",
     "text": [
      "helloworldhiimabhishek\n"
     ]
    }
   ],
   "source": [
    "input_string = input('Enter the input as text')\n",
    "\n",
    "input_string_words = input_string.split(' ')\n",
    "\n",
    "print(''.join(input_string_words))"
   ]
  },
  {
   "cell_type": "code",
   "execution_count": null,
   "id": "0dbf9111-684b-40d7-ba7d-869cedf76d69",
   "metadata": {},
   "outputs": [],
   "source": [
    "36. Write a program that accepts a number and prints its cube."
   ]
  },
  {
   "cell_type": "code",
   "execution_count": 48,
   "id": "bd8fc2d4-8760-451b-af33-92b1206f1733",
   "metadata": {},
   "outputs": [
    {
     "name": "stdin",
     "output_type": "stream",
     "text": [
      "Enter a number : 4\n"
     ]
    },
    {
     "name": "stdout",
     "output_type": "stream",
     "text": [
      "Cube of the given number 4 is 64\n"
     ]
    }
   ],
   "source": [
    "input_number = int(input('Enter a number :'))\n",
    "print(f'Cube of the given number {input_number} is {input_number ** 3}')"
   ]
  },
  {
   "cell_type": "code",
   "execution_count": null,
   "id": "05b992cf-2da4-47ac-9802-c5be180414b4",
   "metadata": {},
   "outputs": [],
   "source": [
    " 36. How would you accept and store multiple names from the user?"
   ]
  },
  {
   "cell_type": "code",
   "execution_count": 49,
   "id": "d7b17928-a120-4500-ac3a-d037d9316335",
   "metadata": {},
   "outputs": [
    {
     "name": "stdin",
     "output_type": "stream",
     "text": [
      "Please enter the values in comma to store as multiple :  test, test1, test2\n"
     ]
    },
    {
     "name": "stdout",
     "output_type": "stream",
     "text": [
      "['test', ' test1', ' test2']\n"
     ]
    }
   ],
   "source": [
    "input_user = input(\"Please enter the values in comma to store as multiple : \")\n",
    "\n",
    "list1 = input_user.split(',')\n",
    "print(list1)"
   ]
  },
  {
   "cell_type": "code",
   "execution_count": 50,
   "id": "62ce248a-4488-452c-b992-6f34c09a38b6",
   "metadata": {},
   "outputs": [
    {
     "name": "stdout",
     "output_type": "stream",
     "text": [
      "Object `user` not found.\n"
     ]
    }
   ],
   "source": [
    "38. How would you extract numbers from a string entered by the user?"
   ]
  },
  {
   "cell_type": "code",
   "execution_count": null,
   "id": "4acf91b3-b335-47b5-9eb6-c91875a391b9",
   "metadata": {},
   "outputs": [],
   "source": [
    "39. How do you find the maximum number from a list of integers entered by the user?"
   ]
  },
  {
   "cell_type": "code",
   "execution_count": 51,
   "id": "0a56b8a0-f9cf-4e22-9dee-a9f5a5725b33",
   "metadata": {},
   "outputs": [
    {
     "data": {
      "text/plain": [
       "170"
      ]
     },
     "execution_count": 51,
     "metadata": {},
     "output_type": "execute_result"
    }
   ],
   "source": [
    "list1 = [10, 50, 20, 100, 120, 170, 150]\n",
    "\n",
    "max(list1)"
   ]
  },
  {
   "cell_type": "code",
   "execution_count": null,
   "id": "2b7cef1f-fd1c-4f21-8f1c-cfbcdb3f800a",
   "metadata": {},
   "outputs": [],
   "source": [
    "40. How would you prompt the user for input until they enter a valid number?"
   ]
  },
  {
   "cell_type": "code",
   "execution_count": null,
   "id": "3b5a30f0-c631-443b-9b4a-d482fca9c51b",
   "metadata": {},
   "outputs": [],
   "source": [
    "# This requires a loop or recursive function"
   ]
  },
  {
   "cell_type": "code",
   "execution_count": null,
   "id": "6ec325d4-2a54-4fdc-a55c-23e3d36bf676",
   "metadata": {},
   "outputs": [],
   "source": [
    "41. Write a program to check if the entered string has digits.\n"
   ]
  },
  {
   "cell_type": "code",
   "execution_count": null,
   "id": "a8e2f948-5302-4cdb-a62d-d22f667b66eb",
   "metadata": {},
   "outputs": [],
   "source": [
    " 42. Write a program to check if the entered string has only whitespace characters."
   ]
  },
  {
   "cell_type": "code",
   "execution_count": 52,
   "id": "c8a35fed-8a62-4707-811f-bc5f19aa0ed8",
   "metadata": {},
   "outputs": [
    {
     "name": "stdin",
     "output_type": "stream",
     "text": [
      "Enter user inout as whitespace:  \n"
     ]
    },
    {
     "name": "stdout",
     "output_type": "stream",
     "text": [
      "Entered input has only whitespace \n"
     ]
    }
   ],
   "source": [
    "\n",
    "input_whitespace = input('Enter user inout as whitespace:')\n",
    "print(\"Entered input has only whitespace \" * (len(input_whitespace.strip()) == 0))\n",
    "     "
   ]
  },
  {
   "cell_type": "code",
   "execution_count": null,
   "id": "8b12d65a-10c8-4705-b7a4-662a96288e06",
   "metadata": {},
   "outputs": [],
   "source": [
    "44. Write a program that accepts a number and prints its absolute value."
   ]
  },
  {
   "cell_type": "code",
   "execution_count": 53,
   "id": "56186e6e-4616-4ba1-bdd1-c6c9b36de92e",
   "metadata": {},
   "outputs": [
    {
     "name": "stdin",
     "output_type": "stream",
     "text": [
      "Enter a number : 3 \n"
     ]
    },
    {
     "name": "stdout",
     "output_type": "stream",
     "text": [
      "Absolute value of 3 is -3\n"
     ]
    }
   ],
   "source": [
    "input_number = int(input('Enter a number :'))\n",
    "print(f\"Absolute value of {input_number} is {-(input_number)}\")"
   ]
  },
  {
   "cell_type": "code",
   "execution_count": null,
   "id": "05bca738-ca96-42ac-bc2b-47fc9803d7ee",
   "metadata": {},
   "outputs": [],
   "source": []
  }
 ],
 "metadata": {
  "kernelspec": {
   "display_name": "Python [conda env:base] *",
   "language": "python",
   "name": "conda-base-py"
  },
  "language_info": {
   "codemirror_mode": {
    "name": "ipython",
    "version": 3
   },
   "file_extension": ".py",
   "mimetype": "text/x-python",
   "name": "python",
   "nbconvert_exporter": "python",
   "pygments_lexer": "ipython3",
   "version": "3.12.7"
  }
 },
 "nbformat": 4,
 "nbformat_minor": 5
}
