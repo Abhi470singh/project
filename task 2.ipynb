{
 "cells": [
  {
   "cell_type": "markdown",
   "id": "e2b120dd-fa39-46fc-a3a7-ad04e490731f",
   "metadata": {},
   "source": [
    "# PYTHON PROGRAMMING LANGUAGE"
   ]
  },
  {
   "cell_type": "code",
   "execution_count": 1,
   "id": "ca2e2022-014a-4fe4-ae1b-413e48e76593",
   "metadata": {},
   "outputs": [
    {
     "data": {
      "text/plain": [
       "'3.12.7 | packaged by Anaconda, Inc. | (main, Oct  4 2024, 13:17:27) [MSC v.1929 64 bit (AMD64)]'"
      ]
     },
     "execution_count": 1,
     "metadata": {},
     "output_type": "execute_result"
    }
   ],
   "source": [
    "import sys\n",
    "sys.version\n"
   ]
  },
  {
   "cell_type": "code",
   "execution_count": 2,
   "id": "4e2dd8c0-6515-423d-a675-e36d6f5e6da6",
   "metadata": {},
   "outputs": [
    {
     "data": {
      "text/plain": [
       "'welcome ton python programming language'"
      ]
     },
     "execution_count": 2,
     "metadata": {},
     "output_type": "execute_result"
    }
   ],
   "source": [
    "'welcome ton python programming language'"
   ]
  },
  {
   "cell_type": "code",
   "execution_count": 3,
   "id": "9eb6bf46-6762-493a-ac88-cb19a66ccfc2",
   "metadata": {},
   "outputs": [
    {
     "data": {
      "text/plain": [
       "9"
      ]
     },
     "execution_count": 3,
     "metadata": {},
     "output_type": "execute_result"
    }
   ],
   "source": [
    "9"
   ]
  },
  {
   "cell_type": "code",
   "execution_count": 4,
   "id": "d955a04a-9a86-49a4-8df5-21f189d41313",
   "metadata": {},
   "outputs": [
    {
     "data": {
      "text/plain": [
       "18"
      ]
     },
     "execution_count": 4,
     "metadata": {},
     "output_type": "execute_result"
    }
   ],
   "source": [
    "9+9"
   ]
  },
  {
   "cell_type": "code",
   "execution_count": 5,
   "id": "3106fe3d-a05d-4dfd-9708-07bb41c3fe0b",
   "metadata": {},
   "outputs": [
    {
     "data": {
      "text/plain": [
       "-1"
      ]
     },
     "execution_count": 5,
     "metadata": {},
     "output_type": "execute_result"
    }
   ],
   "source": [
    "2-3"
   ]
  },
  {
   "cell_type": "markdown",
   "id": "c33a5380-221f-4b3d-9d51-045d54b0dbd9",
   "metadata": {},
   "source": [
    "#### "
   ]
  },
  {
   "cell_type": "code",
   "execution_count": 6,
   "id": "3c0693a6-6b2e-45ec-8eef-ff1b1a703787",
   "metadata": {},
   "outputs": [
    {
     "data": {
      "text/plain": [
       "5"
      ]
     },
     "execution_count": 6,
     "metadata": {},
     "output_type": "execute_result"
    }
   ],
   "source": [
    "9+9-(10+3)"
   ]
  },
  {
   "cell_type": "markdown",
   "id": "540d89ea-9a68-4875-8b98-b39e2c20f90e",
   "metadata": {},
   "source": [
    "### Numbers are called as Operand \n",
    "#### +,-,*,%, are called aas Operators\n",
    "## types of operators\n",
    " 1. Arithmetic Operator(+,-,*,/,%,^,**)\n",
    " 2. Assignment Operator\n",
    " 3. Relational Opreator\n",
    " 4. Logical Operator(AND, OR)\n",
    " 5. Unary Operator"
   ]
  },
  {
   "cell_type": "markdown",
   "id": "7be3b148-4293-4ab4-b8ca-5fa22463d4bd",
   "metadata": {},
   "source": [
    " # 1. Arithmetic Operator"
   ]
  },
  {
   "cell_type": "code",
   "execution_count": 9,
   "id": "5dec1c85-11ee-439a-a86e-c7756414834c",
   "metadata": {},
   "outputs": [
    {
     "data": {
      "text/plain": [
       "12"
      ]
     },
     "execution_count": 9,
     "metadata": {},
     "output_type": "execute_result"
    }
   ],
   "source": [
    "10+2 # Addition"
   ]
  },
  {
   "cell_type": "code",
   "execution_count": 10,
   "id": "0f533144-bfd8-4991-ad04-162f4866cba9",
   "metadata": {},
   "outputs": [
    {
     "data": {
      "text/plain": [
       "8"
      ]
     },
     "execution_count": 10,
     "metadata": {},
     "output_type": "execute_result"
    }
   ],
   "source": [
    "10-2 # Substraction"
   ]
  },
  {
   "cell_type": "code",
   "execution_count": 11,
   "id": "1476c99a-ccb9-42cb-805e-194b8da3595c",
   "metadata": {},
   "outputs": [
    {
     "data": {
      "text/plain": [
       "20"
      ]
     },
     "execution_count": 11,
     "metadata": {},
     "output_type": "execute_result"
    }
   ],
   "source": [
    "10*2 # Multiplication\n"
   ]
  },
  {
   "cell_type": "code",
   "execution_count": 12,
   "id": "bc5055c4-b8d1-44a5-a46b-a28917fc1adc",
   "metadata": {},
   "outputs": [
    {
     "data": {
      "text/plain": [
       "100"
      ]
     },
     "execution_count": 12,
     "metadata": {},
     "output_type": "execute_result"
    }
   ],
   "source": [
    "10**2 # Power\n"
   ]
  },
  {
   "cell_type": "code",
   "execution_count": 13,
   "id": "c223aae7-9ce2-4d12-b4d2-4973f4f76e37",
   "metadata": {},
   "outputs": [
    {
     "data": {
      "text/plain": [
       "2.0"
      ]
     },
     "execution_count": 13,
     "metadata": {},
     "output_type": "execute_result"
    }
   ],
   "source": [
    "10/5 # Float Division"
   ]
  },
  {
   "cell_type": "code",
   "execution_count": 14,
   "id": "cbbc7b0a-b999-49ab-b673-33e2271e52e7",
   "metadata": {},
   "outputs": [
    {
     "data": {
      "text/plain": [
       "2"
      ]
     },
     "execution_count": 14,
     "metadata": {},
     "output_type": "execute_result"
    }
   ],
   "source": [
    "10//5 # Int Division"
   ]
  },
  {
   "cell_type": "code",
   "execution_count": 15,
   "id": "a7921d7d-1d8e-48f3-808a-c325fdcf02a6",
   "metadata": {},
   "outputs": [
    {
     "data": {
      "text/plain": [
       "0"
      ]
     },
     "execution_count": 15,
     "metadata": {},
     "output_type": "execute_result"
    }
   ],
   "source": [
    "10%2 # Modulus"
   ]
  },
  {
   "cell_type": "code",
   "execution_count": 16,
   "id": "269fb6ab-8249-49bf-a4b9-df1bf8af193c",
   "metadata": {},
   "outputs": [
    {
     "data": {
      "text/plain": [
       "8"
      ]
     },
     "execution_count": 16,
     "metadata": {},
     "output_type": "execute_result"
    }
   ],
   "source": [
    "10^2"
   ]
  },
  {
   "cell_type": "markdown",
   "id": "4b5894a4-1d5e-474b-9c6d-08b0b131013a",
   "metadata": {},
   "source": [
    "\n",
    "# 2. Assignment Operator"
   ]
  },
  {
   "cell_type": "code",
   "execution_count": 17,
   "id": "e1c93086-2713-4156-b658-d16ef39f11b1",
   "metadata": {},
   "outputs": [
    {
     "data": {
      "text/plain": [
       "10"
      ]
     },
     "execution_count": 17,
     "metadata": {},
     "output_type": "execute_result"
    }
   ],
   "source": [
    "x=10 # Here 'x' is a Variable or Object or Identifier, '10' is a value \n",
    "x"
   ]
  },
  {
   "cell_type": "code",
   "execution_count": 18,
   "id": "5275e7aa-b2ab-4c8a-9e42-367587e9c710",
   "metadata": {},
   "outputs": [
    {
     "data": {
      "text/plain": [
       "12"
      ]
     },
     "execution_count": 18,
     "metadata": {},
     "output_type": "execute_result"
    }
   ],
   "source": [
    "x+2"
   ]
  },
  {
   "cell_type": "code",
   "execution_count": 19,
   "id": "254ccfd4-3db3-4fe4-9548-0237aae7fd48",
   "metadata": {},
   "outputs": [
    {
     "data": {
      "text/plain": [
       "12"
      ]
     },
     "execution_count": 19,
     "metadata": {},
     "output_type": "execute_result"
    }
   ],
   "source": [
    "x+=2\n",
    "x"
   ]
  },
  {
   "cell_type": "code",
   "execution_count": 20,
   "id": "fcbcb1b1-c97e-4048-9b61-006a09384626",
   "metadata": {},
   "outputs": [
    {
     "data": {
      "text/plain": [
       "14"
      ]
     },
     "execution_count": 20,
     "metadata": {},
     "output_type": "execute_result"
    }
   ],
   "source": [
    "x+=2\n",
    "x"
   ]
  },
  {
   "cell_type": "code",
   "execution_count": 21,
   "id": "10aae153-8ed5-4cf2-9f25-cd833ad48af1",
   "metadata": {},
   "outputs": [
    {
     "data": {
      "text/plain": [
       "16"
      ]
     },
     "execution_count": 21,
     "metadata": {},
     "output_type": "execute_result"
    }
   ],
   "source": [
    "x+=2\n",
    "x"
   ]
  },
  {
   "cell_type": "code",
   "execution_count": 23,
   "id": "7be6390f-8e51-41af-9a6e-6f9659859268",
   "metadata": {},
   "outputs": [
    {
     "data": {
      "text/plain": [
       "12"
      ]
     },
     "execution_count": 23,
     "metadata": {},
     "output_type": "execute_result"
    }
   ],
   "source": [
    "x-=2\n",
    "x"
   ]
  },
  {
   "cell_type": "code",
   "execution_count": 24,
   "id": "98c19d2e-ebfd-4b61-af72-c811e6e74c5d",
   "metadata": {},
   "outputs": [
    {
     "data": {
      "text/plain": [
       "10"
      ]
     },
     "execution_count": 24,
     "metadata": {},
     "output_type": "execute_result"
    }
   ],
   "source": [
    "x-=2\n",
    "x"
   ]
  },
  {
   "cell_type": "code",
   "execution_count": 26,
   "id": "97300257-496a-482f-b798-74e9bc94b75b",
   "metadata": {},
   "outputs": [
    {
     "data": {
      "text/plain": [
       "40"
      ]
     },
     "execution_count": 26,
     "metadata": {},
     "output_type": "execute_result"
    }
   ],
   "source": [
    "x*=2\n",
    "x"
   ]
  },
  {
   "cell_type": "code",
   "execution_count": 28,
   "id": "15e8ff54-02a1-48bd-9827-68ad1be9912f",
   "metadata": {},
   "outputs": [
    {
     "data": {
      "text/plain": [
       "20.0"
      ]
     },
     "execution_count": 28,
     "metadata": {},
     "output_type": "execute_result"
    }
   ],
   "source": [
    "x/2"
   ]
  },
  {
   "cell_type": "markdown",
   "id": "27132e67-131a-4d78-adfd-1d62bb8caa21",
   "metadata": {},
   "source": [
    "# 3. Unary Operator"
   ]
  },
  {
   "cell_type": "code",
   "execution_count": 30,
   "id": "891a9e46-315a-4334-9ef6-377ca5bec8df",
   "metadata": {},
   "outputs": [
    {
     "data": {
      "text/plain": [
       "7"
      ]
     },
     "execution_count": 30,
     "metadata": {},
     "output_type": "execute_result"
    }
   ],
   "source": [
    "n=7\n",
    "n"
   ]
  },
  {
   "cell_type": "code",
   "execution_count": 31,
   "id": "7e029761-71f5-41ab-b43c-abd1a199b9d2",
   "metadata": {},
   "outputs": [
    {
     "data": {
      "text/plain": [
       "-7"
      ]
     },
     "execution_count": 31,
     "metadata": {},
     "output_type": "execute_result"
    }
   ],
   "source": [
    "\n",
    "m=-n\n",
    "m\n"
   ]
  },
  {
   "cell_type": "markdown",
   "id": "1a42eb4c-bec5-42dd-abbe-91f3804f3aa7",
   "metadata": {},
   "source": [
    "# Python (Variable = Identifier = Object )"
   ]
  },
  {
   "cell_type": "code",
   "execution_count": 32,
   "id": "6fa62d8e-73a5-41a2-bf1b-1c19cc797fb9",
   "metadata": {},
   "outputs": [
    {
     "data": {
      "text/plain": [
       "2"
      ]
     },
     "execution_count": 32,
     "metadata": {},
     "output_type": "execute_result"
    }
   ],
   "source": [
    "a=2 # here 'a' is a variable, '2' is a value\n",
    "a"
   ]
  },
  {
   "cell_type": "code",
   "execution_count": 33,
   "id": "d2268abb-330e-4d6c-b0b7-7756ec66450c",
   "metadata": {},
   "outputs": [
    {
     "data": {
      "text/plain": [
       "140719934745048"
      ]
     },
     "execution_count": 33,
     "metadata": {},
     "output_type": "execute_result"
    }
   ],
   "source": [
    "id(a) # here 'id' gives the address or memory space of the 'a'"
   ]
  },
  {
   "cell_type": "code",
   "execution_count": 34,
   "id": "e1218341-4331-4de1-b700-1223c12f2893",
   "metadata": {},
   "outputs": [
    {
     "ename": "SyntaxError",
     "evalue": "invalid decimal literal (260825808.py, line 1)",
     "output_type": "error",
     "traceback": [
      "\u001b[1;36m  Cell \u001b[1;32mIn[34], line 1\u001b[1;36m\u001b[0m\n\u001b[1;33m    1a=3 # variable never start with the digit or value\u001b[0m\n\u001b[1;37m    ^\u001b[0m\n\u001b[1;31mSyntaxError\u001b[0m\u001b[1;31m:\u001b[0m invalid decimal literal\n"
     ]
    }
   ],
   "source": [
    "1a=3 # variable never start with the digit or value\n",
    "1a"
   ]
  },
  {
   "cell_type": "code",
   "execution_count": 35,
   "id": "4a102b01-077b-4bac-86a3-add179872ec4",
   "metadata": {},
   "outputs": [
    {
     "data": {
      "text/plain": [
       "3"
      ]
     },
     "execution_count": 35,
     "metadata": {},
     "output_type": "execute_result"
    }
   ],
   "source": [
    "\n",
    "a1=3 # varaible can ends with the digit \n",
    "a1\n"
   ]
  },
  {
   "cell_type": "code",
   "execution_count": 36,
   "id": "1c65092f-66ff-4718-9172-5f49360299dc",
   "metadata": {},
   "outputs": [
    {
     "ename": "SyntaxError",
     "evalue": "invalid syntax (1832168073.py, line 1)",
     "output_type": "error",
     "traceback": [
      "\u001b[1;36m  Cell \u001b[1;32mIn[36], line 1\u001b[1;36m\u001b[0m\n\u001b[1;33m    ni$=34 # special characters like '$', '@', '&' are not allowed in the variable\u001b[0m\n\u001b[1;37m      ^\u001b[0m\n\u001b[1;31mSyntaxError\u001b[0m\u001b[1;31m:\u001b[0m invalid syntax\n"
     ]
    }
   ],
   "source": [
    "ni$=34 # special characters like '$', '@', '&' are not allowed in the variable \n",
    "ni$"
   ]
  },
  {
   "cell_type": "code",
   "execution_count": 37,
   "id": "54f55636-2b8b-460b-b602-191a26f9d234",
   "metadata": {},
   "outputs": [
    {
     "data": {
      "text/plain": [
       "34"
      ]
     },
     "execution_count": 37,
     "metadata": {},
     "output_type": "execute_result"
    }
   ],
   "source": [
    "ni_=34 # except '_' ( _ is allowed )\n",
    "ni_"
   ]
  },
  {
   "cell_type": "code",
   "execution_count": 38,
   "id": "9725b7c2-252e-4dc7-9cda-520c2fd1c2ae",
   "metadata": {},
   "outputs": [
    {
     "data": {
      "text/plain": [
       "'welcome to the Naresh IT'"
      ]
     },
     "execution_count": 38,
     "metadata": {},
     "output_type": "execute_result"
    }
   ],
   "source": [
    "nit='welcome to the Naresh IT'\n",
    "nit"
   ]
  },
  {
   "cell_type": "code",
   "execution_count": 39,
   "id": "776fec04-738c-4ad6-90d7-8e7395714b38",
   "metadata": {},
   "outputs": [
    {
     "data": {
      "text/plain": [
       "'welcome to the Naresh IT'"
      ]
     },
     "execution_count": 39,
     "metadata": {},
     "output_type": "execute_result"
    }
   ],
   "source": [
    "nit1='welcome to the Naresh IT'\n",
    "nit1\n"
   ]
  },
  {
   "cell_type": "code",
   "execution_count": 40,
   "id": "e7dd08ff-5cef-4d86-8898-ebb3d971581e",
   "metadata": {},
   "outputs": [
    {
     "data": {
      "text/plain": [
       "'welcome to the Naresh IT'"
      ]
     },
     "execution_count": 40,
     "metadata": {},
     "output_type": "execute_result"
    }
   ],
   "source": [
    "nit1='welcome to the Naresh IT'\n",
    "nit1\n",
    "\n"
   ]
  },
  {
   "cell_type": "code",
   "execution_count": 41,
   "id": "72e84c11-a23c-4062-9141-5efec0e0ec2d",
   "metadata": {},
   "outputs": [
    {
     "data": {
      "text/plain": [
       "['False',\n",
       " 'None',\n",
       " 'True',\n",
       " 'and',\n",
       " 'as',\n",
       " 'assert',\n",
       " 'async',\n",
       " 'await',\n",
       " 'break',\n",
       " 'class',\n",
       " 'continue',\n",
       " 'def',\n",
       " 'del',\n",
       " 'elif',\n",
       " 'else',\n",
       " 'except',\n",
       " 'finally',\n",
       " 'for',\n",
       " 'from',\n",
       " 'global',\n",
       " 'if',\n",
       " 'import',\n",
       " 'in',\n",
       " 'is',\n",
       " 'lambda',\n",
       " 'nonlocal',\n",
       " 'not',\n",
       " 'or',\n",
       " 'pass',\n",
       " 'raise',\n",
       " 'return',\n",
       " 'try',\n",
       " 'while',\n",
       " 'with',\n",
       " 'yield']"
      ]
     },
     "execution_count": 41,
     "metadata": {},
     "output_type": "execute_result"
    }
   ],
   "source": [
    "import keyword\n",
    "keyword.kwlist"
   ]
  },
  {
   "cell_type": "code",
   "execution_count": 42,
   "id": "b4b2d18b-5123-4dfb-b2c6-901b72fb1276",
   "metadata": {},
   "outputs": [
    {
     "data": {
      "text/plain": [
       "35"
      ]
     },
     "execution_count": 42,
     "metadata": {},
     "output_type": "execute_result"
    }
   ],
   "source": [
    "len(keyword.kwlist)"
   ]
  },
  {
   "cell_type": "code",
   "execution_count": 43,
   "id": "4808af9d-09ba-474e-bb01-cf1b9f4a9005",
   "metadata": {},
   "outputs": [
    {
     "ename": "SyntaxError",
     "evalue": "invalid syntax (731439747.py, line 1)",
     "output_type": "error",
     "traceback": [
      "\u001b[1;36m  Cell \u001b[1;32mIn[43], line 1\u001b[1;36m\u001b[0m\n\u001b[1;33m    if=9 # keywords never be declared as variable\u001b[0m\n\u001b[1;37m      ^\u001b[0m\n\u001b[1;31mSyntaxError\u001b[0m\u001b[1;31m:\u001b[0m invalid syntax\n"
     ]
    }
   ],
   "source": [
    "if=9 # keywords never be declared as variable "
   ]
  },
  {
   "cell_type": "code",
   "execution_count": 44,
   "id": "37add6cb-de68-4709-98b1-92ed41ceb972",
   "metadata": {},
   "outputs": [
    {
     "data": {
      "text/plain": [
       "9"
      ]
     },
     "execution_count": 44,
     "metadata": {},
     "output_type": "execute_result"
    }
   ],
   "source": [
    "IF=9\n",
    "IF"
   ]
  },
  {
   "cell_type": "code",
   "execution_count": 45,
   "id": "f1f51033-cc74-47d3-aac3-cd00327638be",
   "metadata": {},
   "outputs": [
    {
     "ename": "SyntaxError",
     "evalue": "invalid syntax (2720576913.py, line 1)",
     "output_type": "error",
     "traceback": [
      "\u001b[1;36m  Cell \u001b[1;32mIn[45], line 1\u001b[1;36m\u001b[0m\n\u001b[1;33m    for=10\u001b[0m\n\u001b[1;37m       ^\u001b[0m\n\u001b[1;31mSyntaxError\u001b[0m\u001b[1;31m:\u001b[0m invalid syntax\n"
     ]
    }
   ],
   "source": [
    "for=10\n",
    "for"
   ]
  },
  {
   "cell_type": "code",
   "execution_count": 46,
   "id": "e0cd7cc1-38a7-4a31-bdbe-219ed44c1c1b",
   "metadata": {},
   "outputs": [
    {
     "data": {
      "text/plain": [
       "10"
      ]
     },
     "execution_count": 46,
     "metadata": {},
     "output_type": "execute_result"
    }
   ],
   "source": [
    "FOR=10\n",
    "FOR"
   ]
  },
  {
   "cell_type": "code",
   "execution_count": 47,
   "id": "196e231d-4d0a-482e-a65e-d1cc0d5f531b",
   "metadata": {},
   "outputs": [
    {
     "ename": "SyntaxError",
     "evalue": "cannot assign to True (473287154.py, line 1)",
     "output_type": "error",
     "traceback": [
      "\u001b[1;36m  Cell \u001b[1;32mIn[47], line 1\u001b[1;36m\u001b[0m\n\u001b[1;33m    True=9\u001b[0m\n\u001b[1;37m    ^\u001b[0m\n\u001b[1;31mSyntaxError\u001b[0m\u001b[1;31m:\u001b[0m cannot assign to True\n"
     ]
    }
   ],
   "source": [
    "True=9"
   ]
  },
  {
   "cell_type": "code",
   "execution_count": 48,
   "id": "75c7bea8-e1d9-47f6-b09b-8ba37d4e66b7",
   "metadata": {},
   "outputs": [
    {
     "data": {
      "text/plain": [
       "9"
      ]
     },
     "execution_count": 48,
     "metadata": {},
     "output_type": "execute_result"
    }
   ],
   "source": [
    "true=9\n",
    "true"
   ]
  },
  {
   "cell_type": "code",
   "execution_count": 49,
   "id": "28103da2-6e3c-47ef-aa17-4bc3dddbb6a4",
   "metadata": {},
   "outputs": [
    {
     "data": {
      "text/plain": [
       "9"
      ]
     },
     "execution_count": 49,
     "metadata": {},
     "output_type": "execute_result"
    }
   ],
   "source": [
    "true"
   ]
  },
  {
   "cell_type": "code",
   "execution_count": 50,
   "id": "2ff7afa4-e586-4180-9a65-d8833c360659",
   "metadata": {},
   "outputs": [
    {
     "data": {
      "text/plain": [
       "True"
      ]
     },
     "execution_count": 50,
     "metadata": {},
     "output_type": "execute_result"
    }
   ],
   "source": [
    "True"
   ]
  },
  {
   "cell_type": "code",
   "execution_count": 51,
   "id": "f442c22e-3bdc-4e41-949c-c62c6e92726f",
   "metadata": {},
   "outputs": [
    {
     "data": {
      "text/plain": [
       "9"
      ]
     },
     "execution_count": 51,
     "metadata": {},
     "output_type": "execute_result"
    }
   ],
   "source": [
    "Def=9\n",
    "Def"
   ]
  },
  {
   "cell_type": "code",
   "execution_count": 52,
   "id": "fd27f3d8-3d42-49d0-8303-307eae2cf4c9",
   "metadata": {},
   "outputs": [
    {
     "data": {
      "text/plain": [
       "4"
      ]
     },
     "execution_count": 52,
     "metadata": {},
     "output_type": "execute_result"
    }
   ],
   "source": [
    "a=2       #  Here it executes only the 'c' variable \n",
    "b=3\n",
    "c=4\n",
    "a\n",
    "b\n",
    "c"
   ]
  },
  {
   "cell_type": "code",
   "execution_count": 53,
   "id": "7a6d655f-723c-4257-9e75-f3b5d886fa1f",
   "metadata": {},
   "outputs": [
    {
     "name": "stdout",
     "output_type": "stream",
     "text": [
      "2\n",
      "3\n",
      "4\n"
     ]
    }
   ],
   "source": [
    "\n",
    "a=2            #  Using print statement it executes all the variables \n",
    "b=3            # if user has one variable (Print is not required)\n",
    "c=4            # if user has more than one variable(print is required)\n",
    "print(a)\n",
    "print(b)\n",
    "print(c)"
   ]
  },
  {
   "cell_type": "markdown",
   "id": "cc7de628-039e-4c47-9d6b-90e8135abb15",
   "metadata": {},
   "source": [
    "# PYTHON DATATYPEA\n",
    "1. Integer DataType   # value without decimal\n",
    "2. Float DataType     # value with decimal \n",
    "3. String DataType    # value in quotes('',\"\",''' ''')\n",
    "4. Boolean DataType   # True or False\n",
    "5. Complex DataType   # a+bj\n"
   ]
  },
  {
   "cell_type": "markdown",
   "id": "b4e75b63-b219-470c-b292-d46a6ad6f543",
   "metadata": {},
   "source": [
    "# 1. integer DataType"
   ]
  },
  {
   "cell_type": "code",
   "execution_count": 55,
   "id": "b1966bc4-8c46-449a-b094-03317abcca3e",
   "metadata": {},
   "outputs": [
    {
     "data": {
      "text/plain": [
       "90"
      ]
     },
     "execution_count": 55,
     "metadata": {},
     "output_type": "execute_result"
    }
   ],
   "source": [
    "i=90\n",
    "i"
   ]
  },
  {
   "cell_type": "code",
   "execution_count": 56,
   "id": "2db4de5a-59fb-4c77-b160-8b83ee8a9833",
   "metadata": {},
   "outputs": [
    {
     "data": {
      "text/plain": [
       "int"
      ]
     },
     "execution_count": 56,
     "metadata": {},
     "output_type": "execute_result"
    }
   ],
   "source": [
    "type(i)\n"
   ]
  },
  {
   "cell_type": "code",
   "execution_count": 57,
   "id": "f849d035-b9e5-4ed6-9b17-f5f03eeed6c7",
   "metadata": {},
   "outputs": [
    {
     "name": "stdout",
     "output_type": "stream",
     "text": [
      "20\n",
      "30\n"
     ]
    }
   ],
   "source": [
    "i1,i2=20,30\n",
    "print(i1)\n",
    "print(i2)"
   ]
  },
  {
   "cell_type": "code",
   "execution_count": 58,
   "id": "a4477538-8488-43c4-a41e-bbc822548330",
   "metadata": {},
   "outputs": [
    {
     "data": {
      "text/plain": [
       "50"
      ]
     },
     "execution_count": 58,
     "metadata": {},
     "output_type": "execute_result"
    }
   ],
   "source": [
    "i1+i2"
   ]
  },
  {
   "cell_type": "code",
   "execution_count": 59,
   "id": "b0a034bd-807a-47d6-9073-2f43705882b5",
   "metadata": {},
   "outputs": [
    {
     "data": {
      "text/plain": [
       "600"
      ]
     },
     "execution_count": 59,
     "metadata": {},
     "output_type": "execute_result"
    }
   ],
   "source": [
    "i1*i2"
   ]
  },
  {
   "cell_type": "markdown",
   "id": "0dc61813-c2f0-4a61-97b2-cb2b938f819a",
   "metadata": {},
   "source": [
    "# 2. float Datatype"
   ]
  },
  {
   "cell_type": "code",
   "execution_count": 61,
   "id": "1df4a900-3382-48cd-abbc-18e5c2e083ca",
   "metadata": {},
   "outputs": [
    {
     "data": {
      "text/plain": [
       "2.3"
      ]
     },
     "execution_count": 61,
     "metadata": {},
     "output_type": "execute_result"
    }
   ],
   "source": [
    "i1=2.3\n",
    "i1\n"
   ]
  },
  {
   "cell_type": "code",
   "execution_count": 62,
   "id": "bad84392-a664-4a6f-b6a5-4daeaf86bac2",
   "metadata": {},
   "outputs": [
    {
     "data": {
      "text/plain": [
       "9.0"
      ]
     },
     "execution_count": 62,
     "metadata": {},
     "output_type": "execute_result"
    }
   ],
   "source": [
    "i2=9.0\n",
    "i2"
   ]
  },
  {
   "cell_type": "code",
   "execution_count": 63,
   "id": "1ed402df-f66d-49bb-a60d-985e2bad7fc4",
   "metadata": {},
   "outputs": [
    {
     "data": {
      "text/plain": [
       "11.3"
      ]
     },
     "execution_count": 63,
     "metadata": {},
     "output_type": "execute_result"
    }
   ],
   "source": [
    "\n",
    "i1+i2"
   ]
  },
  {
   "cell_type": "markdown",
   "id": "8e01066a-d6d1-4859-b0ef-f3dcc414a11f",
   "metadata": {},
   "source": [
    "# 3. String Datatype"
   ]
  },
  {
   "cell_type": "code",
   "execution_count": 64,
   "id": "17d8654d-d7e6-4555-9730-2a5f527b261f",
   "metadata": {},
   "outputs": [
    {
     "data": {
      "text/plain": [
       "'20'"
      ]
     },
     "execution_count": 64,
     "metadata": {},
     "output_type": "execute_result"
    }
   ],
   "source": [
    "a='20'\n",
    "a"
   ]
  },
  {
   "cell_type": "code",
   "execution_count": 65,
   "id": "98c938f8-4879-4054-9124-9d634c30700a",
   "metadata": {},
   "outputs": [
    {
     "data": {
      "text/plain": [
       "str"
      ]
     },
     "execution_count": 65,
     "metadata": {},
     "output_type": "execute_result"
    }
   ],
   "source": [
    "\n",
    "type(a)"
   ]
  },
  {
   "cell_type": "code",
   "execution_count": 66,
   "id": "e427b57d-2f73-4ff3-9a8e-05a731a8b753",
   "metadata": {},
   "outputs": [
    {
     "data": {
      "text/plain": [
       "'50'"
      ]
     },
     "execution_count": 66,
     "metadata": {},
     "output_type": "execute_result"
    }
   ],
   "source": [
    "b='50'   # String with single line - Single and Double quotes are applicable\n",
    "b"
   ]
  },
  {
   "cell_type": "code",
   "execution_count": 68,
   "id": "e56df16a-7d15-497b-b9fc-bd7cfd7cd12d",
   "metadata": {},
   "outputs": [
    {
     "name": "stdout",
     "output_type": "stream",
     "text": [
      "20\n",
      "50\n"
     ]
    }
   ],
   "source": [
    "print(a)\n",
    "print(b)"
   ]
  },
  {
   "cell_type": "code",
   "execution_count": 69,
   "id": "c16cdbd0-d31a-4746-8c33-70f174b3bac6",
   "metadata": {},
   "outputs": [
    {
     "data": {
      "text/plain": [
       "' welcome to the Naresh I Technologies'"
      ]
     },
     "execution_count": 69,
     "metadata": {},
     "output_type": "execute_result"
    }
   ],
   "source": [
    "nit=\" welcome to the Naresh I Technologies\"\n",
    "nit\n"
   ]
  },
  {
   "cell_type": "code",
   "execution_count": 70,
   "id": "0aa99bbf-784c-41c5-8d40-51b149313b1a",
   "metadata": {},
   "outputs": [
    {
     "data": {
      "text/plain": [
       "' Naresh IT \\n        will train a Full Stack DataScience in 6 months'"
      ]
     },
     "execution_count": 70,
     "metadata": {},
     "output_type": "execute_result"
    }
   ],
   "source": [
    "nit1= ''' Naresh IT \n",
    "        will train a Full Stack DataScience in 6 months'''\n",
    "nit1"
   ]
  },
  {
   "cell_type": "markdown",
   "id": "97520e48-20ab-4b33-840c-884fd1fb8e3c",
   "metadata": {},
   "source": [
    "# String indexing\n",
    "1.Forward Indexing -- Left to Right\n",
    "2.Backward Indexing -- Right to Left"
   ]
  },
  {
   "cell_type": "code",
   "execution_count": 71,
   "id": "387eeb8e-72c8-4d03-9ba8-c5212ac92d3a",
   "metadata": {},
   "outputs": [
    {
     "data": {
      "text/plain": [
       "'nareshit'"
      ]
     },
     "execution_count": 71,
     "metadata": {},
     "output_type": "execute_result"
    }
   ],
   "source": [
    "\n",
    "s='nareshit'\n",
    "s"
   ]
  },
  {
   "cell_type": "code",
   "execution_count": 72,
   "id": "129c5da3-b152-4bd8-8a0e-bc93e154b676",
   "metadata": {},
   "outputs": [
    {
     "name": "stdout",
     "output_type": "stream",
     "text": [
      "n\n"
     ]
    }
   ],
   "source": [
    "\n",
    "print(s[0])"
   ]
  },
  {
   "cell_type": "code",
   "execution_count": 73,
   "id": "997bb1e9-027c-404f-bc47-8a66b01cd698",
   "metadata": {},
   "outputs": [
    {
     "name": "stdout",
     "output_type": "stream",
     "text": [
      "nar\n"
     ]
    }
   ],
   "source": [
    "\n",
    "print(s[0:3])"
   ]
  },
  {
   "cell_type": "markdown",
   "id": "ce4fbffd-b3d3-4dfc-b3f0-4975802b18c9",
   "metadata": {},
   "source": [
    "# 4. Boolean DataType"
   ]
  },
  {
   "cell_type": "code",
   "execution_count": 75,
   "id": "3ddd9817-59f2-4cbb-88a4-246ff7088d5e",
   "metadata": {},
   "outputs": [
    {
     "data": {
      "text/plain": [
       "True"
      ]
     },
     "execution_count": 75,
     "metadata": {},
     "output_type": "execute_result"
    }
   ],
   "source": [
    "\n",
    "True"
   ]
  },
  {
   "cell_type": "code",
   "execution_count": 76,
   "id": "f0592299-079b-472f-95aa-df0673fb92cb",
   "metadata": {},
   "outputs": [
    {
     "data": {
      "text/plain": [
       "bool"
      ]
     },
     "execution_count": 76,
     "metadata": {},
     "output_type": "execute_result"
    }
   ],
   "source": [
    "\n",
    "type(True)"
   ]
  },
  {
   "cell_type": "code",
   "execution_count": 77,
   "id": "636e121b-a357-4769-ac4f-0c47ae0e8a71",
   "metadata": {},
   "outputs": [
    {
     "data": {
      "text/plain": [
       "False"
      ]
     },
     "execution_count": 77,
     "metadata": {},
     "output_type": "execute_result"
    }
   ],
   "source": [
    "\n",
    "False"
   ]
  },
  {
   "cell_type": "code",
   "execution_count": 78,
   "id": "56379cf8-62e1-451d-8be8-118a72b50b88",
   "metadata": {},
   "outputs": [
    {
     "data": {
      "text/plain": [
       "bool"
      ]
     },
     "execution_count": 78,
     "metadata": {},
     "output_type": "execute_result"
    }
   ],
   "source": [
    "\n",
    "type(False)"
   ]
  },
  {
   "cell_type": "code",
   "execution_count": 79,
   "id": "f48e0869-8c06-4eef-b0a1-9cfdb43842ce",
   "metadata": {},
   "outputs": [
    {
     "name": "stdout",
     "output_type": "stream",
     "text": [
      "True\n",
      "False\n"
     ]
    }
   ],
   "source": [
    "\n",
    "c=True\n",
    "c1=False\n",
    "print(c)\n",
    "print(c1)"
   ]
  },
  {
   "cell_type": "code",
   "execution_count": 80,
   "id": "b1177d1f-e932-4a61-864c-d2ad63a642bb",
   "metadata": {},
   "outputs": [
    {
     "data": {
      "text/plain": [
       "1"
      ]
     },
     "execution_count": 80,
     "metadata": {},
     "output_type": "execute_result"
    }
   ],
   "source": [
    "\n",
    "c+c1"
   ]
  },
  {
   "cell_type": "code",
   "execution_count": 81,
   "id": "1fc9031a-0f44-4e4a-89ee-860513a55674",
   "metadata": {},
   "outputs": [
    {
     "name": "stdout",
     "output_type": "stream",
     "text": [
      "True\n"
     ]
    }
   ],
   "source": [
    "\n",
    "print(c)"
   ]
  },
  {
   "cell_type": "code",
   "execution_count": 82,
   "id": "124be02b-e935-439e-90bc-6f03d9b55ec5",
   "metadata": {},
   "outputs": [
    {
     "data": {
      "text/plain": [
       "1"
      ]
     },
     "execution_count": 82,
     "metadata": {},
     "output_type": "execute_result"
    }
   ],
   "source": [
    "c-c1\n"
   ]
  },
  {
   "cell_type": "code",
   "execution_count": 83,
   "id": "7e5aa381-b112-4a2e-8b20-749865304854",
   "metadata": {},
   "outputs": [
    {
     "data": {
      "text/plain": [
       "0"
      ]
     },
     "execution_count": 83,
     "metadata": {},
     "output_type": "execute_result"
    }
   ],
   "source": [
    "c*c1\n",
    "c*c1"
   ]
  },
  {
   "cell_type": "code",
   "execution_count": 85,
   "id": "df1c589a-4fee-45f7-972c-32ce38911d32",
   "metadata": {},
   "outputs": [
    {
     "name": "stdout",
     "output_type": "stream",
     "text": [
      "1\n",
      "0\n",
      "0\n"
     ]
    }
   ],
   "source": [
    "print(c-c1)\n",
    "print(c*c1)\n",
    "print(c1%c)\n"
   ]
  },
  {
   "cell_type": "markdown",
   "id": "962a42a0-7f52-474a-baf6-8e426a7e3f70",
   "metadata": {},
   "source": [
    "# 5.Complex DataType"
   ]
  },
  {
   "cell_type": "code",
   "execution_count": null,
   "id": "3af9759b-0660-4fc1-a02f-6861cadffafa",
   "metadata": {},
   "outputs": [],
   "source": [
    "\n",
    "a+bj\n",
    "a - real part\n",
    "b - imaginary part\n",
    "j - square root of -1"
   ]
  },
  {
   "cell_type": "code",
   "execution_count": 87,
   "id": "8517c97f-eb5f-4984-9cb6-3adaae1b7b33",
   "metadata": {},
   "outputs": [
    {
     "data": {
      "text/plain": [
       "(1+2j)"
      ]
     },
     "execution_count": 87,
     "metadata": {},
     "output_type": "execute_result"
    }
   ],
   "source": [
    "\n",
    "d=1+2j \n",
    "d"
   ]
  },
  {
   "cell_type": "code",
   "execution_count": 88,
   "id": "c75eb2e2-cd66-46c1-b18c-6d832d8a20bd",
   "metadata": {},
   "outputs": [
    {
     "ename": "SyntaxError",
     "evalue": "invalid decimal literal (763538831.py, line 1)",
     "output_type": "error",
     "traceback": [
      "\u001b[1;36m  Cell \u001b[1;32mIn[88], line 1\u001b[1;36m\u001b[0m\n\u001b[1;33m    d1=1+2i # Only 'j'or 'J' is allowed\u001b[0m\n\u001b[1;37m         ^\u001b[0m\n\u001b[1;31mSyntaxError\u001b[0m\u001b[1;31m:\u001b[0m invalid decimal literal\n"
     ]
    }
   ],
   "source": [
    "\n",
    "d1=1+2i # Only 'j'or 'J' is allowed \n",
    "d1"
   ]
  },
  {
   "cell_type": "code",
   "execution_count": 89,
   "id": "540a920d-2307-4bce-a535-e8e30716120d",
   "metadata": {},
   "outputs": [
    {
     "data": {
      "text/plain": [
       "complex"
      ]
     },
     "execution_count": 89,
     "metadata": {},
     "output_type": "execute_result"
    }
   ],
   "source": [
    "\n",
    "type(d)"
   ]
  },
  {
   "cell_type": "code",
   "execution_count": 90,
   "id": "25f0f2be-872b-49ac-a31e-4e8e5307835a",
   "metadata": {},
   "outputs": [
    {
     "data": {
      "text/plain": [
       "1.0"
      ]
     },
     "execution_count": 90,
     "metadata": {},
     "output_type": "execute_result"
    }
   ],
   "source": [
    "\n",
    "d.real"
   ]
  },
  {
   "cell_type": "code",
   "execution_count": 91,
   "id": "44a2785b-bb16-424a-983a-c63fec3070f3",
   "metadata": {},
   "outputs": [
    {
     "data": {
      "text/plain": [
       "2.0"
      ]
     },
     "execution_count": 91,
     "metadata": {},
     "output_type": "execute_result"
    }
   ],
   "source": [
    "\n",
    "d.imag"
   ]
  },
  {
   "cell_type": "markdown",
   "id": "24c725bd-ca02-4918-a663-05709eb8a730",
   "metadata": {},
   "source": [
    "# PYTHON TYPE CASTING OR TYPE CONVERSION\n",
    "\n",
    "## Other DataType to integer TypeCasting "
   ]
  },
  {
   "cell_type": "code",
   "execution_count": 93,
   "id": "30f5eb9f-f023-41a8-aa2f-79ebe699cbba",
   "metadata": {},
   "outputs": [
    {
     "data": {
      "text/plain": [
       "3"
      ]
     },
     "execution_count": 93,
     "metadata": {},
     "output_type": "execute_result"
    }
   ],
   "source": [
    "\n",
    "int(3.4) # Float to int"
   ]
  },
  {
   "cell_type": "code",
   "execution_count": 94,
   "id": "6e47a822-f540-462f-a5d3-e222e00a99d0",
   "metadata": {},
   "outputs": [
    {
     "ename": "TypeError",
     "evalue": "'float' object cannot be interpreted as an integer",
     "output_type": "error",
     "traceback": [
      "\u001b[1;31m---------------------------------------------------------------------------\u001b[0m",
      "\u001b[1;31mTypeError\u001b[0m                                 Traceback (most recent call last)",
      "Cell \u001b[1;32mIn[94], line 1\u001b[0m\n\u001b[1;32m----> 1\u001b[0m \u001b[38;5;28mint\u001b[39m(\u001b[38;5;241m3.4\u001b[39m,\u001b[38;5;241m2.9\u001b[39m)\n",
      "\u001b[1;31mTypeError\u001b[0m: 'float' object cannot be interpreted as an integer"
     ]
    }
   ],
   "source": [
    "\n",
    "int(3.4,2.9)"
   ]
  },
  {
   "cell_type": "code",
   "execution_count": 95,
   "id": "6cfd7c09-8dfa-4236-83c6-a8af13fcbab0",
   "metadata": {},
   "outputs": [
    {
     "data": {
      "text/plain": [
       "1"
      ]
     },
     "execution_count": 95,
     "metadata": {},
     "output_type": "execute_result"
    }
   ],
   "source": [
    "\n",
    "int(True) # Boolean to Int"
   ]
  },
  {
   "cell_type": "code",
   "execution_count": 96,
   "id": "6588bc54-8b04-4a73-b4ff-929a259876ef",
   "metadata": {},
   "outputs": [
    {
     "data": {
      "text/plain": [
       "0"
      ]
     },
     "execution_count": 96,
     "metadata": {},
     "output_type": "execute_result"
    }
   ],
   "source": [
    "\n",
    "int(False)"
   ]
  },
  {
   "cell_type": "code",
   "execution_count": 97,
   "id": "e3c45b48-b7f5-4d52-8881-2daa98514cd2",
   "metadata": {},
   "outputs": [
    {
     "name": "stdout",
     "output_type": "stream",
     "text": [
      "4\n",
      "1\n",
      "20\n"
     ]
    }
   ],
   "source": [
    "\n",
    "print(int(4.8))\n",
    "print(int(True)) \n",
    "print(int('20')) # String to Int "
   ]
  },
  {
   "cell_type": "code",
   "execution_count": 98,
   "id": "8eb19ff0-74a4-4af6-aa2e-3b111a6abc15",
   "metadata": {},
   "outputs": [
    {
     "ename": "TypeError",
     "evalue": "int() argument must be a string, a bytes-like object or a real number, not 'complex'",
     "output_type": "error",
     "traceback": [
      "\u001b[1;31m---------------------------------------------------------------------------\u001b[0m",
      "\u001b[1;31mTypeError\u001b[0m                                 Traceback (most recent call last)",
      "Cell \u001b[1;32mIn[98], line 1\u001b[0m\n\u001b[1;32m----> 1\u001b[0m \u001b[38;5;28mint\u001b[39m(\u001b[38;5;241m1\u001b[39m\u001b[38;5;241m+\u001b[39m\u001b[38;5;241m2\u001b[39mj)\n",
      "\u001b[1;31mTypeError\u001b[0m: int() argument must be a string, a bytes-like object or a real number, not 'complex'"
     ]
    }
   ],
   "source": [
    "int(1+2j) # Complex is not allowed "
   ]
  },
  {
   "cell_type": "markdown",
   "id": "4e047939-2ba4-4d86-a93d-e75cb66e536b",
   "metadata": {},
   "source": [
    "# other DataTypes to Float"
   ]
  },
  {
   "cell_type": "code",
   "execution_count": 99,
   "id": "cfa2c250-3d45-48a3-a79a-b43a8ddaa502",
   "metadata": {},
   "outputs": [
    {
     "data": {
      "text/plain": [
       "1.0"
      ]
     },
     "execution_count": 99,
     "metadata": {},
     "output_type": "execute_result"
    }
   ],
   "source": [
    "\n",
    "float(True)"
   ]
  },
  {
   "cell_type": "code",
   "execution_count": 100,
   "id": "aa3e7156-442f-4c8e-a753-5dcab820be32",
   "metadata": {},
   "outputs": [
    {
     "data": {
      "text/plain": [
       "24.0"
      ]
     },
     "execution_count": 100,
     "metadata": {},
     "output_type": "execute_result"
    }
   ],
   "source": [
    "\n",
    "float(24)"
   ]
  },
  {
   "cell_type": "code",
   "execution_count": 101,
   "id": "1785a9d7-d92f-4229-b29a-38a74a6529c9",
   "metadata": {},
   "outputs": [
    {
     "ename": "TypeError",
     "evalue": "float expected at most 1 argument, got 2",
     "output_type": "error",
     "traceback": [
      "\u001b[1;31m---------------------------------------------------------------------------\u001b[0m",
      "\u001b[1;31mTypeError\u001b[0m                                 Traceback (most recent call last)",
      "Cell \u001b[1;32mIn[101], line 1\u001b[0m\n\u001b[1;32m----> 1\u001b[0m \u001b[38;5;28mfloat\u001b[39m(\u001b[38;5;241m20\u001b[39m,\u001b[38;5;241m30\u001b[39m)\n",
      "\u001b[1;31mTypeError\u001b[0m: float expected at most 1 argument, got 2"
     ]
    }
   ],
   "source": [
    "float(20,30) # two arguments are allowed\n"
   ]
  },
  {
   "cell_type": "code",
   "execution_count": 102,
   "id": "c51ac79e-69d1-42e7-a130-da78e18fbc93",
   "metadata": {},
   "outputs": [
    {
     "ename": "ValueError",
     "evalue": "could not convert string to float: 'ten'",
     "output_type": "error",
     "traceback": [
      "\u001b[1;31m---------------------------------------------------------------------------\u001b[0m",
      "\u001b[1;31mValueError\u001b[0m                                Traceback (most recent call last)",
      "Cell \u001b[1;32mIn[102], line 1\u001b[0m\n\u001b[1;32m----> 1\u001b[0m \u001b[38;5;28mfloat\u001b[39m(\u001b[38;5;124m'\u001b[39m\u001b[38;5;124mten\u001b[39m\u001b[38;5;124m'\u001b[39m)\n",
      "\u001b[1;31mValueError\u001b[0m: could not convert string to float: 'ten'"
     ]
    }
   ],
   "source": [
    "float('ten') # String with text is not allowed"
   ]
  },
  {
   "cell_type": "code",
   "execution_count": 103,
   "id": "7def7e92-74bb-495c-a319-4e324fceb154",
   "metadata": {},
   "outputs": [
    {
     "data": {
      "text/plain": [
       "10.0"
      ]
     },
     "execution_count": 103,
     "metadata": {},
     "output_type": "execute_result"
    }
   ],
   "source": [
    "\n",
    "float('10')"
   ]
  },
  {
   "cell_type": "markdown",
   "id": "a853bcd8-04a6-4885-ad89-a133622a7635",
   "metadata": {},
   "source": [
    "# Other DataTypes to Complex "
   ]
  },
  {
   "cell_type": "code",
   "execution_count": 104,
   "id": "88cf51bf-8d24-452f-86c4-d111b2c0e662",
   "metadata": {},
   "outputs": [
    {
     "data": {
      "text/plain": [
       "(90+0j)"
      ]
     },
     "execution_count": 104,
     "metadata": {},
     "output_type": "execute_result"
    }
   ],
   "source": [
    "complex(90)"
   ]
  },
  {
   "cell_type": "code",
   "execution_count": 105,
   "id": "790445bd-edab-42c6-bc66-78476d1c0b98",
   "metadata": {},
   "outputs": [
    {
     "data": {
      "text/plain": [
       "(80+67j)"
      ]
     },
     "execution_count": 105,
     "metadata": {},
     "output_type": "execute_result"
    }
   ],
   "source": [
    "\n",
    "complex(80,67)"
   ]
  },
  {
   "cell_type": "code",
   "execution_count": 106,
   "id": "9fcbca78-a237-4c90-a05c-e65d80b68caa",
   "metadata": {},
   "outputs": [
    {
     "data": {
      "text/plain": [
       "(30+49.8j)"
      ]
     },
     "execution_count": 106,
     "metadata": {},
     "output_type": "execute_result"
    }
   ],
   "source": [
    "complex(30.0,49.8)"
   ]
  },
  {
   "cell_type": "code",
   "execution_count": 107,
   "id": "732345dc-e38b-4c17-8129-8aea0e272ac5",
   "metadata": {},
   "outputs": [
    {
     "data": {
      "text/plain": [
       "(1+0j)"
      ]
     },
     "execution_count": 107,
     "metadata": {},
     "output_type": "execute_result"
    }
   ],
   "source": [
    "\n",
    "complex(True)"
   ]
  },
  {
   "cell_type": "code",
   "execution_count": 108,
   "id": "6358abdc-e0e9-4a4e-97ff-2a73bebaf21b",
   "metadata": {},
   "outputs": [
    {
     "data": {
      "text/plain": [
       "0j"
      ]
     },
     "execution_count": 108,
     "metadata": {},
     "output_type": "execute_result"
    }
   ],
   "source": [
    "\n",
    "complex(False)"
   ]
  },
  {
   "cell_type": "code",
   "execution_count": 109,
   "id": "32f04ede-863f-4473-948d-2e5df1e00863",
   "metadata": {},
   "outputs": [
    {
     "ename": "ValueError",
     "evalue": "complex() arg is a malformed string",
     "output_type": "error",
     "traceback": [
      "\u001b[1;31m---------------------------------------------------------------------------\u001b[0m",
      "\u001b[1;31mValueError\u001b[0m                                Traceback (most recent call last)",
      "Cell \u001b[1;32mIn[109], line 1\u001b[0m\n\u001b[1;32m----> 1\u001b[0m \u001b[38;5;28mcomplex\u001b[39m(\u001b[38;5;124m'\u001b[39m\u001b[38;5;124mten\u001b[39m\u001b[38;5;124m'\u001b[39m)\n",
      "\u001b[1;31mValueError\u001b[0m: complex() arg is a malformed string"
     ]
    }
   ],
   "source": [
    "\n",
    "complex('ten') # String with text is not allowed"
   ]
  },
  {
   "cell_type": "code",
   "execution_count": 110,
   "id": "172be8b9-5b8c-4613-ae24-9e302c7b2df9",
   "metadata": {},
   "outputs": [
    {
     "data": {
      "text/plain": [
       "(48+0j)"
      ]
     },
     "execution_count": 110,
     "metadata": {},
     "output_type": "execute_result"
    }
   ],
   "source": [
    "\n",
    "complex('48')"
   ]
  },
  {
   "cell_type": "markdown",
   "id": "a857be28-b9e2-459e-ba94-767f3d6a7eda",
   "metadata": {},
   "source": [
    "# Other DataTypes to Boolean"
   ]
  },
  {
   "cell_type": "code",
   "execution_count": 112,
   "id": "b261511d-8ac5-43a9-944c-607fe857e0e5",
   "metadata": {},
   "outputs": [
    {
     "data": {
      "text/plain": [
       "True"
      ]
     },
     "execution_count": 112,
     "metadata": {},
     "output_type": "execute_result"
    }
   ],
   "source": [
    "\n",
    "bool(67)"
   ]
  },
  {
   "cell_type": "code",
   "execution_count": 113,
   "id": "51a01e46-7142-4058-8dcb-56e6866c60d0",
   "metadata": {},
   "outputs": [
    {
     "data": {
      "text/plain": [
       "True"
      ]
     },
     "execution_count": 113,
     "metadata": {},
     "output_type": "execute_result"
    }
   ],
   "source": [
    "\n",
    "bool(57.9)"
   ]
  },
  {
   "cell_type": "code",
   "execution_count": 114,
   "id": "46b65cde-6684-4b2f-ba77-eb6d71208760",
   "metadata": {},
   "outputs": [
    {
     "data": {
      "text/plain": [
       "True"
      ]
     },
     "execution_count": 114,
     "metadata": {},
     "output_type": "execute_result"
    }
   ],
   "source": [
    "\n",
    "bool(True)"
   ]
  },
  {
   "cell_type": "code",
   "execution_count": 115,
   "id": "e3801f64-023e-4fb2-9240-ea04ea731018",
   "metadata": {},
   "outputs": [
    {
     "data": {
      "text/plain": [
       "False"
      ]
     },
     "execution_count": 115,
     "metadata": {},
     "output_type": "execute_result"
    }
   ],
   "source": [
    "\n",
    "bool(False)"
   ]
  },
  {
   "cell_type": "code",
   "execution_count": 116,
   "id": "ae399251-5bc3-4425-8054-32e6b134deb1",
   "metadata": {},
   "outputs": [
    {
     "data": {
      "text/plain": [
       "True"
      ]
     },
     "execution_count": 116,
     "metadata": {},
     "output_type": "execute_result"
    }
   ],
   "source": [
    "\n",
    "bool('ten')"
   ]
  },
  {
   "cell_type": "code",
   "execution_count": 117,
   "id": "3dea14a2-975e-45e1-8daf-f3b83b44b420",
   "metadata": {},
   "outputs": [
    {
     "data": {
      "text/plain": [
       "True"
      ]
     },
     "execution_count": 117,
     "metadata": {},
     "output_type": "execute_result"
    }
   ],
   "source": [
    "\n",
    "bool('10')"
   ]
  },
  {
   "cell_type": "code",
   "execution_count": 118,
   "id": "7f37925b-daed-4c5b-be99-efb7f4f1ccf0",
   "metadata": {},
   "outputs": [
    {
     "data": {
      "text/plain": [
       "True"
      ]
     },
     "execution_count": 118,
     "metadata": {},
     "output_type": "execute_result"
    }
   ],
   "source": [
    "bool(2+9j)"
   ]
  },
  {
   "cell_type": "code",
   "execution_count": 119,
   "id": "2f71fd75-b022-4001-bc81-9ce19450fd81",
   "metadata": {},
   "outputs": [
    {
     "data": {
      "text/plain": [
       "False"
      ]
     },
     "execution_count": 119,
     "metadata": {},
     "output_type": "execute_result"
    }
   ],
   "source": [
    "\n",
    "bool(0+0j)"
   ]
  },
  {
   "cell_type": "code",
   "execution_count": 120,
   "id": "365e337a-882e-4e1c-84a6-bd87345e3da0",
   "metadata": {},
   "outputs": [
    {
     "data": {
      "text/plain": [
       "True"
      ]
     },
     "execution_count": 120,
     "metadata": {},
     "output_type": "execute_result"
    }
   ],
   "source": [
    "\n",
    "bool(_)"
   ]
  },
  {
   "cell_type": "code",
   "execution_count": 121,
   "id": "419c28b6-73a4-4e56-933e-37f8348b2e58",
   "metadata": {},
   "outputs": [
    {
     "data": {
      "text/plain": [
       "False"
      ]
     },
     "execution_count": 121,
     "metadata": {},
     "output_type": "execute_result"
    }
   ],
   "source": [
    "\n",
    "bool()"
   ]
  },
  {
   "cell_type": "markdown",
   "id": "dcf793cf-ac84-463b-b397-691aceca51ae",
   "metadata": {},
   "source": [
    "# String  indexing & Slicing Advanced Slicing"
   ]
  },
  {
   "cell_type": "code",
   "execution_count": 122,
   "id": "0561d7b4-69b5-4339-bfab-f2d1abe9d264",
   "metadata": {},
   "outputs": [
    {
     "ename": "SyntaxError",
     "evalue": "invalid decimal literal (1568554541.py, line 1)",
     "output_type": "error",
     "traceback": [
      "\u001b[1;36m  Cell \u001b[1;32mIn[122], line 1\u001b[1;36m\u001b[0m\n\u001b[1;33m    8s='hello Python'\u001b[0m\n\u001b[1;37m    ^\u001b[0m\n\u001b[1;31mSyntaxError\u001b[0m\u001b[1;31m:\u001b[0m invalid decimal literal\n"
     ]
    }
   ],
   "source": [
    "\n",
    "8s='hello Python'"
   ]
  },
  {
   "cell_type": "code",
   "execution_count": 123,
   "id": "9ac8d060-b930-40b7-96c8-149e9fd834bb",
   "metadata": {},
   "outputs": [
    {
     "data": {
      "text/plain": [
       "'hello python'"
      ]
     },
     "execution_count": 123,
     "metadata": {},
     "output_type": "execute_result"
    }
   ],
   "source": [
    "\n",
    "s8='hello python'\n",
    "s8"
   ]
  },
  {
   "cell_type": "code",
   "execution_count": 124,
   "id": "a2a51b7c-9cba-45fb-962c-c222b2ee649a",
   "metadata": {},
   "outputs": [
    {
     "data": {
      "text/plain": [
       "'hello python'"
      ]
     },
     "execution_count": 124,
     "metadata": {},
     "output_type": "execute_result"
    }
   ],
   "source": [
    "\n",
    "s8[:]"
   ]
  },
  {
   "cell_type": "code",
   "execution_count": 125,
   "id": "bdf1d467-538c-4a4b-96bb-fb9aba854526",
   "metadata": {},
   "outputs": [
    {
     "name": "stdout",
     "output_type": "stream",
     "text": [
      "h\n",
      "e\n",
      "l\n",
      "l\n",
      "o\n",
      " \n",
      "p\n",
      "y\n",
      "t\n",
      "h\n",
      "o\n",
      "n\n"
     ]
    }
   ],
   "source": [
    "for i in s8:\n",
    "    print(i)"
   ]
  },
  {
   "cell_type": "code",
   "execution_count": 126,
   "id": "8caa9637-1e1a-4bcc-93b7-e7a8a1983da9",
   "metadata": {},
   "outputs": [
    {
     "data": {
      "text/plain": [
       "'n'"
      ]
     },
     "execution_count": 126,
     "metadata": {},
     "output_type": "execute_result"
    }
   ],
   "source": [
    "\n",
    "s8[-1]"
   ]
  },
  {
   "cell_type": "code",
   "execution_count": 127,
   "id": "6633bcd4-0f19-4de7-9dfe-af7520200027",
   "metadata": {},
   "outputs": [
    {
     "data": {
      "text/plain": [
       "'llo pyt'"
      ]
     },
     "execution_count": 127,
     "metadata": {},
     "output_type": "execute_result"
    }
   ],
   "source": [
    "\n",
    "s8[2:9]"
   ]
  },
  {
   "cell_type": "code",
   "execution_count": 128,
   "id": "5eb354cd-c494-4a07-97b5-ca8c9ff1fb28",
   "metadata": {},
   "outputs": [
    {
     "data": {
      "text/plain": [
       "'nohtyp olleh'"
      ]
     },
     "execution_count": 128,
     "metadata": {},
     "output_type": "execute_result"
    }
   ],
   "source": [
    "\n",
    "s8[::-1]"
   ]
  },
  {
   "cell_type": "code",
   "execution_count": 129,
   "id": "91905741-ad18-4373-bc26-bf58407d46e4",
   "metadata": {},
   "outputs": [
    {
     "data": {
      "text/plain": [
       "'hello python'"
      ]
     },
     "execution_count": 129,
     "metadata": {},
     "output_type": "execute_result"
    }
   ],
   "source": [
    "\n",
    "s8[::]"
   ]
  },
  {
   "cell_type": "code",
   "execution_count": 130,
   "id": "cdfd668c-b7ff-4cdb-984a-f5a7ee9eaf4d",
   "metadata": {},
   "outputs": [
    {
     "data": {
      "text/plain": [
       "'h'"
      ]
     },
     "execution_count": 130,
     "metadata": {},
     "output_type": "execute_result"
    }
   ],
   "source": [
    "\n",
    "s8[0:4:5]"
   ]
  },
  {
   "cell_type": "code",
   "execution_count": 131,
   "id": "fc061481-8ead-42f5-b3dc-53e2cf159cf1",
   "metadata": {},
   "outputs": [
    {
     "data": {
      "text/plain": [
       "'nhy le'"
      ]
     },
     "execution_count": 131,
     "metadata": {},
     "output_type": "execute_result"
    }
   ],
   "source": [
    "\n",
    "s8[::-2]"
   ]
  },
  {
   "cell_type": "code",
   "execution_count": 132,
   "id": "ce3eff12-c430-4da7-bc79-e2c8631e388a",
   "metadata": {},
   "outputs": [
    {
     "name": "stdout",
     "output_type": "stream",
     "text": [
      "the addition of num1 20 and num2 45=65\n"
     ]
    }
   ],
   "source": [
    "num1= 20\n",
    "num2=45\n",
    "add=num1+num2\n",
    "print('the addition of num1 {} and num2 {}={}'.format(num1,num2,add))"
   ]
  },
  {
   "cell_type": "code",
   "execution_count": null,
   "id": "d3e76292-026c-4a67-abb2-f030d4ccb781",
   "metadata": {},
   "outputs": [],
   "source": []
  },
  {
   "cell_type": "code",
   "execution_count": null,
   "id": "bccff2bb-dd53-4403-aed2-21c430e3519b",
   "metadata": {},
   "outputs": [],
   "source": []
  },
  {
   "cell_type": "code",
   "execution_count": null,
   "id": "723e6afb-0d39-4bb6-9a50-ceed49e87657",
   "metadata": {},
   "outputs": [],
   "source": []
  },
  {
   "cell_type": "code",
   "execution_count": null,
   "id": "32f1f271-eca6-4441-99b2-32ad106815d6",
   "metadata": {},
   "outputs": [],
   "source": []
  },
  {
   "cell_type": "code",
   "execution_count": null,
   "id": "0b4bea4f-6b62-4555-99b3-1762643e1ffb",
   "metadata": {},
   "outputs": [],
   "source": []
  },
  {
   "cell_type": "code",
   "execution_count": null,
   "id": "54c40cc7-c36e-4dab-814d-32308142d269",
   "metadata": {},
   "outputs": [],
   "source": []
  },
  {
   "cell_type": "code",
   "execution_count": null,
   "id": "d6cf8d99-1cea-4871-9fc4-d3bf4900fd6e",
   "metadata": {},
   "outputs": [],
   "source": []
  }
 ],
 "metadata": {
  "kernelspec": {
   "display_name": "Python [conda env:base] *",
   "language": "python",
   "name": "conda-base-py"
  },
  "language_info": {
   "codemirror_mode": {
    "name": "ipython",
    "version": 3
   },
   "file_extension": ".py",
   "mimetype": "text/x-python",
   "name": "python",
   "nbconvert_exporter": "python",
   "pygments_lexer": "ipython3",
   "version": "3.12.7"
  }
 },
 "nbformat": 4,
 "nbformat_minor": 5
}
