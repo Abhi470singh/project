{
 "cells": [
  {
   "cell_type": "code",
   "execution_count": 1,
   "id": "4279f25a-1833-4539-92c2-ab3824a0a346",
   "metadata": {},
   "outputs": [
    {
     "data": {
      "text/plain": [
       "str"
      ]
     },
     "execution_count": 1,
     "metadata": {},
     "output_type": "execute_result"
    }
   ],
   "source": [
    "b = '5'\n",
    "type(b)"
   ]
  },
  {
   "cell_type": "code",
   "execution_count": 2,
   "id": "ad4a4839-009d-4a9b-9dd0-9ecece2aeb10",
   "metadata": {},
   "outputs": [
    {
     "data": {
      "text/plain": [
       "6"
      ]
     },
     "execution_count": 2,
     "metadata": {},
     "output_type": "execute_result"
    }
   ],
   "source": [
    "a = 6\n",
    "a"
   ]
  },
  {
   "cell_type": "code",
   "execution_count": 3,
   "id": "d15d032e-79f3-4e52-84dd-1a40c6d9974a",
   "metadata": {},
   "outputs": [
    {
     "data": {
      "text/plain": [
       "7"
      ]
     },
     "execution_count": 3,
     "metadata": {},
     "output_type": "execute_result"
    }
   ],
   "source": [
    "a1 = 7\n",
    "a1"
   ]
  },
  {
   "cell_type": "code",
   "execution_count": 4,
   "id": "1d4f24e0-53f0-41ca-bbd5-d994fa1a4d63",
   "metadata": {},
   "outputs": [
    {
     "data": {
      "text/plain": [
       "6"
      ]
     },
     "execution_count": 4,
     "metadata": {},
     "output_type": "execute_result"
    }
   ],
   "source": [
    "a"
   ]
  },
  {
   "cell_type": "markdown",
   "id": "4f53780f-e2aa-40d8-a33e-89596dae2124",
   "metadata": {},
   "source": [
    "a1"
   ]
  },
  {
   "cell_type": "code",
   "execution_count": 5,
   "id": "fbcc2b3a-edbf-4990-8bd3-74690bffb320",
   "metadata": {},
   "outputs": [
    {
     "data": {
      "text/plain": [
       "'5'"
      ]
     },
     "execution_count": 5,
     "metadata": {},
     "output_type": "execute_result"
    }
   ],
   "source": [
    "b"
   ]
  },
  {
   "cell_type": "code",
   "execution_count": 6,
   "id": "4e69a4b1-8f6d-4c1a-aebd-0258cd6b37b2",
   "metadata": {},
   "outputs": [
    {
     "data": {
      "text/plain": [
       "7"
      ]
     },
     "execution_count": 6,
     "metadata": {},
     "output_type": "execute_result"
    }
   ],
   "source": [
    "a1"
   ]
  },
  {
   "cell_type": "code",
   "execution_count": 7,
   "id": "e1d1f4b5-1f5b-4c18-b5b6-348382e12b11",
   "metadata": {},
   "outputs": [
    {
     "data": {
      "text/plain": [
       "str"
      ]
     },
     "execution_count": 7,
     "metadata": {},
     "output_type": "execute_result"
    }
   ],
   "source": [
    "a ='5'\n",
    "type(a)"
   ]
  },
  {
   "cell_type": "code",
   "execution_count": 8,
   "id": "7d00f20e-34fd-4584-b60b-741ff6922131",
   "metadata": {},
   "outputs": [
    {
     "data": {
      "text/plain": [
       "'3.13.3 (tags/v3.13.3:6280bb5, Apr  8 2025, 14:47:33) [MSC v.1943 64 bit (AMD64)]'"
      ]
     },
     "execution_count": 8,
     "metadata": {},
     "output_type": "execute_result"
    }
   ],
   "source": [
    "import sys\n",
    "sys.version"
   ]
  },
  {
   "cell_type": "code",
   "execution_count": 9,
   "id": "d4aadb4b-db3f-460a-a9a9-213bb4658d3e",
   "metadata": {},
   "outputs": [
    {
     "data": {
      "text/plain": [
       "int"
      ]
     },
     "execution_count": 9,
     "metadata": {},
     "output_type": "execute_result"
    }
   ],
   "source": [
    "a = 5\n",
    "type(a)"
   ]
  },
  {
   "cell_type": "code",
   "execution_count": 10,
   "id": "ae896551-cb56-4991-957e-6a8fd5fab98e",
   "metadata": {},
   "outputs": [
    {
     "ename": "SyntaxError",
     "evalue": "cannot assign to literal here. Maybe you meant '==' instead of '='? (1218098064.py, line 1)",
     "output_type": "error",
     "traceback": [
      "  \u001b[36mCell\u001b[39m\u001b[36m \u001b[39m\u001b[32mIn[10]\u001b[39m\u001b[32m, line 1\u001b[39m\n\u001b[31m    \u001b[39m\u001b[31m6 = b\u001b[39m\n    ^\n\u001b[31mSyntaxError\u001b[39m\u001b[31m:\u001b[39m cannot assign to literal here. Maybe you meant '==' instead of '='?\n"
     ]
    }
   ],
   "source": [
    "6 = b"
   ]
  },
  {
   "cell_type": "code",
   "execution_count": 11,
   "id": "460ee7d2-ed41-4703-8028-39526c8166e2",
   "metadata": {},
   "outputs": [
    {
     "data": {
      "text/plain": [
       "'3.13.3 (tags/v3.13.3:6280bb5, Apr  8 2025, 14:47:33) [MSC v.1943 64 bit (AMD64)]'"
      ]
     },
     "execution_count": 11,
     "metadata": {},
     "output_type": "execute_result"
    }
   ],
   "source": [
    "## Verify if python is installed\n",
    "import sys \n",
    "sys.version"
   ]
  },
  {
   "cell_type": "code",
   "execution_count": 19,
   "id": "0c3eba9f-b53b-42e1-b922-f4cea837238a",
   "metadata": {},
   "outputs": [],
   "source": [
    "#Integer"
   ]
  },
  {
   "cell_type": "markdown",
   "id": "02c83929-b28c-4d86-b276-bcd50f2e89a5",
   "metadata": {},
   "source": [
    "# INTEGER"
   ]
  },
  {
   "cell_type": "code",
   "execution_count": 22,
   "id": "54ed97ef-6e9d-4e65-96cb-358a646d1be9",
   "metadata": {},
   "outputs": [
    {
     "data": {
      "text/plain": [
       "int"
      ]
     },
     "execution_count": 22,
     "metadata": {},
     "output_type": "execute_result"
    }
   ],
   "source": [
    "a = 2\n",
    "type(a)"
   ]
  },
  {
   "cell_type": "code",
   "execution_count": 24,
   "id": "d541d314-7b46-402f-ae1f-c89c5f7e03f8",
   "metadata": {},
   "outputs": [
    {
     "data": {
      "text/plain": [
       "int"
      ]
     },
     "execution_count": 24,
     "metadata": {},
     "output_type": "execute_result"
    }
   ],
   "source": [
    "b = 22254353\n",
    "type(b)"
   ]
  },
  {
   "cell_type": "markdown",
   "id": "1f10ed53-7d4e-4a38-874f-0d86158c450d",
   "metadata": {},
   "source": [
    "# FLOATING"
   ]
  },
  {
   "cell_type": "code",
   "execution_count": 25,
   "id": "f7caa25b-e81b-4a21-9028-6afed7045ef5",
   "metadata": {},
   "outputs": [
    {
     "ename": "NameError",
     "evalue": "name 'TYPE' is not defined",
     "output_type": "error",
     "traceback": [
      "\u001b[31m---------------------------------------------------------------------------\u001b[39m",
      "\u001b[31mNameError\u001b[39m                                 Traceback (most recent call last)",
      "\u001b[36mCell\u001b[39m\u001b[36m \u001b[39m\u001b[32mIn[25]\u001b[39m\u001b[32m, line 2\u001b[39m\n\u001b[32m      1\u001b[39m PI = \u001b[32m3.14\u001b[39m\n\u001b[32m----> \u001b[39m\u001b[32m2\u001b[39m \u001b[43mTYPE\u001b[49m(PI)\n",
      "\u001b[31mNameError\u001b[39m: name 'TYPE' is not defined"
     ]
    }
   ],
   "source": [
    "PI = 3.14\n",
    "TYPE(PI)"
   ]
  },
  {
   "cell_type": "code",
   "execution_count": 26,
   "id": "751dac69-d687-4696-b5f8-96795948413f",
   "metadata": {},
   "outputs": [
    {
     "data": {
      "text/plain": [
       "float"
      ]
     },
     "execution_count": 26,
     "metadata": {},
     "output_type": "execute_result"
    }
   ],
   "source": [
    "pi = 3.14\n",
    "type(pi)"
   ]
  },
  {
   "cell_type": "code",
   "execution_count": 27,
   "id": "94b6c606-1f63-4b88-8aef-e54c7816726c",
   "metadata": {},
   "outputs": [
    {
     "data": {
      "text/plain": [
       "str"
      ]
     },
     "execution_count": 27,
     "metadata": {},
     "output_type": "execute_result"
    }
   ],
   "source": [
    "# String\n",
    "c = 'A'\n",
    "type(c)"
   ]
  },
  {
   "cell_type": "code",
   "execution_count": 28,
   "id": "d59411ae-920a-43a4-ac64-2f806cbcaa5b",
   "metadata": {},
   "outputs": [
    {
     "name": "stdout",
     "output_type": "stream",
     "text": [
      "John Doe\n"
     ]
    },
    {
     "data": {
      "text/plain": [
       "str"
      ]
     },
     "execution_count": 28,
     "metadata": {},
     "output_type": "execute_result"
    }
   ],
   "source": [
    "name = 'John Doe'\n",
    "print(name)\n",
    "type(name)"
   ]
  },
  {
   "cell_type": "code",
   "execution_count": 30,
   "id": "228571da-e076-4a04-a4af-4eaaa2370d41",
   "metadata": {},
   "outputs": [
    {
     "ename": "NameError",
     "evalue": "name 'true' is not defined",
     "output_type": "error",
     "traceback": [
      "\u001b[31m---------------------------------------------------------------------------\u001b[39m",
      "\u001b[31mNameError\u001b[39m                                 Traceback (most recent call last)",
      "\u001b[36mCell\u001b[39m\u001b[36m \u001b[39m\u001b[32mIn[30]\u001b[39m\u001b[32m, line 2\u001b[39m\n\u001b[32m      1\u001b[39m \u001b[38;5;66;03m# Boolean \u001b[39;00m\n\u001b[32m----> \u001b[39m\u001b[32m2\u001b[39m q = \u001b[43mtrue\u001b[49m\n\u001b[32m      3\u001b[39m \u001b[38;5;28mtype\u001b[39m(q)\n",
      "\u001b[31mNameError\u001b[39m: name 'true' is not defined"
     ]
    }
   ],
   "source": [
    "# Boolean \n",
    "q = true\n",
    "type(q)"
   ]
  },
  {
   "cell_type": "code",
   "execution_count": 31,
   "id": "0450f17a-5edb-4e4b-9b23-55a9409ec029",
   "metadata": {},
   "outputs": [
    {
     "data": {
      "text/plain": [
       "bool"
      ]
     },
     "execution_count": 31,
     "metadata": {},
     "output_type": "execute_result"
    }
   ],
   "source": [
    "q = True\n",
    "type(q)"
   ]
  },
  {
   "cell_type": "code",
   "execution_count": 32,
   "id": "21827ef1-3a69-46ac-94f6-68e58fa65e0a",
   "metadata": {},
   "outputs": [
    {
     "name": "stdout",
     "output_type": "stream",
     "text": [
      "True\n"
     ]
    }
   ],
   "source": [
    "q = True\n",
    "print(q)"
   ]
  },
  {
   "cell_type": "code",
   "execution_count": 34,
   "id": "62f86daf-2e2a-4377-bd56-ea2ab9498806",
   "metadata": {},
   "outputs": [
    {
     "name": "stdout",
     "output_type": "stream",
     "text": [
      "None\n"
     ]
    }
   ],
   "source": [
    "# Empty value or null data type\n",
    "X = None\n",
    "print(X)"
   ]
  },
  {
   "cell_type": "code",
   "execution_count": 35,
   "id": "b2bf4421-d789-4186-8520-d035eabf6485",
   "metadata": {},
   "outputs": [
    {
     "ename": "SyntaxError",
     "evalue": "cannot assign to literal here. Maybe you meant '==' instead of '='? (2312009269.py, line 2)",
     "output_type": "error",
     "traceback": [
      "  \u001b[36mCell\u001b[39m\u001b[36m \u001b[39m\u001b[32mIn[35]\u001b[39m\u001b[32m, line 2\u001b[39m\n\u001b[31m    \u001b[39m\u001b[31m5 = x\u001b[39m\n    ^\n\u001b[31mSyntaxError\u001b[39m\u001b[31m:\u001b[39m cannot assign to literal here. Maybe you meant '==' instead of '='?\n"
     ]
    }
   ],
   "source": [
    "# Variable assinnment works from left to right. so the following will give you an syntax error.\n",
    "5 = x"
   ]
  },
  {
   "cell_type": "code",
   "execution_count": 37,
   "id": "0c7ab175-a949-47cb-a904-77da510cdc4e",
   "metadata": {},
   "outputs": [
    {
     "data": {
      "text/plain": [
       "5"
      ]
     },
     "execution_count": 37,
     "metadata": {},
     "output_type": "execute_result"
    }
   ],
   "source": [
    "x = 5\n",
    "x"
   ]
  },
  {
   "cell_type": "code",
   "execution_count": null,
   "id": "ebbfcbe4-3d5e-4e13-a629-c2c32d98f4c8",
   "metadata": {},
   "outputs": [],
   "source": [
    "# 7th page continue onward "
   ]
  },
  {
   "cell_type": "code",
   "execution_count": 38,
   "id": "795844c2-404e-4dc2-84df-13cf9cd2c23b",
   "metadata": {},
   "outputs": [
    {
     "ename": "NameError",
     "evalue": "name 'AB' is not defined",
     "output_type": "error",
     "traceback": [
      "\u001b[31m---------------------------------------------------------------------------\u001b[39m",
      "\u001b[31mNameError\u001b[39m                                 Traceback (most recent call last)",
      "\u001b[36mCell\u001b[39m\u001b[36m \u001b[39m\u001b[32mIn[38]\u001b[39m\u001b[32m, line 2\u001b[39m\n\u001b[32m      1\u001b[39m ABC = \u001b[32m50\u001b[39m\n\u001b[32m----> \u001b[39m\u001b[32m2\u001b[39m \u001b[43mAB\u001b[49m\n",
      "\u001b[31mNameError\u001b[39m: name 'AB' is not defined"
     ]
    }
   ],
   "source": [
    "ABC = 50\n",
    "AB"
   ]
  },
  {
   "cell_type": "code",
   "execution_count": 39,
   "id": "4957d6c8-3113-4132-9bba-9ddd6486c5e5",
   "metadata": {},
   "outputs": [
    {
     "ename": "NameError",
     "evalue": "name 'nit' is not defined",
     "output_type": "error",
     "traceback": [
      "\u001b[31m---------------------------------------------------------------------------\u001b[39m",
      "\u001b[31mNameError\u001b[39m                                 Traceback (most recent call last)",
      "\u001b[36mCell\u001b[39m\u001b[36m \u001b[39m\u001b[32mIn[39]\u001b[39m\u001b[32m, line 2\u001b[39m\n\u001b[32m      1\u001b[39m NIT = \u001b[32m4567\u001b[39m\n\u001b[32m----> \u001b[39m\u001b[32m2\u001b[39m \u001b[43mnit\u001b[49m\n",
      "\u001b[31mNameError\u001b[39m: name 'nit' is not defined"
     ]
    }
   ],
   "source": [
    "NIT = 4567\n",
    "nit"
   ]
  },
  {
   "cell_type": "code",
   "execution_count": 40,
   "id": "97be390a-9416-4463-b233-b2465a8a5e0a",
   "metadata": {},
   "outputs": [
    {
     "data": {
      "text/plain": [
       "12"
      ]
     },
     "execution_count": 40,
     "metadata": {},
     "output_type": "execute_result"
    }
   ],
   "source": [
    "cash = 12\n",
    "cash"
   ]
  },
  {
   "cell_type": "code",
   "execution_count": 41,
   "id": "184f44a1-64bd-48ce-9585-4d80d3239738",
   "metadata": {},
   "outputs": [
    {
     "data": {
      "text/plain": [
       "12"
      ]
     },
     "execution_count": 41,
     "metadata": {},
     "output_type": "execute_result"
    }
   ],
   "source": [
    "cash123 = 12 \n",
    "cash"
   ]
  },
  {
   "cell_type": "code",
   "execution_count": 42,
   "id": "f3e050db-7bae-4598-8082-5fc5b46d6284",
   "metadata": {},
   "outputs": [
    {
     "ename": "SyntaxError",
     "evalue": "invalid decimal literal (2725672161.py, line 1)",
     "output_type": "error",
     "traceback": [
      "  \u001b[36mCell\u001b[39m\u001b[36m \u001b[39m\u001b[32mIn[42]\u001b[39m\u001b[32m, line 1\u001b[39m\n\u001b[31m    \u001b[39m\u001b[31m123cash = 13\u001b[39m\n      ^\n\u001b[31mSyntaxError\u001b[39m\u001b[31m:\u001b[39m invalid decimal literal\n"
     ]
    }
   ],
   "source": [
    "123cash = 13\n",
    "123cash"
   ]
  },
  {
   "cell_type": "code",
   "execution_count": 43,
   "id": "e21ba4b8-2799-408f-ac49-ca1748d8c933",
   "metadata": {},
   "outputs": [
    {
     "data": {
      "text/plain": [
       "10"
      ]
     },
     "execution_count": 43,
     "metadata": {},
     "output_type": "execute_result"
    }
   ],
   "source": [
    "# x = 10 # x is the variable & 10 is the value\n",
    "cash = 10 # Identifer rule alphabet \n",
    "# ca$h = 10 # $ - symbole is not allowed in python identifer but in java is allowerd\n",
    "# ca$h\n",
    "cash"
   ]
  },
  {
   "cell_type": "code",
   "execution_count": 44,
   "id": "28aa3644-3a83-4de2-9c49-4bc1492df756",
   "metadata": {},
   "outputs": [
    {
     "ename": "SyntaxError",
     "evalue": "invalid syntax (1112431759.py, line 1)",
     "output_type": "error",
     "traceback": [
      "  \u001b[36mCell\u001b[39m\u001b[36m \u001b[39m\u001b[32mIn[44]\u001b[39m\u001b[32m, line 1\u001b[39m\n\u001b[31m    \u001b[39m\u001b[31mca$h = 20\u001b[39m\n      ^\n\u001b[31mSyntaxError\u001b[39m\u001b[31m:\u001b[39m invalid syntax\n"
     ]
    }
   ],
   "source": [
    "ca$h = 20\n",
    "ca$h"
   ]
  },
  {
   "cell_type": "code",
   "execution_count": 45,
   "id": "540eb4a9-8e9e-427c-8a12-dd99ec884d04",
   "metadata": {},
   "outputs": [
    {
     "ename": "SyntaxError",
     "evalue": "cannot assign to expression here. Maybe you meant '==' instead of '='? (894760832.py, line 1)",
     "output_type": "error",
     "traceback": [
      "  \u001b[36mCell\u001b[39m\u001b[36m \u001b[39m\u001b[32mIn[45]\u001b[39m\u001b[32m, line 1\u001b[39m\n\u001b[31m    \u001b[39m\u001b[31mca*h = 20\u001b[39m\n    ^\n\u001b[31mSyntaxError\u001b[39m\u001b[31m:\u001b[39m cannot assign to expression here. Maybe you meant '==' instead of '='?\n"
     ]
    }
   ],
   "source": [
    "ca*h = 20 \n",
    "ca*h"
   ]
  },
  {
   "cell_type": "code",
   "execution_count": 46,
   "id": "39dc2c48-dac4-444b-85a1-0add31eb65b4",
   "metadata": {},
   "outputs": [
    {
     "data": {
      "text/plain": [
       "3"
      ]
     },
     "execution_count": 46,
     "metadata": {},
     "output_type": "execute_result"
    }
   ],
   "source": [
    "CASH = 3\n",
    "CASH"
   ]
  },
  {
   "cell_type": "code",
   "execution_count": 47,
   "id": "f3ea6944-b81a-4328-89f3-8dbbcd1cf193",
   "metadata": {},
   "outputs": [
    {
     "ename": "SyntaxError",
     "evalue": "invalid decimal literal (2959206641.py, line 3)",
     "output_type": "error",
     "traceback": [
      "  \u001b[36mCell\u001b[39m\u001b[36m \u001b[39m\u001b[32mIn[47]\u001b[39m\u001b[32m, line 3\u001b[39m\n\u001b[31m    \u001b[39m\u001b[31m123total = 30\u001b[39m\n      ^\n\u001b[31mSyntaxError\u001b[39m\u001b[31m:\u001b[39m invalid decimal literal\n"
     ]
    }
   ],
   "source": [
    "# <2> Identifiers should not starts with dight ====\n",
    "#sum123 = 20 # digit rules identifier\n",
    "123total = 30 \n",
    "123total \n",
    "#sum123"
   ]
  },
  {
   "cell_type": "code",
   "execution_count": 48,
   "id": "6220b3fe-1cf0-4019-9125-447fd559a0ee",
   "metadata": {},
   "outputs": [
    {
     "data": {
      "text/plain": [
       "20"
      ]
     },
     "execution_count": 48,
     "metadata": {},
     "output_type": "execute_result"
    }
   ],
   "source": [
    "# <3> Identifierss are case sensitive \n",
    "# total = 10  # Python are case sensitive\n",
    "Abcde = 20\n",
    "# total\n",
    "Abcde"
   ]
  },
  {
   "cell_type": "code",
   "execution_count": 49,
   "id": "5ce8bb60-91a5-4578-aaaa-6774cd8395be",
   "metadata": {},
   "outputs": [
    {
     "ename": "NameError",
     "evalue": "name 'NEW' is not defined",
     "output_type": "error",
     "traceback": [
      "\u001b[31m---------------------------------------------------------------------------\u001b[39m",
      "\u001b[31mNameError\u001b[39m                                 Traceback (most recent call last)",
      "\u001b[36mCell\u001b[39m\u001b[36m \u001b[39m\u001b[32mIn[49]\u001b[39m\u001b[32m, line 2\u001b[39m\n\u001b[32m      1\u001b[39m new =\u001b[32m30\u001b[39m\n\u001b[32m----> \u001b[39m\u001b[32m2\u001b[39m \u001b[43mNEW\u001b[49m\n",
      "\u001b[31mNameError\u001b[39m: name 'NEW' is not defined"
     ]
    }
   ],
   "source": [
    "new =30\n",
    "NEW"
   ]
  },
  {
   "cell_type": "code",
   "execution_count": 50,
   "id": "4a68b4e3-0560-48b6-8f79-ed17bf90904c",
   "metadata": {},
   "outputs": [
    {
     "ename": "NameError",
     "evalue": "name 'TOTAL' is not defined",
     "output_type": "error",
     "traceback": [
      "\u001b[31m---------------------------------------------------------------------------\u001b[39m",
      "\u001b[31mNameError\u001b[39m                                 Traceback (most recent call last)",
      "\u001b[36mCell\u001b[39m\u001b[36m \u001b[39m\u001b[32mIn[50]\u001b[39m\u001b[32m, line 2\u001b[39m\n\u001b[32m      1\u001b[39m Total5 = \u001b[32m30\u001b[39m\n\u001b[32m----> \u001b[39m\u001b[32m2\u001b[39m \u001b[43mTOTAL\u001b[49m\n",
      "\u001b[31mNameError\u001b[39m: name 'TOTAL' is not defined"
     ]
    }
   ],
   "source": [
    "Total5 = 30\n",
    "TOTAL"
   ]
  },
  {
   "cell_type": "code",
   "execution_count": 51,
   "id": "3d62c5c4-41ed-4346-8b38-0a0d24ed4cb2",
   "metadata": {},
   "outputs": [
    {
     "ename": "SyntaxError",
     "evalue": "invalid syntax (2055522919.py, line 2)",
     "output_type": "error",
     "traceback": [
      "  \u001b[36mCell\u001b[39m\u001b[36m \u001b[39m\u001b[32mIn[51]\u001b[39m\u001b[32m, line 2\u001b[39m\n\u001b[31m    \u001b[39m\u001b[31mdef\u001b[39m\n       ^\n\u001b[31mSyntaxError\u001b[39m\u001b[31m:\u001b[39m invalid syntax\n"
     ]
    }
   ],
   "source": [
    "ddef = 4.6\n",
    "def"
   ]
  },
  {
   "cell_type": "code",
   "execution_count": 52,
   "id": "3ac94b03-9fe1-483a-9e08-9e83e9318f4e",
   "metadata": {},
   "outputs": [
    {
     "data": {
      "text/plain": [
       "4"
      ]
     },
     "execution_count": 52,
     "metadata": {},
     "output_type": "execute_result"
    }
   ],
   "source": [
    "DEF = 4\n",
    "DEF"
   ]
  },
  {
   "cell_type": "code",
   "execution_count": 53,
   "id": "74814a56-fbe9-4b4a-b8e8-12658e13842d",
   "metadata": {},
   "outputs": [
    {
     "ename": "SyntaxError",
     "evalue": "invalid syntax (1979711427.py, line 1)",
     "output_type": "error",
     "traceback": [
      "  \u001b[36mCell\u001b[39m\u001b[36m \u001b[39m\u001b[32mIn[53]\u001b[39m\u001b[32m, line 1\u001b[39m\n\u001b[31m    \u001b[39m\u001b[31mif = 780\u001b[39m\n       ^\n\u001b[31mSyntaxError\u001b[39m\u001b[31m:\u001b[39m invalid syntax\n"
     ]
    }
   ],
   "source": [
    "if = 780\n",
    "if"
   ]
  },
  {
   "cell_type": "code",
   "execution_count": 55,
   "id": "538d1440-2bb3-42bc-bcbd-e97bae24d95d",
   "metadata": {},
   "outputs": [
    {
     "data": {
      "text/plain": [
       "5.6"
      ]
     },
     "execution_count": 55,
     "metadata": {},
     "output_type": "execute_result"
    }
   ],
   "source": [
    "DEF = 5.6\n",
    "DEF\n",
    "#def is key work"
   ]
  },
  {
   "cell_type": "code",
   "execution_count": 56,
   "id": "597ae786-9067-420c-a4ce-5216b3adc7df",
   "metadata": {},
   "outputs": [
    {
     "ename": "SyntaxError",
     "evalue": "invalid syntax (1075677671.py, line 1)",
     "output_type": "error",
     "traceback": [
      "  \u001b[36mCell\u001b[39m\u001b[36m \u001b[39m\u001b[32mIn[56]\u001b[39m\u001b[32m, line 1\u001b[39m\n\u001b[31m    \u001b[39m\u001b[31mdef = 7\u001b[39m\n        ^\n\u001b[31mSyntaxError\u001b[39m\u001b[31m:\u001b[39m invalid syntax\n"
     ]
    }
   ],
   "source": [
    "def = 7\n",
    "def"
   ]
  },
  {
   "cell_type": "code",
   "execution_count": 57,
   "id": "34db109d-6cd4-4a6a-9a68-8fe08218148b",
   "metadata": {},
   "outputs": [
    {
     "ename": "SyntaxError",
     "evalue": "invalid syntax (1774739991.py, line 4)",
     "output_type": "error",
     "traceback": [
      "  \u001b[36mCell\u001b[39m\u001b[36m \u001b[39m\u001b[32mIn[57]\u001b[39m\u001b[32m, line 4\u001b[39m\n\u001b[31m    \u001b[39m\u001b[31mfor = 50\u001b[39m\n        ^\n\u001b[31mSyntaxError\u001b[39m\u001b[31m:\u001b[39m invalid syntax\n"
     ]
    }
   ],
   "source": [
    "# <4> Keywords can not be assigned as identifier\n",
    "# if = 10 # if is keyword\n",
    "# DEF = 20 # ddef is keyword\n",
    "for = 50\n",
    "#DEF\n",
    "#if\n",
    "for"
   ]
  },
  {
   "cell_type": "code",
   "execution_count": 58,
   "id": "5a720ca8-5196-4d7e-94da-1d9a0f32fdba",
   "metadata": {},
   "outputs": [
    {
     "ename": "SyntaxError",
     "evalue": "invalid syntax (1164500892.py, line 1)",
     "output_type": "error",
     "traceback": [
      "  \u001b[36mCell\u001b[39m\u001b[36m \u001b[39m\u001b[32mIn[58]\u001b[39m\u001b[32m, line 1\u001b[39m\n\u001b[31m    \u001b[39m\u001b[31mfor = 58\u001b[39m\n        ^\n\u001b[31mSyntaxError\u001b[39m\u001b[31m:\u001b[39m invalid syntax\n"
     ]
    }
   ],
   "source": [
    "for = 58\n",
    "for"
   ]
  },
  {
   "cell_type": "code",
   "execution_count": 59,
   "id": "1dd3ad6c-296d-404d-b9be-b87b988f1e82",
   "metadata": {},
   "outputs": [
    {
     "data": {
      "text/plain": [
       "58"
      ]
     },
     "execution_count": 59,
     "metadata": {},
     "output_type": "execute_result"
    }
   ],
   "source": [
    "FOR = 58\n",
    "FOR"
   ]
  },
  {
   "cell_type": "code",
   "execution_count": 60,
   "id": "d88cc31b-0081-41d1-8f5a-3212e9cee103",
   "metadata": {},
   "outputs": [
    {
     "ename": "SyntaxError",
     "evalue": "invalid syntax (2423585350.py, line 1)",
     "output_type": "error",
     "traceback": [
      "  \u001b[36mCell\u001b[39m\u001b[36m \u001b[39m\u001b[32mIn[60]\u001b[39m\u001b[32m, line 1\u001b[39m\n\u001b[31m    \u001b[39m\u001b[31mdef = 30\u001b[39m\n        ^\n\u001b[31mSyntaxError\u001b[39m\u001b[31m:\u001b[39m invalid syntax\n"
     ]
    }
   ],
   "source": [
    "def = 30 \n",
    "def"
   ]
  },
  {
   "cell_type": "code",
   "execution_count": 61,
   "id": "47127762-b142-4aee-962b-8a363de55e07",
   "metadata": {},
   "outputs": [
    {
     "ename": "SyntaxError",
     "evalue": "invalid syntax (2069690960.py, line 1)",
     "output_type": "error",
     "traceback": [
      "  \u001b[36mCell\u001b[39m\u001b[36m \u001b[39m\u001b[32mIn[61]\u001b[39m\u001b[32m, line 1\u001b[39m\n\u001b[31m    \u001b[39m\u001b[31mif = 30\u001b[39m\n       ^\n\u001b[31mSyntaxError\u001b[39m\u001b[31m:\u001b[39m invalid syntax\n"
     ]
    }
   ],
   "source": [
    "if = 30 \n",
    "if"
   ]
  },
  {
   "cell_type": "markdown",
   "id": "9206a9cd-190d-4e60-8191-536a42e47393",
   "metadata": {},
   "source": [
    "### 5> NO Length limit in python Identifier"
   ]
  },
  {
   "cell_type": "code",
   "execution_count": 62,
   "id": "c3ea725f-8425-4bac-aeb7-6d5d34e6370c",
   "metadata": {},
   "outputs": [
    {
     "data": {
      "text/plain": [
       "20"
      ]
     },
     "execution_count": 62,
     "metadata": {},
     "output_type": "execute_result"
    }
   ],
   "source": [
    "_abc_def_gef = 20\n",
    "_abc_def_gef"
   ]
  },
  {
   "cell_type": "code",
   "execution_count": 63,
   "id": "fadf3268-2c99-4ea8-a341-6070f93d1f54",
   "metadata": {},
   "outputs": [
    {
     "data": {
      "text/plain": [
       "True"
      ]
     },
     "execution_count": 63,
     "metadata": {},
     "output_type": "execute_result"
    }
   ],
   "source": [
    "#a = True # hash is used for comment\n",
    "a = True\n",
    "a"
   ]
  },
  {
   "cell_type": "code",
   "execution_count": 65,
   "id": "05c11eb8-afb8-4844-9756-0c7b96f2f4b5",
   "metadata": {},
   "outputs": [
    {
     "ename": "NameError",
     "evalue": "name 'true' is not defined",
     "output_type": "error",
     "traceback": [
      "\u001b[31m---------------------------------------------------------------------------\u001b[39m",
      "\u001b[31mNameError\u001b[39m                                 Traceback (most recent call last)",
      "\u001b[36mCell\u001b[39m\u001b[36m \u001b[39m\u001b[32mIn[65]\u001b[39m\u001b[32m, line 1\u001b[39m\n\u001b[32m----> \u001b[39m\u001b[32m1\u001b[39m a1 = \u001b[43mtrue\u001b[49m \n\u001b[32m      2\u001b[39m a1\n",
      "\u001b[31mNameError\u001b[39m: name 'true' is not defined"
     ]
    }
   ],
   "source": [
    "a1 = true \n",
    "a1"
   ]
  },
  {
   "cell_type": "code",
   "execution_count": 66,
   "id": "31f3c7b1-6efb-4518-a31d-c506ceed447f",
   "metadata": {},
   "outputs": [
    {
     "ename": "SyntaxError",
     "evalue": "cannot assign to True (3097251383.py, line 1)",
     "output_type": "error",
     "traceback": [
      "  \u001b[36mCell\u001b[39m\u001b[36m \u001b[39m\u001b[32mIn[66]\u001b[39m\u001b[32m, line 1\u001b[39m\n\u001b[31m    \u001b[39m\u001b[31mTrue = a\u001b[39m\n    ^\n\u001b[31mSyntaxError\u001b[39m\u001b[31m:\u001b[39m cannot assign to True\n"
     ]
    }
   ],
   "source": [
    "True = a\n"
   ]
  },
  {
   "cell_type": "code",
   "execution_count": 67,
   "id": "a62f05e6-c013-4270-99de-c9f65f2e055f",
   "metadata": {},
   "outputs": [],
   "source": [
    "b = None\n",
    "#b = none \n",
    "b"
   ]
  },
  {
   "cell_type": "code",
   "execution_count": 68,
   "id": "44f0ef70-e0b8-40bb-a06e-90975a9123cf",
   "metadata": {},
   "outputs": [
    {
     "data": {
      "text/plain": [
       "False"
      ]
     },
     "execution_count": 68,
     "metadata": {},
     "output_type": "execute_result"
    }
   ],
   "source": [
    "c = False\n",
    "#c = false\n",
    "c"
   ]
  },
  {
   "cell_type": "code",
   "execution_count": 69,
   "id": "e4684def-9f77-41c9-a745-07206aeb2417",
   "metadata": {},
   "outputs": [
    {
     "data": {
      "text/plain": [
       "['False',\n",
       " 'None',\n",
       " 'True',\n",
       " 'and',\n",
       " 'as',\n",
       " 'assert',\n",
       " 'async',\n",
       " 'await',\n",
       " 'break',\n",
       " 'class',\n",
       " 'continue',\n",
       " 'def',\n",
       " 'del',\n",
       " 'elif',\n",
       " 'else',\n",
       " 'except',\n",
       " 'finally',\n",
       " 'for',\n",
       " 'from',\n",
       " 'global',\n",
       " 'if',\n",
       " 'import',\n",
       " 'in',\n",
       " 'is',\n",
       " 'lambda',\n",
       " 'nonlocal',\n",
       " 'not',\n",
       " 'or',\n",
       " 'pass',\n",
       " 'raise',\n",
       " 'return',\n",
       " 'try',\n",
       " 'while',\n",
       " 'with',\n",
       " 'yield']"
      ]
     },
     "execution_count": 69,
     "metadata": {},
     "output_type": "execute_result"
    }
   ],
   "source": [
    "# How to remember all keyword --- (Interview questions)\n",
    "# Keyword is the module run from IMPORT class\n",
    "import keyword\n",
    "keyword.kwlist"
   ]
  },
  {
   "cell_type": "code",
   "execution_count": 77,
   "id": "bcfdbdc9-e750-4055-aa53-bf949651f11b",
   "metadata": {},
   "outputs": [
    {
     "ename": "IndentationError",
     "evalue": "unexpected indent (1670786352.py, line 3)",
     "output_type": "error",
     "traceback": [
      "  \u001b[36mCell\u001b[39m\u001b[36m \u001b[39m\u001b[32mIn[77]\u001b[39m\u001b[32m, line 3\u001b[39m\n\u001b[31m    \u001b[39m\u001b[31mimportpandas as pd # pandas is the module to create a datafream\u001b[39m\n    ^\n\u001b[31mIndentationError\u001b[39m\u001b[31m:\u001b[39m unexpected indent\n"
     ]
    }
   ],
   "source": [
    "# write a coding to create index of these keywords --- IMP ---\n",
    "\n",
    " import pandas as pd # pandas is the module to create a datafream\n",
    "  df = pd.DataFrame(keyword.kwlist)\n",
    "  df\n",
    "\n",
    "# Always remember python Index begins with '0'\n",
    "\n",
    "# ==============RESERVED WORDS COMPLTED =============="
   ]
  },
  {
   "cell_type": "code",
   "execution_count": null,
   "id": "37d5cb92-c27b-4403-b2a6-34a6fe6bcb28",
   "metadata": {},
   "outputs": [],
   "source": []
  },
  {
   "cell_type": "markdown",
   "id": "7f8da8a4-6042-4027-ac07-74eae2caf34e",
   "metadata": {},
   "source": [
    "# PYTHON DATA TYPE "
   ]
  },
  {
   "cell_type": "code",
   "execution_count": 1,
   "id": "4e3cb4ed-da16-407a-b01d-6e819218d0a9",
   "metadata": {},
   "outputs": [
    {
     "data": {
      "text/plain": [
       "140732482005720"
      ]
     },
     "execution_count": 1,
     "metadata": {},
     "output_type": "execute_result"
    }
   ],
   "source": [
    "# what is other inbuild datatype available except 14 datatypes--\n",
    "\n",
    "a = 10 \n",
    "#print(a)          # To find the variable \n",
    "#print(a)          # To find the of variable\n",
    "#type(a)  # To find the data type\n",
    "id(a)            # To find an address of an object\n",
    "#type(a)"
   ]
  },
  {
   "cell_type": "code",
   "execution_count": 2,
   "id": "ded1f86e-c30c-4e45-986b-e76f6b1562d7",
   "metadata": {},
   "outputs": [
    {
     "data": {
      "text/plain": [
       "140732482005720"
      ]
     },
     "execution_count": 2,
     "metadata": {},
     "output_type": "execute_result"
    }
   ],
   "source": [
    "b = 10\n",
    "id(b)"
   ]
  },
  {
   "cell_type": "code",
   "execution_count": 3,
   "id": "3bda18d0-6fa7-48a1-9195-e0c8b57fead1",
   "metadata": {},
   "outputs": [
    {
     "data": {
      "text/plain": [
       "140732482006040"
      ]
     },
     "execution_count": 3,
     "metadata": {},
     "output_type": "execute_result"
    }
   ],
   "source": [
    "c = 20 \n",
    "id(c)"
   ]
  },
  {
   "cell_type": "code",
   "execution_count": 5,
   "id": "7f5901e3-f062-4c8e-8c9f-fda7f918a9e1",
   "metadata": {},
   "outputs": [
    {
     "data": {
      "text/plain": [
       "140732482005720"
      ]
     },
     "execution_count": 5,
     "metadata": {},
     "output_type": "execute_result"
    }
   ],
   "source": [
    "a = 10\n",
    "b = 10\n",
    "id(a)"
   ]
  },
  {
   "cell_type": "code",
   "execution_count": 9,
   "id": "8da7c17d-040d-4813-8466-f1a9ef7a630b",
   "metadata": {},
   "outputs": [
    {
     "data": {
      "text/plain": [
       "140732482005720"
      ]
     },
     "execution_count": 9,
     "metadata": {},
     "output_type": "execute_result"
    }
   ],
   "source": [
    "a = 10\n",
    "id (a)"
   ]
  },
  {
   "cell_type": "code",
   "execution_count": 7,
   "id": "782bb2bc-19d9-44df-ac15-17e396e54526",
   "metadata": {},
   "outputs": [
    {
     "data": {
      "text/plain": [
       "140732482005720"
      ]
     },
     "execution_count": 7,
     "metadata": {},
     "output_type": "execute_result"
    }
   ],
   "source": [
    "a = 10\n",
    "a \n",
    "id(a)"
   ]
  },
  {
   "cell_type": "markdown",
   "id": "506ad46d-c9d0-4c5b-81a8-ccb89561b40c",
   "metadata": {},
   "source": [
    "### INT DATA TYPE"
   ]
  },
  {
   "cell_type": "code",
   "execution_count": 11,
   "id": "50bfe893-d6d0-4291-a5f8-d2f24bef4712",
   "metadata": {},
   "outputs": [
    {
     "data": {
      "text/plain": [
       "int"
      ]
     },
     "execution_count": 11,
     "metadata": {},
     "output_type": "execute_result"
    }
   ],
   "source": [
    "a1 = 4809\n",
    "#a\n",
    "#print(a)\n",
    "type(a1)\n"
   ]
  },
  {
   "cell_type": "code",
   "execution_count": 12,
   "id": "c3acb660-5de8-4adb-a4f5-1a8e0bcb5c5d",
   "metadata": {},
   "outputs": [
    {
     "data": {
      "text/plain": [
       "7"
      ]
     },
     "execution_count": 12,
     "metadata": {},
     "output_type": "execute_result"
    }
   ],
   "source": [
    "#2. Binary from(Base 2)\n",
    "#a = 1111   # value is declared\n",
    "b = 0b111 # Now pvm convert value to binary value\n",
    "b\n",
    "#a"
   ]
  },
  {
   "cell_type": "code",
   "execution_count": 14,
   "id": "44c14fc4-fdce-4c6f-83c6-e8769a53f165",
   "metadata": {},
   "outputs": [
    {
     "data": {
      "text/plain": [
       "3"
      ]
     },
     "execution_count": 14,
     "metadata": {},
     "output_type": "execute_result"
    }
   ],
   "source": [
    " b_1 = 0b11\n",
    "b_1"
   ]
  },
  {
   "cell_type": "code",
   "execution_count": 15,
   "id": "20cfb7ce-7958-4170-9b42-c20a7e22909e",
   "metadata": {},
   "outputs": [
    {
     "ename": "SyntaxError",
     "evalue": "invalid digit '2' in binary literal (3245495910.py, line 1)",
     "output_type": "error",
     "traceback": [
      "\u001b[1;36m  Cell \u001b[1;32mIn[15], line 1\u001b[1;36m\u001b[0m\n\u001b[1;33m    b2 = 0b22\u001b[0m\n\u001b[1;37m           ^\u001b[0m\n\u001b[1;31mSyntaxError\u001b[0m\u001b[1;31m:\u001b[0m invalid digit '2' in binary literal\n"
     ]
    }
   ],
   "source": [
    "b2 = 0b22\n",
    "b2"
   ]
  },
  {
   "cell_type": "code",
   "execution_count": 17,
   "id": "c03bae8e-742d-4f28-b12c-3c1edb342e47",
   "metadata": {},
   "outputs": [
    {
     "data": {
      "text/plain": [
       "111"
      ]
     },
     "execution_count": 17,
     "metadata": {},
     "output_type": "execute_result"
    }
   ],
   "source": [
    "b1 = 111\n",
    "b1"
   ]
  },
  {
   "cell_type": "code",
   "execution_count": 18,
   "id": "96cb0f94-ea36-4871-ab66-e3862afff6f4",
   "metadata": {},
   "outputs": [
    {
     "data": {
      "text/plain": [
       "15"
      ]
     },
     "execution_count": 18,
     "metadata": {},
     "output_type": "execute_result"
    }
   ],
   "source": [
    "c = 0b1111\n",
    "c"
   ]
  },
  {
   "cell_type": "code",
   "execution_count": 19,
   "id": "fac68087-3b1b-4391-9f11-27ba74d9cf90",
   "metadata": {},
   "outputs": [
    {
     "ename": "SyntaxError",
     "evalue": "invalid digit '2' in binary literal (2807449182.py, line 1)",
     "output_type": "error",
     "traceback": [
      "\u001b[1;36m  Cell \u001b[1;32mIn[19], line 1\u001b[1;36m\u001b[0m\n\u001b[1;33m    b3 = 0b222\u001b[0m\n\u001b[1;37m           ^\u001b[0m\n\u001b[1;31mSyntaxError\u001b[0m\u001b[1;31m:\u001b[0m invalid digit '2' in binary literal\n"
     ]
    }
   ],
   "source": [
    "b3 = 0b222\n",
    "b3"
   ]
  },
  {
   "cell_type": "code",
   "execution_count": 20,
   "id": "7b633a14-ca79-4b7e-9c8e-fb48ef2f202b",
   "metadata": {},
   "outputs": [
    {
     "data": {
      "text/plain": [
       "3"
      ]
     },
     "execution_count": 20,
     "metadata": {},
     "output_type": "execute_result"
    }
   ],
   "source": [
    "b = 0b11 # now pvm convert value to bnary value\n",
    "b"
   ]
  },
  {
   "cell_type": "code",
   "execution_count": 21,
   "id": "84108649-8da8-4819-b11a-5c3cddce443c",
   "metadata": {},
   "outputs": [
    {
     "data": {
      "text/plain": [
       "73"
      ]
     },
     "execution_count": 21,
     "metadata": {},
     "output_type": "execute_result"
    }
   ],
   "source": [
    "#3. Octal form (Base 8)\n",
    "#a = 111 # Value is the declared\n",
    "b1 = 0o111 # Now pvm convert value to octal valve\n",
    "b1 \n",
    "#a"
   ]
  },
  {
   "cell_type": "code",
   "execution_count": 22,
   "id": "ab2edc0b-c180-4910-bb5f-01d3b6d8192c",
   "metadata": {},
   "outputs": [
    {
     "data": {
      "text/plain": [
       "64"
      ]
     },
     "execution_count": 22,
     "metadata": {},
     "output_type": "execute_result"
    }
   ],
   "source": [
    "# final summary of INTEGRAL DATATYPES\n",
    "a = 10\n",
    "b = 0b10\n",
    "c = 0o100\n",
    "a\n",
    "b\n",
    "c"
   ]
  },
  {
   "cell_type": "code",
   "execution_count": 23,
   "id": "035a4619-293d-4766-b959-9489d3d19900",
   "metadata": {},
   "outputs": [
    {
     "data": {
      "text/plain": [
       "27"
      ]
     },
     "execution_count": 23,
     "metadata": {},
     "output_type": "execute_result"
    }
   ],
   "source": [
    "c1 = 0o33\n",
    "c1"
   ]
  },
  {
   "cell_type": "code",
   "execution_count": 24,
   "id": "9873a5f3-7d47-45e9-ab3c-5106c408c0c2",
   "metadata": {},
   "outputs": [
    {
     "data": {
      "text/plain": [
       "2"
      ]
     },
     "execution_count": 24,
     "metadata": {},
     "output_type": "execute_result"
    }
   ],
   "source": [
    "b"
   ]
  },
  {
   "cell_type": "code",
   "execution_count": 25,
   "id": "f3bc660c-271a-4b4f-93d0-aa361a138088",
   "metadata": {},
   "outputs": [
    {
     "data": {
      "text/plain": [
       "64"
      ]
     },
     "execution_count": 25,
     "metadata": {},
     "output_type": "execute_result"
    }
   ],
   "source": [
    "c"
   ]
  },
  {
   "cell_type": "code",
   "execution_count": 26,
   "id": "76fdacba-5f29-47f3-992a-61462005039c",
   "metadata": {},
   "outputs": [
    {
     "data": {
      "text/plain": [
       "int"
      ]
     },
     "execution_count": 26,
     "metadata": {},
     "output_type": "execute_result"
    }
   ],
   "source": [
    "A = 78\n",
    "type(A)"
   ]
  },
  {
   "cell_type": "markdown",
   "id": "d5dee88b-73ae-41c6-949a-055e434bff36",
   "metadata": {},
   "source": [
    "# FLOAT"
   ]
  },
  {
   "cell_type": "code",
   "execution_count": 27,
   "id": "8068598e-9d74-489b-93f6-33aa8cd6d33b",
   "metadata": {},
   "outputs": [
    {
     "data": {
      "text/plain": [
       "float"
      ]
     },
     "execution_count": 27,
     "metadata": {},
     "output_type": "execute_result"
    }
   ],
   "source": [
    "b = 67.9\n",
    "b\n",
    "type(b)"
   ]
  },
  {
   "cell_type": "code",
   "execution_count": 28,
   "id": "1770d7b8-8265-435e-a301-d16f1ac8f14d",
   "metadata": {},
   "outputs": [
    {
     "data": {
      "text/plain": [
       "1"
      ]
     },
     "execution_count": 28,
     "metadata": {},
     "output_type": "execute_result"
    }
   ],
   "source": [
    "b1 = 0b1\n",
    "b1"
   ]
  },
  {
   "cell_type": "code",
   "execution_count": 29,
   "id": "19eff193-32ea-4841-816f-d5c7f6e84f5f",
   "metadata": {},
   "outputs": [
    {
     "ename": "SyntaxError",
     "evalue": "invalid syntax (3270742341.py, line 1)",
     "output_type": "error",
     "traceback": [
      "\u001b[1;36m  Cell \u001b[1;32mIn[29], line 1\u001b[1;36m\u001b[0m\n\u001b[1;33m    c = 0o11.6\u001b[0m\n\u001b[1;37m            ^\u001b[0m\n\u001b[1;31mSyntaxError\u001b[0m\u001b[1;31m:\u001b[0m invalid syntax\n"
     ]
    }
   ],
   "source": [
    "c = 0o11.6\n",
    "c"
   ]
  },
  {
   "cell_type": "code",
   "execution_count": 30,
   "id": "8c8efb7d-a894-4765-9ae5-4f17e7cc656b",
   "metadata": {},
   "outputs": [
    {
     "ename": "SyntaxError",
     "evalue": "invalid syntax (1698281833.py, line 7)",
     "output_type": "error",
     "traceback": [
      "\u001b[1;36m  Cell \u001b[1;32mIn[30], line 7\u001b[1;36m\u001b[0m\n\u001b[1;33m    d  = 0o4567.67 # this is octal\u001b[0m\n\u001b[1;37m               ^\u001b[0m\n\u001b[1;31mSyntaxError\u001b[0m\u001b[1;31m:\u001b[0m invalid syntax\n"
     ]
    }
   ],
   "source": [
    "# float datatypes -\n",
    "#b2 = 0b1111.22\n",
    "#b2\n",
    "#print(type(b))\n",
    "#type(b2)\n",
    "#b\n",
    "d  = 0o4567.67 # this is octal\n",
    "#e = 0b4567.89 # this is binary\n",
    "d\n",
    "#e\n",
    "#b"
   ]
  },
  {
   "cell_type": "code",
   "execution_count": 31,
   "id": "b8aaf6a3-0648-4d6b-9823-c532ae8297d6",
   "metadata": {},
   "outputs": [
    {
     "data": {
      "text/plain": [
       "10.0"
      ]
     },
     "execution_count": 31,
     "metadata": {},
     "output_type": "execute_result"
    }
   ],
   "source": [
    "f1 = 1E1\n",
    "f1\n",
    "#type(fi)"
   ]
  },
  {
   "cell_type": "code",
   "execution_count": 32,
   "id": "531ef5b4-d6cd-4d6d-b808-c9701b77b0a7",
   "metadata": {},
   "outputs": [
    {
     "data": {
      "text/plain": [
       "float"
      ]
     },
     "execution_count": 32,
     "metadata": {},
     "output_type": "execute_result"
    }
   ],
   "source": [
    "f1 = 1E1\n",
    "type(f1)"
   ]
  },
  {
   "cell_type": "code",
   "execution_count": 33,
   "id": "be45bcc9-1d97-4ff5-9759-2fe26514a898",
   "metadata": {},
   "outputs": [
    {
     "data": {
      "text/plain": [
       "2400.0"
      ]
     },
     "execution_count": 33,
     "metadata": {},
     "output_type": "execute_result"
    }
   ],
   "source": [
    "#f = 1e4# only 'e' letter is allowed \n",
    "g = 2.4E3 # except 'E' you can't execute any programme \n",
    "g\n",
    "#f\n",
    "#type(g)"
   ]
  },
  {
   "cell_type": "code",
   "execution_count": 34,
   "id": "aab604b4-1b1d-46e6-a879-a0a9387130fb",
   "metadata": {},
   "outputs": [
    {
     "data": {
      "text/plain": [
       "2400.0"
      ]
     },
     "execution_count": 34,
     "metadata": {},
     "output_type": "execute_result"
    }
   ],
   "source": [
    "g = 2.4E3\n",
    "g"
   ]
  },
  {
   "cell_type": "code",
   "execution_count": 35,
   "id": "021a9180-56f7-4efe-9933-730e900bf9b3",
   "metadata": {},
   "outputs": [
    {
     "data": {
      "text/plain": [
       "23000.0"
      ]
     },
     "execution_count": 35,
     "metadata": {},
     "output_type": "execute_result"
    }
   ],
   "source": [
    "g1 = 23e3\n",
    "g1"
   ]
  },
  {
   "cell_type": "code",
   "execution_count": 36,
   "id": "7b499d1b-5948-4144-a1bd-acc207c36ef0",
   "metadata": {},
   "outputs": [
    {
     "data": {
      "text/plain": [
       "5000.0"
      ]
     },
     "execution_count": 36,
     "metadata": {},
     "output_type": "execute_result"
    }
   ],
   "source": [
    "e = 5.e3\n",
    "#type(e)\n",
    "e"
   ]
  },
  {
   "cell_type": "markdown",
   "id": "c3d5682c-6a3f-4aad-b002-6d9de160c487",
   "metadata": {},
   "source": [
    "# complex"
   ]
  },
  {
   "cell_type": "code",
   "execution_count": 38,
   "id": "ce4080c0-ce2a-4f81-9ce1-fc108a2b582d",
   "metadata": {},
   "outputs": [
    {
     "data": {
      "text/plain": [
       "(30+40j)"
      ]
     },
     "execution_count": 38,
     "metadata": {},
     "output_type": "execute_result"
    }
   ],
   "source": [
    "x = 30+40j # assigned int value in real part & imaginary part\n",
    "x\n",
    "#type(x)"
   ]
  },
  {
   "cell_type": "code",
   "execution_count": 39,
   "id": "c0e4dd8c-b4de-47f9-a3c4-dfd84d60786f",
   "metadata": {},
   "outputs": [
    {
     "data": {
      "text/plain": [
       "complex"
      ]
     },
     "execution_count": 39,
     "metadata": {},
     "output_type": "execute_result"
    }
   ],
   "source": [
    "type(x)"
   ]
  },
  {
   "cell_type": "code",
   "execution_count": 41,
   "id": "22952d9e-bbd7-41b7-82a7-38d8db500238",
   "metadata": {},
   "outputs": [
    {
     "data": {
      "text/plain": [
       "(0.5022837821805671-0.25148297544192666j)"
      ]
     },
     "execution_count": 41,
     "metadata": {},
     "output_type": "execute_result"
    }
   ],
   "source": [
    "y = 20.5+2.3j #assigned float value in real part & imaginary part\n",
    "z = 30.8+20j #assigned float value in real part & imaginary part\n",
    "y + z\n",
    "y*z\n",
    "y/z"
   ]
  },
  {
   "cell_type": "code",
   "execution_count": 42,
   "id": "3a41778c-4694-4d62-bb2e-e7fb4f091165",
   "metadata": {},
   "outputs": [
    {
     "data": {
      "text/plain": [
       "(9+15j)"
      ]
     },
     "execution_count": 42,
     "metadata": {},
     "output_type": "execute_result"
    }
   ],
   "source": [
    "#c = 15+0b111j # Imaginary part cannot be binary,octal\n",
    "d = 0o11+15j #Real part can be binary,octal\n",
    "#c\n",
    "d"
   ]
  },
  {
   "cell_type": "code",
   "execution_count": 43,
   "id": "3492a460-1749-44ed-a647-4c3722516abc",
   "metadata": {},
   "outputs": [
    {
     "data": {
      "text/plain": [
       "(7+15j)"
      ]
     },
     "execution_count": 43,
     "metadata": {},
     "output_type": "execute_result"
    }
   ],
   "source": [
    "d2 = 0b111+15j\n",
    "d2"
   ]
  },
  {
   "cell_type": "code",
   "execution_count": 44,
   "id": "4da3bb2e-b468-46ef-9250-634a469e64ee",
   "metadata": {},
   "outputs": [
    {
     "ename": "SyntaxError",
     "evalue": "invalid decimal literal (1489874699.py, line 1)",
     "output_type": "error",
     "traceback": [
      "\u001b[1;36m  Cell \u001b[1;32mIn[44], line 1\u001b[1;36m\u001b[0m\n\u001b[1;33m    e1 = 4 + 15a\u001b[0m\n\u001b[1;37m              ^\u001b[0m\n\u001b[1;31mSyntaxError\u001b[0m\u001b[1;31m:\u001b[0m invalid decimal literal\n"
     ]
    }
   ],
   "source": [
    "e1 = 4 + 15a\n",
    "e1"
   ]
  },
  {
   "cell_type": "code",
   "execution_count": 45,
   "id": "a09e750d-e52b-4322-89fa-08839e77d972",
   "metadata": {},
   "outputs": [
    {
     "data": {
      "text/plain": [
       "(0.5609756097560976+0.04878048780487805j)"
      ]
     },
     "execution_count": 45,
     "metadata": {},
     "output_type": "execute_result"
    }
   ],
   "source": [
    "a1 = 20+30j\n",
    "b1 = 40+50j\n",
    "a1+b1\n",
    "a1-b1\n",
    "a1*b1\n",
    "a1/b1"
   ]
  },
  {
   "cell_type": "code",
   "execution_count": 46,
   "id": "bce059d5-ce51-43d1-a52c-bf9df08667af",
   "metadata": {},
   "outputs": [
    {
     "data": {
      "text/plain": [
       "complex"
      ]
     },
     "execution_count": 46,
     "metadata": {},
     "output_type": "execute_result"
    }
   ],
   "source": [
    "a = 2+3j\n",
    "type(a)"
   ]
  },
  {
   "cell_type": "code",
   "execution_count": 47,
   "id": "b81a4b8e-a237-451c-9cef-333ccab4a951",
   "metadata": {},
   "outputs": [
    {
     "data": {
      "text/plain": [
       "20.0"
      ]
     },
     "execution_count": 47,
     "metadata": {},
     "output_type": "execute_result"
    }
   ],
   "source": [
    "a1 = 10+20j # I want to know what thevalue of real part & imaginary part\n",
    "a1.real    # complex data type will use in mathmetic concept npt that required for programming language\n",
    "#a1.imaginary\n",
    "a1.imag"
   ]
  },
  {
   "cell_type": "markdown",
   "id": "312f46f7-ae59-434c-81c7-258e7f6afe09",
   "metadata": {},
   "source": [
    "# bool type"
   ]
  },
  {
   "cell_type": "code",
   "execution_count": 49,
   "id": "af696d9e-0614-4039-a9f4-586111332a61",
   "metadata": {},
   "outputs": [
    {
     "data": {
      "text/plain": [
       "False"
      ]
     },
     "execution_count": 49,
     "metadata": {},
     "output_type": "execute_result"
    }
   ],
   "source": [
    "a = 10\n",
    "b = 20\n",
    "c = a>b\n",
    "c"
   ]
  },
  {
   "cell_type": "code",
   "execution_count": null,
   "id": "fd7d7904-47a2-4159-ac55-81faf6c5ffcb",
   "metadata": {},
   "outputs": [],
   "source": [
    "True+True\n",
    "True*True\n",
    "True-True\n",
    "True/True\n",
    "False+False\n",
    "False+True\n",
    "True+False"
   ]
  },
  {
   "cell_type": "code",
   "execution_count": null,
   "id": "87178a70-3134-47c9-9f8f-9ed9f2b3d434",
   "metadata": {},
   "outputs": [],
   "source": [
    "True/True"
   ]
  },
  {
   "cell_type": "code",
   "execution_count": null,
   "id": "5995ffe2-8e09-4a3f-a520-cc82cbc7c0ce",
   "metadata": {},
   "outputs": [],
   "source": [
    "True/False # error"
   ]
  },
  {
   "cell_type": "markdown",
   "id": "d871cb02-3be2-4590-a200-69e62cd8c36f",
   "metadata": {},
   "source": [
    "# string datatype"
   ]
  },
  {
   "cell_type": "code",
   "execution_count": 50,
   "id": "4c24880f-c8fb-4f25-ab63-194959c8d410",
   "metadata": {},
   "outputs": [
    {
     "data": {
      "text/plain": [
       "'good for datascience'"
      ]
     },
     "execution_count": 50,
     "metadata": {},
     "output_type": "execute_result"
    }
   ],
   "source": [
    "naresh ='''good for datascience'''\n",
    "naresh\n",
    "#type(naresh)"
   ]
  },
  {
   "cell_type": "code",
   "execution_count": null,
   "id": "df64462b-38bd-4381-b698-7ca721b287b6",
   "metadata": {},
   "outputs": [],
   "source": [
    "naresh ='''good for datascience'''\n",
    "#type(careerera)# 'single quotes'\n",
    "naresh\n",
    "#type(naresh)"
   ]
  },
  {
   "cell_type": "code",
   "execution_count": 51,
   "id": "e92a9c75-eb99-4232-8c84-5eee363fed62",
   "metadata": {},
   "outputs": [
    {
     "data": {
      "text/plain": [
       "'good \\n             for datascience'"
      ]
     },
     "execution_count": 51,
     "metadata": {},
     "output_type": "execute_result"
    }
   ],
   "source": [
    "naresh2 = '''good \n",
    "             for datascience'''\n",
    "#type(careeera)#' single  quotes'\n",
    "naresh2 \n",
    "#type(naresh)"
   ]
  },
  {
   "cell_type": "code",
   "execution_count": 52,
   "id": "8b4190ff-bb9e-4b30-9de0-a84cdec38b8d",
   "metadata": {},
   "outputs": [
    {
     "data": {
      "text/plain": [
       "'good for datascience'"
      ]
     },
     "execution_count": 52,
     "metadata": {},
     "output_type": "execute_result"
    }
   ],
   "source": [
    "naresh = '''good for datascience'''\n",
    "#type(careerera)#' single quotes'\n",
    "naresh\n",
    "#type(naresh)"
   ]
  },
  {
   "cell_type": "code",
   "execution_count": 54,
   "id": "dbee5376-08f1-4cf1-a187-703c330163db",
   "metadata": {},
   "outputs": [
    {
     "data": {
      "text/plain": [
       "'good for \\n datascience'"
      ]
     },
     "execution_count": 54,
     "metadata": {},
     "output_type": "execute_result"
    }
   ],
   "source": [
    "naresh1 = '''good for \n",
    " datascience'''\n",
    "#type(naresh1)\n",
    "naresh1"
   ]
  },
  {
   "cell_type": "code",
   "execution_count": 55,
   "id": "626ace68-5ba3-49b0-9ccb-097df98c5254",
   "metadata": {},
   "outputs": [
    {
     "data": {
      "text/plain": [
       "['False',\n",
       " 'None',\n",
       " 'True',\n",
       " 'and',\n",
       " 'as',\n",
       " 'assert',\n",
       " 'async',\n",
       " 'await',\n",
       " 'break',\n",
       " 'class',\n",
       " 'continue',\n",
       " 'def',\n",
       " 'del',\n",
       " 'elif',\n",
       " 'else',\n",
       " 'except',\n",
       " 'finally',\n",
       " 'for',\n",
       " 'from',\n",
       " 'global',\n",
       " 'if',\n",
       " 'import',\n",
       " 'in',\n",
       " 'is',\n",
       " 'lambda',\n",
       " 'nonlocal',\n",
       " 'not',\n",
       " 'or',\n",
       " 'pass',\n",
       " 'raise',\n",
       " 'return',\n",
       " 'try',\n",
       " 'while',\n",
       " 'with',\n",
       " 'yield']"
      ]
     },
     "execution_count": 55,
     "metadata": {},
     "output_type": "execute_result"
    }
   ],
   "source": [
    "import keyword\n",
    "keyword.kwlist"
   ]
  },
  {
   "cell_type": "code",
   "execution_count": 56,
   "id": "01ed9896-5355-4893-bcc7-1253d222e20c",
   "metadata": {},
   "outputs": [
    {
     "data": {
      "text/plain": [
       "'hallo\\nhow \\nare\\nyou'"
      ]
     },
     "execution_count": 56,
     "metadata": {},
     "output_type": "execute_result"
    }
   ],
   "source": [
    "a = '''hallo\n",
    "how \n",
    "are\n",
    "you'''\n",
    "\n",
    "a\n",
    "#type(a) # SINLE & DOUBLE QUOTES ARE EQUAL"
   ]
  },
  {
   "cell_type": "code",
   "execution_count": 57,
   "id": "f2d6f5c1-6d8f-4b0f-a377-f836ec721ed4",
   "metadata": {},
   "outputs": [
    {
     "data": {
      "text/plain": [
       "'hello\\n    hi'"
      ]
     },
     "execution_count": 57,
     "metadata": {},
     "output_type": "execute_result"
    }
   ],
   "source": [
    "b = '''hello\n",
    "    hi'''\n",
    "b"
   ]
  },
  {
   "cell_type": "code",
   "execution_count": null,
   "id": "0a122884-8dc9-4f1e-9c4a-9c5a6b6a0128",
   "metadata": {},
   "outputs": [],
   "source": [
    "#single quote & double both are equal \n",
    "# ''' mutiline comment '''"
   ]
  },
  {
   "cell_type": "code",
   "execution_count": null,
   "id": "7522066f-ee5f-47a0-b7a3-0eb4f4ef1d34",
   "metadata": {},
   "outputs": [],
   "source": [
    "b =  '''('hello'\n",
    " 'how'\n",
    "       'are you')'''\n",
    "     # ''' ''' ==> triple quotes are used for multiline comments\n",
    "b \n",
    "    # is for commenting "
   ]
  },
  {
   "cell_type": "markdown",
   "id": "ca70bd54-b35d-48f8-a177-fc2aa9f2e28a",
   "metadata": {},
   "source": [
    "## Type casting or Type conversion -\n",
    "## int() -- float() -- complex() -- bool() --str()"
   ]
  },
  {
   "cell_type": "code",
   "execution_count": 58,
   "id": "dfb29ed9-872e-46f2-9fb3-20b59e240886",
   "metadata": {},
   "outputs": [
    {
     "ename": "ValueError",
     "evalue": "invalid literal for int() with base 10: 'ten'",
     "output_type": "error",
     "traceback": [
      "\u001b[1;31m---------------------------------------------------------------------------\u001b[0m",
      "\u001b[1;31mValueError\u001b[0m                                Traceback (most recent call last)",
      "Cell \u001b[1;32mIn[58], line 7\u001b[0m\n\u001b[0;32m      5\u001b[0m \u001b[38;5;28mint\u001b[39m(\u001b[38;5;28;01mTrue\u001b[39;00m)  \u001b[38;5;66;03m#  Bool to int \u001b[39;00m\n\u001b[0;32m      6\u001b[0m \u001b[38;5;28mint\u001b[39m(\u001b[38;5;28;01mFalse\u001b[39;00m)  \u001b[38;5;66;03m# Bool to int\u001b[39;00m\n\u001b[1;32m----> 7\u001b[0m \u001b[38;5;28mint\u001b[39m(\u001b[38;5;124m'\u001b[39m\u001b[38;5;124mten\u001b[39m\u001b[38;5;124m'\u001b[39m)\n",
      "\u001b[1;31mValueError\u001b[0m: invalid literal for int() with base 10: 'ten'"
     ]
    }
   ],
   "source": [
    " #int(): - you can convert from othere type to int type exceept complex \n",
    "\n",
    "int(10.123)  #float to int\n",
    "#int(10+20j) # cannat converrt from complex to int\n",
    "int(True)  #  Bool to int \n",
    "int(False)  # Bool to int\n",
    "int('ten')  # amx is a character "
   ]
  },
  {
   "cell_type": "code",
   "execution_count": 59,
   "id": "e83461e3-0849-4419-93dc-6b2e0445072d",
   "metadata": {},
   "outputs": [
    {
     "data": {
      "text/plain": [
       "11.0"
      ]
     },
     "execution_count": 59,
     "metadata": {},
     "output_type": "execute_result"
    }
   ],
   "source": [
    "# float(): --- convert from anyb type to float except complex\n",
    "\n",
    "float(10)    # int to float\n",
    "#float(10+20j)   # cannnot convert complex to float\n",
    "float(False)    # boolean to float \n",
    "float('11')"
   ]
  },
  {
   "cell_type": "code",
   "execution_count": 60,
   "id": "3e12c643-040c-4130-aec7-38e6b879becc",
   "metadata": {},
   "outputs": [
    {
     "data": {
      "text/plain": [
       "(10+0j)"
      ]
     },
     "execution_count": 60,
     "metadata": {},
     "output_type": "execute_result"
    }
   ],
   "source": [
    "# complex(): -- covert any other type to complex type \n",
    "# --- this only for 1 argument -----\n",
    "\n",
    "complex(10)  # int to complex\n",
    "complex(10.5) # float to complex\n",
    "complex(True) # Bool to complex\n",
    "complex(False)  #Bool to complex \n",
    "complex('10')   # string to complex \n",
    "\n",
    "# ------ Now we will check for 2 arguments ---\n",
    "complex(10,20)   # int to complex\n",
    "complex(10,20.5)   #float to complex \n",
    "#complex(10, 0b11j)\n",
    "complex('10')    # string to complex , you cannot assign 2 argument"
   ]
  },
  {
   "cell_type": "code",
   "execution_count": 61,
   "id": "2ed0fc02-d896-4dec-9b5f-a8529e168108",
   "metadata": {},
   "outputs": [
    {
     "data": {
      "text/plain": [
       "20.0"
      ]
     },
     "execution_count": 61,
     "metadata": {},
     "output_type": "execute_result"
    }
   ],
   "source": [
    "a1 = 10+20j\n",
    "type(a1)\n",
    "a1.real\n",
    "a1.imag"
   ]
  },
  {
   "cell_type": "code",
   "execution_count": 63,
   "id": "fe4829c5-b555-4170-83db-93e248906c46",
   "metadata": {},
   "outputs": [
    {
     "data": {
      "text/plain": [
       "True"
      ]
     },
     "execution_count": 63,
     "metadata": {},
     "output_type": "execute_result"
    }
   ],
   "source": [
    "# Bool()  -(0 means false // 1 means non zero)\n",
    "\n",
    "bool(0)     # int to bool\n",
    "bool(-10)    # int to bool\n",
    "bool(0.0)    # float to bool\n",
    "bool(10+20j) # complex to bool\n",
    "bool(0+1j)    #  complex to bool\n",
    "bool(\" \")   # string ti bool \\(if argument is empty string then false)\n",
    "bool('abc') # string to bool (if argument is not empty string than true)\n",
    "bool(' ')  # space is also treared a character so non empty string "
   ]
  },
  {
   "cell_type": "code",
   "execution_count": null,
   "id": "a04efe23-8876-4671-b1ff-c2a3f583b02e",
   "metadata": {},
   "outputs": [],
   "source": [
    "bool(-10)"
   ]
  },
  {
   "cell_type": "code",
   "execution_count": null,
   "id": "60f04fcb-5786-41c9-95f3-6909f13a9ee9",
   "metadata": {},
   "outputs": [],
   "source": [
    "bool(0+1j)"
   ]
  },
  {
   "cell_type": "code",
   "execution_count": 64,
   "id": "d9872434-b5e1-4244-8ab6-56142751fddd",
   "metadata": {},
   "outputs": [
    {
     "data": {
      "text/plain": [
       "'(10+20j)'"
      ]
     },
     "execution_count": 64,
     "metadata": {},
     "output_type": "execute_result"
    }
   ],
   "source": [
    "# str(): --- any type is possible in string\n",
    "\n",
    "str(10)  # int to string \n",
    "str(10.50) # float to string\n",
    "str(True)   #bool to string \n",
    "str(10+20j) # complex to string "
   ]
  },
  {
   "cell_type": "code",
   "execution_count": 65,
   "id": "f122e0b2-b824-4955-9103-2aab54708335",
   "metadata": {},
   "outputs": [
    {
     "data": {
      "text/plain": [
       "'10'"
      ]
     },
     "execution_count": 65,
     "metadata": {},
     "output_type": "execute_result"
    }
   ],
   "source": [
    "z1 = str(10)\n",
    "z1"
   ]
  },
  {
   "cell_type": "code",
   "execution_count": null,
   "id": "c3d542e4-d41f-4502-a6f3-bba2e62eb916",
   "metadata": {},
   "outputs": [],
   "source": [
    "x2 = 10\n",
    "y2 = 10\n",
    "z2 = 20\n",
    "print(id(x2))\n",
    "print(id(y2))\n",
    "print(id(z2))\n",
    "\n"
   ]
  },
  {
   "cell_type": "code",
   "execution_count": 66,
   "id": "73dcf976-c60f-4806-bab8-6845603bc330",
   "metadata": {},
   "outputs": [
    {
     "name": "stdout",
     "output_type": "stream",
     "text": [
      "140732482005720\n",
      "140732482005720\n"
     ]
    }
   ],
   "source": [
    "x = 10 #id - address of the memory location\n",
    "y = 10 \n",
    "print(id(x))\n",
    "print(id(y))"
   ]
  },
  {
   "cell_type": "code",
   "execution_count": 67,
   "id": "2aa06cdf-0139-4fa8-b47a-b37973e6f792",
   "metadata": {},
   "outputs": [
    {
     "data": {
      "text/plain": [
       "140732482005720"
      ]
     },
     "execution_count": 67,
     "metadata": {},
     "output_type": "execute_result"
    }
   ],
   "source": [
    "id(y)"
   ]
  },
  {
   "cell_type": "code",
   "execution_count": 68,
   "id": "db5a6d51-f2b8-4d64-9767-2b23d9ca1dfd",
   "metadata": {},
   "outputs": [
    {
     "data": {
      "text/plain": [
       "True"
      ]
     },
     "execution_count": 68,
     "metadata": {},
     "output_type": "execute_result"
    }
   ],
   "source": [
    "# is operator\n",
    "x = 20 # x,y = 20\n",
    "y = 20 \n",
    "x is y \n",
    "y is x"
   ]
  },
  {
   "cell_type": "code",
   "execution_count": 69,
   "id": "f77060f9-7e1b-4666-8b04-a60b3bc22a45",
   "metadata": {},
   "outputs": [
    {
     "data": {
      "text/plain": [
       "False"
      ]
     },
     "execution_count": 69,
     "metadata": {},
     "output_type": "execute_result"
    }
   ],
   "source": [
    "x = True \n",
    "y = True \n",
    "z = False\n",
    "x is y \n",
    "y is z\n",
    "z is x\n",
    "z is y"
   ]
  },
  {
   "cell_type": "code",
   "execution_count": null,
   "id": "50b87d6f-2153-4a07-a17a-81e191065968",
   "metadata": {},
   "outputs": [],
   "source": []
  },
  {
   "cell_type": "code",
   "execution_count": null,
   "id": "f34c8b52-27e2-42c8-a774-cdc46d6b508c",
   "metadata": {},
   "outputs": [],
   "source": []
  },
  {
   "cell_type": "code",
   "execution_count": null,
   "id": "706d647f-e9fa-48d2-a9c9-5746707021d8",
   "metadata": {},
   "outputs": [],
   "source": []
  },
  {
   "cell_type": "code",
   "execution_count": null,
   "id": "a42794ef-c2f6-4f60-8adc-4f6b722102fd",
   "metadata": {},
   "outputs": [],
   "source": []
  },
  {
   "cell_type": "code",
   "execution_count": null,
   "id": "34b1bcfe-31d9-4d68-b978-bd01e336e60f",
   "metadata": {},
   "outputs": [],
   "source": []
  }
 ],
 "metadata": {
  "kernelspec": {
   "display_name": "Python [conda env:base] *",
   "language": "python",
   "name": "conda-base-py"
  },
  "language_info": {
   "codemirror_mode": {
    "name": "ipython",
    "version": 3
   },
   "file_extension": ".py",
   "mimetype": "text/x-python",
   "name": "python",
   "nbconvert_exporter": "python",
   "pygments_lexer": "ipython3",
   "version": "3.12.7"
  }
 },
 "nbformat": 4,
 "nbformat_minor": 5
}
