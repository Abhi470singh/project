{
 "cells": [
  {
   "cell_type": "markdown",
   "id": "58173649-d2b6-4c29-a228-fe59555b434f",
   "metadata": {},
   "source": [
    "## Dictionary\n"
   ]
  },
  {
   "cell_type": "code",
   "execution_count": null,
   "id": "e7afbadf-4cdf-4847-aafa-3a43e61668e0",
   "metadata": {},
   "outputs": [],
   "source": []
  },
  {
   "cell_type": "code",
   "execution_count": null,
   "id": "a5f17941-e579-4688-9e05-38060784ade8",
   "metadata": {},
   "outputs": [],
   "source": []
  },
  {
   "cell_type": "code",
   "execution_count": null,
   "id": "995d80b0-4ed5-473e-b53a-a4a4824a1a06",
   "metadata": {},
   "outputs": [],
   "source": []
  },
  {
   "cell_type": "code",
   "execution_count": null,
   "id": "dc53d5b8-4129-4d22-ae33-6d8368aacb42",
   "metadata": {},
   "outputs": [],
   "source": []
  },
  {
   "cell_type": "code",
   "execution_count": null,
   "id": "57a5cabf-68f3-4215-bf70-6e7c98c86194",
   "metadata": {},
   "outputs": [],
   "source": []
  },
  {
   "cell_type": "code",
   "execution_count": null,
   "id": "f4152739-96a1-4661-bf6b-7ec32fb3867f",
   "metadata": {},
   "outputs": [],
   "source": []
  },
  {
   "cell_type": "code",
   "execution_count": null,
   "id": "5886d8df-91b2-46df-bcf5-2620211d2c11",
   "metadata": {},
   "outputs": [],
   "source": []
  },
  {
   "cell_type": "code",
   "execution_count": null,
   "id": "5a06f82d-b38d-438c-ba93-f37e3f2824a0",
   "metadata": {},
   "outputs": [],
   "source": []
  },
  {
   "cell_type": "code",
   "execution_count": null,
   "id": "3f4b1c86-874c-4caa-84ed-1679cb4b2517",
   "metadata": {},
   "outputs": [],
   "source": []
  },
  {
   "cell_type": "code",
   "execution_count": null,
   "id": "370a3c3e-af8b-456a-8f28-a796093be731",
   "metadata": {},
   "outputs": [],
   "source": []
  },
  {
   "cell_type": "code",
   "execution_count": null,
   "id": "26503975-3825-4918-bfa5-ed87ee605913",
   "metadata": {},
   "outputs": [],
   "source": []
  },
  {
   "cell_type": "code",
   "execution_count": null,
   "id": "151b58f4-09f6-4d9d-a9a3-470447e77ca8",
   "metadata": {},
   "outputs": [],
   "source": []
  },
  {
   "cell_type": "code",
   "execution_count": null,
   "id": "fccde518-1c81-45a2-b942-c6bae336d902",
   "metadata": {},
   "outputs": [],
   "source": []
  },
  {
   "cell_type": "code",
   "execution_count": null,
   "id": "4cfd8a32-9c8d-4fca-983d-ddba0b03ad97",
   "metadata": {},
   "outputs": [],
   "source": []
  },
  {
   "cell_type": "code",
   "execution_count": 2,
   "id": "74f5890d-8a5f-4876-b14d-5a130236d737",
   "metadata": {},
   "outputs": [
    {
     "data": {
      "text/plain": [
       "{}"
      ]
     },
     "execution_count": 2,
     "metadata": {},
     "output_type": "execute_result"
    }
   ],
   "source": [
    " \n",
    "mydict = dict() # empty dictionary \n",
    "mydict "
   ]
  },
  {
   "cell_type": "code",
   "execution_count": 3,
   "id": "d7bff7ea-cf93-4f40-95d7-1d171b6c39d1",
   "metadata": {},
   "outputs": [
    {
     "data": {
      "text/plain": [
       "{}"
      ]
     },
     "execution_count": 3,
     "metadata": {},
     "output_type": "execute_result"
    }
   ],
   "source": [
    " \n",
    "mydict = {} # empty dictionary \n",
    "mydict"
   ]
  },
  {
   "cell_type": "code",
   "execution_count": 4,
   "id": "7778f238-b051-4fe9-9fef-334b36d61254",
   "metadata": {},
   "outputs": [
    {
     "data": {
      "text/plain": [
       "{1: 'one', 2: 'two', 3: 'three'}"
      ]
     },
     "execution_count": 4,
     "metadata": {},
     "output_type": "execute_result"
    }
   ],
   "source": [
    " \n",
    "mydict = {1:'one' , 2:'two' , 3:'three'} # dictionary with integer keys \n",
    "mydict "
   ]
  },
  {
   "cell_type": "code",
   "execution_count": 5,
   "id": "42248ec2-2dbf-4e1a-be73-1a9681938970",
   "metadata": {},
   "outputs": [
    {
     "data": {
      "text/plain": [
       "{1: 'one', 2: 'two', 3: 'three'}"
      ]
     },
     "execution_count": 5,
     "metadata": {},
     "output_type": "execute_result"
    }
   ],
   "source": [
    "\n",
    "mydict = dict({1:'one' , 2:'two' , 3:'three'}) # Create dictionary using dict() \n",
    "mydict "
   ]
  },
  {
   "cell_type": "code",
   "execution_count": 6,
   "id": "bec5b7c1-d2ee-4b8e-80b1-45f0df4da8e4",
   "metadata": {},
   "outputs": [
    {
     "data": {
      "text/plain": [
       "{'A': 'one', 'B': 'two', 'C': 'three'}"
      ]
     },
     "execution_count": 6,
     "metadata": {},
     "output_type": "execute_result"
    }
   ],
   "source": [
    " \n",
    "mydict = {'A':'one' , 'B':'two' , 'C':'three'} # dictionary with character keys \n",
    "mydict"
   ]
  },
  {
   "cell_type": "code",
   "execution_count": 7,
   "id": "5bbff59c-ca0c-409c-a040-8e85696cf07a",
   "metadata": {},
   "outputs": [
    {
     "data": {
      "text/plain": [
       "{1: 'one', 'A': 'two', 3: 'three'}"
      ]
     },
     "execution_count": 7,
     "metadata": {},
     "output_type": "execute_result"
    }
   ],
   "source": [
    "mydict = {1:'one' , 'A':'two' , 3:'three'} # dictionary with mixed keys \n",
    "mydict"
   ]
  },
  {
   "cell_type": "code",
   "execution_count": 8,
   "id": "1c2a976b-208d-4b4f-858b-2ce9f1421bc4",
   "metadata": {},
   "outputs": [
    {
     "data": {
      "text/plain": [
       "dict_keys([1, 'A', 3])"
      ]
     },
     "execution_count": 8,
     "metadata": {},
     "output_type": "execute_result"
    }
   ],
   "source": [
    "mydict.keys() # Return Dictionary Keys using keys() method "
   ]
  },
  {
   "cell_type": "code",
   "execution_count": 9,
   "id": "58a272ca-dd93-49d0-832b-e03f2a39b016",
   "metadata": {},
   "outputs": [
    {
     "data": {
      "text/plain": [
       "dict_values(['one', 'two', 'three'])"
      ]
     },
     "execution_count": 9,
     "metadata": {},
     "output_type": "execute_result"
    }
   ],
   "source": [
    "mydict.values() # Return Dictionary Values using values() method"
   ]
  },
  {
   "cell_type": "code",
   "execution_count": 10,
   "id": "2777b61c-148e-4486-acbd-4d31b65294a9",
   "metadata": {},
   "outputs": [
    {
     "data": {
      "text/plain": [
       "dict_items([(1, 'one'), ('A', 'two'), (3, 'three')])"
      ]
     },
     "execution_count": 10,
     "metadata": {},
     "output_type": "execute_result"
    }
   ],
   "source": [
    " \n",
    "mydict.items() # Access each key-value pair within a dictionary "
   ]
  },
  {
   "cell_type": "code",
   "execution_count": 11,
   "id": "12308479-c618-4af5-bbb1-ab4b3a9a4888",
   "metadata": {},
   "outputs": [
    {
     "data": {
      "text/plain": [
       "{1: 'one', 2: 'two', 'A': ['asif', 'john', 'Maria']}"
      ]
     },
     "execution_count": 11,
     "metadata": {},
     "output_type": "execute_result"
    }
   ],
   "source": [
    "mydict = {1:'one' , 2:'two' , 'A':['asif' , 'john' , 'Maria']} # dictionary with \n",
    "mydict"
   ]
  },
  {
   "cell_type": "code",
   "execution_count": 15,
   "id": "4ceef361-235e-4460-a868-bbd157019ba9",
   "metadata": {},
   "outputs": [
    {
     "data": {
      "text/plain": [
       "{1: 'one',\n",
       " 2: 'two',\n",
       " 'A': ['asif', 'john', 'Maria'],\n",
       " 'B': ('Bat', 'cat', 'hat')}"
      ]
     },
     "execution_count": 15,
     "metadata": {},
     "output_type": "execute_result"
    }
   ],
   "source": [
    "mydict = {1:'one' , 2:'two' , 'A':['asif' , 'john' , 'Maria'], 'B':('Bat' , 'cat' , 'hat')} \n",
    "mydict "
   ]
  },
  {
   "cell_type": "code",
   "execution_count": 14,
   "id": "5014327b-87e3-4cd7-9233-1169c4756f2c",
   "metadata": {},
   "outputs": [
    {
     "data": {
      "text/plain": [
       "{1: 'one',\n",
       " 2: 'two',\n",
       " 'A': {'Name': 'asif', 'Age': 20},\n",
       " 'B': ('Bat', 'cat', 'hat')}"
      ]
     },
     "execution_count": 14,
     "metadata": {},
     "output_type": "execute_result"
    }
   ],
   "source": [
    " \n",
    "mydict = {1:'one' , 2:'two' , 'A':{'Name':'asif' , 'Age' :20}, 'B':('Bat' , 'cat' , 'hat')}\n",
    "mydict "
   ]
  },
  {
   "cell_type": "code",
   "execution_count": 16,
   "id": "19c0ff79-8ccd-4927-8eef-0d735193dcef",
   "metadata": {},
   "outputs": [
    {
     "data": {
      "text/plain": [
       "{'d': None, 'c': None, 'a': None, 'b': None}"
      ]
     },
     "execution_count": 16,
     "metadata": {},
     "output_type": "execute_result"
    }
   ],
   "source": [
    "keys = {'a' , 'b' , 'c' , 'd'} \n",
    "mydict3 = dict.fromkeys(keys)  # Create a dictionary from a sequence of keys \n",
    "mydict3 "
   ]
  },
  {
   "cell_type": "code",
   "execution_count": 17,
   "id": "ed6ca617-8bb2-424a-b39e-43c88c9478c1",
   "metadata": {},
   "outputs": [
    {
     "data": {
      "text/plain": [
       "{'d': 10, 'c': 10, 'a': 10, 'b': 10}"
      ]
     },
     "execution_count": 17,
     "metadata": {},
     "output_type": "execute_result"
    }
   ],
   "source": [
    " \n",
    "keys = {'a' , 'b' , 'c' , 'd'} \n",
    "value = 10 \n",
    "mydict3 = dict.fromkeys(keys , value) # Create a dictionary from a sequence of \n",
    "mydict3 "
   ]
  },
  {
   "cell_type": "code",
   "execution_count": 18,
   "id": "8a476fc4-0baf-4177-9477-6d274b3c0c23",
   "metadata": {},
   "outputs": [
    {
     "data": {
      "text/plain": [
       "{'d': [10, 20, 30], 'c': [10, 20, 30], 'a': [10, 20, 30], 'b': [10, 20, 30]}"
      ]
     },
     "execution_count": 18,
     "metadata": {},
     "output_type": "execute_result"
    }
   ],
   "source": [
    "keys = {'a' , 'b' , 'c' , 'd'} \n",
    "value = [10,20,30] \n",
    "mydict3 = dict.fromkeys(keys , value) # Create a dictionary from a sequence of \n",
    "mydict3 "
   ]
  },
  {
   "cell_type": "code",
   "execution_count": 19,
   "id": "e5feb461-c470-4a0d-93d6-f60e2ef36ea9",
   "metadata": {},
   "outputs": [
    {
     "data": {
      "text/plain": [
       "{'d': [10, 20, 30, 40],\n",
       " 'c': [10, 20, 30, 40],\n",
       " 'a': [10, 20, 30, 40],\n",
       " 'b': [10, 20, 30, 40]}"
      ]
     },
     "execution_count": 19,
     "metadata": {},
     "output_type": "execute_result"
    }
   ],
   "source": [
    " \n",
    "value.append(40) \n",
    "mydict3 "
   ]
  },
  {
   "cell_type": "markdown",
   "id": "7ca26f71-1a75-4760-b30b-71266c82a4b6",
   "metadata": {},
   "source": [
    "### Accessing Items"
   ]
  },
  {
   "cell_type": "code",
   "execution_count": 20,
   "id": "1197dd0b-f724-4660-a7ee-be3e7dac0893",
   "metadata": {},
   "outputs": [
    {
     "data": {
      "text/plain": [
       "{1: 'one', 2: 'two', 3: 'three', 4: 'four'}"
      ]
     },
     "execution_count": 20,
     "metadata": {},
     "output_type": "execute_result"
    }
   ],
   "source": [
    " \n",
    "mydict = {1:'one' , 2:'two' , 3:'three' , 4:'four'} \n",
    "mydict "
   ]
  },
  {
   "cell_type": "code",
   "execution_count": 21,
   "id": "0408aaff-9197-4552-a8c2-659b31bb306f",
   "metadata": {},
   "outputs": [
    {
     "data": {
      "text/plain": [
       "'one'"
      ]
     },
     "execution_count": 21,
     "metadata": {},
     "output_type": "execute_result"
    }
   ],
   "source": [
    " \n",
    "mydict[1] # Access item using ke"
   ]
  },
  {
   "cell_type": "code",
   "execution_count": 22,
   "id": "c8288090-504c-4337-ba04-cdf9c5f189be",
   "metadata": {},
   "outputs": [
    {
     "data": {
      "text/plain": [
       "'one'"
      ]
     },
     "execution_count": 22,
     "metadata": {},
     "output_type": "execute_result"
    }
   ],
   "source": [
    " \n",
    "mydict.get(1) # Access item using get() method"
   ]
  },
  {
   "cell_type": "code",
   "execution_count": 23,
   "id": "3269916f-e76f-44e8-ae8d-d64b6a3b5914",
   "metadata": {},
   "outputs": [
    {
     "data": {
      "text/plain": [
       "{'Name': 'Asif', 'ID': 74123, 'DOB': 1991, 'job': 'Analyst'}"
      ]
     },
     "execution_count": 23,
     "metadata": {},
     "output_type": "execute_result"
    }
   ],
   "source": [
    " \n",
    "mydict1 = {'Name':'Asif' , 'ID': 74123 , 'DOB': 1991 , 'job' :'Analyst'} \n",
    "mydict1 "
   ]
  },
  {
   "cell_type": "code",
   "execution_count": 24,
   "id": "37b4a385-fdc9-46f0-850e-2c5bc9345c60",
   "metadata": {},
   "outputs": [
    {
     "data": {
      "text/plain": [
       "'Asif'"
      ]
     },
     "execution_count": 24,
     "metadata": {},
     "output_type": "execute_result"
    }
   ],
   "source": [
    "mydict1['Name'] # Access item using key"
   ]
  },
  {
   "cell_type": "markdown",
   "id": "8f4b9bc7-0fce-4590-b632-babc0ac6ab57",
   "metadata": {},
   "source": [
    "mydict1.get('job') # Access item using get() method"
   ]
  },
  {
   "cell_type": "markdown",
   "id": "8504bcb4-ff20-418b-9f4f-13d092223ce8",
   "metadata": {},
   "source": [
    "#### Add, REmove & Change items"
   ]
  },
  {
   "cell_type": "code",
   "execution_count": 27,
   "id": "baebe8a6-3894-48db-b9aa-74ea970ab8e9",
   "metadata": {},
   "outputs": [
    {
     "data": {
      "text/plain": [
       "{'Name': 'Asif', 'ID': 12345, 'DOB': 1991, 'Address': 'Hilsinki'}"
      ]
     },
     "execution_count": 27,
     "metadata": {},
     "output_type": "execute_result"
    }
   ],
   "source": [
    " \n",
    "mydict1 = {'Name':'Asif' , 'ID': 12345 , 'DOB': 1991 , 'Address' : 'Hilsinki'} \n",
    "mydict1 "
   ]
  },
  {
   "cell_type": "code",
   "execution_count": 28,
   "id": "98dfefbe-4a8e-4217-8473-ba99f42246de",
   "metadata": {},
   "outputs": [
    {
     "data": {
      "text/plain": [
       "{'Name': 'Asif', 'ID': 12345, 'DOB': 1992, 'Address': 'Delhi'}"
      ]
     },
     "execution_count": 28,
     "metadata": {},
     "output_type": "execute_result"
    }
   ],
   "source": [
    "mydict1['DOB'] = 1992 # Changing Dictionary Items \n",
    "mydict1['Address'] = 'Delhi' \n",
    "mydict1 "
   ]
  },
  {
   "cell_type": "code",
   "execution_count": 29,
   "id": "a0053a1d-ffb6-43d3-9644-0d652770040f",
   "metadata": {},
   "outputs": [
    {
     "data": {
      "text/plain": [
       "{'Name': 'Asif', 'ID': 12345, 'DOB': 1995, 'Address': 'Delhi'}"
      ]
     },
     "execution_count": 29,
     "metadata": {},
     "output_type": "execute_result"
    }
   ],
   "source": [
    "dict1 = {'DOB':1995} \n",
    "mydict1.update(dict1) \n",
    "mydict1 "
   ]
  },
  {
   "cell_type": "code",
   "execution_count": 30,
   "id": "f559b23e-9fbb-458b-a0d6-87fac942fdb0",
   "metadata": {},
   "outputs": [
    {
     "data": {
      "text/plain": [
       "{'Name': 'Asif',\n",
       " 'ID': 12345,\n",
       " 'DOB': 1995,\n",
       " 'Address': 'Delhi',\n",
       " 'Job': 'Analyst'}"
      ]
     },
     "execution_count": 30,
     "metadata": {},
     "output_type": "execute_result"
    }
   ],
   "source": [
    "mydict1['Job'] = 'Analyst' # Adding items in the dictionary \n",
    "mydict1 "
   ]
  },
  {
   "cell_type": "code",
   "execution_count": 31,
   "id": "0fdf0809-d281-4005-b403-6a7f2afa9a22",
   "metadata": {},
   "outputs": [
    {
     "data": {
      "text/plain": [
       "{'Name': 'Asif', 'ID': 12345, 'DOB': 1995, 'Address': 'Delhi'}"
      ]
     },
     "execution_count": 31,
     "metadata": {},
     "output_type": "execute_result"
    }
   ],
   "source": [
    " \n",
    "mydict1.pop('Job') # Removing items in the dictionary using Pop method \n",
    "mydict1 "
   ]
  },
  {
   "cell_type": "code",
   "execution_count": 32,
   "id": "f1950a7e-b9ab-46f2-b44d-d34d7820fa72",
   "metadata": {},
   "outputs": [
    {
     "data": {
      "text/plain": [
       "('Address', 'Delhi')"
      ]
     },
     "execution_count": 32,
     "metadata": {},
     "output_type": "execute_result"
    }
   ],
   "source": [
    "mydict1.popitem() # A random item is removed"
   ]
  },
  {
   "cell_type": "code",
   "execution_count": 33,
   "id": "87602b71-80e0-469d-9702-7c0725cd9a37",
   "metadata": {},
   "outputs": [
    {
     "data": {
      "text/plain": [
       "{'Name': 'Asif', 'ID': 12345, 'DOB': 1995}"
      ]
     },
     "execution_count": 33,
     "metadata": {},
     "output_type": "execute_result"
    }
   ],
   "source": [
    " \n",
    "mydict1"
   ]
  },
  {
   "cell_type": "code",
   "execution_count": 34,
   "id": "15943d8a-29a4-4a1b-ae75-b55f1cbbfc30",
   "metadata": {},
   "outputs": [
    {
     "data": {
      "text/plain": [
       "{'Name': 'Asif', 'DOB': 1995}"
      ]
     },
     "execution_count": 34,
     "metadata": {},
     "output_type": "execute_result"
    }
   ],
   "source": [
    " \n",
    "del[mydict1['ID']] # Removing item using del method \n",
    "mydict1 "
   ]
  },
  {
   "cell_type": "code",
   "execution_count": 35,
   "id": "d6f7f9aa-9b20-4c28-823b-e5b353ffd7ad",
   "metadata": {},
   "outputs": [
    {
     "data": {
      "text/plain": [
       "{}"
      ]
     },
     "execution_count": 35,
     "metadata": {},
     "output_type": "execute_result"
    }
   ],
   "source": [
    "mydict1.clear() # Delete all items of the dictionary using clear method \n",
    "mydict1"
   ]
  },
  {
   "cell_type": "code",
   "execution_count": 36,
   "id": "9cde5fcc-08ed-4acb-8b69-a30132fd8b45",
   "metadata": {},
   "outputs": [
    {
     "ename": "NameError",
     "evalue": "name 'mydict1' is not defined",
     "output_type": "error",
     "traceback": [
      "\u001b[1;31m---------------------------------------------------------------------------\u001b[0m",
      "\u001b[1;31mNameError\u001b[0m                                 Traceback (most recent call last)",
      "Cell \u001b[1;32mIn[36], line 2\u001b[0m\n\u001b[0;32m      1\u001b[0m \u001b[38;5;28;01mdel\u001b[39;00m mydict1 \u001b[38;5;66;03m# Delete the dictionary object \u001b[39;00m\n\u001b[1;32m----> 2\u001b[0m mydict1\n",
      "\u001b[1;31mNameError\u001b[0m: name 'mydict1' is not defined"
     ]
    }
   ],
   "source": [
    "del mydict1 # Delete the dictionary object \n",
    "mydict1"
   ]
  },
  {
   "cell_type": "markdown",
   "id": "979f5baa-3666-49f2-b182-ef3f0ee0eb40",
   "metadata": {},
   "source": [
    "#### Copy Dictionary"
   ]
  },
  {
   "cell_type": "code",
   "execution_count": 38,
   "id": "88b2460f-2b82-4e59-b9ed-321a07d6a18b",
   "metadata": {},
   "outputs": [
    {
     "data": {
      "text/plain": [
       "{'Name': 'abhishek', 'ID': 12345, 'DOB': 2002, 'Address': 'Nilkanthpur'}"
      ]
     },
     "execution_count": 38,
     "metadata": {},
     "output_type": "execute_result"
    }
   ],
   "source": [
    " \n",
    "mydict = {'Name':'abhishek' , 'ID': 12345 , 'DOB': 2002 , 'Address' : 'Nilkanthpur'} \n",
    "mydict "
   ]
  },
  {
   "cell_type": "code",
   "execution_count": 39,
   "id": "08636479-3fbd-400c-aae4-be7407b28b1a",
   "metadata": {},
   "outputs": [],
   "source": [
    " \n",
    "mydict1 = mydict # Create a new reference \"mydict1\""
   ]
  },
  {
   "cell_type": "code",
   "execution_count": 40,
   "id": "b14f623a-8356-4db7-8d73-daa2f01f5539",
   "metadata": {},
   "outputs": [
    {
     "data": {
      "text/plain": [
       "(2624669744192, 2624669744192)"
      ]
     },
     "execution_count": 40,
     "metadata": {},
     "output_type": "execute_result"
    }
   ],
   "source": [
    "id(mydict) , id(mydict1) # The address of both mydict & mydict1 will be the same"
   ]
  },
  {
   "cell_type": "code",
   "execution_count": 41,
   "id": "d8902a60-6634-4ae2-841b-aa4a33f439cf",
   "metadata": {},
   "outputs": [],
   "source": [
    "mydict2 = mydict.copy() # Create a copy of the dictionary"
   ]
  },
  {
   "cell_type": "code",
   "execution_count": 42,
   "id": "e674304b-96d7-4be5-a7c8-40a4c0d04522",
   "metadata": {},
   "outputs": [
    {
     "data": {
      "text/plain": [
       "2624669914368"
      ]
     },
     "execution_count": 42,
     "metadata": {},
     "output_type": "execute_result"
    }
   ],
   "source": [
    "id(mydict2) # The address of mydict2 will be different from mydict because mydic"
   ]
  },
  {
   "cell_type": "code",
   "execution_count": 43,
   "id": "2179c87e-98e2-4a4e-8ebc-6a238d75ba61",
   "metadata": {},
   "outputs": [],
   "source": [
    "\n",
    "mydict['Address'] = 'Patna'"
   ]
  },
  {
   "cell_type": "code",
   "execution_count": 44,
   "id": "60bd7902-9dfe-41c4-afe8-2ec202da4993",
   "metadata": {},
   "outputs": [
    {
     "data": {
      "text/plain": [
       "{'Name': 'abhishek', 'ID': 12345, 'DOB': 2002, 'Address': 'Patna'}"
      ]
     },
     "execution_count": 44,
     "metadata": {},
     "output_type": "execute_result"
    }
   ],
   "source": [
    "mydict"
   ]
  },
  {
   "cell_type": "code",
   "execution_count": 45,
   "id": "672ac451-183e-44f4-b81c-a5b9d2ea2b39",
   "metadata": {},
   "outputs": [
    {
     "data": {
      "text/plain": [
       "{'Name': 'abhishek', 'ID': 12345, 'DOB': 2002, 'Address': 'Patna'}"
      ]
     },
     "execution_count": 45,
     "metadata": {},
     "output_type": "execute_result"
    }
   ],
   "source": [
    "\n",
    "mydict1 # mydict1 will be also impacted as it is pointing to the same dictionary"
   ]
  },
  {
   "cell_type": "code",
   "execution_count": 46,
   "id": "61a0ade3-668e-45a0-b4ca-cf246d137892",
   "metadata": {},
   "outputs": [
    {
     "data": {
      "text/plain": [
       "{'Name': 'abhishek', 'ID': 12345, 'DOB': 2002, 'Address': 'Nilkanthpur'}"
      ]
     },
     "execution_count": 46,
     "metadata": {},
     "output_type": "execute_result"
    }
   ],
   "source": [
    "mydict2 # Copy of list won't be impacted due to the changes made in the original"
   ]
  },
  {
   "cell_type": "markdown",
   "id": "4c216839-3654-4bea-a014-0c48c8c6591a",
   "metadata": {},
   "source": [
    "### Loop through a Dictionary"
   ]
  },
  {
   "cell_type": "code",
   "execution_count": 48,
   "id": "ca046302-b3c2-48dc-bb67-e24b5ac7a176",
   "metadata": {},
   "outputs": [
    {
     "data": {
      "text/plain": [
       "{'Name': 'Asif',\n",
       " 'ID': 12345,\n",
       " 'DOB': 1991,\n",
       " 'Address': 'Hilsinki',\n",
       " 'job': 'Analyst'}"
      ]
     },
     "execution_count": 48,
     "metadata": {},
     "output_type": "execute_result"
    }
   ],
   "source": [
    " \n",
    "mydict1 = {'Name':'Asif' , 'ID': 12345 , 'DOB': 1991 , 'Address' : 'Hilsinki' , 'job': 'Analyst'} \n",
    "mydict1 "
   ]
  },
  {
   "cell_type": "code",
   "execution_count": 50,
   "id": "fb92d6e2-5c5d-4257-9d41-67e039c32a3d",
   "metadata": {},
   "outputs": [
    {
     "name": "stdout",
     "output_type": "stream",
     "text": [
      "Name : Asif\n",
      "ID : 12345\n",
      "DOB : 1991\n",
      "Address : Hilsinki\n",
      "job : Analyst\n"
     ]
    }
   ],
   "source": [
    " for i in mydict1: \n",
    "     print(i , ':' , mydict1[i]) # Key & value pair"
   ]
  },
  {
   "cell_type": "code",
   "execution_count": 51,
   "id": "3033e083-0cb1-40fa-bedb-9ee97379ec99",
   "metadata": {},
   "outputs": [
    {
     "name": "stdout",
     "output_type": "stream",
     "text": [
      "Asif\n",
      "12345\n",
      "1991\n",
      "Hilsinki\n",
      "Analyst\n"
     ]
    }
   ],
   "source": [
    "\n",
    "for i in mydict1: \n",
    "    print(mydict1[i]) # Dictionary items "
   ]
  },
  {
   "cell_type": "markdown",
   "id": "2348cf28-419f-4c74-9980-6f995ea95eba",
   "metadata": {},
   "source": [
    "### Dictionary Membership"
   ]
  },
  {
   "cell_type": "code",
   "execution_count": 53,
   "id": "538a8128-ecc4-4ed7-9fb8-c5655334d67a",
   "metadata": {},
   "outputs": [
    {
     "name": "stdout",
     "output_type": "stream",
     "text": [
      "Asif\n",
      "12345\n",
      "1991\n",
      "Hilsinki\n",
      "Analyst\n"
     ]
    }
   ],
   "source": [
    " \n",
    "for i in mydict1: \n",
    "    print(mydict1[i]) # Dictionary items "
   ]
  },
  {
   "cell_type": "code",
   "execution_count": 54,
   "id": "76f387cb-3e01-4695-a288-f529e69f29f4",
   "metadata": {},
   "outputs": [
    {
     "data": {
      "text/plain": [
       "True"
      ]
     },
     "execution_count": 54,
     "metadata": {},
     "output_type": "execute_result"
    }
   ],
   "source": [
    " 'Name' in mydict1 # Test if a key is in a dictionary or not."
   ]
  },
  {
   "cell_type": "code",
   "execution_count": 55,
   "id": "d3d53238-d3e7-475c-9108-12e3ef99f3d8",
   "metadata": {},
   "outputs": [
    {
     "data": {
      "text/plain": [
       "False"
      ]
     },
     "execution_count": 55,
     "metadata": {},
     "output_type": "execute_result"
    }
   ],
   "source": [
    "\n",
    "'Asif' in mydict1 # Membership test can be only done for keys."
   ]
  },
  {
   "cell_type": "code",
   "execution_count": 56,
   "id": "4079fb95-b920-49d5-9514-cb1852734389",
   "metadata": {},
   "outputs": [
    {
     "data": {
      "text/plain": [
       "True"
      ]
     },
     "execution_count": 56,
     "metadata": {},
     "output_type": "execute_result"
    }
   ],
   "source": [
    "'ID' in mydict1 "
   ]
  },
  {
   "cell_type": "code",
   "execution_count": 57,
   "id": "cd90b7f4-77c2-487c-b6d2-25fbc9f3a970",
   "metadata": {},
   "outputs": [
    {
     "data": {
      "text/plain": [
       "True"
      ]
     },
     "execution_count": 57,
     "metadata": {},
     "output_type": "execute_result"
    }
   ],
   "source": [
    "\n",
    "'Address' in mydict1 "
   ]
  },
  {
   "cell_type": "markdown",
   "id": "5b1c9f99-6f69-4550-8f5f-babb3c2e8b59",
   "metadata": {},
   "source": [
    "### All/Any\n",
    "the all() method returns:\n",
    "1.> True - if all keys of the dictionary are ture\n",
    "2.> false - if any key of the dictionary is faluse\n",
    "The any() function returns True if any key of the dictionary is True. If not, any() returns False"
   ]
  },
  {
   "cell_type": "code",
   "execution_count": 59,
   "id": "a1d0898e-ccd6-4f4b-b2f5-54629e83df65",
   "metadata": {},
   "outputs": [
    {
     "data": {
      "text/plain": [
       "{'Name': 'Asif', 'ID': 12345, 'DOB': 1991, 'Job': 'Analyst'}"
      ]
     },
     "execution_count": 59,
     "metadata": {},
     "output_type": "execute_result"
    }
   ],
   "source": [
    "mydict1 = {'Name':'Asif' , 'ID': 12345 , 'DOB': 1991 , 'Job': 'Analyst'} \n",
    "mydict1 "
   ]
  },
  {
   "cell_type": "code",
   "execution_count": 60,
   "id": "cf684f50-9de3-4cd8-b31d-1ad72b435fea",
   "metadata": {},
   "outputs": [
    {
     "data": {
      "text/plain": [
       "True"
      ]
     },
     "execution_count": 60,
     "metadata": {},
     "output_type": "execute_result"
    }
   ],
   "source": [
    "all(mydict1) # Will Return false as one value is false (Value 0) "
   ]
  },
  {
   "cell_type": "code",
   "execution_count": null,
   "id": "42988b0b-6a7c-4f76-ba73-2fc8cb8fa122",
   "metadata": {},
   "outputs": [],
   "source": []
  },
  {
   "cell_type": "markdown",
   "id": "5086feef-a1b3-432b-b9ac-a830a055fac2",
   "metadata": {},
   "source": [
    "# Range"
   ]
  },
  {
   "cell_type": "code",
   "execution_count": 1,
   "id": "26ece908-3474-43cb-9018-499e14d4983f",
   "metadata": {},
   "outputs": [
    {
     "data": {
      "text/plain": [
       "range(0, 5)"
      ]
     },
     "execution_count": 1,
     "metadata": {},
     "output_type": "execute_result"
    }
   ],
   "source": [
    "range(5)"
   ]
  },
  {
   "cell_type": "code",
   "execution_count": 2,
   "id": "37bd366b-8f9e-41dc-8d1f-7db6ec403c1b",
   "metadata": {},
   "outputs": [
    {
     "data": {
      "text/plain": [
       "[0, 1, 2, 3, 4]"
      ]
     },
     "execution_count": 2,
     "metadata": {},
     "output_type": "execute_result"
    }
   ],
   "source": [
    "list(range(0,5))"
   ]
  },
  {
   "cell_type": "code",
   "execution_count": 3,
   "id": "49357359-7ea9-459e-b47d-51e86c11ba93",
   "metadata": {},
   "outputs": [
    {
     "data": {
      "text/plain": [
       "range(10, 20)"
      ]
     },
     "execution_count": 3,
     "metadata": {},
     "output_type": "execute_result"
    }
   ],
   "source": [
    "range(10,20)"
   ]
  },
  {
   "cell_type": "code",
   "execution_count": 5,
   "id": "363c4602-0124-4a98-8e79-0923c37b86d4",
   "metadata": {},
   "outputs": [
    {
     "data": {
      "text/plain": [
       "[10, 11, 12, 13, 14, 15, 16, 17, 18, 19]"
      ]
     },
     "execution_count": 5,
     "metadata": {},
     "output_type": "execute_result"
    }
   ],
   "source": [
    "list(range(10,20))"
   ]
  },
  {
   "cell_type": "code",
   "execution_count": 4,
   "id": "a2bd42b3-0d0a-478d-b20c-ba2e9a7990ca",
   "metadata": {},
   "outputs": [
    {
     "data": {
      "text/plain": [
       "range(10, 20, 3)"
      ]
     },
     "execution_count": 4,
     "metadata": {},
     "output_type": "execute_result"
    }
   ],
   "source": [
    "range(10,20,3) # Here, range follows as (start:stop:step)"
   ]
  },
  {
   "cell_type": "code",
   "execution_count": 6,
   "id": "0380dd0d-339d-4c9f-9288-fd45d631758a",
   "metadata": {},
   "outputs": [
    {
     "data": {
      "text/plain": [
       "[10, 13, 16, 19]"
      ]
     },
     "execution_count": 6,
     "metadata": {},
     "output_type": "execute_result"
    }
   ],
   "source": [
    "list(range(10,20,3))"
   ]
  },
  {
   "cell_type": "code",
   "execution_count": 7,
   "id": "185c58fc-ef83-456a-8fff-2083493773d8",
   "metadata": {},
   "outputs": [],
   "source": [
    "r = range(0,11,5)"
   ]
  },
  {
   "cell_type": "code",
   "execution_count": 8,
   "id": "1ea612ad-3b0a-44ba-81fc-e8d91f5d2c79",
   "metadata": {},
   "outputs": [
    {
     "name": "stdout",
     "output_type": "stream",
     "text": [
      "0\n",
      "5\n",
      "10\n"
     ]
    }
   ],
   "source": [
    "for i in r:\n",
    "    \n",
    "    print(i)"
   ]
  },
  {
   "cell_type": "code",
   "execution_count": 9,
   "id": "19e043af-92eb-4341-967d-62d8b184f176",
   "metadata": {},
   "outputs": [
    {
     "name": "stdout",
     "output_type": "stream",
     "text": [
      "(0, 0)\n",
      "(1, 5)\n",
      "(2, 10)\n"
     ]
    }
   ],
   "source": [
    "for i in enumerate(r):\n",
    "    print(i)"
   ]
  },
  {
   "cell_type": "code",
   "execution_count": 10,
   "id": "e74637f1-b6e9-4928-9d5c-06db6d9ebdc8",
   "metadata": {},
   "outputs": [
    {
     "data": {
      "text/plain": [
       "[0, 5, 10]"
      ]
     },
     "execution_count": 10,
     "metadata": {},
     "output_type": "execute_result"
    }
   ],
   "source": [
    "list(r)"
   ]
  },
  {
   "cell_type": "code",
   "execution_count": 11,
   "id": "0524b828-20f8-42eb-94a0-edfa61ccf610",
   "metadata": {},
   "outputs": [],
   "source": [
    "l = ['a','b', 'c', 1, 2.2, 45, True, 1+2j]"
   ]
  },
  {
   "cell_type": "code",
   "execution_count": 16,
   "id": "24cbf158-9e40-4c30-a128-c5df3185fad5",
   "metadata": {},
   "outputs": [
    {
     "data": {
      "text/plain": [
       "1"
      ]
     },
     "execution_count": 16,
     "metadata": {},
     "output_type": "execute_result"
    }
   ],
   "source": [
    "1"
   ]
  },
  {
   "cell_type": "code",
   "execution_count": 17,
   "id": "084cb2fe-4256-47f7-a702-14ca9e00e48c",
   "metadata": {},
   "outputs": [
    {
     "data": {
      "text/plain": [
       "['a', 'b', 'c', 1, 2.2, 45, True, (1+2j)]"
      ]
     },
     "execution_count": 17,
     "metadata": {},
     "output_type": "execute_result"
    }
   ],
   "source": [
    "l[:]"
   ]
  },
  {
   "cell_type": "code",
   "execution_count": 18,
   "id": "cdd0d8ed-5f24-4e37-a53d-5ab819b30192",
   "metadata": {},
   "outputs": [
    {
     "data": {
      "text/plain": [
       "['a', 'b', 'c', 1, 2.2, 45, True, (1+2j)]"
      ]
     },
     "execution_count": 18,
     "metadata": {},
     "output_type": "execute_result"
    }
   ],
   "source": [
    "l[:]"
   ]
  },
  {
   "cell_type": "code",
   "execution_count": 19,
   "id": "f012c4bd-cfd2-4d44-a1f2-58129c733bdf",
   "metadata": {},
   "outputs": [
    {
     "data": {
      "text/plain": [
       "45"
      ]
     },
     "execution_count": 19,
     "metadata": {},
     "output_type": "execute_result"
    }
   ],
   "source": [
    "l[5]"
   ]
  },
  {
   "cell_type": "code",
   "execution_count": 20,
   "id": "5326be0f-2980-4bb8-a628-98f6e34e0d9a",
   "metadata": {},
   "outputs": [
    {
     "data": {
      "text/plain": [
       "[45, True, (1+2j)]"
      ]
     },
     "execution_count": 20,
     "metadata": {},
     "output_type": "execute_result"
    }
   ],
   "source": [
    "l[5:]"
   ]
  },
  {
   "cell_type": "code",
   "execution_count": 21,
   "id": "d43266be-3d1c-498b-b68c-b75163111ae6",
   "metadata": {},
   "outputs": [
    {
     "data": {
      "text/plain": [
       "1"
      ]
     },
     "execution_count": 21,
     "metadata": {},
     "output_type": "execute_result"
    }
   ],
   "source": [
    "l[-5]"
   ]
  },
  {
   "cell_type": "code",
   "execution_count": 22,
   "id": "a0d50fa9-6166-453e-b5ba-d79ad447a690",
   "metadata": {},
   "outputs": [
    {
     "data": {
      "text/plain": [
       "1"
      ]
     },
     "execution_count": 22,
     "metadata": {},
     "output_type": "execute_result"
    }
   ],
   "source": [
    "1"
   ]
  },
  {
   "cell_type": "code",
   "execution_count": 23,
   "id": "8c2f1124-597d-4fd2-8dd8-499c5805e1a2",
   "metadata": {},
   "outputs": [
    {
     "data": {
      "text/plain": [
       "['c', 1, 2.2, 45, True, (1+2j)]"
      ]
     },
     "execution_count": 23,
     "metadata": {},
     "output_type": "execute_result"
    }
   ],
   "source": [
    "l[2:9]"
   ]
  },
  {
   "cell_type": "code",
   "execution_count": 24,
   "id": "5a77f359-4f96-42cd-badd-5b2b13513f7b",
   "metadata": {},
   "outputs": [
    {
     "data": {
      "text/plain": [
       "['c', 1, 2.2, 45, True]"
      ]
     },
     "execution_count": 24,
     "metadata": {},
     "output_type": "execute_result"
    }
   ],
   "source": [
    "l[2:7]"
   ]
  },
  {
   "cell_type": "code",
   "execution_count": 25,
   "id": "21c6e718-3a71-4593-a91d-c74eb17e4ba2",
   "metadata": {},
   "outputs": [
    {
     "data": {
      "text/plain": [
       "['c', 2.2, True]"
      ]
     },
     "execution_count": 25,
     "metadata": {},
     "output_type": "execute_result"
    }
   ],
   "source": [
    "l[2:7:2] # step slicing"
   ]
  },
  {
   "cell_type": "code",
   "execution_count": 26,
   "id": "2b7c65b4-dfee-45e0-a5f9-d910efd10602",
   "metadata": {},
   "outputs": [
    {
     "data": {
      "text/plain": [
       "[1, 2.2]"
      ]
     },
     "execution_count": 26,
     "metadata": {},
     "output_type": "execute_result"
    }
   ],
   "source": [
    "l[-5:-3]"
   ]
  },
  {
   "cell_type": "code",
   "execution_count": 27,
   "id": "18fb2506-f661-477a-a3d2-637379e5f65a",
   "metadata": {},
   "outputs": [
    {
     "data": {
      "text/plain": [
       "[1]"
      ]
     },
     "execution_count": 27,
     "metadata": {},
     "output_type": "execute_result"
    }
   ],
   "source": [
    "l[-5:-4]"
   ]
  },
  {
   "cell_type": "code",
   "execution_count": 28,
   "id": "920065c4-3d63-4ac9-ab8c-65cce9bbc46e",
   "metadata": {},
   "outputs": [
    {
     "data": {
      "text/plain": [
       "[1, 2.2, 45]"
      ]
     },
     "execution_count": 28,
     "metadata": {},
     "output_type": "execute_result"
    }
   ],
   "source": [
    "l[-5:-2]"
   ]
  },
  {
   "cell_type": "code",
   "execution_count": 29,
   "id": "e6c1045d-dfb8-4142-a777-d14b07b7d6fa",
   "metadata": {},
   "outputs": [
    {
     "data": {
      "text/plain": [
       "[1, 2.2, 45, True]"
      ]
     },
     "execution_count": 29,
     "metadata": {},
     "output_type": "execute_result"
    }
   ],
   "source": [
    "l[-5:-1]"
   ]
  },
  {
   "cell_type": "code",
   "execution_count": 30,
   "id": "9dc965d0-56dc-4804-8f9c-c4e5b27dbd20",
   "metadata": {},
   "outputs": [
    {
     "data": {
      "text/plain": [
       "['sbi', 'icici', 'hdfc', 'central', 'canara', 'union', 'city']"
      ]
     },
     "execution_count": 30,
     "metadata": {},
     "output_type": "execute_result"
    }
   ],
   "source": [
    "s = ['sbi', 'icici', 'hdfc', 'central', 'canara', 'union','city']\n",
    "s"
   ]
  },
  {
   "cell_type": "code",
   "execution_count": 31,
   "id": "2ba951db-ef2a-4db0-a4e8-a62b47ea44e5",
   "metadata": {},
   "outputs": [
    {
     "data": {
      "text/plain": [
       "['icici', 'hdfc', 'central', 'canara', 'union']"
      ]
     },
     "execution_count": 31,
     "metadata": {},
     "output_type": "execute_result"
    }
   ],
   "source": [
    "s[-6:-1]"
   ]
  },
  {
   "cell_type": "code",
   "execution_count": 32,
   "id": "8fbd3965-84f7-48ac-8ab0-4fd3f2ae89f2",
   "metadata": {},
   "outputs": [
    {
     "data": {
      "text/plain": [
       "['sbi', 'icici', 'hdfc', 'central', 'canara', 'union', 'city']"
      ]
     },
     "execution_count": 32,
     "metadata": {},
     "output_type": "execute_result"
    }
   ],
   "source": [
    "s[-7:]"
   ]
  },
  {
   "cell_type": "code",
   "execution_count": 33,
   "id": "38b265ed-b242-4207-ab6b-68191f20346e",
   "metadata": {},
   "outputs": [
    {
     "data": {
      "text/plain": [
       "['city', 'union', 'canara', 'central', 'hdfc', 'icici', 'sbi']"
      ]
     },
     "execution_count": 33,
     "metadata": {},
     "output_type": "execute_result"
    }
   ],
   "source": [
    "s[::-1]"
   ]
  },
  {
   "cell_type": "code",
   "execution_count": 34,
   "id": "788e9fd7-a624-4481-b449-915ae99c4f6e",
   "metadata": {},
   "outputs": [
    {
     "data": {
      "text/plain": [
       "['city', 'canara', 'hdfc', 'sbi']"
      ]
     },
     "execution_count": 34,
     "metadata": {},
     "output_type": "execute_result"
    }
   ],
   "source": [
    "s[::-2]"
   ]
  },
  {
   "cell_type": "code",
   "execution_count": 35,
   "id": "0e447070-2fed-49ca-b5f8-0a7c28b525ad",
   "metadata": {},
   "outputs": [
    {
     "data": {
      "text/plain": [
       "['city']"
      ]
     },
     "execution_count": 35,
     "metadata": {},
     "output_type": "execute_result"
    }
   ],
   "source": [
    "s[::-100]"
   ]
  },
  {
   "cell_type": "code",
   "execution_count": null,
   "id": "dd572958-1900-42e9-b878-ab8e28cfd9d7",
   "metadata": {},
   "outputs": [],
   "source": []
  },
  {
   "cell_type": "code",
   "execution_count": null,
   "id": "e3a1e46d-c0ec-43ac-a244-f7d1198cdeee",
   "metadata": {},
   "outputs": [],
   "source": []
  },
  {
   "cell_type": "code",
   "execution_count": null,
   "id": "d337192f-e2e6-4e4a-bbd6-d23bac895cf6",
   "metadata": {},
   "outputs": [],
   "source": []
  },
  {
   "cell_type": "code",
   "execution_count": null,
   "id": "35f0c557-53dc-449d-8f2e-8dc43080aa69",
   "metadata": {},
   "outputs": [],
   "source": []
  },
  {
   "cell_type": "code",
   "execution_count": null,
   "id": "53dffc5d-a933-422e-83cb-5528768ea60c",
   "metadata": {},
   "outputs": [],
   "source": []
  },
  {
   "cell_type": "code",
   "execution_count": null,
   "id": "f0564d22-c49c-4076-b7ef-5f19064483e4",
   "metadata": {},
   "outputs": [],
   "source": []
  },
  {
   "cell_type": "code",
   "execution_count": null,
   "id": "9f5a4b68-253d-4e72-9dcb-aca72506df6b",
   "metadata": {},
   "outputs": [],
   "source": []
  },
  {
   "cell_type": "code",
   "execution_count": null,
   "id": "92e0f004-e21f-420a-865f-bd80c38ea5d3",
   "metadata": {},
   "outputs": [],
   "source": []
  },
  {
   "cell_type": "code",
   "execution_count": null,
   "id": "523c45ab-9fd7-4183-8f68-33e9e753ad77",
   "metadata": {},
   "outputs": [],
   "source": []
  },
  {
   "cell_type": "code",
   "execution_count": null,
   "id": "92873bd1-cba0-4b95-949f-ebd78dbc4384",
   "metadata": {},
   "outputs": [],
   "source": []
  }
 ],
 "metadata": {
  "kernelspec": {
   "display_name": "Python [conda env:base] *",
   "language": "python",
   "name": "conda-base-py"
  },
  "language_info": {
   "codemirror_mode": {
    "name": "ipython",
    "version": 3
   },
   "file_extension": ".py",
   "mimetype": "text/x-python",
   "name": "python",
   "nbconvert_exporter": "python",
   "pygments_lexer": "ipython3",
   "version": "3.12.7"
  }
 },
 "nbformat": 4,
 "nbformat_minor": 5
}
