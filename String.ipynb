{
 "cells": [
  {
   "cell_type": "markdown",
   "id": "c950e58b-9dcf-4eb4-b0f6-f4941cacdaaf",
   "metadata": {},
   "source": [
    "# STRING "
   ]
  },
  {
   "cell_type": "markdown",
   "id": "538d3b60-4c56-4822-a051-054331a3a5c9",
   "metadata": {},
   "source": [
    "### String Creation"
   ]
  },
  {
   "cell_type": "code",
   "execution_count": 2,
   "id": "c3845e80-996a-425e-8ff5-4ce0a14b67f2",
   "metadata": {},
   "outputs": [
    {
     "name": "stdout",
     "output_type": "stream",
     "text": [
      "HELLO PYTHON\n"
     ]
    }
   ],
   "source": [
    "str1 = \"HELLO PYTHON\"\n",
    "print(str1)"
   ]
  },
  {
   "cell_type": "code",
   "execution_count": 3,
   "id": "ce991036-e18e-4f57-b4d9-2a044042e025",
   "metadata": {},
   "outputs": [
    {
     "name": "stdout",
     "output_type": "stream",
     "text": [
      "hello world\n"
     ]
    }
   ],
   "source": [
    "mystr = 'hello world' # define string using single quotes\n",
    "print(mystr)"
   ]
  },
  {
   "cell_type": "code",
   "execution_count": 4,
   "id": "78845e6b-155c-4fff-b071-5f989359496f",
   "metadata": {},
   "outputs": [
    {
     "name": "stdout",
     "output_type": "stream",
     "text": [
      "Hello World\n"
     ]
    }
   ],
   "source": [
    "mystr = \"Hello World\" # Define string using double quotes \n",
    "print(mystr) "
   ]
  },
  {
   "cell_type": "code",
   "execution_count": 8,
   "id": "ee759917-cdb5-423b-8764-3fb52f3c2de3",
   "metadata": {},
   "outputs": [
    {
     "name": "stdout",
     "output_type": "stream",
     "text": [
      "Hello\n",
      "         world\n"
     ]
    }
   ],
   "source": [
    "mystr =  '''Hello\n",
    "         world'''     # define string using triple quotes\n",
    "print(mystr)"
   ]
  },
  {
   "cell_type": "code",
   "execution_count": 10,
   "id": "4e7a3ad8-af49-4326-97a7-e68a5ee4b85c",
   "metadata": {},
   "outputs": [
    {
     "name": "stdout",
     "output_type": "stream",
     "text": [
      "Hello \n",
      "     World\n"
     ]
    }
   ],
   "source": [
    "mystr = \"\"\"Hello \n",
    "     World\"\"\" # Define string using triple quotes \n",
    "print(mystr) "
   ]
  },
  {
   "cell_type": "code",
   "execution_count": 12,
   "id": "41dae108-bb6d-40cc-beb5-29748f6c885a",
   "metadata": {},
   "outputs": [
    {
     "name": "stdout",
     "output_type": "stream",
     "text": [
      "Happy Monday Everyone\n"
     ]
    }
   ],
   "source": [
    "mystr = ('Happy ' \n",
    "            'Monday ' \n",
    "            'Everyone') \n",
    "print(mystr) "
   ]
  },
  {
   "cell_type": "code",
   "execution_count": 13,
   "id": "ae0f3cca-6afc-4398-b3fd-c0cd867f1add",
   "metadata": {},
   "outputs": [
    {
     "data": {
      "text/plain": [
       "'Woohoo Woohoo Woohoo Woohoo Woohoo '"
      ]
     },
     "execution_count": 13,
     "metadata": {},
     "output_type": "execute_result"
    }
   ],
   "source": [
    "mystr2 = 'Woohoo ' \n",
    "mystr2 = mystr2*5 \n",
    "mystr2 "
   ]
  },
  {
   "cell_type": "code",
   "execution_count": 14,
   "id": "723b38e4-f02e-4665-b3cf-ad4bdb706fa8",
   "metadata": {},
   "outputs": [
    {
     "data": {
      "text/plain": [
       "35"
      ]
     },
     "execution_count": 14,
     "metadata": {},
     "output_type": "execute_result"
    }
   ],
   "source": [
    "len(mystr2) # Length of string "
   ]
  },
  {
   "cell_type": "markdown",
   "id": "8d5eaf90-3f90-4bd4-a530-693ccdba299f",
   "metadata": {},
   "source": [
    "# String indexing \n",
    "two type  \n",
    "1.> Forward indexing \n",
    "2.> Backward indexing"
   ]
  },
  {
   "cell_type": "code",
   "execution_count": 15,
   "id": "c33566a4-a8e0-4fdc-a1bf-1c4c6df3d89a",
   "metadata": {},
   "outputs": [
    {
     "data": {
      "text/plain": [
       "'HELLO PYTHON'"
      ]
     },
     "execution_count": 15,
     "metadata": {},
     "output_type": "execute_result"
    }
   ],
   "source": [
    "\n",
    "str1 "
   ]
  },
  {
   "cell_type": "code",
   "execution_count": 16,
   "id": "dba825e1-795c-4f27-a228-79fc5b8e10ae",
   "metadata": {},
   "outputs": [
    {
     "data": {
      "text/plain": [
       "'H'"
      ]
     },
     "execution_count": 16,
     "metadata": {},
     "output_type": "execute_result"
    }
   ],
   "source": [
    "str1[0] # First character in string \"str1\" "
   ]
  },
  {
   "cell_type": "code",
   "execution_count": 17,
   "id": "ea6b5710-a8c4-444d-aa6c-3468762257bc",
   "metadata": {},
   "outputs": [
    {
     "data": {
      "text/plain": [
       "'N'"
      ]
     },
     "execution_count": 17,
     "metadata": {},
     "output_type": "execute_result"
    }
   ],
   "source": [
    "str1[len(str1)-1] # Last character in string using len function"
   ]
  },
  {
   "cell_type": "code",
   "execution_count": 18,
   "id": "8dfa6341-c135-4e52-99bb-267c6fab49e6",
   "metadata": {},
   "outputs": [
    {
     "data": {
      "text/plain": [
       "'N'"
      ]
     },
     "execution_count": 18,
     "metadata": {},
     "output_type": "execute_result"
    }
   ],
   "source": [
    "str1[-1] # Last character in string"
   ]
  },
  {
   "cell_type": "code",
   "execution_count": 19,
   "id": "e234ed66-968b-4ae8-b7bd-79fb96c6664b",
   "metadata": {},
   "outputs": [
    {
     "data": {
      "text/plain": [
       "'P'"
      ]
     },
     "execution_count": 19,
     "metadata": {},
     "output_type": "execute_result"
    }
   ],
   "source": [
    "str1[6] #Fetch 7th element of the string"
   ]
  },
  {
   "cell_type": "code",
   "execution_count": 20,
   "id": "134cc30e-0d79-4228-befc-afc123be4ac9",
   "metadata": {},
   "outputs": [
    {
     "data": {
      "text/plain": [
       "' '"
      ]
     },
     "execution_count": 20,
     "metadata": {},
     "output_type": "execute_result"
    }
   ],
   "source": [
    " \n",
    "str1[5]"
   ]
  },
  {
   "cell_type": "markdown",
   "id": "5e3f4e0f-3c72-47ac-80c0-947051ed6f60",
   "metadata": {},
   "source": [
    "###       String Slicing"
   ]
  },
  {
   "cell_type": "code",
   "execution_count": 21,
   "id": "af1398c9-be3a-43a0-9bbc-85d81dbe7ed5",
   "metadata": {},
   "outputs": [
    {
     "data": {
      "text/plain": [
       "'HELLO'"
      ]
     },
     "execution_count": 21,
     "metadata": {},
     "output_type": "execute_result"
    }
   ],
   "source": [
    " \n",
    "str1[0:5] # String slicing - Fetch all characters from 0 to 5 index location exc"
   ]
  },
  {
   "cell_type": "code",
   "execution_count": 22,
   "id": "45035f96-cd5e-4196-a5f4-7c00888f8c71",
   "metadata": {},
   "outputs": [
    {
     "data": {
      "text/plain": [
       "'PYTHON'"
      ]
     },
     "execution_count": 22,
     "metadata": {},
     "output_type": "execute_result"
    }
   ],
   "source": [
    " \n",
    "str1[6:12] # String slicing - Retreive all characters between 6 - 12 "
   ]
  },
  {
   "cell_type": "code",
   "execution_count": 23,
   "id": "82231527-2e05-46a9-8fe8-5633558d8df0",
   "metadata": {},
   "outputs": [
    {
     "data": {
      "text/plain": [
       "'THON'"
      ]
     },
     "execution_count": 23,
     "metadata": {},
     "output_type": "execute_result"
    }
   ],
   "source": [
    "str1[-4:] # Retreive last four characters of the string"
   ]
  },
  {
   "cell_type": "code",
   "execution_count": 24,
   "id": "22d77755-7ac4-42b7-849b-3c153e93d939",
   "metadata": {},
   "outputs": [
    {
     "data": {
      "text/plain": [
       "'PYTHON'"
      ]
     },
     "execution_count": 24,
     "metadata": {},
     "output_type": "execute_result"
    }
   ],
   "source": [
    " \n",
    "str1[-6:] # Retreive last six characters of the string"
   ]
  },
  {
   "cell_type": "code",
   "execution_count": 25,
   "id": "0eff6261-5abc-4475-9ed2-fd26aae6b78e",
   "metadata": {},
   "outputs": [
    {
     "data": {
      "text/plain": [
       "'HELL'"
      ]
     },
     "execution_count": 25,
     "metadata": {},
     "output_type": "execute_result"
    }
   ],
   "source": [
    "str1[:4] # Retreive first four characters of the string"
   ]
  },
  {
   "cell_type": "code",
   "execution_count": 26,
   "id": "77e4b876-e410-4bd5-b0ba-e77bd42adec3",
   "metadata": {},
   "outputs": [
    {
     "data": {
      "text/plain": [
       "'HELLO '"
      ]
     },
     "execution_count": 26,
     "metadata": {},
     "output_type": "execute_result"
    }
   ],
   "source": [
    "str1[:6] # Retreive first six characters of the string"
   ]
  },
  {
   "cell_type": "markdown",
   "id": "48556146-4991-4faf-96c6-2f0b02dff8fd",
   "metadata": {},
   "source": [
    "### Update & Delete string"
   ]
  },
  {
   "cell_type": "code",
   "execution_count": 27,
   "id": "8beccf1a-8b70-44ae-837d-08f3cd85f834",
   "metadata": {},
   "outputs": [
    {
     "data": {
      "text/plain": [
       "'HELLO PYTHON'"
      ]
     },
     "execution_count": 27,
     "metadata": {},
     "output_type": "execute_result"
    }
   ],
   "source": [
    "str1"
   ]
  },
  {
   "cell_type": "code",
   "execution_count": 28,
   "id": "548c2898-4ac9-4fff-afff-92f76638b64c",
   "metadata": {},
   "outputs": [
    {
     "ename": "TypeError",
     "evalue": "'str' object does not support item assignment",
     "output_type": "error",
     "traceback": [
      "\u001b[1;31m---------------------------------------------------------------------------\u001b[0m",
      "\u001b[1;31mTypeError\u001b[0m                                 Traceback (most recent call last)",
      "Cell \u001b[1;32mIn[28], line 2\u001b[0m\n\u001b[0;32m      1\u001b[0m \u001b[38;5;66;03m#String are immutable which means elements of a string cannot be changed once t\u001b[39;00m\n\u001b[1;32m----> 2\u001b[0m str1[\u001b[38;5;241m0\u001b[39m:\u001b[38;5;241m5\u001b[39m] \u001b[38;5;241m=\u001b[39m \u001b[38;5;124m'\u001b[39m\u001b[38;5;124mHOLAA\u001b[39m\u001b[38;5;124m'\u001b[39m\n",
      "\u001b[1;31mTypeError\u001b[0m: 'str' object does not support item assignment"
     ]
    }
   ],
   "source": [
    "#String are immutable which means elements of a string cannot be changed once t\n",
    "str1[0:5] = 'HOLAA'"
   ]
  },
  {
   "cell_type": "code",
   "execution_count": 29,
   "id": "41754a0a-4104-4093-83c3-614e2fed7994",
   "metadata": {},
   "outputs": [
    {
     "ename": "NameError",
     "evalue": "name 'str1' is not defined",
     "output_type": "error",
     "traceback": [
      "\u001b[1;31m---------------------------------------------------------------------------\u001b[0m",
      "\u001b[1;31mNameError\u001b[0m                                 Traceback (most recent call last)",
      "Cell \u001b[1;32mIn[29], line 2\u001b[0m\n\u001b[0;32m      1\u001b[0m \u001b[38;5;28;01mdel\u001b[39;00m str1 \u001b[38;5;66;03m# Delete a string \u001b[39;00m\n\u001b[1;32m----> 2\u001b[0m \u001b[38;5;28mprint\u001b[39m(str1)\n",
      "\u001b[1;31mNameError\u001b[0m: name 'str1' is not defined"
     ]
    }
   ],
   "source": [
    "del str1 # Delete a string \n",
    "print(str1)"
   ]
  },
  {
   "cell_type": "markdown",
   "id": "2c61bfdd-8c75-4a19-a0e4-cf409ff65101",
   "metadata": {},
   "source": [
    "### String concatenation"
   ]
  },
  {
   "cell_type": "code",
   "execution_count": 30,
   "id": "023f53f5-6f18-4de4-8f20-877f715bbcba",
   "metadata": {},
   "outputs": [
    {
     "name": "stdout",
     "output_type": "stream",
     "text": [
      "Hello abhishek\n"
     ]
    }
   ],
   "source": [
    "#String concatenation\n",
    "s1 = \"Hello \"\n",
    "s2 = \"abhishek\"\n",
    "s3 = s1 + s2\n",
    "print(s3)"
   ]
  },
  {
   "cell_type": "markdown",
   "id": "d5d95388-7414-4e86-84cf-0882dac10f88",
   "metadata": {},
   "source": [
    "# Manipulating String \n",
    "\n",
    "### Escape Characaters"
   ]
  },
  {
   "cell_type": "code",
   "execution_count": null,
   "id": "d0e6af06-2e57-4fa2-82b4-b0f3e0a733c1",
   "metadata": {},
   "outputs": [],
   "source": [
    "An escape charactedr is created by tyoing a backalash \"followed by the character we want to insert."
   ]
  },
  {
   "cell_type": "code",
   "execution_count": 31,
   "id": "31fa4f3c-c6bc-4a5a-adc8-4aed57d62995",
   "metadata": {},
   "outputs": [
    {
     "name": "stdout",
     "output_type": "stream",
     "text": [
      "Hello there !\n",
      "HOw are you?\n",
      "I'm doing fine.\n"
     ]
    }
   ],
   "source": [
    "print(\"Hello there !\\nHOw are you?\\nI\\'m doing fine.\")\n"
   ]
  },
  {
   "cell_type": "markdown",
   "id": "f0afd577-1c73-4064-bc2f-b11411746ddd",
   "metadata": {},
   "source": [
    "# Raw string"
   ]
  },
  {
   "cell_type": "code",
   "execution_count": 32,
   "id": "de7833ed-5dba-4b72-b45b-68fa168467f0",
   "metadata": {},
   "outputs": [
    {
     "name": "stdout",
     "output_type": "stream",
     "text": [
      "Hello there!\\nHow are you?\\nI\\'m doing fine\n"
     ]
    }
   ],
   "source": [
    "print(r\"Hello there!\\nHow are you?\\nI\\'m doing fine\")"
   ]
  },
  {
   "cell_type": "markdown",
   "id": "efe36ba6-2c40-4f05-adc7-ce90f45025b8",
   "metadata": {},
   "source": [
    "# Multiline Strings"
   ]
  },
  {
   "cell_type": "code",
   "execution_count": 34,
   "id": "09384cbe-f67d-49f9-8ab4-e4e3aaf2a9b3",
   "metadata": {},
   "outputs": [
    {
     "name": "stdout",
     "output_type": "stream",
     "text": [
      "Dear  Mam\n",
      "        Hello \n",
      "        How are you\n",
      "\n",
      "        sincerly'\n",
      "        rosy\n"
     ]
    }
   ],
   "source": [
    "print(\n",
    "    \"\"\"Dear  Mam\n",
    "        Hello \n",
    "        How are you\n",
    "\n",
    "        sincerly'\n",
    "        rosy\"\"\"\n",
    ")"
   ]
  },
  {
   "cell_type": "markdown",
   "id": "4f53c6d4-baa3-40c2-b03f-066346d015b2",
   "metadata": {},
   "source": [
    "# Indexing and Slicing Strings\n",
    "\n",
    "# Indexing"
   ]
  },
  {
   "cell_type": "code",
   "execution_count": 37,
   "id": "4498cb47-72f5-423a-b44c-c84102aeb5d5",
   "metadata": {},
   "outputs": [
    {
     "data": {
      "text/plain": [
       "'H'"
      ]
     },
     "execution_count": 37,
     "metadata": {},
     "output_type": "execute_result"
    }
   ],
   "source": [
    "spam='Hello World'\n",
    "spam[0]"
   ]
  },
  {
   "cell_type": "code",
   "execution_count": 38,
   "id": "089b2799-b2a6-4da8-a5d8-7c981499cf56",
   "metadata": {},
   "outputs": [
    {
     "data": {
      "text/plain": [
       "'o'"
      ]
     },
     "execution_count": 38,
     "metadata": {},
     "output_type": "execute_result"
    }
   ],
   "source": [
    "spam[4]"
   ]
  },
  {
   "cell_type": "code",
   "execution_count": 39,
   "id": "e24a6817-526a-4396-8960-4a989c43b200",
   "metadata": {},
   "outputs": [
    {
     "data": {
      "text/plain": [
       "'d'"
      ]
     },
     "execution_count": 39,
     "metadata": {},
     "output_type": "execute_result"
    }
   ],
   "source": [
    "spam[-1]"
   ]
  },
  {
   "cell_type": "markdown",
   "id": "7a123e94-b639-41e2-b69d-594d258e5761",
   "metadata": {},
   "source": [
    "# Slicing"
   ]
  },
  {
   "cell_type": "code",
   "execution_count": 2,
   "id": "a7042048-b53b-40b1-b0bc-91b1062873f2",
   "metadata": {},
   "outputs": [],
   "source": [
    "spam='Hello World!'"
   ]
  },
  {
   "cell_type": "code",
   "execution_count": 3,
   "id": "49780ec0-83f5-47ae-8fbc-7529efa9507e",
   "metadata": {},
   "outputs": [
    {
     "data": {
      "text/plain": [
       "'He'"
      ]
     },
     "execution_count": 3,
     "metadata": {},
     "output_type": "execute_result"
    }
   ],
   "source": [
    "spam[0:2]"
   ]
  },
  {
   "cell_type": "code",
   "execution_count": 4,
   "id": "f7e7015f-a339-4dc2-9240-761f2e3382a5",
   "metadata": {},
   "outputs": [
    {
     "data": {
      "text/plain": [
       "'llo'"
      ]
     },
     "execution_count": 4,
     "metadata": {},
     "output_type": "execute_result"
    }
   ],
   "source": [
    "spam[2:5]"
   ]
  },
  {
   "cell_type": "code",
   "execution_count": 5,
   "id": "56a9c953-4473-4e1e-937e-78fe675c8abb",
   "metadata": {},
   "outputs": [
    {
     "data": {
      "text/plain": [
       "'Hello'"
      ]
     },
     "execution_count": 5,
     "metadata": {},
     "output_type": "execute_result"
    }
   ],
   "source": [
    "spam[:5]"
   ]
  },
  {
   "cell_type": "code",
   "execution_count": 6,
   "id": "9f20a994-cd02-4aa9-a729-bb411bc2e3ef",
   "metadata": {},
   "outputs": [
    {
     "data": {
      "text/plain": [
       "'World'"
      ]
     },
     "execution_count": 6,
     "metadata": {},
     "output_type": "execute_result"
    }
   ],
   "source": [
    "spam[6:-1]"
   ]
  },
  {
   "cell_type": "code",
   "execution_count": 7,
   "id": "02c0a48c-793a-4268-9d4b-0afa60827531",
   "metadata": {},
   "outputs": [
    {
     "data": {
      "text/plain": [
       "'Hello World'"
      ]
     },
     "execution_count": 7,
     "metadata": {},
     "output_type": "execute_result"
    }
   ],
   "source": [
    "spam[:-1]"
   ]
  },
  {
   "cell_type": "code",
   "execution_count": 8,
   "id": "a786fe8c-9097-439b-afa7-cbe7b07207b5",
   "metadata": {},
   "outputs": [
    {
     "data": {
      "text/plain": [
       "'!dlroW olleH'"
      ]
     },
     "execution_count": 8,
     "metadata": {},
     "output_type": "execute_result"
    }
   ],
   "source": [
    "spam[::-1]"
   ]
  },
  {
   "cell_type": "code",
   "execution_count": 9,
   "id": "2f212552-1aed-4926-9eee-957de8d49bf1",
   "metadata": {},
   "outputs": [
    {
     "data": {
      "text/plain": [
       "'Hello'"
      ]
     },
     "execution_count": 9,
     "metadata": {},
     "output_type": "execute_result"
    }
   ],
   "source": [
    "fizz=spam[0:5]\n",
    "fizz"
   ]
  },
  {
   "cell_type": "markdown",
   "id": "b382e64e-8a64-448f-a935-327389e9dcfe",
   "metadata": {},
   "source": [
    "# The in and not in opertors"
   ]
  },
  {
   "cell_type": "code",
   "execution_count": 10,
   "id": "b5344257-d90d-4100-8aa6-e1fd96870e24",
   "metadata": {},
   "outputs": [
    {
     "data": {
      "text/plain": [
       "True"
      ]
     },
     "execution_count": 10,
     "metadata": {},
     "output_type": "execute_result"
    }
   ],
   "source": [
    "\n",
    "'Hello' in 'Hello world!'"
   ]
  },
  {
   "cell_type": "code",
   "execution_count": 11,
   "id": "e5406acd-ecdc-4f56-a734-0667b0e4bace",
   "metadata": {},
   "outputs": [
    {
     "data": {
      "text/plain": [
       "False"
      ]
     },
     "execution_count": 11,
     "metadata": {},
     "output_type": "execute_result"
    }
   ],
   "source": [
    "\n",
    "'hello' in 'Hello world!'"
   ]
  },
  {
   "cell_type": "code",
   "execution_count": 12,
   "id": "6b78401d-88e1-4e37-be83-147639b15163",
   "metadata": {},
   "outputs": [
    {
     "data": {
      "text/plain": [
       "True"
      ]
     },
     "execution_count": 12,
     "metadata": {},
     "output_type": "execute_result"
    }
   ],
   "source": [
    "'' in spam"
   ]
  },
  {
   "cell_type": "code",
   "execution_count": 13,
   "id": "a86324e3-5e36-4080-8725-c8832f885e6c",
   "metadata": {},
   "outputs": [
    {
     "data": {
      "text/plain": [
       "False"
      ]
     },
     "execution_count": 13,
     "metadata": {},
     "output_type": "execute_result"
    }
   ],
   "source": [
    "'cats' not in 'cats and dogs'"
   ]
  },
  {
   "cell_type": "markdown",
   "id": "fd5e4ffb-e0dd-4bf4-8286-e40780df868b",
   "metadata": {},
   "source": [
    "# Upper() ,lower() and title\n",
    "Trensforms a string to upper, lower and title case"
   ]
  },
  {
   "cell_type": "code",
   "execution_count": 1,
   "id": "bab46e66-34a0-408b-870d-d9481aea21a5",
   "metadata": {},
   "outputs": [
    {
     "data": {
      "text/plain": [
       "'HELLO WORLD!'"
      ]
     },
     "execution_count": 1,
     "metadata": {},
     "output_type": "execute_result"
    }
   ],
   "source": [
    "\n",
    "greet='Hello world!'\n",
    "greet.upper()"
   ]
  },
  {
   "cell_type": "code",
   "execution_count": 2,
   "id": "8e93c2dd-9b1f-4aaa-a9d8-b1311762f95b",
   "metadata": {},
   "outputs": [
    {
     "data": {
      "text/plain": [
       "'hello world!'"
      ]
     },
     "execution_count": 2,
     "metadata": {},
     "output_type": "execute_result"
    }
   ],
   "source": [
    "greet.lower()"
   ]
  },
  {
   "cell_type": "code",
   "execution_count": 3,
   "id": "12b24e50-afb4-4382-8910-46d4596bb591",
   "metadata": {},
   "outputs": [
    {
     "data": {
      "text/plain": [
       "'Hello World!'"
      ]
     },
     "execution_count": 3,
     "metadata": {},
     "output_type": "execute_result"
    }
   ],
   "source": [
    "greet.title()"
   ]
  },
  {
   "cell_type": "markdown",
   "id": "1e9d78dc-5e06-4f2a-a86d-a33b560233d3",
   "metadata": {},
   "source": [
    "# isupper() and islower() methods\n",
    "Return 'True' or 'False' after evaluating if a string is in upper or lower case:"
   ]
  },
  {
   "cell_type": "code",
   "execution_count": 4,
   "id": "adcdb82b-0000-4b01-8db5-53751ecfa7ae",
   "metadata": {},
   "outputs": [],
   "source": [
    "spam='Hello world!'"
   ]
  },
  {
   "cell_type": "code",
   "execution_count": 5,
   "id": "098aa8a4-8e06-40a8-8625-843d0484e425",
   "metadata": {},
   "outputs": [
    {
     "data": {
      "text/plain": [
       "False"
      ]
     },
     "execution_count": 5,
     "metadata": {},
     "output_type": "execute_result"
    }
   ],
   "source": [
    "spam.isupper()"
   ]
  },
  {
   "cell_type": "code",
   "execution_count": 6,
   "id": "04ce0a53-4b80-4864-8d09-d8805612c45f",
   "metadata": {},
   "outputs": [
    {
     "data": {
      "text/plain": [
       "False"
      ]
     },
     "execution_count": 6,
     "metadata": {},
     "output_type": "execute_result"
    }
   ],
   "source": [
    "spam.islower()"
   ]
  },
  {
   "cell_type": "code",
   "execution_count": 7,
   "id": "e422d2a5-0a44-4c73-8daa-570a42289b4e",
   "metadata": {},
   "outputs": [
    {
     "data": {
      "text/plain": [
       "False"
      ]
     },
     "execution_count": 7,
     "metadata": {},
     "output_type": "execute_result"
    }
   ],
   "source": [
    "'HELlO'.isupper()"
   ]
  },
  {
   "cell_type": "code",
   "execution_count": 8,
   "id": "d6977ea9-b3d4-4ef3-b3b3-13dfa323302c",
   "metadata": {},
   "outputs": [
    {
     "data": {
      "text/plain": [
       "True"
      ]
     },
     "execution_count": 8,
     "metadata": {},
     "output_type": "execute_result"
    }
   ],
   "source": [
    "'abcd123'.islower()\n"
   ]
  },
  {
   "cell_type": "code",
   "execution_count": 9,
   "id": "754400f0-571f-46df-9ed7-72c112d12549",
   "metadata": {},
   "outputs": [
    {
     "data": {
      "text/plain": [
       "False"
      ]
     },
     "execution_count": 9,
     "metadata": {},
     "output_type": "execute_result"
    }
   ],
   "source": [
    "'1234'.islower()"
   ]
  },
  {
   "cell_type": "code",
   "execution_count": 10,
   "id": "5c0f5dea-525b-4145-91d8-47fa4c7b6e2c",
   "metadata": {},
   "outputs": [
    {
     "data": {
      "text/plain": [
       "False"
      ]
     },
     "execution_count": 10,
     "metadata": {},
     "output_type": "execute_result"
    }
   ],
   "source": [
    "'1234'.isupper()"
   ]
  },
  {
   "cell_type": "markdown",
   "id": "141b7805-09c6-44e7-bb46-707c35df8dae",
   "metadata": {},
   "source": [
    "# The is X string methods \n",
    "# starts with() and endswith()"
   ]
  },
  {
   "cell_type": "code",
   "execution_count": 11,
   "id": "d8c3455f-732e-4a9e-a5bf-9adaa6128c20",
   "metadata": {},
   "outputs": [
    {
     "data": {
      "text/plain": [
       "True"
      ]
     },
     "execution_count": 11,
     "metadata": {},
     "output_type": "execute_result"
    }
   ],
   "source": [
    "'Hello world!'.startswith('Hello')"
   ]
  },
  {
   "cell_type": "code",
   "execution_count": 12,
   "id": "9ad6093f-4164-49e6-9c9b-f87b09390062",
   "metadata": {},
   "outputs": [
    {
     "data": {
      "text/plain": [
       "True"
      ]
     },
     "execution_count": 12,
     "metadata": {},
     "output_type": "execute_result"
    }
   ],
   "source": [
    "'Hello world!'.endswith('world!')"
   ]
  },
  {
   "cell_type": "code",
   "execution_count": 13,
   "id": "09c22ae9-1199-46eb-9a8d-e0d9dd8252ae",
   "metadata": {},
   "outputs": [
    {
     "data": {
      "text/plain": [
       "False"
      ]
     },
     "execution_count": 13,
     "metadata": {},
     "output_type": "execute_result"
    }
   ],
   "source": [
    "\n",
    "'abc123'.startswith('abcdef')"
   ]
  },
  {
   "cell_type": "code",
   "execution_count": 14,
   "id": "128601b2-b7f9-445f-891c-58029770f0b0",
   "metadata": {},
   "outputs": [
    {
     "data": {
      "text/plain": [
       "False"
      ]
     },
     "execution_count": 14,
     "metadata": {},
     "output_type": "execute_result"
    }
   ],
   "source": [
    "'abc123'.endswith('12')"
   ]
  },
  {
   "cell_type": "code",
   "execution_count": 15,
   "id": "c0767f83-adbc-4e8f-bbe1-b73035ef7a24",
   "metadata": {},
   "outputs": [
    {
     "data": {
      "text/plain": [
       "True"
      ]
     },
     "execution_count": 15,
     "metadata": {},
     "output_type": "execute_result"
    }
   ],
   "source": [
    "\n",
    "'Hello world!'.startswith('Hello world!')"
   ]
  },
  {
   "cell_type": "code",
   "execution_count": 17,
   "id": "67ae61c5-2031-4394-9869-4a3d29e0c6f5",
   "metadata": {},
   "outputs": [
    {
     "data": {
      "text/plain": [
       "True"
      ]
     },
     "execution_count": 17,
     "metadata": {},
     "output_type": "execute_result"
    }
   ],
   "source": [
    "\n",
    "'Hello world!'.endswith('Hello world!')"
   ]
  },
  {
   "cell_type": "markdown",
   "id": "848c8959-df69-4421-b6e8-f4aabed80082",
   "metadata": {},
   "source": [
    "# join() and split()\n",
    "## join"
   ]
  },
  {
   "cell_type": "code",
   "execution_count": null,
   "id": "8c19cf63-7c0d-4e9c-a625-e8e0a6339feb",
   "metadata": {},
   "outputs": [],
   "source": [
    "\n",
    "The 'join()' method takes all the items in an iterable,like a list,dictionary,tuple,set,and joins them into a string. We can also specify a separator."
   ]
  },
  {
   "cell_type": "code",
   "execution_count": 18,
   "id": "7a59b0ca-789b-4580-9b6c-554179309c28",
   "metadata": {},
   "outputs": [
    {
     "data": {
      "text/plain": [
       "'MynameisHoney'"
      ]
     },
     "execution_count": 18,
     "metadata": {},
     "output_type": "execute_result"
    }
   ],
   "source": [
    "''.join(['My', 'name', 'is', 'Honey'])"
   ]
  },
  {
   "cell_type": "code",
   "execution_count": 21,
   "id": "478f6f27-c4bf-4720-b96d-f70cb6924409",
   "metadata": {},
   "outputs": [
    {
     "data": {
      "text/plain": [
       "'My, name, is, Honey'"
      ]
     },
     "execution_count": 21,
     "metadata": {},
     "output_type": "execute_result"
    }
   ],
   "source": [
    "', '.join(['My', 'name', 'is', 'Honey'])"
   ]
  },
  {
   "cell_type": "code",
   "execution_count": 22,
   "id": "a85c837e-87ac-428e-9d21-c0b7c8948b05",
   "metadata": {},
   "outputs": [
    {
     "data": {
      "text/plain": [
       "'My name is Honey'"
      ]
     },
     "execution_count": 22,
     "metadata": {},
     "output_type": "execute_result"
    }
   ],
   "source": [
    "' '.join(['My', 'name', 'is', 'Honey'])"
   ]
  },
  {
   "cell_type": "code",
   "execution_count": 23,
   "id": "226cac43-35a1-46bd-8c25-e022bf11dfe9",
   "metadata": {},
   "outputs": [
    {
     "data": {
      "text/plain": [
       "'MyABCnameABCisABCHoney'"
      ]
     },
     "execution_count": 23,
     "metadata": {},
     "output_type": "execute_result"
    }
   ],
   "source": [
    "'ABC'.join(['My', 'name', 'is', 'Honey'])"
   ]
  },
  {
   "cell_type": "markdown",
   "id": "5d23f6bd-4912-466e-a100-4b4e0a648c19",
   "metadata": {},
   "source": [
    "## split()\n",
    "\n",
    "The 'split()' method splits a 'string' into a 'list'. By default ,it will use whitespace to separate the items, but you can also set another character of choice.\n",
    "\n"
   ]
  },
  {
   "cell_type": "code",
   "execution_count": 24,
   "id": "7015e6dc-bf3a-4018-84cb-6ad2c3f051cd",
   "metadata": {},
   "outputs": [
    {
     "data": {
      "text/plain": [
       "['My', 'name', 'is', 'Honey']"
      ]
     },
     "execution_count": 24,
     "metadata": {},
     "output_type": "execute_result"
    }
   ],
   "source": [
    "'My name is Honey'.split()"
   ]
  },
  {
   "cell_type": "code",
   "execution_count": 25,
   "id": "b0a1d28a-f198-4c35-b6c6-37cc50e87f66",
   "metadata": {},
   "outputs": [
    {
     "data": {
      "text/plain": [
       "['My', 'name', 'is', 'Honey']"
      ]
     },
     "execution_count": 25,
     "metadata": {},
     "output_type": "execute_result"
    }
   ],
   "source": [
    "'MyABCnameABCisABCHoney'.split('ABC')"
   ]
  },
  {
   "cell_type": "code",
   "execution_count": 26,
   "id": "aa0a17b3-f71b-41f6-827b-83ab5ba61e9e",
   "metadata": {},
   "outputs": [
    {
     "data": {
      "text/plain": [
       "['My na', 'e is Honey']"
      ]
     },
     "execution_count": 26,
     "metadata": {},
     "output_type": "execute_result"
    }
   ],
   "source": [
    "'My name is Honey'.split('m')"
   ]
  },
  {
   "cell_type": "code",
   "execution_count": 27,
   "id": "3148d82a-6bb0-48af-ad58-f78627e731ba",
   "metadata": {},
   "outputs": [
    {
     "data": {
      "text/plain": [
       "['My', 'name', 'is', 'Honey']"
      ]
     },
     "execution_count": 27,
     "metadata": {},
     "output_type": "execute_result"
    }
   ],
   "source": [
    "'My name is Honey'.split()"
   ]
  },
  {
   "cell_type": "code",
   "execution_count": 28,
   "id": "b119beb5-81f7-426e-87e3-80826b6aaa37",
   "metadata": {},
   "outputs": [
    {
     "data": {
      "text/plain": [
       "['', 'My', 'name', 'is', 'Honey']"
      ]
     },
     "execution_count": 28,
     "metadata": {},
     "output_type": "execute_result"
    }
   ],
   "source": [
    "' My name is Honey'.split(' ')"
   ]
  },
  {
   "cell_type": "markdown",
   "id": "6a2652b6-aeeb-419b-9d04-7c8c97eb5f16",
   "metadata": {},
   "source": [
    "# justifying text with rjust(), ljust(),and center()"
   ]
  },
  {
   "cell_type": "code",
   "execution_count": 29,
   "id": "67024df4-8601-485f-8422-d391b4ec19fa",
   "metadata": {},
   "outputs": [
    {
     "data": {
      "text/plain": [
       "'     Hello'"
      ]
     },
     "execution_count": 29,
     "metadata": {},
     "output_type": "execute_result"
    }
   ],
   "source": [
    "'Hello'.rjust(10)"
   ]
  },
  {
   "cell_type": "code",
   "execution_count": 30,
   "id": "97ff3083-115a-4fb1-93ae-13558b521f46",
   "metadata": {},
   "outputs": [
    {
     "data": {
      "text/plain": [
       "'               hello'"
      ]
     },
     "execution_count": 30,
     "metadata": {},
     "output_type": "execute_result"
    }
   ],
   "source": [
    "'hello'.rjust(20)"
   ]
  },
  {
   "cell_type": "code",
   "execution_count": 31,
   "id": "58946282-0e55-461b-8468-e60444efe5b2",
   "metadata": {},
   "outputs": [
    {
     "data": {
      "text/plain": [
       "'         Hello world'"
      ]
     },
     "execution_count": 31,
     "metadata": {},
     "output_type": "execute_result"
    }
   ],
   "source": [
    "'Hello world'.rjust(20)"
   ]
  },
  {
   "cell_type": "code",
   "execution_count": 32,
   "id": "f0e613a5-0ad5-44c6-bb5a-acb4e04628d6",
   "metadata": {},
   "outputs": [
    {
     "ename": "TypeError",
     "evalue": "ljust expected at least 1 argument, got 0",
     "output_type": "error",
     "traceback": [
      "\u001b[1;31m---------------------------------------------------------------------------\u001b[0m",
      "\u001b[1;31mTypeError\u001b[0m                                 Traceback (most recent call last)",
      "Cell \u001b[1;32mIn[32], line 1\u001b[0m\n\u001b[1;32m----> 1\u001b[0m \u001b[38;5;124m'\u001b[39m\u001b[38;5;124mHello\u001b[39m\u001b[38;5;124m'\u001b[39m\u001b[38;5;241m.\u001b[39mljust()\n",
      "\u001b[1;31mTypeError\u001b[0m: ljust expected at least 1 argument, got 0"
     ]
    }
   ],
   "source": [
    "'Hello'.ljust()"
   ]
  },
  {
   "cell_type": "code",
   "execution_count": 33,
   "id": "6bf0e33e-a38d-4bc7-bef2-8380087f6328",
   "metadata": {},
   "outputs": [
    {
     "data": {
      "text/plain": [
       "'Hello     '"
      ]
     },
     "execution_count": 33,
     "metadata": {},
     "output_type": "execute_result"
    }
   ],
   "source": [
    "'Hello'.ljust(10)"
   ]
  },
  {
   "cell_type": "code",
   "execution_count": 34,
   "id": "db277f6e-3336-41a9-af3d-5b4cc2e00ef7",
   "metadata": {},
   "outputs": [
    {
     "data": {
      "text/plain": [
       "'  Hello   '"
      ]
     },
     "execution_count": 34,
     "metadata": {},
     "output_type": "execute_result"
    }
   ],
   "source": [
    "'Hello'.center(10)"
   ]
  },
  {
   "cell_type": "code",
   "execution_count": null,
   "id": "ab95358e-8013-42cc-a8e9-44d4b18bc90b",
   "metadata": {},
   "outputs": [],
   "source": [
    "An optional second argument to 'rjust()' and 'ljust()' will specify a fill character apart from a space character:\n"
   ]
  },
  {
   "cell_type": "code",
   "execution_count": 35,
   "id": "675fdd3a-29fc-41f8-85d8-7c030d668f82",
   "metadata": {},
   "outputs": [
    {
     "data": {
      "text/plain": [
       "'***************Hello'"
      ]
     },
     "execution_count": 35,
     "metadata": {},
     "output_type": "execute_result"
    }
   ],
   "source": [
    "'Hello'.rjust(20, '*')"
   ]
  },
  {
   "cell_type": "code",
   "execution_count": 36,
   "id": "71295ec6-9750-4c6f-92e1-ace28acb3587",
   "metadata": {},
   "outputs": [
    {
     "data": {
      "text/plain": [
       "'Hello-----'"
      ]
     },
     "execution_count": 36,
     "metadata": {},
     "output_type": "execute_result"
    }
   ],
   "source": [
    "\n",
    "'Hello'.ljust(10, '-')"
   ]
  },
  {
   "cell_type": "code",
   "execution_count": 37,
   "id": "b9430e66-0b27-443d-99fa-61e35778076e",
   "metadata": {},
   "outputs": [
    {
     "data": {
      "text/plain": [
       "'=======Hello========'"
      ]
     },
     "execution_count": 37,
     "metadata": {},
     "output_type": "execute_result"
    }
   ],
   "source": [
    "\n",
    "'Hello'.center(20,'=')"
   ]
  },
  {
   "cell_type": "markdown",
   "id": "6bcfb78d-5d92-462e-ad3b-f8dec0f6c1c9",
   "metadata": {},
   "source": [
    "# Removeing whitespac with strip(),rstrip() and istrip()"
   ]
  },
  {
   "cell_type": "code",
   "execution_count": 38,
   "id": "2fb3501c-5cf5-496f-872e-e7908d4d9868",
   "metadata": {},
   "outputs": [],
   "source": [
    "spam='    Hello world    '"
   ]
  },
  {
   "cell_type": "code",
   "execution_count": 39,
   "id": "0ed7e988-7b75-4d08-b9ca-d9aee660dd66",
   "metadata": {},
   "outputs": [
    {
     "data": {
      "text/plain": [
       "'Hello world'"
      ]
     },
     "execution_count": 39,
     "metadata": {},
     "output_type": "execute_result"
    }
   ],
   "source": [
    "spam.strip()"
   ]
  },
  {
   "cell_type": "code",
   "execution_count": 41,
   "id": "6487743b-e2f4-43d6-91ee-e8863814de52",
   "metadata": {},
   "outputs": [
    {
     "data": {
      "text/plain": [
       "'Hello world    '"
      ]
     },
     "execution_count": 41,
     "metadata": {},
     "output_type": "execute_result"
    }
   ],
   "source": [
    "spam.lstrip()"
   ]
  },
  {
   "cell_type": "code",
   "execution_count": 42,
   "id": "b0f429dd-af55-421c-9e17-557c0d011fa5",
   "metadata": {},
   "outputs": [
    {
     "data": {
      "text/plain": [
       "'    Hello world'"
      ]
     },
     "execution_count": 42,
     "metadata": {},
     "output_type": "execute_result"
    }
   ],
   "source": [
    "spam.rstrip()"
   ]
  },
  {
   "cell_type": "code",
   "execution_count": 44,
   "id": "9c7d4074-26e3-4ce5-a003-699171b886b4",
   "metadata": {},
   "outputs": [],
   "source": [
    "spam= 'SpamSpamBaconSpamEggsSpamSpam'"
   ]
  },
  {
   "cell_type": "code",
   "execution_count": 45,
   "id": "5fd90eeb-b61a-414a-8e8f-5df15d5cc14b",
   "metadata": {},
   "outputs": [
    {
     "data": {
      "text/plain": [
       "'BaconSpamEggs'"
      ]
     },
     "execution_count": 45,
     "metadata": {},
     "output_type": "execute_result"
    }
   ],
   "source": [
    "spam.strip('ampS')"
   ]
  },
  {
   "cell_type": "markdown",
   "id": "2b1c7983-b670-4ec4-b8a4-93e627bb8cb6",
   "metadata": {},
   "source": [
    "# The Count Method\n",
    "counts the number of occurrence of a given character or substring in the string it is applied to can be optional provided start and end index."
   ]
  },
  {
   "cell_type": "code",
   "execution_count": 47,
   "id": "73590737-170b-4a1c-a5e0-337328c5716e",
   "metadata": {},
   "outputs": [],
   "source": [
    "sentence ='one sheep two sheep there sheep four'"
   ]
  },
  {
   "cell_type": "code",
   "execution_count": 46,
   "id": "b95f7de2-d27c-4564-b357-5238b027611b",
   "metadata": {},
   "outputs": [
    {
     "ename": "NameError",
     "evalue": "name 'sentence' is not defined",
     "output_type": "error",
     "traceback": [
      "\u001b[1;31m---------------------------------------------------------------------------\u001b[0m",
      "\u001b[1;31mNameError\u001b[0m                                 Traceback (most recent call last)",
      "Cell \u001b[1;32mIn[46], line 1\u001b[0m\n\u001b[1;32m----> 1\u001b[0m sentence\u001b[38;5;241m.\u001b[39mcount(\u001b[38;5;124m'\u001b[39m\u001b[38;5;124msheep\u001b[39m\u001b[38;5;124m'\u001b[39m)\n",
      "\u001b[1;31mNameError\u001b[0m: name 'sentence' is not defined"
     ]
    }
   ],
   "source": [
    "sentence.count('sheep')"
   ]
  },
  {
   "cell_type": "code",
   "execution_count": null,
   "id": "0d7fb053-b450-4ffb-b0cc-0539e135e23c",
   "metadata": {},
   "outputs": [],
   "source": [
    "sentence='one sheep two sheep three sheep four'"
   ]
  },
  {
   "cell_type": "code",
   "execution_count": 48,
   "id": "519107a9-9996-4c74-8053-d1ce06307f1a",
   "metadata": {},
   "outputs": [
    {
     "data": {
      "text/plain": [
       "3"
      ]
     },
     "execution_count": 48,
     "metadata": {},
     "output_type": "execute_result"
    }
   ],
   "source": [
    "sentence.count('sheep')\n"
   ]
  },
  {
   "cell_type": "code",
   "execution_count": 49,
   "id": "788e3b86-84b5-4859-b7da-c0f0501bae19",
   "metadata": {},
   "outputs": [
    {
     "data": {
      "text/plain": [
       "9"
      ]
     },
     "execution_count": 49,
     "metadata": {},
     "output_type": "execute_result"
    }
   ],
   "source": [
    "sentence.count('e')"
   ]
  },
  {
   "cell_type": "code",
   "execution_count": 50,
   "id": "1908f79d-bb8d-440b-a7b7-4ebbee20b375",
   "metadata": {},
   "outputs": [
    {
     "data": {
      "text/plain": [
       "8"
      ]
     },
     "execution_count": 50,
     "metadata": {},
     "output_type": "execute_result"
    }
   ],
   "source": [
    "sentence.count('e', 6)"
   ]
  },
  {
   "cell_type": "code",
   "execution_count": null,
   "id": "b7468464-d325-4fd8-9a9d-8f189d6ac441",
   "metadata": {},
   "outputs": [],
   "source": [
    "returns count of 'e' after 'one sh'i.e 6 chars since beginning of string"
   ]
  },
  {
   "cell_type": "code",
   "execution_count": 51,
   "id": "cd79e28c-628b-4595-8a43-a3ca01e04132",
   "metadata": {},
   "outputs": [
    {
     "data": {
      "text/plain": [
       "7"
      ]
     },
     "execution_count": 51,
     "metadata": {},
     "output_type": "execute_result"
    }
   ],
   "source": [
    "sentence.count('e',7)"
   ]
  },
  {
   "cell_type": "markdown",
   "id": "4e23c99f-b4a9-4851-8820-5903c2ea5d5e",
   "metadata": {},
   "source": [
    "# Replace Method\n",
    "replaces all occurences of a given substring with another substring. can be optionally provided a third argument to limit the number of replacements. Returns a new string."
   ]
  },
  {
   "cell_type": "code",
   "execution_count": 61,
   "id": "2ff4d025-1269-49a8-ab77-f50969b1cb76",
   "metadata": {},
   "outputs": [
    {
     "name": "stdout",
     "output_type": "stream",
     "text": [
      "hello world!\n"
     ]
    }
   ],
   "source": [
    "\n",
    "text=\"hello world!\"\n",
    "print(text)"
   ]
  },
  {
   "cell_type": "code",
   "execution_count": 62,
   "id": "4deb462f-3a8b-4d97-b225-3f58c3f8776c",
   "metadata": {},
   "outputs": [
    {
     "data": {
      "text/plain": [
       "'hello plant!'"
      ]
     },
     "execution_count": 62,
     "metadata": {},
     "output_type": "execute_result"
    }
   ],
   "source": [
    "text.replace(\"world\",\"plant\")"
   ]
  },
  {
   "cell_type": "code",
   "execution_count": 63,
   "id": "ce0081ca-56c6-47b1-a465-a27f967368d9",
   "metadata": {},
   "outputs": [],
   "source": [
    "\n",
    "fruits='apple,banana,orange'"
   ]
  },
  {
   "cell_type": "code",
   "execution_count": 64,
   "id": "70e6033c-b273-4021-af6d-0e0f18679b2d",
   "metadata": {},
   "outputs": [
    {
     "data": {
      "text/plain": [
       "'cherry,banana,orange'"
      ]
     },
     "execution_count": 64,
     "metadata": {},
     "output_type": "execute_result"
    }
   ],
   "source": [
    "\n",
    "fruits.replace('apple','cherry',1)"
   ]
  },
  {
   "cell_type": "code",
   "execution_count": 69,
   "id": "cd8584e7-3dd9-45c6-8c0a-e66f7171ad36",
   "metadata": {},
   "outputs": [
    {
     "name": "stdout",
     "output_type": "stream",
     "text": [
      "sentence\n"
     ]
    }
   ],
   "source": [
    "sentence ='I like mangoes,mangoes are my favourite fruit'"
   ]
  },
  {
   "cell_type": "code",
   "execution_count": 70,
   "id": "08b2ed81-a048-4754-b94d-c1857b24f59b",
   "metadata": {},
   "outputs": [
    {
     "data": {
      "text/plain": [
       "'I like apples,apples are my favourite fruit'"
      ]
     },
     "execution_count": 70,
     "metadata": {},
     "output_type": "execute_result"
    }
   ],
   "source": [
    "sentence.replace('mangoes','apples')"
   ]
  },
  {
   "cell_type": "code",
   "execution_count": null,
   "id": "ffe499bc-6102-465a-b39e-dc7c02bab744",
   "metadata": {},
   "outputs": [],
   "source": []
  }
 ],
 "metadata": {
  "kernelspec": {
   "display_name": "Python [conda env:base] *",
   "language": "python",
   "name": "conda-base-py"
  },
  "language_info": {
   "codemirror_mode": {
    "name": "ipython",
    "version": 3
   },
   "file_extension": ".py",
   "mimetype": "text/x-python",
   "name": "python",
   "nbconvert_exporter": "python",
   "pygments_lexer": "ipython3",
   "version": "3.12.7"
  }
 },
 "nbformat": 4,
 "nbformat_minor": 5
}
